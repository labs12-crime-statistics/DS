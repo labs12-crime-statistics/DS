{
 "cells": [
  {
   "cell_type": "code",
   "execution_count": 1,
   "metadata": {},
   "outputs": [
    {
     "name": "stdout",
     "output_type": "stream",
     "text": [
      "Collecting pip\n",
      "\u001b[?25l  Downloading https://files.pythonhosted.org/packages/5c/e0/be401c003291b56efc55aeba6a80ab790d3d4cece2778288d65323009420/pip-19.1.1-py2.py3-none-any.whl (1.4MB)\n",
      "\u001b[K    100% |████████████████████████████████| 1.4MB 23.2MB/s ta 0:00:01\n",
      "\u001b[?25hInstalling collected packages: pip\n",
      "  Found existing installation: pip 10.0.1\n",
      "    Uninstalling pip-10.0.1:\n",
      "      Successfully uninstalled pip-10.0.1\n",
      "Successfully installed pip-19.1.1\n",
      "Collecting python-decouple\n",
      "  Downloading https://files.pythonhosted.org/packages/9b/99/ddfbb6362af4ee239a012716b1371aa6d316ff1b9db705bfb182fbc4780f/python-decouple-3.1.tar.gz\n",
      "Building wheels for collected packages: python-decouple\n",
      "  Building wheel for python-decouple (setup.py) ... \u001b[?25ldone\n",
      "\u001b[?25h  Stored in directory: /home/ec2-user/.cache/pip/wheels/0f/ee/80/75b684060dc6ecc5a28c07b75ef4063f378aff1a37556f342a\n",
      "Successfully built python-decouple\n",
      "Installing collected packages: python-decouple\n",
      "Successfully installed python-decouple-3.1\n",
      "Collecting geoalchemy2\n",
      "  Downloading https://files.pythonhosted.org/packages/f9/39/f50f736246b223d8e22474131eb9e3c3f2eb76d409ed1ef7f8dcde60bdc8/GeoAlchemy2-0.6.2-py2.py3-none-any.whl\n",
      "Requirement already satisfied: SQLAlchemy>=0.8 in /home/ec2-user/anaconda3/envs/tensorflow_p36/lib/python3.6/site-packages (from geoalchemy2) (1.2.11)\n",
      "Installing collected packages: geoalchemy2\n",
      "Successfully installed geoalchemy2-0.6.2\n",
      "Collecting shapely\n",
      "\u001b[?25l  Downloading https://files.pythonhosted.org/packages/38/b6/b53f19062afd49bb5abd049aeed36f13bf8d57ef8f3fa07a5203531a0252/Shapely-1.6.4.post2-cp36-cp36m-manylinux1_x86_64.whl (1.5MB)\n",
      "\u001b[K     |████████████████████████████████| 1.5MB 5.1MB/s eta 0:00:01\n",
      "\u001b[?25hInstalling collected packages: shapely\n",
      "Successfully installed shapely-1.6.4.post2\n",
      "Requirement already satisfied: scipy in /home/ec2-user/anaconda3/envs/tensorflow_p36/lib/python3.6/site-packages (1.1.0)\n",
      "Collecting hyperas\n",
      "  Downloading https://files.pythonhosted.org/packages/04/34/87ad6ffb42df9c1fa9c4c906f65813d42ad70d68c66af4ffff048c228cd4/hyperas-0.4.1-py3-none-any.whl\n",
      "Requirement already satisfied: nbformat in /home/ec2-user/anaconda3/envs/tensorflow_p36/lib/python3.6/site-packages (from hyperas) (4.4.0)\n",
      "Requirement already satisfied: entrypoints in /home/ec2-user/anaconda3/envs/tensorflow_p36/lib/python3.6/site-packages (from hyperas) (0.2.3)\n",
      "Requirement already satisfied: nbconvert in /home/ec2-user/anaconda3/envs/tensorflow_p36/lib/python3.6/site-packages (from hyperas) (5.4.1)\n",
      "Requirement already satisfied: keras in /home/ec2-user/anaconda3/envs/tensorflow_p36/lib/python3.6/site-packages (from hyperas) (2.2.4)\n",
      "Requirement already satisfied: jupyter in /home/ec2-user/anaconda3/envs/tensorflow_p36/lib/python3.6/site-packages (from hyperas) (1.0.0)\n",
      "Collecting hyperopt (from hyperas)\n",
      "\u001b[?25l  Downloading https://files.pythonhosted.org/packages/63/12/704382c3081df3ae3f9d96fe6afb62efa2fa9749be20c301cd2797fb0b52/hyperopt-0.1.2-py3-none-any.whl (115kB)\n",
      "\u001b[K     |████████████████████████████████| 122kB 5.8MB/s eta 0:00:01\n",
      "\u001b[?25hRequirement already satisfied: ipython_genutils in /home/ec2-user/anaconda3/envs/tensorflow_p36/lib/python3.6/site-packages (from nbformat->hyperas) (0.2.0)\n",
      "Requirement already satisfied: traitlets>=4.1 in /home/ec2-user/anaconda3/envs/tensorflow_p36/lib/python3.6/site-packages (from nbformat->hyperas) (4.3.2)\n",
      "Requirement already satisfied: jsonschema!=2.5.0,>=2.4 in /home/ec2-user/anaconda3/envs/tensorflow_p36/lib/python3.6/site-packages (from nbformat->hyperas) (2.6.0)\n",
      "Requirement already satisfied: jupyter_core in /home/ec2-user/anaconda3/envs/tensorflow_p36/lib/python3.6/site-packages (from nbformat->hyperas) (4.4.0)\n",
      "Requirement already satisfied: mistune>=0.8.1 in /home/ec2-user/anaconda3/envs/tensorflow_p36/lib/python3.6/site-packages (from nbconvert->hyperas) (0.8.3)\n",
      "Requirement already satisfied: jinja2 in /home/ec2-user/anaconda3/envs/tensorflow_p36/lib/python3.6/site-packages (from nbconvert->hyperas) (2.10)\n",
      "Requirement already satisfied: pygments in /home/ec2-user/anaconda3/envs/tensorflow_p36/lib/python3.6/site-packages (from nbconvert->hyperas) (2.2.0)\n",
      "Requirement already satisfied: bleach in /home/ec2-user/anaconda3/envs/tensorflow_p36/lib/python3.6/site-packages (from nbconvert->hyperas) (2.1.3)\n",
      "Requirement already satisfied: pandocfilters>=1.4.1 in /home/ec2-user/anaconda3/envs/tensorflow_p36/lib/python3.6/site-packages (from nbconvert->hyperas) (1.4.2)\n",
      "Requirement already satisfied: testpath in /home/ec2-user/anaconda3/envs/tensorflow_p36/lib/python3.6/site-packages (from nbconvert->hyperas) (0.3.1)\n",
      "Requirement already satisfied: defusedxml in /home/ec2-user/anaconda3/envs/tensorflow_p36/lib/python3.6/site-packages (from nbconvert->hyperas) (0.5.0)\n",
      "Requirement already satisfied: keras-preprocessing>=1.0.5 in /home/ec2-user/anaconda3/envs/tensorflow_p36/lib/python3.6/site-packages (from keras->hyperas) (1.0.9)\n",
      "Requirement already satisfied: h5py in /home/ec2-user/anaconda3/envs/tensorflow_p36/lib/python3.6/site-packages (from keras->hyperas) (2.8.0)\n",
      "Requirement already satisfied: scipy>=0.14 in /home/ec2-user/anaconda3/envs/tensorflow_p36/lib/python3.6/site-packages (from keras->hyperas) (1.1.0)\n",
      "Requirement already satisfied: numpy>=1.9.1 in /home/ec2-user/anaconda3/envs/tensorflow_p36/lib/python3.6/site-packages (from keras->hyperas) (1.15.4)\n",
      "Requirement already satisfied: pyyaml in /home/ec2-user/anaconda3/envs/tensorflow_p36/lib/python3.6/site-packages (from keras->hyperas) (3.12)\n",
      "Requirement already satisfied: six>=1.9.0 in /home/ec2-user/anaconda3/envs/tensorflow_p36/lib/python3.6/site-packages (from keras->hyperas) (1.11.0)\n",
      "Requirement already satisfied: keras-applications>=1.0.6 in /home/ec2-user/anaconda3/envs/tensorflow_p36/lib/python3.6/site-packages (from keras->hyperas) (1.0.7)\n",
      "Requirement already satisfied: notebook in /home/ec2-user/anaconda3/envs/tensorflow_p36/lib/python3.6/site-packages (from jupyter->hyperas) (5.5.0)\n",
      "Requirement already satisfied: qtconsole in /home/ec2-user/anaconda3/envs/tensorflow_p36/lib/python3.6/site-packages (from jupyter->hyperas) (4.3.1)\n",
      "Requirement already satisfied: jupyter-console in /home/ec2-user/anaconda3/envs/tensorflow_p36/lib/python3.6/site-packages (from jupyter->hyperas) (5.2.0)\n",
      "Requirement already satisfied: ipykernel in /home/ec2-user/anaconda3/envs/tensorflow_p36/lib/python3.6/site-packages (from jupyter->hyperas) (4.8.2)\n",
      "Requirement already satisfied: ipywidgets in /home/ec2-user/anaconda3/envs/tensorflow_p36/lib/python3.6/site-packages (from jupyter->hyperas) (7.4.0)\n",
      "Collecting future (from hyperopt->hyperas)\n",
      "\u001b[?25l  Downloading https://files.pythonhosted.org/packages/90/52/e20466b85000a181e1e144fd8305caf2cf475e2f9674e797b222f8105f5f/future-0.17.1.tar.gz (829kB)\n",
      "\u001b[K     |████████████████████████████████| 829kB 63.2MB/s eta 0:00:01\n",
      "\u001b[?25hCollecting tqdm (from hyperopt->hyperas)\n",
      "\u001b[?25l  Downloading https://files.pythonhosted.org/packages/45/af/685bf3ce889ea191f3b916557f5677cc95a5e87b2fa120d74b5dd6d049d0/tqdm-4.32.1-py2.py3-none-any.whl (49kB)\n",
      "\u001b[K     |████████████████████████████████| 51kB 30.0MB/s eta 0:00:01\n",
      "\u001b[?25hRequirement already satisfied: networkx in /home/ec2-user/anaconda3/envs/tensorflow_p36/lib/python3.6/site-packages (from hyperopt->hyperas) (2.1)\n",
      "Collecting pymongo (from hyperopt->hyperas)\n",
      "\u001b[?25l  Downloading https://files.pythonhosted.org/packages/fb/4a/586826433281ca285f0201235fccf63cc29a30fa78bcd72b6a34e365972d/pymongo-3.8.0-cp36-cp36m-manylinux1_x86_64.whl (416kB)\n",
      "\u001b[K     |████████████████████████████████| 419kB 55.3MB/s eta 0:00:01\n",
      "\u001b[?25hRequirement already satisfied: decorator in /home/ec2-user/anaconda3/envs/tensorflow_p36/lib/python3.6/site-packages (from traitlets>=4.1->nbformat->hyperas) (4.3.0)\n",
      "Requirement already satisfied: MarkupSafe>=0.23 in /home/ec2-user/anaconda3/envs/tensorflow_p36/lib/python3.6/site-packages (from jinja2->nbconvert->hyperas) (1.0)\n",
      "Requirement already satisfied: html5lib!=1.0b1,!=1.0b2,!=1.0b3,!=1.0b4,!=1.0b5,!=1.0b6,!=1.0b7,!=1.0b8,>=0.99999999pre in /home/ec2-user/anaconda3/envs/tensorflow_p36/lib/python3.6/site-packages (from bleach->nbconvert->hyperas) (1.0.1)\n",
      "Requirement already satisfied: pyzmq>=17 in /home/ec2-user/anaconda3/envs/tensorflow_p36/lib/python3.6/site-packages (from notebook->jupyter->hyperas) (17.0.0)\n",
      "Requirement already satisfied: Send2Trash in /home/ec2-user/anaconda3/envs/tensorflow_p36/lib/python3.6/site-packages (from notebook->jupyter->hyperas) (1.5.0)\n",
      "Requirement already satisfied: tornado>=4 in /home/ec2-user/anaconda3/envs/tensorflow_p36/lib/python3.6/site-packages (from notebook->jupyter->hyperas) (5.0.2)\n",
      "Requirement already satisfied: jupyter-client>=5.2.0 in /home/ec2-user/anaconda3/envs/tensorflow_p36/lib/python3.6/site-packages (from notebook->jupyter->hyperas) (5.2.3)\n",
      "Requirement already satisfied: terminado>=0.8.1 in /home/ec2-user/anaconda3/envs/tensorflow_p36/lib/python3.6/site-packages (from notebook->jupyter->hyperas) (0.8.1)\n",
      "Requirement already satisfied: ipython in /home/ec2-user/anaconda3/envs/tensorflow_p36/lib/python3.6/site-packages (from jupyter-console->jupyter->hyperas) (6.4.0)\n"
     ]
    },
    {
     "name": "stdout",
     "output_type": "stream",
     "text": [
      "Requirement already satisfied: prompt_toolkit<2.0.0,>=1.0.0 in /home/ec2-user/anaconda3/envs/tensorflow_p36/lib/python3.6/site-packages (from jupyter-console->jupyter->hyperas) (1.0.15)\n",
      "Requirement already satisfied: widgetsnbextension~=3.4.0 in /home/ec2-user/anaconda3/envs/tensorflow_p36/lib/python3.6/site-packages (from ipywidgets->jupyter->hyperas) (3.4.2)\n",
      "Requirement already satisfied: webencodings in /home/ec2-user/anaconda3/envs/tensorflow_p36/lib/python3.6/site-packages (from html5lib!=1.0b1,!=1.0b2,!=1.0b3,!=1.0b4,!=1.0b5,!=1.0b6,!=1.0b7,!=1.0b8,>=0.99999999pre->bleach->nbconvert->hyperas) (0.5.1)\n",
      "Requirement already satisfied: python-dateutil>=2.1 in /home/ec2-user/anaconda3/envs/tensorflow_p36/lib/python3.6/site-packages (from jupyter-client>=5.2.0->notebook->jupyter->hyperas) (2.7.3)\n",
      "Requirement already satisfied: jedi>=0.10 in /home/ec2-user/anaconda3/envs/tensorflow_p36/lib/python3.6/site-packages (from ipython->jupyter-console->jupyter->hyperas) (0.12.0)\n",
      "Requirement already satisfied: simplegeneric>0.8 in /home/ec2-user/anaconda3/envs/tensorflow_p36/lib/python3.6/site-packages (from ipython->jupyter-console->jupyter->hyperas) (0.8.1)\n",
      "Requirement already satisfied: backcall in /home/ec2-user/anaconda3/envs/tensorflow_p36/lib/python3.6/site-packages (from ipython->jupyter-console->jupyter->hyperas) (0.1.0)\n",
      "Requirement already satisfied: pickleshare in /home/ec2-user/anaconda3/envs/tensorflow_p36/lib/python3.6/site-packages (from ipython->jupyter-console->jupyter->hyperas) (0.7.4)\n",
      "Requirement already satisfied: setuptools>=18.5 in /home/ec2-user/anaconda3/envs/tensorflow_p36/lib/python3.6/site-packages (from ipython->jupyter-console->jupyter->hyperas) (39.1.0)\n",
      "Requirement already satisfied: pexpect; sys_platform != \"win32\" in /home/ec2-user/anaconda3/envs/tensorflow_p36/lib/python3.6/site-packages (from ipython->jupyter-console->jupyter->hyperas) (4.5.0)\n",
      "Requirement already satisfied: wcwidth in /home/ec2-user/anaconda3/envs/tensorflow_p36/lib/python3.6/site-packages (from prompt_toolkit<2.0.0,>=1.0.0->jupyter-console->jupyter->hyperas) (0.1.7)\n",
      "Requirement already satisfied: parso>=0.2.0 in /home/ec2-user/anaconda3/envs/tensorflow_p36/lib/python3.6/site-packages (from jedi>=0.10->ipython->jupyter-console->jupyter->hyperas) (0.2.0)\n",
      "Requirement already satisfied: ptyprocess>=0.5 in /home/ec2-user/anaconda3/envs/tensorflow_p36/lib/python3.6/site-packages (from pexpect; sys_platform != \"win32\"->ipython->jupyter-console->jupyter->hyperas) (0.5.2)\n",
      "Building wheels for collected packages: future\n",
      "  Building wheel for future (setup.py) ... \u001b[?25ldone\n",
      "\u001b[?25h  Stored in directory: /home/ec2-user/.cache/pip/wheels/0c/61/d2/d6b7317325828fbb39ee6ad559dbe4664d0896da4721bf379e\n",
      "Successfully built future\n",
      "Installing collected packages: future, tqdm, pymongo, hyperopt, hyperas\n",
      "Successfully installed future-0.17.1 hyperas-0.4.1 hyperopt-0.1.2 pymongo-3.8.0 tqdm-4.32.1\n"
     ]
    }
   ],
   "source": [
    "!pip install --upgrade pip\n",
    "!pip install python-decouple\n",
    "!pip install geoalchemy2\n",
    "!pip install shapely\n",
    "!pip install scipy\n",
    "!pip install hyperas"
   ]
  },
  {
   "cell_type": "code",
   "execution_count": 2,
   "metadata": {},
   "outputs": [
    {
     "name": "stderr",
     "output_type": "stream",
     "text": [
      "Using TensorFlow backend.\n"
     ]
    }
   ],
   "source": [
    "from sqlalchemy import create_engine, func, text\n",
    "from sqlalchemy.orm import sessionmaker\n",
    "from decouple import config\n",
    "from shapely import wkb, wkt\n",
    "from shapely.geometry import Point\n",
    "from geoalchemy2.shape import to_shape \n",
    "\n",
    "import pandas as pd\n",
    "import numpy as np\n",
    "import json\n",
    "from datetime import datetime, timedelta\n",
    "import re\n",
    "from matplotlib import pyplot as plt\n",
    "import random\n",
    "\n",
    "from sklearn.preprocessing import RobustScaler\n",
    "from keras.models import Sequential\n",
    "from keras.layers import LSTM, Dense\n",
    "from sklearn.model_selection import GridSearchCV\n",
    "\n",
    "from hyperas.distributions import uniform\n",
    "\n",
    "\n",
    "\n",
    "# ----------- TODO: Issues with importing imbalance-learn library\n",
    "# from imblearn.over_sampling import RandomOverSampler\n",
    "# from imblearn.under_sampling import NearMiss\n",
    "# from imblearn.under_sampling import (RandomUnderSampler,\n",
    "#                                      ClusterCentroids,\n",
    "#                                      TomekLinks,\n",
    "#                                      NeighbourhoodCleaningRule,\n",
    "#                                      NearMiss)"
   ]
  },
  {
   "cell_type": "code",
   "execution_count": 3,
   "metadata": {},
   "outputs": [],
   "source": [
    "\"\"\"Contains models for DB.\"\"\"\n",
    "\n",
    "from sqlalchemy.ext.declarative import declarative_base\n",
    "from sqlalchemy import Column, BigInteger, Integer, String, DateTime, ForeignKey, Float\n",
    "from sqlalchemy.orm import relationship\n",
    "from geoalchemy2 import Geometry\n",
    "\n",
    "\n",
    "BASE = declarative_base()\n",
    "\n",
    "\n",
    "class City(BASE):\n",
    "    \"\"\"City model for DB. Has information of cities.\"\"\"\n",
    "    __tablename__ = 'city'\n",
    "    id            = Column(BigInteger, primary_key=True)\n",
    "    city          = Column(String, unique=False, nullable=False)\n",
    "    state         = Column(String, unique=False, nullable=True)\n",
    "    country       = Column(String, unique=False, nullable=False)\n",
    "    location      = Column(Geometry(geometry_type='POINT'), nullable=False)\n",
    "    blocks        = relationship(\"Blocks\", back_populates=\"city\")\n",
    "    zipcodes      = relationship(\"ZipcodeGeom\", back_populates=\"city\")\n",
    "    incidents     = relationship(\"Incident\", back_populates=\"city\")\n",
    "\n",
    "\n",
    "class Blocks(BASE):\n",
    "    \"\"\"Block model for DB. Has information of city blocks for a related city\n",
    "        id.\"\"\"\n",
    "    __tablename__ = 'block'\n",
    "    id            = Column(BigInteger, primary_key=True)\n",
    "    cityid        = Column(BigInteger, ForeignKey('city.id'), nullable=False)\n",
    "    shape         = Column(Geometry(geometry_type='MULTIPOLYGON'), nullable=False)\n",
    "    population    = Column(Integer, nullable=False)\n",
    "    city          = relationship(\"City\", back_populates=\"blocks\")\n",
    "    incidents     = relationship(\"Incident\", back_populates=\"block\")\n",
    "\n",
    "class ZipcodeGeom(BASE):\n",
    "    \"\"\"Zipcode geometry model for DB. Has information of zipcodes and related\n",
    "        city id.\"\"\"\n",
    "    __tablename__ = 'zipcodegeom'\n",
    "    id            = Column(BigInteger, primary_key=True)\n",
    "    cityid        = Column(BigInteger, ForeignKey('city.id'), nullable=False)\n",
    "    zipcode       = Column(String, nullable=False, unique=True)\n",
    "    shape         = Column(Geometry(geometry_type='MULTIPOLYGON'), nullable=False)\n",
    "    city          = relationship(\"City\", back_populates=\"zipcodes\")\n",
    "\n",
    "class Incident(BASE):\n",
    "    \"\"\"Incident model for DB. Has information of a specific crime, including\n",
    "        where it took place, when it took place, and the type of crime that\n",
    "        occurred.\"\"\"\n",
    "    __tablename__ = 'incident'\n",
    "    id            = Column(BigInteger, primary_key=True)\n",
    "    crimetypeid   = Column(BigInteger, ForeignKey('crimetype.id'), nullable=False)\n",
    "    locdescid     = Column(BigInteger, ForeignKey('locdesctype.id'), nullable=False)\n",
    "    cityid        = Column(BigInteger, ForeignKey('city.id'), nullable=False)\n",
    "    blockid       = Column(BigInteger, ForeignKey('block.id'), nullable=False)\n",
    "    location      = Column(Geometry(geometry_type='POINT'), nullable=False)\n",
    "    datetime      = Column(DateTime, nullable=False)\n",
    "    hour          = Column(Integer, nullable=False)\n",
    "    dow           = Column(Integer, nullable=False)\n",
    "    month         = Column(Integer, nullable=False)\n",
    "    year          = Column(Integer, nullable=False)\n",
    "    city          = relationship(\"City\", back_populates=\"incidents\")\n",
    "    block         = relationship(\"Blocks\", back_populates=\"incidents\")\n",
    "    crimetype     = relationship(\"CrimeType\", back_populates=\"incidents\")\n",
    "    locationdesc  = relationship(\"LocationDescriptionType\", back_populates=\"incidents\")\n",
    "\n",
    "class CrimeType(BASE):\n",
    "    \"\"\"CrimeType model for DB. Has information of the types of crime, including\n",
    "        a general description and the numerical severity of the crime.\"\"\"\n",
    "    __tablename__ = 'crimetype'\n",
    "    id            = Column(BigInteger, primary_key=True)\n",
    "    category      = Column(String, unique=True, nullable=False)\n",
    "    severity      = Column(Integer, nullable=False)\n",
    "    incidents     = relationship(\"Incident\", back_populates=\"crimetype\")\n",
    "\n",
    "\n",
    "class LocationDescriptionType(BASE):\n",
    "    \"\"\"Location description model for DB. Has information on the type of\n",
    "        location that the crime took place.\"\"\"\n",
    "    __tablename__ = 'locdesctype'\n",
    "    id            = Column(BigInteger, primary_key=True)\n",
    "    key1          = Column(String, nullable=False)\n",
    "    key2          = Column(String, nullable=False)\n",
    "    key3          = Column(String, nullable=False)\n",
    "    incidents     = relationship(\"Incident\", back_populates=\"locationdesc\")"
   ]
  },
  {
   "cell_type": "code",
   "execution_count": 4,
   "metadata": {},
   "outputs": [],
   "source": [
    "class GetData(object):\n",
    "    def go(self, SESSION, start_year, end_year):\n",
    "        SQL_QUERY = \\\n",
    "            f'''\n",
    "                WITH\n",
    "                    max_severity AS (\n",
    "                        SELECT MAX(severity) AS severity\n",
    "                        FROM (\n",
    "                            SELECT SUM(crimetype.severity)/AVG(block.population) AS severity\n",
    "                            FROM incident\n",
    "                            INNER JOIN block ON incident.blockid = block.id INNER JOIN crimetype ON incident.crimetypeid = crimetype.id AND block.population > 0\n",
    "                            GROUP BY\n",
    "                                incident.blockid,\n",
    "                                incident.year,\n",
    "                                incident.month,\n",
    "                                incident.dow\n",
    "                        ) AS categories\n",
    "                    ),\n",
    "                    block_incidents AS (\n",
    "                        SELECT\n",
    "                            incident.blockid,\n",
    "                            incident.datetime,\n",
    "                            incident.year,\n",
    "                            incident.month,\n",
    "                            incident.dow,\n",
    "                            SUM(crimetype.severity)/AVG(block.population) AS severity\n",
    "                        FROM incident\n",
    "                        INNER JOIN block ON incident.blockid = block.id\n",
    "                        INNER JOIN crimetype ON incident.crimetypeid = crimetype.id\n",
    "                            AND block.population > 0\n",
    "                            AND incident.cityid = 1\n",
    "                            AND incident.year >= {start_year}\n",
    "                            AND incident.year <= {end_year}\n",
    "                        GROUP BY\n",
    "                            incident.blockid,\n",
    "                            incident.datetime,\n",
    "                            incident.year,\n",
    "                            incident.month,\n",
    "                            incident.dow\n",
    "                    )\n",
    "                SELECT\n",
    "                    block_incidents.blockid,\n",
    "                    block_incidents.datetime,\n",
    "                    block_incidents.year,\n",
    "                    block_incidents.month,\n",
    "                    block_incidents.dow,\n",
    "                    block_incidents.severity/max_severity.severity AS severity\n",
    "                FROM block_incidents, max_severity        \n",
    "            '''\n",
    "        return SESSION.execute(text(SQL_QUERY)).fetchall()"
   ]
  },
  {
   "cell_type": "code",
   "execution_count": 5,
   "metadata": {},
   "outputs": [],
   "source": [
    "DAY_OF_WEEK  = 0\n",
    "DAY_OF_MONTH = 1\n",
    "HOUR_OF_DAY  = 2\n",
    "\n",
    "def fill_data(X, y, r, start_year, end_year, blockid_dict, data_type):\n",
    "    \n",
    "    def day_of_month(x):\n",
    "        return x.day - 1\n",
    "\n",
    "    def hour_of_day(x):\n",
    "        return x.hour\n",
    "    \n",
    "    if r[2] == end_year:\n",
    "        if data_type == DAY_OF_WEEK:\n",
    "            #                     block id       0-based month\n",
    "            #                vvvvvvvvvvvvvvvvv   vvvvvv\n",
    "            y[blockid_dict[r[0]], r[3]-1, r[4]] = float(r[5])\n",
    "            #                                            ^^^^        ^^^^\n",
    "            #                                            dow         risk\n",
    "        elif data_type == DAY_OF_MONTH:\n",
    "            #                     block id       0-based month\n",
    "            #                vvvvvvvvvvvvvvvvv   vvvvvv\n",
    "            y[blockid_dict[r[0]], r[3]-1, day_of_month(r[1])] = float(r[5])\n",
    "            #                                            ^^^^^^^^^^^^^^^^^^        ^^^^\n",
    "            #                                                  dom                 risk\n",
    "        elif data_type == HOUR_OF_DAY:\n",
    "            #                     block id       0-based month\n",
    "            #                vvvvvvvvvvvvvvvvv   vvvvvv\n",
    "            y[blockid_dict[r[0]], r[3]-1, hour_of_day(r[1])] = float(r[5])\n",
    "            #                                             ^^^^^^^^^^^^^^^         ^^^^\n",
    "            #                                               hour of day           risk\n",
    "        else:\n",
    "            raise ValueError('Unsupported data type:', data_type)\n",
    "    else:\n",
    "        if data_type == DAY_OF_WEEK:\n",
    "            X[blockid_dict[r[0]], 12*(r[2]-start_year-1)+r[3]-1, r[4]] = float(r[5])\n",
    "        elif data_type == DAY_OF_MONTH:\n",
    "            X[blockid_dict[r[0]], 12*(r[2]-start_year-1)+r[3]-1, day_of_month(r[1])] = float(r[5])\n",
    "        elif data_type == HOUR_OF_DAY:\n",
    "            X[blockid_dict[r[0]], 12*(r[2]-start_year-1)+r[3]-1, hour_of_day(r[1])] = float(r[5])\n",
    "        else:\n",
    "            raise ValueError('Unsupported data type:', data_type)"
   ]
  },
  {
   "cell_type": "code",
   "execution_count": 6,
   "metadata": {},
   "outputs": [],
   "source": [
    "def process_data(data, start_year, end_year, blockid_dict, data_type):\n",
    "\n",
    "    if data_type == DAY_OF_WEEK:\n",
    "        X = np.zeros((len(blockid_dict), 24, 7))\n",
    "        y = np.zeros((len(blockid_dict), 12, 7))\n",
    "    elif data_type == DAY_OF_MONTH:\n",
    "        X = np.zeros((len(blockid_dict), 24, 31))\n",
    "        y = np.zeros((len(blockid_dict), 12, 31))\n",
    "    elif data_type == HOUR_OF_DAY:\n",
    "        X = np.zeros((len(blockid_dict), 24, 24))\n",
    "        y = np.zeros((len(blockid_dict), 12, 24))\n",
    "    \n",
    "    # records is the list of rows we get from the query with this order:\n",
    "    #   blockid, year, month, dow, hour, risk\n",
    "    #   month is from 1 - 12\n",
    "\n",
    "    for r in data:\n",
    "        if r[0] in blockid_dict:\n",
    "            fill_data(X, y, r, start_year, end_year, blockid_dict, data_type)\n",
    "\n",
    "    X = X * 1000\n",
    "    y = y * 1000\n",
    "\n",
    "    #     for i in range(24):\n",
    "    #         X[:, i, -1] = (start_year*12+i) / (2000 * 12)\n",
    "        \n",
    "    return X, y"
   ]
  },
  {
   "cell_type": "code",
   "execution_count": 7,
   "metadata": {},
   "outputs": [],
   "source": [
    "from contextlib import contextmanager\n",
    "\n",
    "@contextmanager\n",
    "def session_scope():\n",
    "    \"\"\"Provide a transactional scope around a series of operations.\"\"\"\n",
    "\n",
    "    DB_URI  = config('DB_URI')\n",
    "    ENGINE  = create_engine(DB_URI)\n",
    "    Session = sessionmaker(bind=ENGINE)\n",
    "    SESSION = Session()\n",
    "    \n",
    "    try:\n",
    "        yield SESSION\n",
    "        SESSION.commit()\n",
    "    except:\n",
    "        SESSION.rollback()\n",
    "        raise\n",
    "    finally:\n",
    "        SESSION.close()\n",
    "\n",
    "\n",
    "def ready_data(training_start_year, training_end_year, train_blockid_dict,\n",
    "               testing_start_year, testing_end_year, test_blockid_dict,\n",
    "               data_type):\n",
    "    with session_scope() as session:\n",
    "        training_data = GetData().go(session,\n",
    "                                     training_start_year,\n",
    "                                     training_end_year)\n",
    "        testing_data = GetData().go(session,\n",
    "                                     testing_start_year,\n",
    "                                     testing_end_year)\n",
    "        \n",
    "        X_train, y_train = process_data(training_data,\n",
    "                                        training_start_year, \n",
    "                                        training_end_year,\n",
    "                                        train_blockid_dict,\n",
    "                                        data_type)\n",
    "        X_test, y_test = process_data(testing_data,\n",
    "                                      testing_start_year, \n",
    "                                      testing_end_year,\n",
    "                                      test_blockid_dict,\n",
    "                                      data_type)\n",
    "\n",
    "    return X_train, X_test, y_train, y_test"
   ]
  },
  {
   "cell_type": "markdown",
   "metadata": {},
   "source": [
    "## Day of week analysis for each month of each block id"
   ]
  },
  {
   "cell_type": "code",
   "execution_count": 8,
   "metadata": {},
   "outputs": [
    {
     "name": "stdout",
     "output_type": "stream",
     "text": [
      "CPU times: user 940 µs, sys: 966 µs, total: 1.91 ms\n",
      "Wall time: 1.91 ms\n"
     ]
    }
   ],
   "source": [
    "%%time\n",
    "\n",
    "# start month = 3, end_month = 2 (months are 0-indexed)\n",
    "#   X: 4/2017 -> 3/2019 actual date\n",
    "#   y: 4/2019 -> 3/2020 actual date\n",
    "#\n",
    "X_test_start_month = 0\n",
    "X_test_end_month   = 0\n",
    "X_test_start_year  = 2016\n",
    "X_test_end_year    = 2018\n",
    "\n",
    "TRAIN_NUM_BLOCKIDS = TEST_NUM_BLOCKIDS = 801\n",
    "\n",
    "TRAIN_BLOCKIDS = random.sample(list(range(1,802)), k=TRAIN_NUM_BLOCKIDS)   \n",
    "train_blockid_dict = {}\n",
    "for ind, blockid in enumerate(TRAIN_BLOCKIDS ):\n",
    "    train_blockid_dict[blockid] = ind\n",
    "        \n",
    "TEST_BLOCKIDS = random.sample(list(range(1,802)), k=TEST_NUM_BLOCKIDS)    \n",
    "test_blockid_dict = {}\n",
    "for ind, blockid in enumerate(TEST_BLOCKIDS ):\n",
    "    test_blockid_dict[blockid] = ind"
   ]
  },
  {
   "cell_type": "code",
   "execution_count": 9,
   "metadata": {},
   "outputs": [],
   "source": [
    "def plot_output(y, y_pred, dataset_type, x_label, y_label):\n",
    "\n",
    "    fig = plt.figure(figsize=(10, 8))\n",
    "    plt.plot(np.arange(len(y.flatten())),\n",
    "                 y.flatten(), color='blue');\n",
    "    plt.plot(np.arange(len(y_pred.flatten())),\n",
    "                 y_pred.flatten(), color='red');\n",
    "    plt.xlabel(x_label, fontsize=16)\n",
    "    plt.ylabel(y_label, fontsize=18)\n",
    "    plt.title(dataset_type + ' dataset', fontsize=18)\n",
    "    plt.legend(labels=['risk', 'predicted risk'], prop={'size': 20})\n",
    "    plt.show()"
   ]
  },
  {
   "cell_type": "code",
   "execution_count": 10,
   "metadata": {},
   "outputs": [
    {
     "name": "stderr",
     "output_type": "stream",
     "text": [
      "/home/ec2-user/anaconda3/envs/tensorflow_p36/lib/python3.6/site-packages/sklearn/ensemble/weight_boosting.py:29: DeprecationWarning: numpy.core.umath_tests is an internal NumPy module and should not be imported. It will be removed in a future NumPy release.\n",
      "  from numpy.core.umath_tests import inner1d\n"
     ]
    }
   ],
   "source": [
    "from sklearn.ensemble import RandomForestRegressor\n",
    "from sklearn.multioutput import MultiOutputRegressor\n",
    "from sklearn.metrics import mean_squared_error\n",
    "\n",
    "random.seed(101)\n",
    "\n",
    "def get_predictions(X_train, y_train, X_test, y_test, \n",
    "                    x_label, y_label, model):\n",
    "    \n",
    "    def print_data_info(data, data_name):\n",
    "        flat = data.flatten()\n",
    "        print('Number of data points:', len(flat))\n",
    "        print('Number of non-zero elements:', len(flat[flat > 0.0]))\n",
    "        print('Percentage of non-zero elements:', len(flat[flat > 0.0])/len(flat))\n",
    "\n",
    "        pd.Series(flat).hist(bins=[0.25, 0.5, 1.0, 1.5, 2.5, 5.0, 10, 15, 20]);\n",
    "        plt.title(f'Histogram of {data_name}')\n",
    "        plt.show()\n",
    "    \n",
    "    print_data_info(y_test, 'y_test')\n",
    "    print('Correlation between y_train and y_test:\\n', \n",
    "          np.corrcoef(y_train.flatten(), y_test.flatten()))\n",
    "          \n",
    "    X_train = X_train.reshape((TRAIN_NUM_BLOCKIDS, X_train.shape[1] * X_train.shape[2]))\n",
    "    y_train = y_train.reshape((TRAIN_NUM_BLOCKIDS, y_train.shape[1] * y_train.shape[2]))\n",
    "    X_test = X_test.reshape((TEST_NUM_BLOCKIDS, X_test.shape[1] * X_test.shape[2]))\n",
    "    y_test = y_test.reshape((TEST_NUM_BLOCKIDS, y_test.shape[1] * y_test.shape[2]))\n",
    "\n",
    "    print('y_test shape after reshaping:', y_test.shape)\n",
    "    \n",
    "    # For regressors:\n",
    "    param_grid = {  # param_grid values not working - have to debug --- TODO ---\n",
    "        'estimator__n_estimators':  [80, 100, 120],\n",
    "        'estimator__max_depth': [2, 3, 4, 5, 6],\n",
    "    }\n",
    "\n",
    "    # For classifiers:\n",
    "    # param_grid = {\n",
    "    #     'estimator__n_estimators':  [80, 100, 120],\n",
    "    #     'estimator__max_depth': [2, 3, 4, 5, 6, 7, 8],\n",
    "    # }\n",
    "\n",
    "    gridsearch = GridSearchCV(model,\n",
    "                              param_grid=param_grid, \n",
    "                              scoring='neg_mean_squared_error', \n",
    "                              cv=3, n_jobs=-1,\n",
    "                              return_train_score=True, verbose=10)\n",
    "    gridsearch.fit(X_train, y_train)\n",
    "\n",
    "    best_training_score = gridsearch.score(X_train, y_train)\n",
    "    best_testing_score  = gridsearch.score(X_test, y_test)\n",
    "    best_model_params = gridsearch.cv_results_['params'][gridsearch.best_index_]\n",
    "\n",
    "    print(f'  Best training score:', -best_training_score)\n",
    "    print(f'  Best testing score: ', -best_testing_score)\n",
    "    print('Best Grid Search model:', best_model_params)\n",
    "\n",
    "    y_pred = gridsearch.predict(X_test)\n",
    "    print('mean_squared_error:', mean_squared_error(y_test, y_pred))\n",
    "          \n",
    "    plot_output(y_test, y_pred, 'Testing', x_label, y_label)\n",
    "\n",
    "    def relative_percent_difference(y_true, y_pred):\n",
    "        return np.absolute(2 * (y_true - y_pred) / (np.absolute(y_true) + np.absolute(y_pred)))\n",
    "    \n",
    "    return y_test, y_pred, relative_percent_difference(y_test, y_pred)"
   ]
  },
  {
   "cell_type": "code",
   "execution_count": 11,
   "metadata": {},
   "outputs": [
    {
     "name": "stderr",
     "output_type": "stream",
     "text": [
      "/home/ec2-user/anaconda3/envs/tensorflow_p36/lib/python3.6/site-packages/psycopg2/__init__.py:144: UserWarning: The psycopg2 wheel package will be renamed from release 2.8; in order to keep installing from binary please use \"pip install psycopg2-binary\" instead. For details see: <http://initd.org/psycopg/docs/install.html#binary-install-from-pypi>.\n",
      "  \"\"\")\n"
     ]
    },
    {
     "name": "stdout",
     "output_type": "stream",
     "text": [
      "(801, 24, 7) (801, 12, 7) (801, 24, 7) (801, 12, 7)\n"
     ]
    }
   ],
   "source": [
    "X_train, X_test, y_train, y_test = ready_data(2015, 2017, train_blockid_dict,\n",
    "                                              X_test_start_year, X_test_end_year, test_blockid_dict,\n",
    "                                              DAY_OF_WEEK)\n",
    "\n",
    "print(X_train.shape, y_train.shape, X_test.shape, y_test.shape)"
   ]
  },
  {
   "cell_type": "code",
   "execution_count": 12,
   "metadata": {},
   "outputs": [
    {
     "name": "stdout",
     "output_type": "stream",
     "text": [
      "Number of data points: 67284\n",
      "Number of non-zero elements: 58474\n",
      "Percentage of non-zero elements: 0.869062481422032\n"
     ]
    },
    {
     "data": {
      "image/png": "[encoded data removed]",
      "text/plain": [
       "<Figure size 432x288 with 1 Axes>"
      ]
     },
     "metadata": {},
     "output_type": "display_data"
    },
    {
     "name": "stdout",
     "output_type": "stream",
     "text": [
      "Correlation between y_train and y_test:\n",
      " [[1.00000000e+00 7.45581619e-04]\n",
      " [7.45581619e-04 1.00000000e+00]]\n",
      "y_test shape after reshaping: (801, 84)\n",
      "Fitting 3 folds for each of 15 candidates, totalling 45 fits\n",
      "[CV] estimator__max_depth=2, estimator__n_estimators=80 ..............\n",
      "[CV] estimator__max_depth=2, estimator__n_estimators=80 ..............\n",
      "[CV] estimator__max_depth=2, estimator__n_estimators=80 ..............\n",
      "[CV] estimator__max_depth=2, estimator__n_estimators=100 .............\n",
      "[CV] estimator__max_depth=2, estimator__n_estimators=100 .............\n",
      "[CV] estimator__max_depth=2, estimator__n_estimators=100 .............\n",
      "[CV] estimator__max_depth=3, estimator__n_estimators=80 ..............\n",
      "[CV] estimator__max_depth=3, estimator__n_estimators=80 ..............\n",
      "[CV] estimator__max_depth=3, estimator__n_estimators=100 .............\n",
      "[CV] estimator__max_depth=3, estimator__n_estimators=100 .............\n",
      "[CV] estimator__max_depth=3, estimator__n_estimators=100 .............\n",
      "[CV] estimator__max_depth=3, estimator__n_estimators=120 .............\n",
      "[CV] estimator__max_depth=3, estimator__n_estimators=120 .............\n",
      "[CV] estimator__max_depth=2, estimator__n_estimators=120 .............\n",
      "[CV] estimator__max_depth=3, estimator__n_estimators=120 .............\n",
      "[CV] estimator__max_depth=4, estimator__n_estimators=80 ..............\n",
      "[CV] estimator__max_depth=4, estimator__n_estimators=80 ..............\n",
      "[CV] estimator__max_depth=4, estimator__n_estimators=80 ..............\n",
      "[CV] estimator__max_depth=2, estimator__n_estimators=120 .............\n",
      "[CV] estimator__max_depth=2, estimator__n_estimators=120 .............\n",
      "[CV] estimator__max_depth=4, estimator__n_estimators=100 .............\n",
      "[CV] estimator__max_depth=3, estimator__n_estimators=80 ..............\n",
      "[CV] estimator__max_depth=4, estimator__n_estimators=100 .............\n",
      "[CV] estimator__max_depth=4, estimator__n_estimators=100 .............\n",
      "[CV] estimator__max_depth=4, estimator__n_estimators=120 .............\n",
      "[CV] estimator__max_depth=4, estimator__n_estimators=120 .............\n",
      "[CV] estimator__max_depth=4, estimator__n_estimators=120 .............\n",
      "[CV] estimator__max_depth=5, estimator__n_estimators=80 ..............\n",
      "[CV] estimator__max_depth=5, estimator__n_estimators=80 ..............\n",
      "[CV] estimator__max_depth=5, estimator__n_estimators=80 ..............\n",
      "[CV] estimator__max_depth=5, estimator__n_estimators=100 .............\n",
      "[CV] estimator__max_depth=5, estimator__n_estimators=100 .............\n",
      "[CV]  estimator__max_depth=2, estimator__n_estimators=80, score=-0.5859510054775188, total= 1.6min\n",
      "[CV] estimator__max_depth=5, estimator__n_estimators=100 .............\n",
      "[CV]  estimator__max_depth=2, estimator__n_estimators=80, score=-19.05852742405751, total= 1.6min\n",
      "[CV] estimator__max_depth=5, estimator__n_estimators=120 .............\n"
     ]
    },
    {
     "name": "stderr",
     "output_type": "stream",
     "text": [
      "[Parallel(n_jobs=-1)]: Done   2 out of  45 | elapsed:  1.6min remaining: 34.0min\n"
     ]
    },
    {
     "name": "stdout",
     "output_type": "stream",
     "text": [
      "[CV]  estimator__max_depth=2, estimator__n_estimators=80, score=-0.023387857953217083, total= 1.6min\n",
      "[CV] estimator__max_depth=5, estimator__n_estimators=120 .............\n",
      "[CV]  estimator__max_depth=2, estimator__n_estimators=100, score=-0.5858597986271917, total= 2.0min\n",
      "[CV] estimator__max_depth=5, estimator__n_estimators=120 .............\n",
      "[CV]  estimator__max_depth=2, estimator__n_estimators=100, score=-19.06718315881313, total= 2.0min\n",
      "[CV] estimator__max_depth=6, estimator__n_estimators=80 ..............\n",
      "[CV]  estimator__max_depth=2, estimator__n_estimators=100, score=-0.023389778924379614, total= 2.0min\n",
      "[CV] estimator__max_depth=6, estimator__n_estimators=80 ..............\n",
      "[CV]  estimator__max_depth=3, estimator__n_estimators=80, score=-0.5839801716090685, total= 2.2min\n",
      "[CV] estimator__max_depth=6, estimator__n_estimators=80 ..............\n"
     ]
    },
    {
     "name": "stderr",
     "output_type": "stream",
     "text": [
      "[Parallel(n_jobs=-1)]: Done   7 out of  45 | elapsed:  2.2min remaining: 12.0min\n"
     ]
    },
    {
     "name": "stdout",
     "output_type": "stream",
     "text": [
      "[CV]  estimator__max_depth=3, estimator__n_estimators=80, score=-19.058528652528633, total= 2.2min\n",
      "[CV] estimator__max_depth=6, estimator__n_estimators=100 .............\n",
      "[CV]  estimator__max_depth=3, estimator__n_estimators=80, score=-0.021155019745830877, total= 2.2min\n",
      "[CV] estimator__max_depth=6, estimator__n_estimators=100 .............\n",
      "[CV]  estimator__max_depth=2, estimator__n_estimators=120, score=-0.5854752712980711, total= 2.3min\n",
      "[CV] estimator__max_depth=6, estimator__n_estimators=100 .............\n",
      "[CV]  estimator__max_depth=2, estimator__n_estimators=120, score=-19.069252490740485, total= 2.4min\n",
      "[CV] estimator__max_depth=6, estimator__n_estimators=120 .............\n",
      "[CV]  estimator__max_depth=2, estimator__n_estimators=120, score=-0.023270381734772222, total= 2.4min\n",
      "[CV] estimator__max_depth=6, estimator__n_estimators=120 .............\n"
     ]
    },
    {
     "name": "stderr",
     "output_type": "stream",
     "text": [
      "[Parallel(n_jobs=-1)]: Done  12 out of  45 | elapsed:  2.4min remaining:  6.5min\n"
     ]
    },
    {
     "name": "stdout",
     "output_type": "stream",
     "text": [
      "[CV]  estimator__max_depth=3, estimator__n_estimators=100, score=-0.5840709218344904, total= 2.7min\n",
      "[CV] estimator__max_depth=6, estimator__n_estimators=120 .............\n",
      "[CV]  estimator__max_depth=3, estimator__n_estimators=100, score=-19.06689014584209, total= 2.8min\n",
      "[CV]  estimator__max_depth=3, estimator__n_estimators=100, score=-0.021140408387264203, total= 2.8min\n",
      "[CV]  estimator__max_depth=4, estimator__n_estimators=80, score=-0.584170284423543, total= 2.8min\n",
      "[CV]  estimator__max_depth=4, estimator__n_estimators=80, score=-19.061328758272072, total= 2.9min\n",
      "[CV]  estimator__max_depth=4, estimator__n_estimators=80, score=-0.020292621245180182, total= 2.9min\n"
     ]
    },
    {
     "name": "stderr",
     "output_type": "stream",
     "text": [
      "[Parallel(n_jobs=-1)]: Done  17 out of  45 | elapsed:  2.9min remaining:  4.7min\n"
     ]
    },
    {
     "name": "stdout",
     "output_type": "stream",
     "text": [
      "[CV]  estimator__max_depth=5, estimator__n_estimators=80, score=-0.5846664420645983, total= 3.2min\n",
      "[CV]  estimator__max_depth=5, estimator__n_estimators=80, score=-0.019987946493627062, total= 3.2min\n",
      "[CV]  estimator__max_depth=3, estimator__n_estimators=120, score=-0.5836976447982556, total= 3.3min\n",
      "[CV]  estimator__max_depth=3, estimator__n_estimators=120, score=-0.021091310163108834, total= 3.3min\n"
     ]
    },
    {
     "name": "stderr",
     "output_type": "stream",
     "text": [
      "[Parallel(n_jobs=-1)]: Done  22 out of  45 | elapsed:  3.3min remaining:  3.5min\n"
     ]
    },
    {
     "name": "stdout",
     "output_type": "stream",
     "text": [
      "[CV]  estimator__max_depth=3, estimator__n_estimators=120, score=-19.06942960255177, total= 3.3min\n",
      "[CV]  estimator__max_depth=5, estimator__n_estimators=80, score=-19.064727757244867, total= 3.5min\n",
      "[CV]  estimator__max_depth=4, estimator__n_estimators=100, score=-0.5842204605868219, total= 3.5min\n",
      "[CV]  estimator__max_depth=4, estimator__n_estimators=100, score=-0.02024055611902585, total= 3.6min\n",
      "[CV]  estimator__max_depth=4, estimator__n_estimators=100, score=-19.070368766579982, total= 3.6min\n"
     ]
    },
    {
     "name": "stderr",
     "output_type": "stream",
     "text": [
      "[Parallel(n_jobs=-1)]: Done  27 out of  45 | elapsed:  3.6min remaining:  2.4min\n"
     ]
    },
    {
     "name": "stdout",
     "output_type": "stream",
     "text": [
      "[CV]  estimator__max_depth=4, estimator__n_estimators=120, score=-19.071744716177975, total= 3.8min\n",
      "[CV]  estimator__max_depth=5, estimator__n_estimators=100, score=-0.019932688262621796, total= 3.8min\n",
      "[CV]  estimator__max_depth=4, estimator__n_estimators=120, score=-0.02022761762956196, total= 3.9min\n",
      "[CV]  estimator__max_depth=4, estimator__n_estimators=120, score=-0.5837614058706778, total= 4.1min\n",
      "[CV]  estimator__max_depth=5, estimator__n_estimators=100, score=-0.5846743585993143, total= 4.1min\n"
     ]
    },
    {
     "name": "stderr",
     "output_type": "stream",
     "text": [
      "[Parallel(n_jobs=-1)]: Done  32 out of  45 | elapsed:  4.1min remaining:  1.7min\n"
     ]
    },
    {
     "name": "stdout",
     "output_type": "stream",
     "text": [
      "[CV]  estimator__max_depth=5, estimator__n_estimators=100, score=-19.07108299741286, total= 3.4min\n",
      "[CV]  estimator__max_depth=6, estimator__n_estimators=80, score=-0.5849212797301453, total= 3.0min\n",
      "[CV]  estimator__max_depth=6, estimator__n_estimators=80, score=-0.019781336607378238, total= 3.1min\n",
      "[CV]  estimator__max_depth=6, estimator__n_estimators=80, score=-19.072173037693826, total= 3.2min\n",
      "[CV]  estimator__max_depth=5, estimator__n_estimators=120, score=-0.019984348315227655, total= 4.0min\n"
     ]
    },
    {
     "name": "stderr",
     "output_type": "stream",
     "text": [
      "[Parallel(n_jobs=-1)]: Done  37 out of  45 | elapsed:  5.6min remaining:  1.2min\n"
     ]
    },
    {
     "name": "stdout",
     "output_type": "stream",
     "text": [
      "[CV]  estimator__max_depth=5, estimator__n_estimators=120, score=-0.5841109845804647, total= 4.0min\n",
      "[CV]  estimator__max_depth=5, estimator__n_estimators=120, score=-19.067521078163775, total= 3.8min\n",
      "[CV]  estimator__max_depth=6, estimator__n_estimators=100, score=-0.5849357575492716, total= 3.7min\n",
      "[CV]  estimator__max_depth=6, estimator__n_estimators=100, score=-19.07720472355823, total= 3.7min\n",
      "[CV]  estimator__max_depth=6, estimator__n_estimators=100, score=-0.019800656608112636, total= 3.8min\n"
     ]
    },
    {
     "name": "stderr",
     "output_type": "stream",
     "text": [
      "[Parallel(n_jobs=-1)]: Done  42 out of  45 | elapsed:  6.0min remaining:   25.9s\n"
     ]
    },
    {
     "name": "stdout",
     "output_type": "stream",
     "text": [
      "[CV]  estimator__max_depth=6, estimator__n_estimators=120, score=-0.019768885704422298, total= 4.1min\n",
      "[CV]  estimator__max_depth=6, estimator__n_estimators=120, score=-0.5842651564519346, total= 4.1min\n",
      "[CV]  estimator__max_depth=6, estimator__n_estimators=120, score=-19.069939379101157, total= 4.2min\n"
     ]
    },
    {
     "name": "stderr",
     "output_type": "stream",
     "text": [
      "[Parallel(n_jobs=-1)]: Done  45 out of  45 | elapsed:  6.9min finished\n"
     ]
    },
    {
     "name": "stdout",
     "output_type": "stream",
     "text": [
      "  Best training score: 0.8586164626781386\n",
      "  Best testing score:  2.4388255310037446\n",
      "Best Grid Search model: {'estimator__max_depth': 3, 'estimator__n_estimators': 80}\n",
      "mean_squared_error: 2.4388255310037446\n"
     ]
    },
    {
     "data": {
      "image/png": "[encoded data removed]",
      "text/plain": [
       "<Figure size 720x576 with 1 Axes>"
      ]
     },
     "metadata": {},
     "output_type": "display_data"
    }
   ],
   "source": [
    "model = MultiOutputRegressor(RandomForestRegressor())\n",
    "y_test_dow, y_pred_dow, rpd_dow = get_predictions(X_train, y_train, X_test, y_test, \n",
    "                                                  'day of week for each month', 'risk * 1000', model)"
   ]
  },
  {
   "cell_type": "markdown",
   "metadata": {},
   "source": [
    "## Day of month analysis for each month of each block id"
   ]
  },
  {
   "cell_type": "code",
   "execution_count": 13,
   "metadata": {},
   "outputs": [
    {
     "name": "stdout",
     "output_type": "stream",
     "text": [
      "(801, 24, 31) (801, 12, 31) (801, 24, 31) (801, 12, 31)\n",
      "Number of data points: 297972\n",
      "Number of non-zero elements: 143233\n",
      "Percentage of non-zero elements: 0.4806928167747305\n"
     ]
    },
    {
     "data": {
      "image/png": "[encoded data removed]",
      "text/plain": [
       "<Figure size 432x288 with 1 Axes>"
      ]
     },
     "metadata": {},
     "output_type": "display_data"
    },
    {
     "name": "stdout",
     "output_type": "stream",
     "text": [
      "Correlation between y_train and y_test:\n",
      " [[1.         0.00159228]\n",
      " [0.00159228 1.        ]]\n",
      "y_test shape after reshaping: (801, 372)\n",
      "Fitting 3 folds for each of 15 candidates, totalling 45 fits\n",
      "[CV] estimator__max_depth=2, estimator__n_estimators=80 ..............\n",
      "[CV] estimator__max_depth=2, estimator__n_estimators=80 ..............\n",
      "[CV] estimator__max_depth=2, estimator__n_estimators=80 ..............\n",
      "[CV] estimator__max_depth=2, estimator__n_estimators=100 .............\n",
      "[CV] estimator__max_depth=2, estimator__n_estimators=100 .............\n",
      "[CV] estimator__max_depth=2, estimator__n_estimators=100 .............\n",
      "[CV] estimator__max_depth=2, estimator__n_estimators=120 .............\n",
      "[CV] estimator__max_depth=3, estimator__n_estimators=80 ..............\n",
      "[CV] estimator__max_depth=2, estimator__n_estimators=120 .............\n",
      "[CV] estimator__max_depth=3, estimator__n_estimators=80 ..............\n",
      "[CV] estimator__max_depth=2, estimator__n_estimators=120 .............\n",
      "[CV] estimator__max_depth=3, estimator__n_estimators=80 ..............\n",
      "[CV] estimator__max_depth=3, estimator__n_estimators=100 .............\n",
      "[CV] estimator__max_depth=3, estimator__n_estimators=100 .............\n",
      "[CV] estimator__max_depth=3, estimator__n_estimators=100 .............\n",
      "[CV] estimator__max_depth=3, estimator__n_estimators=120 .............\n",
      "[CV] estimator__max_depth=3, estimator__n_estimators=120 .............\n",
      "[CV] estimator__max_depth=3, estimator__n_estimators=120 .............\n",
      "[CV] estimator__max_depth=4, estimator__n_estimators=80 ..............\n",
      "[CV] estimator__max_depth=4, estimator__n_estimators=80 ..............\n",
      "[CV] estimator__max_depth=4, estimator__n_estimators=80 ..............\n",
      "[CV] estimator__max_depth=4, estimator__n_estimators=100 .............\n",
      "[CV] estimator__max_depth=4, estimator__n_estimators=100 .............\n",
      "[CV] estimator__max_depth=4, estimator__n_estimators=100 .............\n",
      "[CV] estimator__max_depth=4, estimator__n_estimators=120 .............\n",
      "[CV] estimator__max_depth=4, estimator__n_estimators=120 .............\n",
      "[CV] estimator__max_depth=4, estimator__n_estimators=120 .............\n",
      "[CV] estimator__max_depth=5, estimator__n_estimators=80 ..............\n",
      "[CV] estimator__max_depth=5, estimator__n_estimators=80 ..............\n",
      "[CV] estimator__max_depth=5, estimator__n_estimators=80 ..............\n",
      "[CV] estimator__max_depth=5, estimator__n_estimators=100 .............\n",
      "[CV] estimator__max_depth=5, estimator__n_estimators=100 .............\n",
      "[CV]  estimator__max_depth=2, estimator__n_estimators=80, score=-0.18858857457566355, total=17.4min\n",
      "[CV] estimator__max_depth=5, estimator__n_estimators=100 .............\n",
      "[CV]  estimator__max_depth=2, estimator__n_estimators=80, score=-0.02420963369072284, total=17.5min\n",
      "[CV] estimator__max_depth=5, estimator__n_estimators=120 .............\n"
     ]
    },
    {
     "name": "stderr",
     "output_type": "stream",
     "text": [
      "[Parallel(n_jobs=-1)]: Done   2 out of  45 | elapsed: 17.6min remaining: 377.7min\n"
     ]
    },
    {
     "name": "stdout",
     "output_type": "stream",
     "text": [
      "[CV]  estimator__max_depth=2, estimator__n_estimators=80, score=-4.60957903868232, total=17.8min\n",
      "[CV] estimator__max_depth=5, estimator__n_estimators=120 .............\n",
      "[CV]  estimator__max_depth=2, estimator__n_estimators=100, score=-0.18872646064792667, total=21.7min\n",
      "[CV] estimator__max_depth=5, estimator__n_estimators=120 .............\n",
      "[CV]  estimator__max_depth=2, estimator__n_estimators=100, score=-0.0242047341415397, total=22.0min\n",
      "[CV] estimator__max_depth=6, estimator__n_estimators=80 ..............\n",
      "[CV]  estimator__max_depth=2, estimator__n_estimators=100, score=-4.609644876027849, total=22.2min\n",
      "[CV] estimator__max_depth=6, estimator__n_estimators=80 ..............\n",
      "[CV]  estimator__max_depth=3, estimator__n_estimators=80, score=-0.1880062582662058, total=25.4min\n",
      "[CV] estimator__max_depth=6, estimator__n_estimators=80 ..............\n"
     ]
    },
    {
     "name": "stderr",
     "output_type": "stream",
     "text": [
      "[Parallel(n_jobs=-1)]: Done   7 out of  45 | elapsed: 25.5min remaining: 138.2min\n"
     ]
    },
    {
     "name": "stdout",
     "output_type": "stream",
     "text": [
      "[CV]  estimator__max_depth=3, estimator__n_estimators=80, score=-0.023472772951000052, total=25.7min\n",
      "[CV] estimator__max_depth=6, estimator__n_estimators=100 .............\n",
      "[CV]  estimator__max_depth=2, estimator__n_estimators=120, score=-0.18861814540172425, total=26.1min\n",
      "[CV] estimator__max_depth=6, estimator__n_estimators=100 .............\n",
      "[CV]  estimator__max_depth=3, estimator__n_estimators=80, score=-4.609253962653992, total=26.1min\n",
      "[CV] estimator__max_depth=6, estimator__n_estimators=100 .............\n",
      "[CV]  estimator__max_depth=2, estimator__n_estimators=120, score=-0.024164378021225855, total=26.3min\n",
      "[CV] estimator__max_depth=6, estimator__n_estimators=120 .............\n",
      "[CV]  estimator__max_depth=2, estimator__n_estimators=120, score=-4.609744309516481, total=26.7min\n",
      "[CV] estimator__max_depth=6, estimator__n_estimators=120 .............\n"
     ]
    },
    {
     "name": "stderr",
     "output_type": "stream",
     "text": [
      "[Parallel(n_jobs=-1)]: Done  12 out of  45 | elapsed: 26.8min remaining: 73.6min\n"
     ]
    },
    {
     "name": "stdout",
     "output_type": "stream",
     "text": [
      "[CV]  estimator__max_depth=3, estimator__n_estimators=100, score=-0.18813265425685607, total=31.7min\n",
      "[CV] estimator__max_depth=6, estimator__n_estimators=120 .............\n",
      "[CV]  estimator__max_depth=3, estimator__n_estimators=100, score=-0.023481093785642275, total=32.0min\n",
      "[CV]  estimator__max_depth=3, estimator__n_estimators=100, score=-4.609320787271703, total=32.6min\n",
      "[CV]  estimator__max_depth=4, estimator__n_estimators=80, score=-0.18768785289343637, total=33.2min\n",
      "[CV]  estimator__max_depth=4, estimator__n_estimators=80, score=-0.023042836193535508, total=33.4min\n"
     ]
    },
    {
     "name": "stderr",
     "output_type": "stream",
     "text": [
      "[Parallel(n_jobs=-1)]: Done  17 out of  45 | elapsed: 33.5min remaining: 55.1min\n"
     ]
    },
    {
     "name": "stdout",
     "output_type": "stream",
     "text": [
      "[CV]  estimator__max_depth=4, estimator__n_estimators=80, score=-4.609300472453495, total=34.0min\n",
      "[CV]  estimator__max_depth=3, estimator__n_estimators=120, score=-4.609458600726671, total=37.3min\n",
      "[CV]  estimator__max_depth=3, estimator__n_estimators=120, score=-0.023441294821370976, total=37.9min\n",
      "[CV]  estimator__max_depth=3, estimator__n_estimators=120, score=-0.1879973484322676, total=38.2min\n",
      "[CV]  estimator__max_depth=4, estimator__n_estimators=100, score=-0.18780106897849336, total=38.8min\n"
     ]
    },
    {
     "name": "stderr",
     "output_type": "stream",
     "text": [
      "[Parallel(n_jobs=-1)]: Done  22 out of  45 | elapsed: 38.8min remaining: 40.6min\n"
     ]
    },
    {
     "name": "stdout",
     "output_type": "stream",
     "text": [
      "[CV]  estimator__max_depth=5, estimator__n_estimators=80, score=-0.18759140114384493, total=39.6min\n",
      "[CV]  estimator__max_depth=5, estimator__n_estimators=80, score=-4.60948057913584, total=40.8min\n",
      "[CV]  estimator__max_depth=4, estimator__n_estimators=100, score=-0.023049169042633353, total=40.8min\n",
      "[CV]  estimator__max_depth=5, estimator__n_estimators=80, score=-0.02277820122237594, total=41.0min\n",
      "[CV]  estimator__max_depth=4, estimator__n_estimators=100, score=-4.609283341747443, total=41.9min\n"
     ]
    },
    {
     "name": "stderr",
     "output_type": "stream",
     "text": [
      "[Parallel(n_jobs=-1)]: Done  27 out of  45 | elapsed: 42.0min remaining: 28.0min\n"
     ]
    },
    {
     "name": "stdout",
     "output_type": "stream",
     "text": [
      "[CV]  estimator__max_depth=4, estimator__n_estimators=120, score=-0.18769035843839532, total=44.3min\n",
      "[CV]  estimator__max_depth=4, estimator__n_estimators=120, score=-0.02298978108037601, total=46.5min\n",
      "[CV]  estimator__max_depth=5, estimator__n_estimators=100, score=-0.1876567357816432, total=46.6min\n",
      "[CV]  estimator__max_depth=5, estimator__n_estimators=100, score=-0.02276358956947374, total=47.7min\n",
      "[CV]  estimator__max_depth=4, estimator__n_estimators=120, score=-4.609461544662837, total=47.9min\n"
     ]
    },
    {
     "name": "stderr",
     "output_type": "stream",
     "text": [
      "[Parallel(n_jobs=-1)]: Done  32 out of  45 | elapsed: 48.0min remaining: 19.5min\n"
     ]
    },
    {
     "name": "stdout",
     "output_type": "stream",
     "text": [
      "[CV]  estimator__max_depth=5, estimator__n_estimators=100, score=-4.609549360339704, total=42.2min\n",
      "[CV]  estimator__max_depth=6, estimator__n_estimators=80, score=-0.022634232945168947, total=37.6min\n",
      "[CV]  estimator__max_depth=6, estimator__n_estimators=80, score=-0.18762342428938733, total=37.4min\n",
      "[CV]  estimator__max_depth=6, estimator__n_estimators=80, score=-4.610050789007222, total=37.3min\n",
      "[CV]  estimator__max_depth=5, estimator__n_estimators=120, score=-0.022743394722761375, total=47.4min\n"
     ]
    },
    {
     "name": "stderr",
     "output_type": "stream",
     "text": [
      "[Parallel(n_jobs=-1)]: Done  37 out of  45 | elapsed: 65.0min remaining: 14.1min\n"
     ]
    },
    {
     "name": "stdout",
     "output_type": "stream",
     "text": [
      "[CV]  estimator__max_depth=5, estimator__n_estimators=120, score=-0.18766167382571083, total=47.1min\n",
      "[CV]  estimator__max_depth=6, estimator__n_estimators=100, score=-0.18758578510922835, total=42.3min\n",
      "[CV]  estimator__max_depth=5, estimator__n_estimators=120, score=-4.60913781398346, total=48.6min\n",
      "[CV]  estimator__max_depth=6, estimator__n_estimators=100, score=-4.609808093104887, total=45.0min\n",
      "[CV]  estimator__max_depth=6, estimator__n_estimators=100, score=-0.022631833588857574, total=46.6min\n"
     ]
    },
    {
     "name": "stderr",
     "output_type": "stream",
     "text": [
      "[Parallel(n_jobs=-1)]: Done  42 out of  45 | elapsed: 72.5min remaining:  5.2min\n"
     ]
    },
    {
     "name": "stdout",
     "output_type": "stream",
     "text": [
      "[CV]  estimator__max_depth=6, estimator__n_estimators=120, score=-0.022532603807089456, total=50.2min\n",
      "[CV]  estimator__max_depth=6, estimator__n_estimators=120, score=-0.1876101838050203, total=53.4min\n",
      "[CV]  estimator__max_depth=6, estimator__n_estimators=120, score=-4.609467545540371, total=50.1min\n"
     ]
    },
    {
     "name": "stderr",
     "output_type": "stream",
     "text": [
      "[Parallel(n_jobs=-1)]: Done  45 out of  45 | elapsed: 82.0min finished\n"
     ]
    },
    {
     "name": "stdout",
     "output_type": "stream",
     "text": [
      "  Best training score: 0.18058687473451937\n",
      "  Best testing score:  0.5714548466194138\n",
      "Best Grid Search model: {'estimator__max_depth': 5, 'estimator__n_estimators': 120}\n",
      "mean_squared_error: 0.5714548466194138\n"
     ]
    },
    {
     "data": {
      "image/png": "[encoded data removed]",
      "text/plain": [
       "<Figure size 720x576 with 1 Axes>"
      ]
     },
     "metadata": {},
     "output_type": "display_data"
    },
    {
     "name": "stderr",
     "output_type": "stream",
     "text": [
      "/home/ec2-user/anaconda3/envs/tensorflow_p36/lib/python3.6/site-packages/ipykernel/__main__.py:64: RuntimeWarning: invalid value encountered in true_divide\n"
     ]
    }
   ],
   "source": [
    "X_train, X_test, y_train, y_test = ready_data(2015, 2017, train_blockid_dict,\n",
    "                                              X_test_start_year, X_test_end_year, test_blockid_dict,\n",
    "                                              DAY_OF_MONTH)\n",
    "\n",
    "print(X_train.shape, y_train.shape, X_test.shape, y_test.shape)\n",
    "\n",
    "model = MultiOutputRegressor(RandomForestRegressor())\n",
    "y_test_dom, y_pred_dom, rpd_dom = get_predictions(X_train, y_train, X_test, y_test, \n",
    "                                                  'day of month for each month', 'risk * 1000', model)"
   ]
  },
  {
   "cell_type": "markdown",
   "metadata": {},
   "source": [
    "## Hour of day analysis for each month of each block id"
   ]
  },
  {
   "cell_type": "code",
   "execution_count": null,
   "metadata": {},
   "outputs": [
    {
     "name": "stdout",
     "output_type": "stream",
     "text": [
      "(801, 24, 24) (801, 12, 24) (801, 24, 24) (801, 12, 24)\n",
      "Number of data points: 230688\n",
      "Number of non-zero elements: 125060\n",
      "Percentage of non-zero elements: 0.5421174920238591\n"
     ]
    },
    {
     "data": {
      "image/png": "[encoded data removed]",
      "text/plain": [
       "<Figure size 432x288 with 1 Axes>"
      ]
     },
     "metadata": {},
     "output_type": "display_data"
    },
    {
     "name": "stdout",
     "output_type": "stream",
     "text": [
      "Correlation between y_train and y_test:\n",
      " [[1.         0.00140433]\n",
      " [0.00140433 1.        ]]\n",
      "y_test shape after reshaping: (801, 288)\n",
      "Fitting 3 folds for each of 15 candidates, totalling 45 fits\n",
      "[CV] estimator__max_depth=2, estimator__n_estimators=80 ..............\n",
      "[CV] estimator__max_depth=2, estimator__n_estimators=80 ..............\n",
      "[CV] estimator__max_depth=2, estimator__n_estimators=80 ..............\n",
      "[CV] estimator__max_depth=2, estimator__n_estimators=100 .............\n",
      "[CV] estimator__max_depth=2, estimator__n_estimators=100 .............\n",
      "[CV] estimator__max_depth=2, estimator__n_estimators=100 .............\n",
      "[CV] estimator__max_depth=3, estimator__n_estimators=80 ..............\n",
      "[CV] estimator__max_depth=2, estimator__n_estimators=120 .............\n",
      "[CV] estimator__max_depth=2, estimator__n_estimators=120 .............\n",
      "[CV] estimator__max_depth=3, estimator__n_estimators=80 ..............\n",
      "[CV] estimator__max_depth=3, estimator__n_estimators=80 ..............\n",
      "[CV] estimator__max_depth=2, estimator__n_estimators=120 .............\n",
      "[CV] estimator__max_depth=3, estimator__n_estimators=100 .............\n",
      "[CV] estimator__max_depth=3, estimator__n_estimators=100 .............\n",
      "[CV] estimator__max_depth=3, estimator__n_estimators=100 .............\n",
      "[CV] estimator__max_depth=3, estimator__n_estimators=120 .............\n",
      "[CV] estimator__max_depth=3, estimator__n_estimators=120 .............\n",
      "[CV] estimator__max_depth=3, estimator__n_estimators=120 .............\n",
      "[CV] estimator__max_depth=4, estimator__n_estimators=80 ..............\n",
      "[CV] estimator__max_depth=4, estimator__n_estimators=80 ..............\n",
      "[CV] estimator__max_depth=4, estimator__n_estimators=80 ..............\n",
      "[CV] estimator__max_depth=4, estimator__n_estimators=100 .............\n",
      "[CV] estimator__max_depth=4, estimator__n_estimators=100 .............\n",
      "[CV] estimator__max_depth=4, estimator__n_estimators=100 .............\n",
      "[CV] estimator__max_depth=4, estimator__n_estimators=120 .............\n",
      "[CV] estimator__max_depth=4, estimator__n_estimators=120 .............\n",
      "[CV] estimator__max_depth=4, estimator__n_estimators=120 .............\n",
      "[CV] estimator__max_depth=5, estimator__n_estimators=80 ..............\n",
      "[CV] estimator__max_depth=5, estimator__n_estimators=80 ..............\n",
      "[CV] estimator__max_depth=5, estimator__n_estimators=80 ..............\n",
      "[CV] estimator__max_depth=5, estimator__n_estimators=100 .............\n",
      "[CV] estimator__max_depth=5, estimator__n_estimators=100 .............\n",
      "[CV]  estimator__max_depth=2, estimator__n_estimators=80, score=-0.23435876334041394, total=11.7min\n",
      "[CV] estimator__max_depth=5, estimator__n_estimators=100 .............\n",
      "[CV]  estimator__max_depth=2, estimator__n_estimators=80, score=-0.02468879609145551, total=11.8min\n",
      "[CV] estimator__max_depth=5, estimator__n_estimators=120 .............\n"
     ]
    },
    {
     "name": "stderr",
     "output_type": "stream",
     "text": [
      "[Parallel(n_jobs=-1)]: Done   2 out of  45 | elapsed: 11.8min remaining: 254.4min\n"
     ]
    },
    {
     "name": "stdout",
     "output_type": "stream",
     "text": [
      "[CV]  estimator__max_depth=2, estimator__n_estimators=80, score=-5.583923896846447, total=11.9min\n",
      "[CV] estimator__max_depth=5, estimator__n_estimators=120 .............\n",
      "[CV]  estimator__max_depth=2, estimator__n_estimators=100, score=-0.2344227742574663, total=14.6min\n",
      "[CV] estimator__max_depth=5, estimator__n_estimators=120 .............\n",
      "[CV]  estimator__max_depth=2, estimator__n_estimators=100, score=-0.02465416830818407, total=14.7min\n",
      "[CV] estimator__max_depth=6, estimator__n_estimators=80 ..............\n",
      "[CV]  estimator__max_depth=2, estimator__n_estimators=100, score=-5.584059646349526, total=14.9min\n",
      "[CV] estimator__max_depth=6, estimator__n_estimators=80 ..............\n",
      "[CV]  estimator__max_depth=3, estimator__n_estimators=80, score=-0.23369523741796883, total=17.1min\n",
      "[CV] estimator__max_depth=6, estimator__n_estimators=80 ..............\n"
     ]
    },
    {
     "name": "stderr",
     "output_type": "stream",
     "text": [
      "[Parallel(n_jobs=-1)]: Done   7 out of  45 | elapsed: 17.1min remaining: 93.1min\n"
     ]
    },
    {
     "name": "stdout",
     "output_type": "stream",
     "text": [
      "[CV]  estimator__max_depth=3, estimator__n_estimators=80, score=-0.023791457346282484, total=17.3min\n",
      "[CV] estimator__max_depth=6, estimator__n_estimators=100 .............\n",
      "[CV]  estimator__max_depth=3, estimator__n_estimators=80, score=-5.583639364790049, total=17.4min\n",
      "[CV] estimator__max_depth=6, estimator__n_estimators=100 .............\n",
      "[CV]  estimator__max_depth=2, estimator__n_estimators=120, score=-0.23446211678804088, total=17.6min\n",
      "[CV] estimator__max_depth=6, estimator__n_estimators=100 .............\n",
      "[CV]  estimator__max_depth=2, estimator__n_estimators=120, score=-0.02465760464534875, total=17.7min\n",
      "[CV] estimator__max_depth=6, estimator__n_estimators=120 .............\n",
      "[CV]  estimator__max_depth=2, estimator__n_estimators=120, score=-5.584631720637123, total=17.9min\n",
      "[CV] estimator__max_depth=6, estimator__n_estimators=120 .............\n"
     ]
    },
    {
     "name": "stderr",
     "output_type": "stream",
     "text": [
      "[Parallel(n_jobs=-1)]: Done  12 out of  45 | elapsed: 18.0min remaining: 49.4min\n"
     ]
    },
    {
     "name": "stdout",
     "output_type": "stream",
     "text": [
      "[CV]  estimator__max_depth=3, estimator__n_estimators=100, score=-0.23375932601571053, total=21.3min\n",
      "[CV] estimator__max_depth=6, estimator__n_estimators=120 .............\n",
      "[CV]  estimator__max_depth=3, estimator__n_estimators=100, score=-0.023730334158435267, total=21.4min\n",
      "[CV]  estimator__max_depth=3, estimator__n_estimators=100, score=-5.583873655458586, total=21.7min\n",
      "[CV]  estimator__max_depth=4, estimator__n_estimators=80, score=-0.2335020419091599, total=22.2min\n",
      "[CV]  estimator__max_depth=4, estimator__n_estimators=80, score=-0.02332736815914562, total=22.5min\n"
     ]
    },
    {
     "name": "stderr",
     "output_type": "stream",
     "text": [
      "[Parallel(n_jobs=-1)]: Done  17 out of  45 | elapsed: 22.6min remaining: 37.2min\n"
     ]
    },
    {
     "name": "stdout",
     "output_type": "stream",
     "text": [
      "[CV]  estimator__max_depth=4, estimator__n_estimators=80, score=-5.583965637109299, total=22.8min\n",
      "[CV]  estimator__max_depth=5, estimator__n_estimators=80, score=-0.2333941418165503, total=25.5min\n",
      "[CV]  estimator__max_depth=3, estimator__n_estimators=120, score=-0.2337882760376298, total=25.6min\n",
      "[CV]  estimator__max_depth=3, estimator__n_estimators=120, score=-0.023751562898074514, total=25.7min\n",
      "[CV]  estimator__max_depth=5, estimator__n_estimators=80, score=-0.023046120646442916, total=25.8min\n"
     ]
    },
    {
     "name": "stderr",
     "output_type": "stream",
     "text": [
      "[Parallel(n_jobs=-1)]: Done  22 out of  45 | elapsed: 25.9min remaining: 27.1min\n"
     ]
    },
    {
     "name": "stdout",
     "output_type": "stream",
     "text": [
      "[CV]  estimator__max_depth=3, estimator__n_estimators=120, score=-5.584425732228096, total=26.1min\n",
      "[CV]  estimator__max_depth=4, estimator__n_estimators=100, score=-0.23357210723509703, total=27.2min\n",
      "[CV]  estimator__max_depth=4, estimator__n_estimators=100, score=-5.584170958830449, total=27.4min\n",
      "[CV]  estimator__max_depth=5, estimator__n_estimators=80, score=-5.584529984852913, total=27.5min\n",
      "[CV]  estimator__max_depth=4, estimator__n_estimators=100, score=-0.023247728355307015, total=27.9min\n"
     ]
    },
    {
     "name": "stderr",
     "output_type": "stream",
     "text": [
      "[Parallel(n_jobs=-1)]: Done  27 out of  45 | elapsed: 28.0min remaining: 18.7min\n"
     ]
    },
    {
     "name": "stdout",
     "output_type": "stream",
     "text": [
      "[CV]  estimator__max_depth=5, estimator__n_estimators=100, score=-0.2335133915571902, total=31.1min\n",
      "[CV]  estimator__max_depth=4, estimator__n_estimators=120, score=-5.58474471168536, total=31.2min\n",
      "[CV]  estimator__max_depth=4, estimator__n_estimators=120, score=-0.23355497021536692, total=32.6min\n",
      "[CV]  estimator__max_depth=4, estimator__n_estimators=120, score=-0.023249897980792657, total=32.8min\n",
      "[CV]  estimator__max_depth=5, estimator__n_estimators=100, score=-0.022943105702263034, total=33.3min\n"
     ]
    },
    {
     "name": "stderr",
     "output_type": "stream",
     "text": [
      "[Parallel(n_jobs=-1)]: Done  32 out of  45 | elapsed: 33.4min remaining: 13.6min\n"
     ]
    }
   ],
   "source": [
    "X_train, X_test, y_train, y_test = ready_data(2015, 2017, train_blockid_dict,\n",
    "                                              X_test_start_year, X_test_end_year, test_blockid_dict,\n",
    "                                              HOUR_OF_DAY)\n",
    "\n",
    "print(X_train.shape, y_train.shape, X_test.shape, y_test.shape)\n",
    "\n",
    "model = MultiOutputRegressor(RandomForestRegressor())\n",
    "y_test_hod, y_pred_hod, rpd_hod = get_predictions(X_train, y_train, X_test, y_test, \n",
    "                                                  'hour of day for each month', 'risk * 1000', model)"
   ]
  },
  {
   "cell_type": "markdown",
   "metadata": {},
   "source": [
    "## Weigh and combine predictions into one array"
   ]
  },
  {
   "cell_type": "code",
   "execution_count": null,
   "metadata": {},
   "outputs": [],
   "source": [
    "NUM_BLOCKIDS       = 801\n",
    "NUM_MONTHS_IN_YEAR = 12\n",
    "NUM_DAYS_IN_WEEK   = 7\n",
    "NUM_HOURS_IN_DAY   = 24\n",
    "\n",
    "risks = np.zeros((NUM_BLOCKIDS, NUM_MONTHS_IN_YEAR, NUM_DAYS_IN_WEEK * NUM_HOURS_IN_DAY))\n",
    "\n",
    "# This is necessary, since we want low values of relative percent difference\n",
    "# to be weighed higher\n",
    "rpd_dow = 1/rpd_dow\n",
    "rpd_dom = 1/rpd_dom\n",
    "rpd_hod = 1/rpd_hod\n",
    "\n",
    "# Each of the relative percent difference arrays can contain NaN's.\n",
    "# This is because if both y_pred and y_true were zeros, their\n",
    "# addition is also zero, and we cannot divide by this zero.\n",
    "# Here we replace NaN's to get around that issue.\n",
    "# Since we want to have the highest weight to those values that\n",
    "# have the same y_pred and y_true, we will give the largest value\n",
    "# from our array to these NaNs.\n",
    "\n",
    "def replace_nans(a):\n",
    "    b = a.copy()\n",
    "    for row in range(a.shape[0]):\n",
    "        max_of_row = np.max(row)\n",
    "        for col in range(a.shape[1]):\n",
    "            if np.isnan(a[row][col]):\n",
    "                b[row][col] = max_of_row\n",
    "    return b\n",
    "\n",
    "rpd_dow = replace_nans(rpd_dow)\n",
    "rpd_dom = replace_nans(rpd_dom)\n",
    "rpd_hod = replace_nans(rpd_hod)\n",
    "\n",
    "print('Number of nans after replacement:', np.isnan(rpd_dow).sum())\n",
    "\n",
    "# Returns number of days in a month\n",
    "def days_in_month(year, month):\n",
    "    p = pd.Period(f'{year}-{month}-1')\n",
    "    return p.days_in_month\n",
    "\n",
    "# Day of week returns 0-based day value\n",
    "def day_of_week(dt):\n",
    "    return dt.weekday()\n",
    "\n",
    "end_year = X_test_end_year\n",
    "\n",
    "for blockid in range(NUM_BLOCKIDS):\n",
    "    for month in range(1, NUM_MONTHS_IN_YEAR + 1):\n",
    "        \n",
    "        count = np.zeros(NUM_DAYS_IN_WEEK * NUM_HOURS_IN_DAY)\n",
    "        for day in range(1, days_in_month(end_year, month) + 1):\n",
    "            for hour in range(24):\n",
    "                dow  = day_of_week(datetime(end_year, month, day))\n",
    "\n",
    "                weight_dow = rpd_dow[blockid, (month - 1)*dow]\n",
    "                weight_dom = rpd_dom[blockid, (month - 1)*(day - 1)]\n",
    "                weight_hod = rpd_hod[blockid, (month - 1)*hour]\n",
    "                weight_sum = weight_dow + weight_dom + weight_hod\n",
    "\n",
    "                risks[blockid, month-1, dow * hour] += \\\n",
    "                    (y_pred_dow[blockid, (month - 1)*dow] * weight_dow +\n",
    "                     y_pred_dom[blockid, (month - 1)*(day - 1)] * weight_dom +\n",
    "                     y_pred_hod[blockid, (month - 1)*hour] * weight_hod) / weight_sum\n",
    "                count[dow * hour] += 1\n",
    "        risks[blockid, month-1, dow * hour] /= count[dow * hour]"
   ]
  },
  {
   "cell_type": "code",
   "execution_count": null,
   "metadata": {},
   "outputs": [],
   "source": [
    "a = pd.Series(risks.flatten())\n",
    "a.hist(bins=np.arange(0.0, 3.5, 0.05));"
   ]
  },
  {
   "cell_type": "code",
   "execution_count": null,
   "metadata": {},
   "outputs": [],
   "source": [
    "a.value_counts(normalize=True)"
   ]
  },
  {
   "cell_type": "code",
   "execution_count": null,
   "metadata": {},
   "outputs": [],
   "source": [
    "a = pd.Series(risks.flatten()).apply(lambda x: np.power(x, 0.1))\n",
    "a.hist()  # (bins=np.arange(0.0, 3.5, 0.05));"
   ]
  },
  {
   "cell_type": "code",
   "execution_count": null,
   "metadata": {},
   "outputs": [],
   "source": [
    "per_block = risks.reshape((NUM_BLOCKIDS, NUM_MONTHS_IN_YEAR * NUM_DAYS_IN_WEEK * NUM_HOURS_IN_DAY))"
   ]
  },
  {
   "cell_type": "markdown",
   "metadata": {},
   "source": [
    "## Store predictions in DB"
   ]
  },
  {
   "cell_type": "code",
   "execution_count": null,
   "metadata": {},
   "outputs": [],
   "source": [
    "from decouple import config\n",
    "\n",
    "def store_predictions_in_db(y_pred):\n",
    "    \n",
    "    DB_URI_WRITE  = config('DB_URI_WRITE')\n",
    "\n",
    "    # Put predictions into pandas DataFrame with corresponding block id\n",
    "    predictions = pd.DataFrame([[x] for x in pred_blockid_dict.keys()], columns=[\"id\"])\n",
    "\n",
    "    predictions.loc[:, \"prediction\"] = predictions[\"id\"].apply(lambda x: y_pred[pred_blockid_dict[x],:,:].astype(np.float64).tobytes().hex())\n",
    "    predictions.loc[:, \"month\"] = 0\n",
    "    predictions.loc[:, \"year\"] = 2019\n",
    "    predictions.to_csv(\"predictions.csv\", index=False)\n",
    "\n",
    "    # Query SQL\n",
    "    query_commit_predictions = \"\"\"\n",
    "    CREATE TEMPORARY TABLE temp_predictions (\n",
    "        id SERIAL PRIMARY KEY,\n",
    "        prediction TEXT,\n",
    "        month INTEGER,\n",
    "        year INTEGER\n",
    "    );\n",
    "\n",
    "    COPY temp_predictions (id, prediction, month, year) FROM STDIN DELIMITER ',' CSV HEADER;\n",
    "\n",
    "    UPDATE block\n",
    "    SET \n",
    "        prediction = DECODE(temp_predictions.prediction, 'hex'),\n",
    "        month = temp_predictions.month,\n",
    "        year = temp_predictions.year \n",
    "    FROM temp_predictions\n",
    "    WHERE block.id = temp_predictions.id;\n",
    "\n",
    "    DROP TABLE temp_predictions;\n",
    "    \"\"\"\n",
    "\n",
    "    # Open saved predictions and send to database using above query\n",
    "    with open(\"predictions.csv\", \"r\") as f:\n",
    "        print(\"SENDING TO DB\")\n",
    "        RAW_CONN = create_engine(DB_URI_WRITE).raw_connection()\n",
    "        cursor = RAW_CONN.cursor()\n",
    "        cursor.copy_expert(query_commit_predictions, f)\n",
    "        RAW_CONN.commit()\n",
    "        RAW_CONN.close()\n",
    "\n",
    "    for r in SESSION.execute(\"SELECT ENCODE(prediction::BYTEA, 'hex'), id FROM block WHERE prediction IS NOT NULL LIMIT 5;\").fetchall():\n",
    "        print(np.frombuffer(bytes.fromhex(r[0]), dtype=np.float64).reshape((12,7,24)))\n",
    "        print(y_pred[pred_blockid_dict[int(r[1])], :].reshape((12,7,24)))"
   ]
  },
  {
   "cell_type": "code",
   "execution_count": null,
   "metadata": {},
   "outputs": [],
   "source": [
    "# store_predictions_in_db(risks)"
   ]
  },
  {
   "cell_type": "code",
   "execution_count": null,
   "metadata": {},
   "outputs": [],
   "source": [
    "y = risks[82]\n",
    "fig = plt.figure(figsize=(10, 8))\n",
    "plt.plot(np.arange(len(y.flatten())),\n",
    "             y.flatten(), color='blue');\n",
    "plt.show()"
   ]
  },
  {
   "cell_type": "code",
   "execution_count": null,
   "metadata": {},
   "outputs": [],
   "source": []
  },
  {
   "cell_type": "code",
   "execution_count": null,
   "metadata": {},
   "outputs": [],
   "source": [
    "y = rpd_dow[82].flatten()\n",
    "fig = plt.figure(figsize=(10, 8))\n",
    "plt.plot(np.arange(len(y.flatten())),\n",
    "             y.flatten(), color='blue');\n",
    "plt.xticks(np.arange(0,84,7))\n",
    "plt.grid(True)\n",
    "plt.show()"
   ]
  },
  {
   "cell_type": "code",
   "execution_count": null,
   "metadata": {},
   "outputs": [],
   "source": [
    "y = y_test[82].flatten()\n",
    "fig = plt.figure(figsize=(10, 8))\n",
    "plt.plot(np.arange(len(y.flatten())),\n",
    "             y.flatten(), color='blue');\n",
    "plt.xticks(np.arange(0,84,7))\n",
    "plt.grid(True)\n",
    "plt.show()"
   ]
  },
  {
   "cell_type": "code",
   "execution_count": null,
   "metadata": {},
   "outputs": [],
   "source": [
    "y = y_test[0].flatten()\n",
    "fig = plt.figure(figsize=(10, 8))\n",
    "plt.plot(np.arange(len(y.flatten())),\n",
    "             y.flatten(), color='blue');\n",
    "plt.xticks(np.arange(0,84,7))\n",
    "plt.grid(True)\n",
    "plt.show()"
   ]
  },
  {
   "cell_type": "code",
   "execution_count": null,
   "metadata": {},
   "outputs": [],
   "source": [
    "y = y_pred_dom[0].flatten()\n",
    "df_y = pd.DataFrame(y)\n",
    "df_y['ma'] = df_y.rolling(window=30).mean()\n",
    "\n",
    "fig = plt.figure(figsize=(10, 8))\n",
    "plt.plot(np.arange(len(y.flatten())),\n",
    "             y.flatten(), color='blue');\n",
    "plt.plot(np.arange(df_y['ma'].shape[0]),\n",
    "             df_y['ma'], color='red');\n",
    "plt.xticks(np.arange(0,372, 30))\n",
    "plt.grid(True)\n",
    "plt.show()"
   ]
  },
  {
   "cell_type": "code",
   "execution_count": null,
   "metadata": {},
   "outputs": [],
   "source": [
    "y = y_pred_dom[101].flatten()\n",
    "df_y = pd.DataFrame(y)\n",
    "df_y['ma'] = df_y.rolling(window=30).mean()\n",
    "\n",
    "fig = plt.figure(figsize=(10, 8))\n",
    "plt.plot(np.arange(len(y.flatten())),\n",
    "             y.flatten(), color='blue');\n",
    "plt.plot(np.arange(df_y['ma'].shape[0]),\n",
    "             df_y['ma'], color='red');\n",
    "plt.xticks(np.arange(0,372, 30))\n",
    "plt.grid(True)\n",
    "plt.show()"
   ]
  },
  {
   "cell_type": "code",
   "execution_count": null,
   "metadata": {},
   "outputs": [],
   "source": [
    "y = rpd_dom[0].flatten()\n",
    "df_y = pd.DataFrame(y)\n",
    "df_y['ma'] = df_y.rolling(window=30).mean()\n",
    "\n",
    "fig = plt.figure(figsize=(10, 8))\n",
    "plt.plot(np.arange(len(y.flatten())),\n",
    "             y.flatten(), color='blue');\n",
    "plt.plot(np.arange(df_y['ma'].shape[0]),\n",
    "             df_y['ma'], color='red');\n",
    "plt.xticks(np.arange(0,372, 30))\n",
    "plt.grid(True)\n",
    "plt.show()"
   ]
  },
  {
   "cell_type": "code",
   "execution_count": null,
   "metadata": {},
   "outputs": [],
   "source": [
    "y = y_pred_hod[0].flatten()\n",
    "fig = plt.figure(figsize=(10, 8))\n",
    "plt.plot(np.arange(len(y.flatten())),\n",
    "             y.flatten(), color='blue');\n",
    "plt.xticks(np.arange(0,288,24))\n",
    "plt.grid(True)\n",
    "plt.show()"
   ]
  },
  {
   "cell_type": "code",
   "execution_count": null,
   "metadata": {},
   "outputs": [],
   "source": [
    "y = rpd_hod[0].flatten()\n",
    "fig = plt.figure(figsize=(10, 8))\n",
    "plt.plot(np.arange(len(y.flatten())),\n",
    "             y.flatten(), color='blue');\n",
    "plt.xticks(np.arange(0,288,24))\n",
    "plt.grid(True)\n",
    "plt.show()"
   ]
  },
  {
   "cell_type": "code",
   "execution_count": null,
   "metadata": {},
   "outputs": [],
   "source": [
    "pd.Series(rpd_dow.flatten()).hist(bins=np.arange(0, 5, 0.5))"
   ]
  },
  {
   "cell_type": "code",
   "execution_count": null,
   "metadata": {},
   "outputs": [],
   "source": [
    "pd.Series(rpd_dom.flatten()).hist(bins=np.arange(0, 5, 0.5))"
   ]
  },
  {
   "cell_type": "code",
   "execution_count": null,
   "metadata": {},
   "outputs": [],
   "source": []
  }
 ],
 "metadata": {
  "kernelspec": {
   "display_name": "conda_tensorflow_p36",
   "language": "python",
   "name": "conda_tensorflow_p36"
  },
  "language_info": {
   "codemirror_mode": {
    "name": "ipython",
    "version": 3
   },
   "file_extension": ".py",
   "mimetype": "text/x-python",
   "name": "python",
   "nbconvert_exporter": "python",
   "pygments_lexer": "ipython3",
   "version": "3.6.5"
  }
 },
 "nbformat": 4,
 "nbformat_minor": 2
}
