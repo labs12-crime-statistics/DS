{
 "cells": [
  {
   "cell_type": "code",
   "execution_count": 1,
   "metadata": {},
   "outputs": [
    {
     "name": "stdout",
     "output_type": "stream",
     "text": [
      "Collecting pip\n",
      "\u001b[?25l  Downloading https://files.pythonhosted.org/packages/5c/e0/be401c003291b56efc55aeba6a80ab790d3d4cece2778288d65323009420/pip-19.1.1-py2.py3-none-any.whl (1.4MB)\n",
      "\u001b[K    100% |████████████████████████████████| 1.4MB 24.9MB/s ta 0:00:011\n",
      "\u001b[?25hInstalling collected packages: pip\n",
      "  Found existing installation: pip 10.0.1\n",
      "    Uninstalling pip-10.0.1:\n",
      "      Successfully uninstalled pip-10.0.1\n",
      "Successfully installed pip-19.1.1\n",
      "Collecting python-decouple\n",
      "  Downloading https://files.pythonhosted.org/packages/9b/99/ddfbb6362af4ee239a012716b1371aa6d316ff1b9db705bfb182fbc4780f/python-decouple-3.1.tar.gz\n",
      "Building wheels for collected packages: python-decouple\n",
      "  Building wheel for python-decouple (setup.py) ... \u001b[?25ldone\n",
      "\u001b[?25h  Stored in directory: /home/ec2-user/.cache/pip/wheels/0f/ee/80/75b684060dc6ecc5a28c07b75ef4063f378aff1a37556f342a\n",
      "Successfully built python-decouple\n",
      "Installing collected packages: python-decouple\n",
      "Successfully installed python-decouple-3.1\n",
      "Collecting geoalchemy2\n",
      "  Downloading https://files.pythonhosted.org/packages/f9/39/f50f736246b223d8e22474131eb9e3c3f2eb76d409ed1ef7f8dcde60bdc8/GeoAlchemy2-0.6.2-py2.py3-none-any.whl\n",
      "Requirement already satisfied: SQLAlchemy>=0.8 in /home/ec2-user/anaconda3/envs/tensorflow_p36/lib/python3.6/site-packages (from geoalchemy2) (1.2.11)\n",
      "Installing collected packages: geoalchemy2\n",
      "Successfully installed geoalchemy2-0.6.2\n",
      "Collecting shapely\n",
      "\u001b[?25l  Downloading https://files.pythonhosted.org/packages/38/b6/b53f19062afd49bb5abd049aeed36f13bf8d57ef8f3fa07a5203531a0252/Shapely-1.6.4.post2-cp36-cp36m-manylinux1_x86_64.whl (1.5MB)\n",
      "\u001b[K     |████████████████████████████████| 1.5MB 4.9MB/s eta 0:00:01\n",
      "\u001b[?25hInstalling collected packages: shapely\n",
      "Successfully installed shapely-1.6.4.post2\n",
      "Requirement already satisfied: scipy in /home/ec2-user/anaconda3/envs/tensorflow_p36/lib/python3.6/site-packages (1.1.0)\n",
      "Collecting hyperas\n",
      "  Downloading https://files.pythonhosted.org/packages/04/34/87ad6ffb42df9c1fa9c4c906f65813d42ad70d68c66af4ffff048c228cd4/hyperas-0.4.1-py3-none-any.whl\n",
      "Requirement already satisfied: keras in /home/ec2-user/anaconda3/envs/tensorflow_p36/lib/python3.6/site-packages (from hyperas) (2.2.4)\n",
      "Requirement already satisfied: entrypoints in /home/ec2-user/anaconda3/envs/tensorflow_p36/lib/python3.6/site-packages (from hyperas) (0.2.3)\n",
      "Requirement already satisfied: jupyter in /home/ec2-user/anaconda3/envs/tensorflow_p36/lib/python3.6/site-packages (from hyperas) (1.0.0)\n",
      "Collecting hyperopt (from hyperas)\n",
      "\u001b[?25l  Downloading https://files.pythonhosted.org/packages/63/12/704382c3081df3ae3f9d96fe6afb62efa2fa9749be20c301cd2797fb0b52/hyperopt-0.1.2-py3-none-any.whl (115kB)\n",
      "\u001b[K     |████████████████████████████████| 122kB 2.3MB/s eta 0:00:01\n",
      "\u001b[?25hRequirement already satisfied: nbconvert in /home/ec2-user/anaconda3/envs/tensorflow_p36/lib/python3.6/site-packages (from hyperas) (5.4.1)\n",
      "Requirement already satisfied: nbformat in /home/ec2-user/anaconda3/envs/tensorflow_p36/lib/python3.6/site-packages (from hyperas) (4.4.0)\n",
      "Requirement already satisfied: keras-preprocessing>=1.0.5 in /home/ec2-user/anaconda3/envs/tensorflow_p36/lib/python3.6/site-packages (from keras->hyperas) (1.0.9)\n",
      "Requirement already satisfied: six>=1.9.0 in /home/ec2-user/anaconda3/envs/tensorflow_p36/lib/python3.6/site-packages (from keras->hyperas) (1.11.0)\n",
      "Requirement already satisfied: h5py in /home/ec2-user/anaconda3/envs/tensorflow_p36/lib/python3.6/site-packages (from keras->hyperas) (2.8.0)\n",
      "Requirement already satisfied: scipy>=0.14 in /home/ec2-user/anaconda3/envs/tensorflow_p36/lib/python3.6/site-packages (from keras->hyperas) (1.1.0)\n",
      "Requirement already satisfied: keras-applications>=1.0.6 in /home/ec2-user/anaconda3/envs/tensorflow_p36/lib/python3.6/site-packages (from keras->hyperas) (1.0.7)\n",
      "Requirement already satisfied: pyyaml in /home/ec2-user/anaconda3/envs/tensorflow_p36/lib/python3.6/site-packages (from keras->hyperas) (3.12)\n",
      "Requirement already satisfied: numpy>=1.9.1 in /home/ec2-user/anaconda3/envs/tensorflow_p36/lib/python3.6/site-packages (from keras->hyperas) (1.15.4)\n",
      "Requirement already satisfied: notebook in /home/ec2-user/anaconda3/envs/tensorflow_p36/lib/python3.6/site-packages (from jupyter->hyperas) (5.5.0)\n",
      "Requirement already satisfied: qtconsole in /home/ec2-user/anaconda3/envs/tensorflow_p36/lib/python3.6/site-packages (from jupyter->hyperas) (4.3.1)\n",
      "Requirement already satisfied: jupyter-console in /home/ec2-user/anaconda3/envs/tensorflow_p36/lib/python3.6/site-packages (from jupyter->hyperas) (5.2.0)\n",
      "Requirement already satisfied: ipykernel in /home/ec2-user/anaconda3/envs/tensorflow_p36/lib/python3.6/site-packages (from jupyter->hyperas) (4.8.2)\n",
      "Requirement already satisfied: ipywidgets in /home/ec2-user/anaconda3/envs/tensorflow_p36/lib/python3.6/site-packages (from jupyter->hyperas) (7.4.0)\n",
      "Collecting tqdm (from hyperopt->hyperas)\n",
      "\u001b[?25l  Downloading https://files.pythonhosted.org/packages/45/af/685bf3ce889ea191f3b916557f5677cc95a5e87b2fa120d74b5dd6d049d0/tqdm-4.32.1-py2.py3-none-any.whl (49kB)\n",
      "\u001b[K     |████████████████████████████████| 51kB 5.8MB/s eta 0:00:011\n",
      "\u001b[?25hRequirement already satisfied: networkx in /home/ec2-user/anaconda3/envs/tensorflow_p36/lib/python3.6/site-packages (from hyperopt->hyperas) (2.1)\n",
      "Collecting pymongo (from hyperopt->hyperas)\n",
      "\u001b[?25l  Downloading https://files.pythonhosted.org/packages/fb/4a/586826433281ca285f0201235fccf63cc29a30fa78bcd72b6a34e365972d/pymongo-3.8.0-cp36-cp36m-manylinux1_x86_64.whl (416kB)\n",
      "\u001b[K     |████████████████████████████████| 419kB 4.9MB/s eta 0:00:01\n",
      "\u001b[?25hCollecting future (from hyperopt->hyperas)\n",
      "\u001b[?25l  Downloading https://files.pythonhosted.org/packages/90/52/e20466b85000a181e1e144fd8305caf2cf475e2f9674e797b222f8105f5f/future-0.17.1.tar.gz (829kB)\n",
      "\u001b[K     |████████████████████████████████| 829kB 5.7MB/s eta 0:00:01\n",
      "\u001b[?25hRequirement already satisfied: mistune>=0.8.1 in /home/ec2-user/anaconda3/envs/tensorflow_p36/lib/python3.6/site-packages (from nbconvert->hyperas) (0.8.3)\n",
      "Requirement already satisfied: jinja2 in /home/ec2-user/anaconda3/envs/tensorflow_p36/lib/python3.6/site-packages (from nbconvert->hyperas) (2.10)\n",
      "Requirement already satisfied: pygments in /home/ec2-user/anaconda3/envs/tensorflow_p36/lib/python3.6/site-packages (from nbconvert->hyperas) (2.2.0)\n",
      "Requirement already satisfied: traitlets>=4.2 in /home/ec2-user/anaconda3/envs/tensorflow_p36/lib/python3.6/site-packages (from nbconvert->hyperas) (4.3.2)\n",
      "Requirement already satisfied: jupyter_core in /home/ec2-user/anaconda3/envs/tensorflow_p36/lib/python3.6/site-packages (from nbconvert->hyperas) (4.4.0)\n",
      "Requirement already satisfied: bleach in /home/ec2-user/anaconda3/envs/tensorflow_p36/lib/python3.6/site-packages (from nbconvert->hyperas) (2.1.3)\n",
      "Requirement already satisfied: pandocfilters>=1.4.1 in /home/ec2-user/anaconda3/envs/tensorflow_p36/lib/python3.6/site-packages (from nbconvert->hyperas) (1.4.2)\n",
      "Requirement already satisfied: testpath in /home/ec2-user/anaconda3/envs/tensorflow_p36/lib/python3.6/site-packages (from nbconvert->hyperas) (0.3.1)\n",
      "Requirement already satisfied: defusedxml in /home/ec2-user/anaconda3/envs/tensorflow_p36/lib/python3.6/site-packages (from nbconvert->hyperas) (0.5.0)\n",
      "Requirement already satisfied: ipython_genutils in /home/ec2-user/anaconda3/envs/tensorflow_p36/lib/python3.6/site-packages (from nbformat->hyperas) (0.2.0)\n",
      "Requirement already satisfied: jsonschema!=2.5.0,>=2.4 in /home/ec2-user/anaconda3/envs/tensorflow_p36/lib/python3.6/site-packages (from nbformat->hyperas) (2.6.0)\n",
      "Requirement already satisfied: terminado>=0.8.1 in /home/ec2-user/anaconda3/envs/tensorflow_p36/lib/python3.6/site-packages (from notebook->jupyter->hyperas) (0.8.1)\n",
      "Requirement already satisfied: Send2Trash in /home/ec2-user/anaconda3/envs/tensorflow_p36/lib/python3.6/site-packages (from notebook->jupyter->hyperas) (1.5.0)\n",
      "Requirement already satisfied: tornado>=4 in /home/ec2-user/anaconda3/envs/tensorflow_p36/lib/python3.6/site-packages (from notebook->jupyter->hyperas) (5.0.2)\n",
      "Requirement already satisfied: jupyter-client>=5.2.0 in /home/ec2-user/anaconda3/envs/tensorflow_p36/lib/python3.6/site-packages (from notebook->jupyter->hyperas) (5.2.3)\n",
      "Requirement already satisfied: pyzmq>=17 in /home/ec2-user/anaconda3/envs/tensorflow_p36/lib/python3.6/site-packages (from notebook->jupyter->hyperas) (17.0.0)\n",
      "Requirement already satisfied: ipython in /home/ec2-user/anaconda3/envs/tensorflow_p36/lib/python3.6/site-packages (from jupyter-console->jupyter->hyperas) (6.4.0)\n",
      "Requirement already satisfied: prompt_toolkit<2.0.0,>=1.0.0 in /home/ec2-user/anaconda3/envs/tensorflow_p36/lib/python3.6/site-packages (from jupyter-console->jupyter->hyperas) (1.0.15)\n"
     ]
    },
    {
     "name": "stdout",
     "output_type": "stream",
     "text": [
      "Requirement already satisfied: widgetsnbextension~=3.4.0 in /home/ec2-user/anaconda3/envs/tensorflow_p36/lib/python3.6/site-packages (from ipywidgets->jupyter->hyperas) (3.4.2)\n",
      "Requirement already satisfied: decorator>=4.1.0 in /home/ec2-user/anaconda3/envs/tensorflow_p36/lib/python3.6/site-packages (from networkx->hyperopt->hyperas) (4.3.0)\n",
      "Requirement already satisfied: MarkupSafe>=0.23 in /home/ec2-user/anaconda3/envs/tensorflow_p36/lib/python3.6/site-packages (from jinja2->nbconvert->hyperas) (1.0)\n",
      "Requirement already satisfied: html5lib!=1.0b1,!=1.0b2,!=1.0b3,!=1.0b4,!=1.0b5,!=1.0b6,!=1.0b7,!=1.0b8,>=0.99999999pre in /home/ec2-user/anaconda3/envs/tensorflow_p36/lib/python3.6/site-packages (from bleach->nbconvert->hyperas) (1.0.1)\n",
      "Requirement already satisfied: python-dateutil>=2.1 in /home/ec2-user/anaconda3/envs/tensorflow_p36/lib/python3.6/site-packages (from jupyter-client>=5.2.0->notebook->jupyter->hyperas) (2.7.3)\n",
      "Requirement already satisfied: setuptools>=18.5 in /home/ec2-user/anaconda3/envs/tensorflow_p36/lib/python3.6/site-packages (from ipython->jupyter-console->jupyter->hyperas) (39.1.0)\n",
      "Requirement already satisfied: simplegeneric>0.8 in /home/ec2-user/anaconda3/envs/tensorflow_p36/lib/python3.6/site-packages (from ipython->jupyter-console->jupyter->hyperas) (0.8.1)\n",
      "Requirement already satisfied: pickleshare in /home/ec2-user/anaconda3/envs/tensorflow_p36/lib/python3.6/site-packages (from ipython->jupyter-console->jupyter->hyperas) (0.7.4)\n",
      "Requirement already satisfied: backcall in /home/ec2-user/anaconda3/envs/tensorflow_p36/lib/python3.6/site-packages (from ipython->jupyter-console->jupyter->hyperas) (0.1.0)\n",
      "Requirement already satisfied: pexpect; sys_platform != \"win32\" in /home/ec2-user/anaconda3/envs/tensorflow_p36/lib/python3.6/site-packages (from ipython->jupyter-console->jupyter->hyperas) (4.5.0)\n",
      "Requirement already satisfied: jedi>=0.10 in /home/ec2-user/anaconda3/envs/tensorflow_p36/lib/python3.6/site-packages (from ipython->jupyter-console->jupyter->hyperas) (0.12.0)\n",
      "Requirement already satisfied: wcwidth in /home/ec2-user/anaconda3/envs/tensorflow_p36/lib/python3.6/site-packages (from prompt_toolkit<2.0.0,>=1.0.0->jupyter-console->jupyter->hyperas) (0.1.7)\n",
      "Requirement already satisfied: webencodings in /home/ec2-user/anaconda3/envs/tensorflow_p36/lib/python3.6/site-packages (from html5lib!=1.0b1,!=1.0b2,!=1.0b3,!=1.0b4,!=1.0b5,!=1.0b6,!=1.0b7,!=1.0b8,>=0.99999999pre->bleach->nbconvert->hyperas) (0.5.1)\n",
      "Requirement already satisfied: ptyprocess>=0.5 in /home/ec2-user/anaconda3/envs/tensorflow_p36/lib/python3.6/site-packages (from pexpect; sys_platform != \"win32\"->ipython->jupyter-console->jupyter->hyperas) (0.5.2)\n",
      "Requirement already satisfied: parso>=0.2.0 in /home/ec2-user/anaconda3/envs/tensorflow_p36/lib/python3.6/site-packages (from jedi>=0.10->ipython->jupyter-console->jupyter->hyperas) (0.2.0)\n",
      "Building wheels for collected packages: future\n",
      "  Building wheel for future (setup.py) ... \u001b[?25ldone\n",
      "\u001b[?25h  Stored in directory: /home/ec2-user/.cache/pip/wheels/0c/61/d2/d6b7317325828fbb39ee6ad559dbe4664d0896da4721bf379e\n",
      "Successfully built future\n",
      "Installing collected packages: tqdm, pymongo, future, hyperopt, hyperas\n",
      "Successfully installed future-0.17.1 hyperas-0.4.1 hyperopt-0.1.2 pymongo-3.8.0 tqdm-4.32.1\n"
     ]
    }
   ],
   "source": [
    "!pip install --upgrade pip\n",
    "!pip install python-decouple\n",
    "!pip install geoalchemy2\n",
    "!pip install shapely\n",
    "!pip install scipy\n",
    "!pip install hyperas"
   ]
  },
  {
   "cell_type": "code",
   "execution_count": 2,
   "metadata": {},
   "outputs": [
    {
     "name": "stderr",
     "output_type": "stream",
     "text": [
      "Using TensorFlow backend.\n"
     ]
    }
   ],
   "source": [
    "from sqlalchemy import create_engine, func, text\n",
    "from sqlalchemy.orm import sessionmaker\n",
    "from decouple import config\n",
    "from shapely import wkb, wkt\n",
    "from shapely.geometry import Point\n",
    "from geoalchemy2.shape import to_shape \n",
    "\n",
    "import pandas as pd\n",
    "import numpy as np\n",
    "import json\n",
    "from datetime import datetime, timedelta\n",
    "import re\n",
    "from matplotlib import pyplot as plt\n",
    "import random\n",
    "\n",
    "from keras.models import Sequential\n",
    "from keras.layers import LSTM, Dense\n",
    "from sklearn.model_selection import GridSearchCV\n",
    "\n",
    "from hyperas.distributions import uniform\n",
    "\n",
    "\n",
    "\n",
    "# ----------- TODO: Issues with importing imbalance-learn library\n",
    "# from imblearn.over_sampling import RandomOverSampler\n",
    "# from imblearn.under_sampling import NearMiss\n",
    "# from imblearn.under_sampling import (RandomUnderSampler,\n",
    "#                                      ClusterCentroids,\n",
    "#                                      TomekLinks,\n",
    "#                                      NeighbourhoodCleaningRule,\n",
    "#                                      NearMiss)"
   ]
  },
  {
   "cell_type": "code",
   "execution_count": 3,
   "metadata": {},
   "outputs": [],
   "source": [
    "\"\"\"Contains models for DB.\"\"\"\n",
    "\n",
    "from sqlalchemy.ext.declarative import declarative_base\n",
    "from sqlalchemy import Column, BigInteger, Integer, String, DateTime, ForeignKey, Float\n",
    "from sqlalchemy.orm import relationship\n",
    "from geoalchemy2 import Geometry\n",
    "\n",
    "\n",
    "BASE = declarative_base()\n",
    "\n",
    "\n",
    "class City(BASE):\n",
    "    \"\"\"City model for DB. Has information of cities.\"\"\"\n",
    "    __tablename__ = 'city'\n",
    "    id            = Column(BigInteger, primary_key=True)\n",
    "    city          = Column(String, unique=False, nullable=False)\n",
    "    state         = Column(String, unique=False, nullable=True)\n",
    "    country       = Column(String, unique=False, nullable=False)\n",
    "    location      = Column(Geometry(geometry_type='POINT'), nullable=False)\n",
    "    blocks        = relationship(\"Blocks\", back_populates=\"city\")\n",
    "    zipcodes      = relationship(\"ZipcodeGeom\", back_populates=\"city\")\n",
    "    incidents     = relationship(\"Incident\", back_populates=\"city\")\n",
    "\n",
    "\n",
    "class Blocks(BASE):\n",
    "    \"\"\"Block model for DB. Has information of city blocks for a related city\n",
    "        id.\"\"\"\n",
    "    __tablename__ = 'block'\n",
    "    id            = Column(BigInteger, primary_key=True)\n",
    "    cityid        = Column(BigInteger, ForeignKey('city.id'), nullable=False)\n",
    "    shape         = Column(Geometry(geometry_type='MULTIPOLYGON'), nullable=False)\n",
    "    population    = Column(Integer, nullable=False)\n",
    "    city          = relationship(\"City\", back_populates=\"blocks\")\n",
    "    incidents     = relationship(\"Incident\", back_populates=\"block\")\n",
    "\n",
    "class ZipcodeGeom(BASE):\n",
    "    \"\"\"Zipcode geometry model for DB. Has information of zipcodes and related\n",
    "        city id.\"\"\"\n",
    "    __tablename__ = 'zipcodegeom'\n",
    "    id            = Column(BigInteger, primary_key=True)\n",
    "    cityid        = Column(BigInteger, ForeignKey('city.id'), nullable=False)\n",
    "    zipcode       = Column(String, nullable=False, unique=True)\n",
    "    shape         = Column(Geometry(geometry_type='MULTIPOLYGON'), nullable=False)\n",
    "    city          = relationship(\"City\", back_populates=\"zipcodes\")\n",
    "\n",
    "class Incident(BASE):\n",
    "    \"\"\"Incident model for DB. Has information of a specific crime, including\n",
    "        where it took place, when it took place, and the type of crime that\n",
    "        occurred.\"\"\"\n",
    "    __tablename__ = 'incident'\n",
    "    id            = Column(BigInteger, primary_key=True)\n",
    "    crimetypeid   = Column(BigInteger, ForeignKey('crimetype.id'), nullable=False)\n",
    "    locdescid     = Column(BigInteger, ForeignKey('locdesctype.id'), nullable=False)\n",
    "    cityid        = Column(BigInteger, ForeignKey('city.id'), nullable=False)\n",
    "    blockid       = Column(BigInteger, ForeignKey('block.id'), nullable=False)\n",
    "    location      = Column(Geometry(geometry_type='POINT'), nullable=False)\n",
    "    datetime      = Column(DateTime, nullable=False)\n",
    "    hour          = Column(Integer, nullable=False)\n",
    "    dow           = Column(Integer, nullable=False)\n",
    "    month         = Column(Integer, nullable=False)\n",
    "    year          = Column(Integer, nullable=False)\n",
    "    city          = relationship(\"City\", back_populates=\"incidents\")\n",
    "    block         = relationship(\"Blocks\", back_populates=\"incidents\")\n",
    "    crimetype     = relationship(\"CrimeType\", back_populates=\"incidents\")\n",
    "    locationdesc  = relationship(\"LocationDescriptionType\", back_populates=\"incidents\")\n",
    "\n",
    "class CrimeType(BASE):\n",
    "    \"\"\"CrimeType model for DB. Has information of the types of crime, including\n",
    "        a general description and the numerical severity of the crime.\"\"\"\n",
    "    __tablename__ = 'crimetype'\n",
    "    id            = Column(BigInteger, primary_key=True)\n",
    "    category      = Column(String, unique=True, nullable=False)\n",
    "    severity      = Column(Integer, nullable=False)\n",
    "    incidents     = relationship(\"Incident\", back_populates=\"crimetype\")\n",
    "\n",
    "\n",
    "class LocationDescriptionType(BASE):\n",
    "    \"\"\"Location description model for DB. Has information on the type of\n",
    "        location that the crime took place.\"\"\"\n",
    "    __tablename__ = 'locdesctype'\n",
    "    id            = Column(BigInteger, primary_key=True)\n",
    "    key1          = Column(String, nullable=False)\n",
    "    key2          = Column(String, nullable=False)\n",
    "    key3          = Column(String, nullable=False)\n",
    "    incidents     = relationship(\"Incident\", back_populates=\"locationdesc\")"
   ]
  },
  {
   "cell_type": "code",
   "execution_count": 26,
   "metadata": {},
   "outputs": [],
   "source": [
    "use_counts = False  # Use crime counts instead of severity ratings\n",
    "do_gridsearch = True\n",
    "\n",
    "if use_counts == True:\n",
    "    SEVERITY_SCALING_FACTOR = 1000000.\n",
    "    SEVERITY_OPERATOR = '/'\n",
    "else:\n",
    "    SEVERITY_SCALING_FACTOR = 1000.\n",
    "    SEVERITY_OPERATOR = '*'\n",
    "\n",
    "def scale_data(X):\n",
    "    if use_counts == True:\n",
    "        X /= 1000000.0  # This we will use with the count(severity) SQL query\n",
    "    else:\n",
    "        X *= 1000.0   # This gave us good results earlier with the severity/avg(population) SQL query\n",
    "    return X\n",
    "\n",
    "def descale_data(X):\n",
    "    if use_counts == True:\n",
    "        X *= 1000000.0  # This we will use with the count(severity) SQL query\n",
    "    else:\n",
    "        X /= 1000.0   # This gave us good results earlier with the severity/avg(population) SQL query\n",
    "    return X\n",
    "\n",
    "class GetData(object):\n",
    "    def go(self, SESSION, start_year, end_year):\n",
    "        if use_counts == True:\n",
    "            SQL_QUERY = \\\n",
    "                f'''\n",
    "                    SELECT\n",
    "                        incident.blockid,\n",
    "                        incident.datetime,\n",
    "                        incident.year,\n",
    "                        incident.month,\n",
    "                        incident.dow,\n",
    "                        incident.hour,\n",
    "                        COUNT(crimetype.severity) AS severity\n",
    "                    FROM incident\n",
    "                    INNER JOIN block ON incident.blockid = block.id\n",
    "                    INNER JOIN crimetype ON incident.crimetypeid = crimetype.id\n",
    "                        AND block.population > 0\n",
    "                        AND incident.cityid = 1\n",
    "                        AND incident.year >= {start_year}\n",
    "                        AND incident.year <= {end_year}\n",
    "                    GROUP BY\n",
    "                        incident.blockid,\n",
    "                        incident.datetime,\n",
    "                        incident.year,\n",
    "                        incident.month,\n",
    "                        incident.dow,\n",
    "                        incident.hour\n",
    "                '''\n",
    "        else:\n",
    "            SQL_QUERY = \\\n",
    "                f'''\n",
    "                    WITH\n",
    "                        max_severity AS (\n",
    "                            SELECT MAX(severity) AS severity\n",
    "                            FROM (\n",
    "                                SELECT SUM(crimetype.severity)/AVG(block.population) AS severity\n",
    "                                FROM incident\n",
    "                                INNER JOIN block ON incident.blockid = block.id INNER JOIN crimetype ON incident.crimetypeid = crimetype.id AND block.population > 0\n",
    "                                GROUP BY\n",
    "                                    incident.blockid,\n",
    "                                    incident.year,\n",
    "                                    incident.month,\n",
    "                                    incident.dow\n",
    "                            ) AS categories\n",
    "                        ),\n",
    "                        block_incidents AS (\n",
    "                            SELECT\n",
    "                                incident.blockid,\n",
    "                                incident.datetime,\n",
    "                                incident.year,\n",
    "                                incident.month,\n",
    "                                incident.dow,\n",
    "                                SUM(crimetype.severity)/AVG(block.population) AS severity\n",
    "                            FROM incident\n",
    "                            INNER JOIN block ON incident.blockid = block.id\n",
    "                            INNER JOIN crimetype ON incident.crimetypeid = crimetype.id\n",
    "                                AND block.population > 0\n",
    "                                AND incident.cityid = 1\n",
    "                                AND incident.year >= {start_year}\n",
    "                                AND incident.year <= {end_year}\n",
    "                            GROUP BY\n",
    "                                incident.blockid,\n",
    "                                incident.datetime,\n",
    "                                incident.year,\n",
    "                                incident.month,\n",
    "                                incident.dow\n",
    "                        )\n",
    "                    SELECT\n",
    "                        block_incidents.blockid,\n",
    "                        block_incidents.datetime,\n",
    "                        block_incidents.year,\n",
    "                        block_incidents.month,\n",
    "                        block_incidents.dow,\n",
    "                        block_incidents.severity/max_severity.severity AS severity\n",
    "                    FROM block_incidents, max_severity        \n",
    "                '''\n",
    "        return SESSION.execute(text(SQL_QUERY)).fetchall()"
   ]
  },
  {
   "cell_type": "code",
   "execution_count": 5,
   "metadata": {},
   "outputs": [],
   "source": [
    "DAY_OF_WEEK  = 0\n",
    "DAY_OF_MONTH = 1\n",
    "HOUR_OF_DAY  = 2\n",
    "\n",
    "def fill_data(X, y, r, start_year, end_year, blockid_dict, data_type):\n",
    "    \n",
    "    def day_of_month(x):\n",
    "        return x.day - 1\n",
    "\n",
    "    def hour_of_day(x):\n",
    "        return x.hour\n",
    "    \n",
    "    if r[2] == end_year:\n",
    "        if data_type == DAY_OF_WEEK:\n",
    "            #                     block id       0-based month\n",
    "            #                vvvvvvvvvvvvvvvvv   vvvvvv\n",
    "            y[blockid_dict[r[0]], r[3]-1, r[4]] = float(r[5])\n",
    "            #                                            ^^^^        ^^^^\n",
    "            #                                            dow         risk\n",
    "        elif data_type == DAY_OF_MONTH:\n",
    "            #                     block id       0-based month\n",
    "            #                vvvvvvvvvvvvvvvvv   vvvvvv\n",
    "            y[blockid_dict[r[0]], r[3]-1, day_of_month(r[1])] = float(r[5])\n",
    "            #                                            ^^^^^^^^^^^^^^^^^^        ^^^^\n",
    "            #                                                  dom                 risk\n",
    "        elif data_type == HOUR_OF_DAY:\n",
    "            #                     block id       0-based month\n",
    "            #                vvvvvvvvvvvvvvvvv   vvvvvv\n",
    "            y[blockid_dict[r[0]], r[3]-1, hour_of_day(r[1])] = float(r[5])\n",
    "            #                                             ^^^^^^^^^^^^^^^         ^^^^\n",
    "            #                                               hour of day           risk\n",
    "        else:\n",
    "            raise ValueError('Unsupported data type:', data_type)\n",
    "    else:\n",
    "        if data_type == DAY_OF_WEEK:\n",
    "            X[blockid_dict[r[0]], 12*(r[2]-start_year-1)+r[3]-1, r[4]] = float(r[5])\n",
    "        elif data_type == DAY_OF_MONTH:\n",
    "            X[blockid_dict[r[0]], 12*(r[2]-start_year-1)+r[3]-1, day_of_month(r[1])] = float(r[5])\n",
    "        elif data_type == HOUR_OF_DAY:\n",
    "            X[blockid_dict[r[0]], 12*(r[2]-start_year-1)+r[3]-1, hour_of_day(r[1])] = float(r[5])\n",
    "        else:\n",
    "            raise ValueError('Unsupported data type:', data_type)"
   ]
  },
  {
   "cell_type": "code",
   "execution_count": 6,
   "metadata": {},
   "outputs": [],
   "source": [
    "def process_data(data, start_year, end_year, blockid_dict, data_type):\n",
    "\n",
    "    if data_type == DAY_OF_WEEK:\n",
    "        X = np.zeros((len(blockid_dict), 24, 7))\n",
    "        y = np.zeros((len(blockid_dict), 12, 7))\n",
    "    elif data_type == DAY_OF_MONTH:\n",
    "        X = np.zeros((len(blockid_dict), 24, 31))\n",
    "        y = np.zeros((len(blockid_dict), 12, 31))\n",
    "    elif data_type == HOUR_OF_DAY:\n",
    "        X = np.zeros((len(blockid_dict), 24, 24))\n",
    "        y = np.zeros((len(blockid_dict), 12, 24))\n",
    "    \n",
    "    # records is the list of rows we get from the query with this order:\n",
    "    #   blockid, year, month, dow, hour, risk\n",
    "    #   month is from 1 - 12\n",
    "\n",
    "    for r in data:\n",
    "        if r[0] in blockid_dict:\n",
    "            fill_data(X, y, r, start_year, end_year, blockid_dict, data_type)\n",
    "\n",
    "    X = scale_data(X)\n",
    "    y = scale_data(y)\n",
    "\n",
    "    #     for i in range(24):\n",
    "    #         X[:, i, -1] = (start_year*12+i) / (2000 * 12)\n",
    "        \n",
    "    return X, y"
   ]
  },
  {
   "cell_type": "code",
   "execution_count": 7,
   "metadata": {},
   "outputs": [],
   "source": [
    "from contextlib import contextmanager\n",
    "\n",
    "@contextmanager\n",
    "def session_scope():\n",
    "    \"\"\"Provide a transactional scope around a series of operations.\"\"\"\n",
    "\n",
    "    DB_URI  = config('DB_URI')\n",
    "    ENGINE  = create_engine(DB_URI)\n",
    "    Session = sessionmaker(bind=ENGINE)\n",
    "    SESSION = Session()\n",
    "    \n",
    "    try:\n",
    "        yield SESSION\n",
    "        SESSION.commit()\n",
    "    except:\n",
    "        SESSION.rollback()\n",
    "        raise\n",
    "    finally:\n",
    "        SESSION.close()\n",
    "\n",
    "\n",
    "def ready_data(training_start_year, training_end_year, train_blockid_dict,\n",
    "               testing_start_year, testing_end_year, test_blockid_dict,\n",
    "               data_type):\n",
    "    with session_scope() as session:\n",
    "        training_data = GetData().go(session,\n",
    "                                     training_start_year,\n",
    "                                     training_end_year)\n",
    "        testing_data = GetData().go(session,\n",
    "                                     testing_start_year,\n",
    "                                     testing_end_year)\n",
    "        \n",
    "        X_train, y_train = process_data(training_data,\n",
    "                                        training_start_year, \n",
    "                                        training_end_year,\n",
    "                                        train_blockid_dict,\n",
    "                                        data_type)\n",
    "        X_test, y_test = process_data(testing_data,\n",
    "                                      testing_start_year, \n",
    "                                      testing_end_year,\n",
    "                                      test_blockid_dict,\n",
    "                                      data_type)\n",
    "\n",
    "    return X_train, X_test, y_train, y_test"
   ]
  },
  {
   "cell_type": "markdown",
   "metadata": {},
   "source": [
    "## Day of week analysis for each month of each block id"
   ]
  },
  {
   "cell_type": "code",
   "execution_count": 8,
   "metadata": {},
   "outputs": [],
   "source": [
    "# start month = 3, end_month = 2 (months are 0-indexed)\n",
    "#   X: 4/2017 -> 3/2019 actual date\n",
    "#   y: 4/2019 -> 3/2020 actual date\n",
    "#\n",
    "X_test_start_month = 0\n",
    "X_test_end_month   = 0\n",
    "X_test_start_year  = 2016\n",
    "X_test_end_year    = 2018\n",
    "\n",
    "TRAIN_NUM_BLOCKIDS = TEST_NUM_BLOCKIDS = 801\n",
    "\n",
    "TRAIN_BLOCKIDS = random.sample(list(range(1,802)), k=TRAIN_NUM_BLOCKIDS)   \n",
    "train_blockid_dict = {}\n",
    "for ind, blockid in enumerate(TRAIN_BLOCKIDS ):\n",
    "    train_blockid_dict[blockid] = ind\n",
    "        \n",
    "TEST_BLOCKIDS = random.sample(list(range(1,802)), k=TEST_NUM_BLOCKIDS)    \n",
    "test_blockid_dict = {}\n",
    "for ind, blockid in enumerate(TEST_BLOCKIDS ):\n",
    "    test_blockid_dict[blockid] = ind"
   ]
  },
  {
   "cell_type": "code",
   "execution_count": 9,
   "metadata": {},
   "outputs": [],
   "source": [
    "def plot_output(y, y_pred, dataset_type, x_label, y_label):\n",
    "\n",
    "    fig = plt.figure(figsize=(10, 8))\n",
    "    plt.plot(np.arange(len(y.flatten())),\n",
    "                 y.flatten(), color='blue');\n",
    "    plt.plot(np.arange(len(y_pred.flatten())),\n",
    "                 y_pred.flatten(), color='red');\n",
    "    plt.xlabel(x_label, fontsize=16)\n",
    "    plt.ylabel(y_label, fontsize=18)\n",
    "    plt.title(dataset_type + ' dataset', fontsize=18)\n",
    "    if use_counts == True:\n",
    "        plt.legend(labels=['count', 'predicted count per million'], prop={'size': 20})\n",
    "    else:\n",
    "        plt.legend(labels=['risk', 'predicted risk'], prop={'size': 20})\n",
    "    plt.show()"
   ]
  },
  {
   "cell_type": "code",
   "execution_count": 10,
   "metadata": {},
   "outputs": [
    {
     "name": "stderr",
     "output_type": "stream",
     "text": [
      "/home/ec2-user/anaconda3/envs/tensorflow_p36/lib/python3.6/site-packages/sklearn/ensemble/weight_boosting.py:29: DeprecationWarning: numpy.core.umath_tests is an internal NumPy module and should not be imported. It will be removed in a future NumPy release.\n",
      "  from numpy.core.umath_tests import inner1d\n"
     ]
    }
   ],
   "source": [
    "from sklearn.ensemble import RandomForestRegressor\n",
    "from sklearn.multioutput import MultiOutputRegressor\n",
    "from sklearn.metrics import mean_squared_error\n",
    "\n",
    "random.seed(101)\n",
    "\n",
    "def get_predictions(X_train, y_train, X_test, y_test, \n",
    "                    x_label, y_label, model, do_gridsearch=False):\n",
    "    \n",
    "    def print_data_info(data, data_name):\n",
    "        flat = data.flatten()\n",
    "        print('Number of data points:', len(flat))\n",
    "        print('Number of non-zero elements:', len(flat[flat > 0.0]))\n",
    "        print('Percentage of non-zero elements:', len(flat[flat > 0.0])/len(flat))\n",
    "\n",
    "        if use_counts == True:\n",
    "            pd.Series(flat).hist();\n",
    "        else:\n",
    "            pd.Series(flat).hist(bins=[0.25, 0.5, 1.0, 1.5, 2.5, 5.0, 10, 15, 20]);\n",
    "        plt.title(f'Histogram of {data_name}')\n",
    "        plt.show()\n",
    "    \n",
    "    print_data_info(y_test, 'y_test')\n",
    "    print('Correlation between y_train and y_test:\\n', \n",
    "          np.corrcoef(y_train.flatten(), y_test.flatten()))\n",
    "          \n",
    "    X_train = X_train.reshape((TRAIN_NUM_BLOCKIDS, X_train.shape[1] * X_train.shape[2]))\n",
    "    y_train = y_train.reshape((TRAIN_NUM_BLOCKIDS, y_train.shape[1] * y_train.shape[2]))\n",
    "    X_test = X_test.reshape((TEST_NUM_BLOCKIDS, X_test.shape[1] * X_test.shape[2]))\n",
    "    y_test = y_test.reshape((TEST_NUM_BLOCKIDS, y_test.shape[1] * y_test.shape[2]))\n",
    "\n",
    "    print('y_test shape after reshaping:', y_test.shape)\n",
    "    \n",
    "    if do_gridsearch == True:\n",
    "        # For regressors:\n",
    "        param_grid = {  # param_grid values not working - have to debug --- TODO ---\n",
    "            'estimator__n_estimators':  [80, 100, 120],\n",
    "            'estimator__max_depth': [2, 3, 4, 5, 6],\n",
    "        }\n",
    "\n",
    "        # For classifiers:\n",
    "        # param_grid = {\n",
    "        #     'estimator__n_estimators':  [80, 100, 120],\n",
    "        #     'estimator__max_depth': [2, 3, 4, 5, 6, 7, 8],\n",
    "        # }\n",
    "\n",
    "        gridsearch = GridSearchCV(model,\n",
    "                                  param_grid=param_grid, \n",
    "                                  scoring='neg_mean_squared_error', \n",
    "                                  cv=3, n_jobs=-1,\n",
    "                                  return_train_score=True, verbose=10)\n",
    "        model = gridsearch\n",
    "\n",
    "    model.fit(X_train, y_train)\n",
    "\n",
    "    best_training_score = model.score(X_train, y_train)\n",
    "    best_testing_score  = model.score(X_test, y_test)\n",
    "\n",
    "    print(f'  Best training score:', -best_training_score)\n",
    "    print(f'  Best testing score: ', -best_testing_score)\n",
    "\n",
    "    if do_gridsearch == True:\n",
    "        best_model_params = model.cv_results_['params'][model.best_index_]\n",
    "        print('Best Grid Search model:', best_model_params)\n",
    "\n",
    "    y_pred = model.predict(X_test)\n",
    "    print('mean_squared_error:', mean_squared_error(y_test, y_pred))\n",
    "          \n",
    "    plot_output(y_test, y_pred, 'Testing', x_label, y_label)\n",
    "\n",
    "    def relative_percent_difference(y_true, y_pred):\n",
    "        return 1 - np.absolute((y_true - y_pred) / (np.absolute(y_true) + np.absolute(y_pred)))\n",
    "    \n",
    "    return y_test, y_pred, relative_percent_difference(y_test, y_pred)"
   ]
  },
  {
   "cell_type": "markdown",
   "metadata": {},
   "source": [
    "## Day of week analysis for each month of each block id"
   ]
  },
  {
   "cell_type": "code",
   "execution_count": 11,
   "metadata": {},
   "outputs": [
    {
     "name": "stderr",
     "output_type": "stream",
     "text": [
      "/home/ec2-user/anaconda3/envs/tensorflow_p36/lib/python3.6/site-packages/psycopg2/__init__.py:144: UserWarning: The psycopg2 wheel package will be renamed from release 2.8; in order to keep installing from binary please use \"pip install psycopg2-binary\" instead. For details see: <http://initd.org/psycopg/docs/install.html#binary-install-from-pypi>.\n",
      "  \"\"\")\n"
     ]
    },
    {
     "name": "stdout",
     "output_type": "stream",
     "text": [
      "(801, 24, 7) (801, 12, 7) (801, 24, 7) (801, 12, 7)\n",
      "Number of data points: 67284\n",
      "Number of non-zero elements: 58474\n",
      "Percentage of non-zero elements: 0.869062481422032\n"
     ]
    },
    {
     "data": {
      "image/png": "[encoded data removed]",
      "text/plain": [
       "<Figure size 432x288 with 1 Axes>"
      ]
     },
     "metadata": {},
     "output_type": "display_data"
    },
    {
     "name": "stdout",
     "output_type": "stream",
     "text": [
      "Correlation between y_train and y_test:\n",
      " [[ 1.00000000e+00 -4.38016478e-05]\n",
      " [-4.38016478e-05  1.00000000e+00]]\n",
      "y_test shape after reshaping: (801, 84)\n",
      "Fitting 3 folds for each of 15 candidates, totalling 45 fits\n",
      "[CV] estimator__max_depth=2, estimator__n_estimators=80 ..............\n",
      "[CV] estimator__max_depth=2, estimator__n_estimators=80 ..............\n",
      "[CV] estimator__max_depth=2, estimator__n_estimators=80 ..............\n",
      "[CV] estimator__max_depth=2, estimator__n_estimators=100 .............\n",
      "[CV] estimator__max_depth=2, estimator__n_estimators=100 .............\n",
      "[CV] estimator__max_depth=2, estimator__n_estimators=100 .............\n",
      "[CV] estimator__max_depth=3, estimator__n_estimators=80 ..............\n",
      "[CV] estimator__max_depth=3, estimator__n_estimators=80 ..............\n",
      "[CV] estimator__max_depth=3, estimator__n_estimators=100 .............\n",
      "[CV] estimator__max_depth=3, estimator__n_estimators=100 .............\n",
      "[CV] estimator__max_depth=3, estimator__n_estimators=100 .............\n",
      "[CV] estimator__max_depth=3, estimator__n_estimators=120 .............\n",
      "[CV] estimator__max_depth=2, estimator__n_estimators=120 .............\n",
      "[CV] estimator__max_depth=2, estimator__n_estimators=120 .............\n",
      "[CV] estimator__max_depth=3, estimator__n_estimators=80 ..............\n",
      "[CV] estimator__max_depth=2, estimator__n_estimators=120 .............\n",
      "[CV] estimator__max_depth=3, estimator__n_estimators=120 .............\n",
      "[CV] estimator__max_depth=3, estimator__n_estimators=120 .............\n",
      "[CV] estimator__max_depth=4, estimator__n_estimators=80 ..............\n",
      "[CV] estimator__max_depth=4, estimator__n_estimators=80 ..............\n",
      "[CV] estimator__max_depth=4, estimator__n_estimators=80 ..............\n",
      "[CV] estimator__max_depth=4, estimator__n_estimators=100 .............\n",
      "[CV] estimator__max_depth=4, estimator__n_estimators=100 .............\n",
      "[CV] estimator__max_depth=4, estimator__n_estimators=100 .............\n",
      "[CV] estimator__max_depth=4, estimator__n_estimators=120 .............\n",
      "[CV] estimator__max_depth=4, estimator__n_estimators=120 .............\n",
      "[CV] estimator__max_depth=4, estimator__n_estimators=120 .............\n",
      "[CV] estimator__max_depth=5, estimator__n_estimators=80 ..............\n",
      "[CV] estimator__max_depth=5, estimator__n_estimators=80 ..............\n",
      "[CV] estimator__max_depth=5, estimator__n_estimators=80 ..............\n",
      "[CV] estimator__max_depth=5, estimator__n_estimators=100 .............\n",
      "[CV] estimator__max_depth=5, estimator__n_estimators=100 .............\n",
      "[CV] estimator__max_depth=5, estimator__n_estimators=100 .............\n",
      "[CV] estimator__max_depth=5, estimator__n_estimators=120 .............\n",
      "[CV] estimator__max_depth=5, estimator__n_estimators=120 .............\n",
      "[CV] estimator__max_depth=5, estimator__n_estimators=120 .............\n",
      "[CV] estimator__max_depth=6, estimator__n_estimators=80 ..............\n",
      "[CV] estimator__max_depth=6, estimator__n_estimators=80 ..............\n",
      "[CV] estimator__max_depth=6, estimator__n_estimators=80 ..............\n",
      "[CV] estimator__max_depth=6, estimator__n_estimators=100 .............\n",
      "[CV] estimator__max_depth=6, estimator__n_estimators=100 .............\n",
      "[CV] estimator__max_depth=6, estimator__n_estimators=100 .............\n",
      "[CV] estimator__max_depth=6, estimator__n_estimators=120 .............\n",
      "[CV] estimator__max_depth=6, estimator__n_estimators=120 .............\n",
      "[CV] estimator__max_depth=6, estimator__n_estimators=120 .............\n",
      "[CV]  estimator__max_depth=2, estimator__n_estimators=80, score=-0.039401357042543904, total=  50.4s\n",
      "[CV]  estimator__max_depth=2, estimator__n_estimators=80, score=-0.05414050185718199, total=  50.7s\n",
      "[CV]  estimator__max_depth=2, estimator__n_estimators=80, score=-19.563461391118754, total=  51.3s\n",
      "[CV]  estimator__max_depth=2, estimator__n_estimators=100, score=-0.039397652001414304, total= 1.0min\n"
     ]
    },
    {
     "name": "stderr",
     "output_type": "stream",
     "text": [
      "[Parallel(n_jobs=-1)]: Done   4 out of  45 | elapsed:  1.1min remaining: 10.8min\n"
     ]
    },
    {
     "name": "stdout",
     "output_type": "stream",
     "text": [
      "[CV]  estimator__max_depth=2, estimator__n_estimators=100, score=-0.05403492249987104, total= 1.1min\n",
      "[CV]  estimator__max_depth=2, estimator__n_estimators=100, score=-19.5605670561603, total= 1.1min\n",
      "[CV]  estimator__max_depth=3, estimator__n_estimators=80, score=-0.036599359852769096, total= 1.2min\n",
      "[CV]  estimator__max_depth=3, estimator__n_estimators=80, score=-0.05224956098216098, total= 1.2min\n",
      "[CV]  estimator__max_depth=3, estimator__n_estimators=80, score=-19.564148770281246, total= 1.2min\n"
     ]
    },
    {
     "name": "stderr",
     "output_type": "stream",
     "text": [
      "[Parallel(n_jobs=-1)]: Done   9 out of  45 | elapsed:  1.2min remaining:  4.9min\n"
     ]
    },
    {
     "name": "stdout",
     "output_type": "stream",
     "text": [
      "[CV]  estimator__max_depth=2, estimator__n_estimators=120, score=-0.039526717399016635, total= 1.3min\n",
      "[CV]  estimator__max_depth=2, estimator__n_estimators=120, score=-0.05387016457989517, total= 1.3min\n",
      "[CV]  estimator__max_depth=2, estimator__n_estimators=120, score=-19.564257660809456, total= 1.3min\n",
      "[CV]  estimator__max_depth=3, estimator__n_estimators=100, score=-0.03678550916613392, total= 1.5min\n",
      "[CV]  estimator__max_depth=3, estimator__n_estimators=100, score=-0.05211947663851354, total= 1.5min\n"
     ]
    },
    {
     "name": "stderr",
     "output_type": "stream",
     "text": [
      "[Parallel(n_jobs=-1)]: Done  14 out of  45 | elapsed:  1.5min remaining:  3.4min\n"
     ]
    },
    {
     "name": "stdout",
     "output_type": "stream",
     "text": [
      "[CV]  estimator__max_depth=3, estimator__n_estimators=100, score=-19.560486210422035, total= 1.5min\n",
      "[CV]  estimator__max_depth=4, estimator__n_estimators=80, score=-0.03588927167469523, total= 1.5min\n",
      "[CV]  estimator__max_depth=4, estimator__n_estimators=80, score=-0.051615572614566965, total= 1.5min\n",
      "[CV]  estimator__max_depth=4, estimator__n_estimators=80, score=-19.566577382336114, total= 1.6min\n",
      "[CV]  estimator__max_depth=3, estimator__n_estimators=120, score=-0.036748555106581315, total= 1.8min\n"
     ]
    },
    {
     "name": "stderr",
     "output_type": "stream",
     "text": [
      "[Parallel(n_jobs=-1)]: Done  19 out of  45 | elapsed:  1.8min remaining:  2.5min\n"
     ]
    },
    {
     "name": "stdout",
     "output_type": "stream",
     "text": [
      "[CV]  estimator__max_depth=3, estimator__n_estimators=120, score=-0.05189420215506143, total= 1.8min\n",
      "[CV]  estimator__max_depth=3, estimator__n_estimators=120, score=-19.56474706315556, total= 1.8min\n",
      "[CV]  estimator__max_depth=5, estimator__n_estimators=80, score=-0.03570378203783167, total= 1.9min\n",
      "[CV]  estimator__max_depth=5, estimator__n_estimators=80, score=-0.051641975524513474, total= 1.9min\n",
      "[CV]  estimator__max_depth=5, estimator__n_estimators=80, score=-19.570046023951498, total= 1.9min\n"
     ]
    },
    {
     "name": "stderr",
     "output_type": "stream",
     "text": [
      "[Parallel(n_jobs=-1)]: Done  24 out of  45 | elapsed:  1.9min remaining:  1.7min\n"
     ]
    },
    {
     "name": "stdout",
     "output_type": "stream",
     "text": [
      "[CV]  estimator__max_depth=4, estimator__n_estimators=100, score=-0.03606503110803667, total= 1.9min\n",
      "[CV]  estimator__max_depth=4, estimator__n_estimators=100, score=-0.051466514905212174, total= 1.9min\n",
      "[CV]  estimator__max_depth=4, estimator__n_estimators=100, score=-19.562536346181908, total= 1.9min\n",
      "[CV]  estimator__max_depth=6, estimator__n_estimators=80, score=-0.035695034837174136, total= 2.2min\n",
      "[CV]  estimator__max_depth=6, estimator__n_estimators=80, score=-0.051577545590210896, total= 2.2min\n"
     ]
    },
    {
     "name": "stderr",
     "output_type": "stream",
     "text": [
      "[Parallel(n_jobs=-1)]: Done  29 out of  45 | elapsed:  2.2min remaining:  1.2min\n"
     ]
    },
    {
     "name": "stdout",
     "output_type": "stream",
     "text": [
      "[CV]  estimator__max_depth=6, estimator__n_estimators=80, score=-19.57215610975039, total= 2.2min\n",
      "[CV]  estimator__max_depth=4, estimator__n_estimators=120, score=-0.035993293248834275, total= 2.3min\n",
      "[CV]  estimator__max_depth=4, estimator__n_estimators=120, score=-0.05117828658346518, total= 2.3min\n",
      "[CV]  estimator__max_depth=5, estimator__n_estimators=100, score=-0.03568791156172303, total= 2.3min\n",
      "[CV]  estimator__max_depth=5, estimator__n_estimators=100, score=-0.05141114224972973, total= 2.3min\n"
     ]
    },
    {
     "name": "stderr",
     "output_type": "stream",
     "text": [
      "[Parallel(n_jobs=-1)]: Done  34 out of  45 | elapsed:  2.3min remaining:   45.2s\n"
     ]
    },
    {
     "name": "stdout",
     "output_type": "stream",
     "text": [
      "[CV]  estimator__max_depth=4, estimator__n_estimators=120, score=-19.56781640964846, total= 2.3min\n",
      "[CV]  estimator__max_depth=5, estimator__n_estimators=100, score=-19.56740540002925, total= 2.4min\n",
      "[CV]  estimator__max_depth=6, estimator__n_estimators=100, score=-0.035677567354436494, total= 2.7min\n",
      "[CV]  estimator__max_depth=6, estimator__n_estimators=100, score=-0.0512413263155908, total= 2.7min\n",
      "[CV]  estimator__max_depth=6, estimator__n_estimators=100, score=-19.569189718471904, total= 2.7min\n"
     ]
    },
    {
     "name": "stderr",
     "output_type": "stream",
     "text": [
      "[Parallel(n_jobs=-1)]: Done  39 out of  45 | elapsed:  2.7min remaining:   25.3s\n"
     ]
    },
    {
     "name": "stdout",
     "output_type": "stream",
     "text": [
      "[CV]  estimator__max_depth=5, estimator__n_estimators=120, score=-0.035650658975147596, total= 2.8min\n",
      "[CV]  estimator__max_depth=5, estimator__n_estimators=120, score=-0.05120258119195376, total= 2.8min\n",
      "[CV]  estimator__max_depth=5, estimator__n_estimators=120, score=-19.570857845098335, total= 2.8min\n",
      "[CV]  estimator__max_depth=6, estimator__n_estimators=120, score=-0.03559853084162989, total= 3.2min\n",
      "[CV]  estimator__max_depth=6, estimator__n_estimators=120, score=-0.05097422463979281, total= 3.2min\n",
      "[CV]  estimator__max_depth=6, estimator__n_estimators=120, score=-19.57276889307306, total= 3.2min\n"
     ]
    },
    {
     "name": "stderr",
     "output_type": "stream",
     "text": [
      "[Parallel(n_jobs=-1)]: Done  45 out of  45 | elapsed:  3.2min finished\n"
     ]
    },
    {
     "name": "stdout",
     "output_type": "stream",
     "text": [
      "  Best training score: 0.7623309750662809\n",
      "  Best testing score:  2.4446069007807174\n",
      "Best Grid Search model: {'estimator__max_depth': 3, 'estimator__n_estimators': 100}\n",
      "mean_squared_error: 2.4446069007807174\n"
     ]
    },
    {
     "data": {
      "image/png": "[encoded data removed]",
      "text/plain": [
       "<Figure size 720x576 with 1 Axes>"
      ]
     },
     "metadata": {},
     "output_type": "display_data"
    },
    {
     "name": "stdout",
     "output_type": "stream",
     "text": [
      "CPU times: user 2min 15s, sys: 11 s, total: 2min 26s\n",
      "Wall time: 6min 40s\n"
     ]
    }
   ],
   "source": [
    "%%time\n",
    "\n",
    "X_train, X_test, y_train, y_test = ready_data(2015, 2017, train_blockid_dict,\n",
    "                                              X_test_start_year, X_test_end_year, test_blockid_dict,\n",
    "                                              DAY_OF_WEEK)\n",
    "\n",
    "print(X_train.shape, y_train.shape, X_test.shape, y_test.shape)\n",
    "model = MultiOutputRegressor(RandomForestRegressor(max_depth=3, n_estimators=80))\n",
    "if use_counts == True:\n",
    "    y_test_dow, y_pred_dow, rpd_dow = get_predictions(X_train, y_train, X_test, y_test, \n",
    "                                                      'day of week for each month', \n",
    "                                                      f'crime count {SEVERITY_OPERATOR} {SEVERITY_SCALING_FACTOR}', \n",
    "                                                      model, do_gridsearch=do_gridsearch)\n",
    "else:\n",
    "    y_test_dow, y_pred_dow, rpd_dow = get_predictions(X_train, y_train, X_test, y_test, \n",
    "                                                      'day of week for each month', \n",
    "                                                      f'risk {SEVERITY_OPERATOR} {SEVERITY_SCALING_FACTOR}', \n",
    "                                                      model, do_gridsearch=do_gridsearch)"
   ]
  },
  {
   "cell_type": "code",
   "execution_count": 12,
   "metadata": {},
   "outputs": [
    {
     "data": {
      "image/png": "[encoded data removed]",
      "text/plain": [
       "<Figure size 720x576 with 1 Axes>"
      ]
     },
     "metadata": {},
     "output_type": "display_data"
    }
   ],
   "source": [
    "plot_output(y_test.flatten()[:100], y_pred_dow.flatten()[:100], 'Test', 'day of week for each month', 'crime count per million')"
   ]
  },
  {
   "cell_type": "markdown",
   "metadata": {},
   "source": [
    "## Day of month analysis for each month of each block id"
   ]
  },
  {
   "cell_type": "code",
   "execution_count": 13,
   "metadata": {},
   "outputs": [
    {
     "name": "stdout",
     "output_type": "stream",
     "text": [
      "(801, 24, 31) (801, 12, 31) (801, 24, 31) (801, 12, 31)\n",
      "Number of data points: 297972\n",
      "Number of non-zero elements: 143233\n",
      "Percentage of non-zero elements: 0.4806928167747305\n"
     ]
    },
    {
     "data": {
      "image/png": "[encoded data removed]",
      "text/plain": [
       "<Figure size 432x288 with 1 Axes>"
      ]
     },
     "metadata": {},
     "output_type": "display_data"
    },
    {
     "name": "stdout",
     "output_type": "stream",
     "text": [
      "Correlation between y_train and y_test:\n",
      " [[1.00000000e+00 3.40419896e-04]\n",
      " [3.40419896e-04 1.00000000e+00]]\n",
      "y_test shape after reshaping: (801, 372)\n",
      "Fitting 3 folds for each of 15 candidates, totalling 45 fits\n",
      "[CV] estimator__max_depth=2, estimator__n_estimators=80 ..............\n",
      "[CV] estimator__max_depth=2, estimator__n_estimators=80 ..............\n",
      "[CV] estimator__max_depth=2, estimator__n_estimators=80 ..............\n",
      "[CV] estimator__max_depth=2, estimator__n_estimators=100 .............\n",
      "[CV] estimator__max_depth=2, estimator__n_estimators=100 .............\n",
      "[CV] estimator__max_depth=2, estimator__n_estimators=100 .............\n",
      "[CV] estimator__max_depth=2, estimator__n_estimators=120 .............\n",
      "[CV] estimator__max_depth=2, estimator__n_estimators=120 .............\n",
      "[CV] estimator__max_depth=3, estimator__n_estimators=80 ..............\n",
      "[CV] estimator__max_depth=2, estimator__n_estimators=120 .............\n",
      "[CV] estimator__max_depth=3, estimator__n_estimators=80 ..............\n",
      "[CV] estimator__max_depth=3, estimator__n_estimators=80 ..............\n",
      "[CV] estimator__max_depth=3, estimator__n_estimators=100 .............\n",
      "[CV] estimator__max_depth=3, estimator__n_estimators=100 .............\n",
      "[CV] estimator__max_depth=3, estimator__n_estimators=100 .............\n",
      "[CV] estimator__max_depth=3, estimator__n_estimators=120 .............\n",
      "[CV] estimator__max_depth=3, estimator__n_estimators=120 .............\n",
      "[CV] estimator__max_depth=3, estimator__n_estimators=120 .............\n",
      "[CV] estimator__max_depth=4, estimator__n_estimators=80 ..............\n",
      "[CV] estimator__max_depth=4, estimator__n_estimators=80 ..............\n",
      "[CV] estimator__max_depth=4, estimator__n_estimators=80 ..............\n",
      "[CV] estimator__max_depth=4, estimator__n_estimators=100 .............\n",
      "[CV] estimator__max_depth=4, estimator__n_estimators=100 .............\n",
      "[CV] estimator__max_depth=4, estimator__n_estimators=100 .............\n",
      "[CV] estimator__max_depth=4, estimator__n_estimators=120 .............\n",
      "[CV] estimator__max_depth=4, estimator__n_estimators=120 .............\n",
      "[CV] estimator__max_depth=4, estimator__n_estimators=120 .............\n",
      "[CV] estimator__max_depth=5, estimator__n_estimators=80 ..............\n",
      "[CV] estimator__max_depth=5, estimator__n_estimators=80 ..............\n",
      "[CV] estimator__max_depth=5, estimator__n_estimators=80 ..............\n",
      "[CV] estimator__max_depth=5, estimator__n_estimators=100 .............\n",
      "[CV] estimator__max_depth=5, estimator__n_estimators=100 .............\n",
      "[CV] estimator__max_depth=5, estimator__n_estimators=100 .............\n",
      "[CV] estimator__max_depth=5, estimator__n_estimators=120 .............\n",
      "[CV] estimator__max_depth=5, estimator__n_estimators=120 .............\n",
      "[CV] estimator__max_depth=5, estimator__n_estimators=120 .............\n",
      "[CV] estimator__max_depth=6, estimator__n_estimators=80 ..............\n",
      "[CV] estimator__max_depth=6, estimator__n_estimators=80 ..............\n",
      "[CV] estimator__max_depth=6, estimator__n_estimators=80 ..............\n",
      "[CV] estimator__max_depth=6, estimator__n_estimators=100 .............\n",
      "[CV] estimator__max_depth=6, estimator__n_estimators=100 .............\n",
      "[CV] estimator__max_depth=6, estimator__n_estimators=100 .............\n",
      "[CV] estimator__max_depth=6, estimator__n_estimators=120 .............\n",
      "[CV] estimator__max_depth=6, estimator__n_estimators=120 .............\n",
      "[CV] estimator__max_depth=6, estimator__n_estimators=120 .............\n",
      "[CV]  estimator__max_depth=2, estimator__n_estimators=80, score=-0.0386557657037152, total= 9.5min\n",
      "[CV]  estimator__max_depth=2, estimator__n_estimators=80, score=-4.748182737773455, total= 9.8min\n",
      "[CV]  estimator__max_depth=2, estimator__n_estimators=80, score=-0.03547527499069875, total= 9.8min\n",
      "[CV]  estimator__max_depth=2, estimator__n_estimators=100, score=-0.03859223129017833, total=11.9min\n"
     ]
    },
    {
     "name": "stderr",
     "output_type": "stream",
     "text": [
      "[Parallel(n_jobs=-1)]: Done   4 out of  45 | elapsed: 11.9min remaining: 122.3min\n"
     ]
    },
    {
     "name": "stdout",
     "output_type": "stream",
     "text": [
      "[CV]  estimator__max_depth=2, estimator__n_estimators=100, score=-4.747993652315544, total=12.2min\n",
      "[CV]  estimator__max_depth=2, estimator__n_estimators=100, score=-0.035550394656184536, total=12.2min\n",
      "[CV]  estimator__max_depth=3, estimator__n_estimators=80, score=-0.03781993717148129, total=13.9min\n",
      "[CV]  estimator__max_depth=2, estimator__n_estimators=120, score=-0.038538113248433065, total=14.3min\n",
      "[CV]  estimator__max_depth=3, estimator__n_estimators=80, score=-4.7478222100923855, total=14.3min\n"
     ]
    },
    {
     "name": "stderr",
     "output_type": "stream",
     "text": [
      "[Parallel(n_jobs=-1)]: Done   9 out of  45 | elapsed: 14.3min remaining: 57.2min\n"
     ]
    },
    {
     "name": "stdout",
     "output_type": "stream",
     "text": [
      "[CV]  estimator__max_depth=3, estimator__n_estimators=80, score=-0.034856803711152455, total=14.3min\n",
      "[CV]  estimator__max_depth=2, estimator__n_estimators=120, score=-4.747913273538583, total=14.6min\n",
      "[CV]  estimator__max_depth=2, estimator__n_estimators=120, score=-0.035532759516874624, total=14.6min\n",
      "[CV]  estimator__max_depth=3, estimator__n_estimators=100, score=-0.037737708844365926, total=17.3min\n",
      "[CV]  estimator__max_depth=3, estimator__n_estimators=100, score=-4.747817780659946, total=17.7min\n"
     ]
    },
    {
     "name": "stderr",
     "output_type": "stream",
     "text": [
      "[Parallel(n_jobs=-1)]: Done  14 out of  45 | elapsed: 17.8min remaining: 39.4min\n"
     ]
    },
    {
     "name": "stdout",
     "output_type": "stream",
     "text": [
      "[CV]  estimator__max_depth=3, estimator__n_estimators=100, score=-0.03490184700642875, total=17.8min\n",
      "[CV]  estimator__max_depth=4, estimator__n_estimators=80, score=-0.037274311038267165, total=18.1min\n",
      "[CV]  estimator__max_depth=4, estimator__n_estimators=80, score=-4.7478491161847804, total=18.5min\n",
      "[CV]  estimator__max_depth=4, estimator__n_estimators=80, score=-0.03448118812577264, total=18.6min\n",
      "[CV]  estimator__max_depth=3, estimator__n_estimators=120, score=-0.03766158415044386, total=20.7min\n"
     ]
    },
    {
     "name": "stderr",
     "output_type": "stream",
     "text": [
      "[Parallel(n_jobs=-1)]: Done  19 out of  45 | elapsed: 20.7min remaining: 28.4min\n"
     ]
    },
    {
     "name": "stdout",
     "output_type": "stream",
     "text": [
      "[CV]  estimator__max_depth=3, estimator__n_estimators=120, score=-0.0348457620568408, total=21.2min\n",
      "[CV]  estimator__max_depth=3, estimator__n_estimators=120, score=-4.747613358944233, total=21.3min\n",
      "[CV]  estimator__max_depth=5, estimator__n_estimators=80, score=-0.03699252320776565, total=22.0min\n",
      "[CV]  estimator__max_depth=4, estimator__n_estimators=100, score=-0.0372395666078312, total=22.5min\n",
      "[CV]  estimator__max_depth=5, estimator__n_estimators=80, score=-4.748016226191326, total=22.6min\n"
     ]
    },
    {
     "name": "stderr",
     "output_type": "stream",
     "text": [
      "[Parallel(n_jobs=-1)]: Done  24 out of  45 | elapsed: 22.6min remaining: 19.8min\n"
     ]
    },
    {
     "name": "stdout",
     "output_type": "stream",
     "text": [
      "[CV]  estimator__max_depth=5, estimator__n_estimators=80, score=-0.034266136273812794, total=22.6min\n",
      "[CV]  estimator__max_depth=4, estimator__n_estimators=100, score=-4.747821926688241, total=23.1min\n",
      "[CV]  estimator__max_depth=4, estimator__n_estimators=100, score=-0.03452027699044276, total=23.2min\n",
      "[CV]  estimator__max_depth=6, estimator__n_estimators=80, score=-0.03684667382266019, total=25.9min\n",
      "[CV]  estimator__max_depth=6, estimator__n_estimators=80, score=-4.748437262310543, total=26.4min\n"
     ]
    },
    {
     "name": "stderr",
     "output_type": "stream",
     "text": [
      "[Parallel(n_jobs=-1)]: Done  29 out of  45 | elapsed: 26.5min remaining: 14.6min\n"
     ]
    },
    {
     "name": "stdout",
     "output_type": "stream",
     "text": [
      "[CV]  estimator__max_depth=6, estimator__n_estimators=80, score=-0.03421888175813557, total=26.5min\n",
      "[CV]  estimator__max_depth=4, estimator__n_estimators=120, score=-0.03713473751443731, total=26.9min\n",
      "[CV]  estimator__max_depth=5, estimator__n_estimators=100, score=-0.03695359260197739, total=27.5min\n",
      "[CV]  estimator__max_depth=4, estimator__n_estimators=120, score=-4.747609245473516, total=27.6min\n",
      "[CV]  estimator__max_depth=4, estimator__n_estimators=120, score=-0.034463030622593385, total=27.7min\n"
     ]
    },
    {
     "name": "stderr",
     "output_type": "stream",
     "text": [
      "[Parallel(n_jobs=-1)]: Done  34 out of  45 | elapsed: 27.8min remaining:  9.0min\n"
     ]
    },
    {
     "name": "stdout",
     "output_type": "stream",
     "text": [
      "[CV]  estimator__max_depth=5, estimator__n_estimators=100, score=-4.748008505286413, total=28.1min\n",
      "[CV]  estimator__max_depth=5, estimator__n_estimators=100, score=-0.03433560159858869, total=28.2min\n",
      "[CV]  estimator__max_depth=6, estimator__n_estimators=100, score=-0.036813311193006376, total=32.2min\n",
      "[CV]  estimator__max_depth=6, estimator__n_estimators=100, score=-4.748257345827434, total=32.8min\n",
      "[CV]  estimator__max_depth=5, estimator__n_estimators=120, score=-0.03683189751359123, total=32.9min\n"
     ]
    },
    {
     "name": "stderr",
     "output_type": "stream",
     "text": [
      "[Parallel(n_jobs=-1)]: Done  39 out of  45 | elapsed: 33.0min remaining:  5.1min\n"
     ]
    },
    {
     "name": "stdout",
     "output_type": "stream",
     "text": [
      "[CV]  estimator__max_depth=6, estimator__n_estimators=100, score=-0.03423578490507144, total=33.0min\n",
      "[CV]  estimator__max_depth=5, estimator__n_estimators=120, score=-4.747864707899044, total=33.6min\n",
      "[CV]  estimator__max_depth=5, estimator__n_estimators=120, score=-0.03426573225949206, total=33.7min\n",
      "[CV]  estimator__max_depth=6, estimator__n_estimators=120, score=-0.036677525772239636, total=38.1min\n",
      "[CV]  estimator__max_depth=6, estimator__n_estimators=120, score=-4.748197660678718, total=38.9min\n",
      "[CV]  estimator__max_depth=6, estimator__n_estimators=120, score=-0.034184286056127576, total=39.0min\n"
     ]
    },
    {
     "name": "stderr",
     "output_type": "stream",
     "text": [
      "[Parallel(n_jobs=-1)]: Done  45 out of  45 | elapsed: 39.1min finished\n"
     ]
    },
    {
     "name": "stdout",
     "output_type": "stream",
     "text": [
      "  Best training score: 0.2177513146028994\n",
      "  Best testing score:  0.5714039916422063\n",
      "Best Grid Search model: {'estimator__max_depth': 5, 'estimator__n_estimators': 120}\n",
      "mean_squared_error: 0.5714039916422063\n"
     ]
    },
    {
     "data": {
      "image/png": "[encoded data removed]",
      "text/plain": [
       "<Figure size 720x576 with 1 Axes>"
      ]
     },
     "metadata": {},
     "output_type": "display_data"
    },
    {
     "name": "stdout",
     "output_type": "stream",
     "text": [
      "CPU times: user 48min 17s, sys: 12.6 s, total: 48min 29s\n",
      "Wall time: 1h 28min 14s\n"
     ]
    },
    {
     "name": "stderr",
     "output_type": "stream",
     "text": [
      "/home/ec2-user/anaconda3/envs/tensorflow_p36/lib/python3.6/site-packages/ipykernel/__main__.py:72: RuntimeWarning: invalid value encountered in true_divide\n"
     ]
    }
   ],
   "source": [
    "%%time\n",
    "\n",
    "X_train, X_test, y_train, y_test = ready_data(2015, 2017, train_blockid_dict,\n",
    "                                              X_test_start_year, X_test_end_year, test_blockid_dict,\n",
    "                                              DAY_OF_MONTH)\n",
    "\n",
    "print(X_train.shape, y_train.shape, X_test.shape, y_test.shape)\n",
    "\n",
    "model = MultiOutputRegressor(RandomForestRegressor(max_depth=5, n_estimators=120))\n",
    "if use_counts == True:\n",
    "    y_test_dom, y_pred_dom, rpd_dom = get_predictions(X_train, y_train, X_test, y_test, \n",
    "                                                      'day of month for each month', \n",
    "                                                      f'crime count {SEVERITY_OPERATOR} {SEVERITY_SCALING_FACTOR}', \n",
    "                                                      model, do_gridsearch=do_gridsearch)\n",
    "else:\n",
    "    y_test_dom, y_pred_dom, rpd_dom = get_predictions(X_train, y_train, X_test, y_test, \n",
    "                                                      'day of month for each month', \n",
    "                                                      f'risk {SEVERITY_OPERATOR} {SEVERITY_SCALING_FACTOR}', \n",
    "                                                      model, do_gridsearch=do_gridsearch)"
   ]
  },
  {
   "cell_type": "markdown",
   "metadata": {},
   "source": [
    "## Hour of day analysis for each month of each block id"
   ]
  },
  {
   "cell_type": "code",
   "execution_count": 14,
   "metadata": {},
   "outputs": [
    {
     "name": "stdout",
     "output_type": "stream",
     "text": [
      "(801, 24, 24) (801, 12, 24) (801, 24, 24) (801, 12, 24)\n",
      "Number of data points: 230688\n",
      "Number of non-zero elements: 125060\n",
      "Percentage of non-zero elements: 0.5421174920238591\n"
     ]
    },
    {
     "data": {
      "image/png": "[encoded data removed]",
      "text/plain": [
       "<Figure size 432x288 with 1 Axes>"
      ]
     },
     "metadata": {},
     "output_type": "display_data"
    },
    {
     "name": "stdout",
     "output_type": "stream",
     "text": [
      "Correlation between y_train and y_test:\n",
      " [[1.00000000e+00 9.95525689e-04]\n",
      " [9.95525689e-04 1.00000000e+00]]\n",
      "y_test shape after reshaping: (801, 288)\n",
      "Fitting 3 folds for each of 15 candidates, totalling 45 fits\n",
      "[CV] estimator__max_depth=2, estimator__n_estimators=80 ..............\n",
      "[CV] estimator__max_depth=2, estimator__n_estimators=80 ..............\n",
      "[CV] estimator__max_depth=2, estimator__n_estimators=80 ..............\n",
      "[CV] estimator__max_depth=2, estimator__n_estimators=100 .............\n",
      "[CV] estimator__max_depth=2, estimator__n_estimators=100 .............\n",
      "[CV] estimator__max_depth=2, estimator__n_estimators=100 .............\n",
      "[CV] estimator__max_depth=2, estimator__n_estimators=120 .............\n",
      "[CV] estimator__max_depth=2, estimator__n_estimators=120 .............\n",
      "[CV] estimator__max_depth=3, estimator__n_estimators=80 ..............\n",
      "[CV] estimator__max_depth=3, estimator__n_estimators=80 ..............\n",
      "[CV] estimator__max_depth=2, estimator__n_estimators=120 .............\n",
      "[CV] estimator__max_depth=3, estimator__n_estimators=80 ..............\n",
      "[CV] estimator__max_depth=3, estimator__n_estimators=100 .............\n",
      "[CV] estimator__max_depth=3, estimator__n_estimators=100 .............\n",
      "[CV] estimator__max_depth=3, estimator__n_estimators=100 .............\n",
      "[CV] estimator__max_depth=3, estimator__n_estimators=120 .............\n",
      "[CV] estimator__max_depth=3, estimator__n_estimators=120 .............\n",
      "[CV] estimator__max_depth=3, estimator__n_estimators=120 .............\n",
      "[CV] estimator__max_depth=4, estimator__n_estimators=80 ..............\n",
      "[CV] estimator__max_depth=4, estimator__n_estimators=80 ..............\n",
      "[CV] estimator__max_depth=4, estimator__n_estimators=80 ..............\n",
      "[CV] estimator__max_depth=4, estimator__n_estimators=100 .............\n",
      "[CV] estimator__max_depth=4, estimator__n_estimators=100 .............\n",
      "[CV] estimator__max_depth=4, estimator__n_estimators=100 .............\n",
      "[CV] estimator__max_depth=4, estimator__n_estimators=120 .............\n",
      "[CV] estimator__max_depth=4, estimator__n_estimators=120 .............\n",
      "[CV] estimator__max_depth=4, estimator__n_estimators=120 .............\n",
      "[CV] estimator__max_depth=5, estimator__n_estimators=80 ..............\n",
      "[CV] estimator__max_depth=5, estimator__n_estimators=80 ..............\n",
      "[CV] estimator__max_depth=5, estimator__n_estimators=80 ..............\n",
      "[CV] estimator__max_depth=5, estimator__n_estimators=100 .............\n",
      "[CV] estimator__max_depth=5, estimator__n_estimators=100 .............\n",
      "[CV] estimator__max_depth=5, estimator__n_estimators=100 .............\n",
      "[CV] estimator__max_depth=5, estimator__n_estimators=120 .............\n",
      "[CV] estimator__max_depth=5, estimator__n_estimators=120 .............\n",
      "[CV] estimator__max_depth=5, estimator__n_estimators=120 .............\n",
      "[CV] estimator__max_depth=6, estimator__n_estimators=80 ..............\n",
      "[CV] estimator__max_depth=6, estimator__n_estimators=80 ..............\n",
      "[CV] estimator__max_depth=6, estimator__n_estimators=80 ..............\n",
      "[CV] estimator__max_depth=6, estimator__n_estimators=100 .............\n",
      "[CV] estimator__max_depth=6, estimator__n_estimators=100 .............\n",
      "[CV] estimator__max_depth=6, estimator__n_estimators=100 .............\n",
      "[CV] estimator__max_depth=6, estimator__n_estimators=120 .............\n",
      "[CV] estimator__max_depth=6, estimator__n_estimators=120 .............\n",
      "[CV] estimator__max_depth=6, estimator__n_estimators=120 .............\n",
      "[CV]  estimator__max_depth=2, estimator__n_estimators=80, score=-0.04110918636872027, total= 6.4min\n",
      "[CV]  estimator__max_depth=2, estimator__n_estimators=80, score=-0.03896090863643964, total= 6.6min\n",
      "[CV]  estimator__max_depth=2, estimator__n_estimators=80, score=-5.763665744516424, total= 6.6min\n",
      "[CV]  estimator__max_depth=2, estimator__n_estimators=100, score=-0.041151156731685644, total= 8.0min\n"
     ]
    },
    {
     "name": "stderr",
     "output_type": "stream",
     "text": [
      "[Parallel(n_jobs=-1)]: Done   4 out of  45 | elapsed:  8.0min remaining: 82.5min\n"
     ]
    },
    {
     "name": "stdout",
     "output_type": "stream",
     "text": [
      "[CV]  estimator__max_depth=2, estimator__n_estimators=100, score=-0.03884073786937239, total= 8.2min\n",
      "[CV]  estimator__max_depth=2, estimator__n_estimators=100, score=-5.763504076218412, total= 8.2min\n",
      "[CV]  estimator__max_depth=3, estimator__n_estimators=80, score=-0.040083178071517254, total= 9.4min\n",
      "[CV]  estimator__max_depth=3, estimator__n_estimators=80, score=-0.038235253820286245, total= 9.6min\n",
      "[CV]  estimator__max_depth=3, estimator__n_estimators=80, score=-5.7636050593600014, total= 9.6min\n",
      "[CV]  estimator__max_depth=2, estimator__n_estimators=120, score=-0.04107124981289405, total= 9.6min\n"
     ]
    },
    {
     "name": "stderr",
     "output_type": "stream",
     "text": [
      "[Parallel(n_jobs=-1)]: Done   9 out of  45 | elapsed:  9.6min remaining: 38.4min\n"
     ]
    },
    {
     "name": "stdout",
     "output_type": "stream",
     "text": [
      "[CV]  estimator__max_depth=2, estimator__n_estimators=120, score=-5.763019663966277, total= 9.8min\n",
      "[CV]  estimator__max_depth=2, estimator__n_estimators=120, score=-0.038866758176543614, total= 9.8min\n",
      "[CV]  estimator__max_depth=3, estimator__n_estimators=100, score=-0.04015033299608229, total=11.6min\n",
      "[CV]  estimator__max_depth=3, estimator__n_estimators=100, score=-0.03808443823329177, total=11.9min\n",
      "[CV]  estimator__max_depth=3, estimator__n_estimators=100, score=-5.763577815538893, total=11.9min\n"
     ]
    },
    {
     "name": "stderr",
     "output_type": "stream",
     "text": [
      "[Parallel(n_jobs=-1)]: Done  14 out of  45 | elapsed: 11.9min remaining: 26.4min\n"
     ]
    },
    {
     "name": "stdout",
     "output_type": "stream",
     "text": [
      "[CV]  estimator__max_depth=4, estimator__n_estimators=80, score=-0.039527338087170696, total=12.2min\n",
      "[CV]  estimator__max_depth=4, estimator__n_estimators=80, score=-0.03787008019097782, total=12.5min\n",
      "[CV]  estimator__max_depth=4, estimator__n_estimators=80, score=-5.764116781750419, total=12.5min\n",
      "[CV]  estimator__max_depth=3, estimator__n_estimators=120, score=-0.04008957120421444, total=14.0min\n"
     ]
    },
    {
     "name": "stderr",
     "output_type": "stream",
     "text": [
      "[Parallel(n_jobs=-1)]: Done  19 out of  45 | elapsed: 14.0min remaining: 19.1min\n"
     ]
    },
    {
     "name": "stdout",
     "output_type": "stream",
     "text": [
      "[CV]  estimator__max_depth=3, estimator__n_estimators=120, score=-0.03808271903655759, total=14.3min\n",
      "[CV]  estimator__max_depth=3, estimator__n_estimators=120, score=-5.763059819403678, total=14.3min\n",
      "[CV]  estimator__max_depth=5, estimator__n_estimators=80, score=-0.039327076828190255, total=14.8min\n",
      "[CV]  estimator__max_depth=5, estimator__n_estimators=80, score=-5.764753293890298, total=15.2min\n",
      "[CV]  estimator__max_depth=4, estimator__n_estimators=100, score=-0.03962914864884949, total=15.2min\n"
     ]
    },
    {
     "name": "stderr",
     "output_type": "stream",
     "text": [
      "[Parallel(n_jobs=-1)]: Done  24 out of  45 | elapsed: 15.2min remaining: 13.3min\n"
     ]
    },
    {
     "name": "stdout",
     "output_type": "stream",
     "text": [
      "[CV]  estimator__max_depth=5, estimator__n_estimators=80, score=-0.037643634675661196, total=15.2min\n",
      "[CV]  estimator__max_depth=4, estimator__n_estimators=100, score=-0.03770178091880296, total=15.5min\n",
      "[CV]  estimator__max_depth=4, estimator__n_estimators=100, score=-5.763839877626217, total=15.5min\n",
      "[CV]  estimator__max_depth=6, estimator__n_estimators=80, score=-0.039176240022882974, total=17.4min\n",
      "[CV]  estimator__max_depth=6, estimator__n_estimators=80, score=-0.03761167108162238, total=17.7min\n"
     ]
    },
    {
     "name": "stderr",
     "output_type": "stream",
     "text": [
      "[Parallel(n_jobs=-1)]: Done  29 out of  45 | elapsed: 17.8min remaining:  9.8min\n"
     ]
    },
    {
     "name": "stdout",
     "output_type": "stream",
     "text": [
      "[CV]  estimator__max_depth=6, estimator__n_estimators=80, score=-5.765207511045215, total=17.8min\n",
      "[CV]  estimator__max_depth=4, estimator__n_estimators=120, score=-0.0395662651283363, total=18.1min\n",
      "[CV]  estimator__max_depth=5, estimator__n_estimators=100, score=-0.039369680386143885, total=18.5min\n",
      "[CV]  estimator__max_depth=4, estimator__n_estimators=120, score=-0.037748909646065046, total=18.5min\n",
      "[CV]  estimator__max_depth=4, estimator__n_estimators=120, score=-5.763520958899317, total=18.6min\n"
     ]
    },
    {
     "name": "stderr",
     "output_type": "stream",
     "text": [
      "[Parallel(n_jobs=-1)]: Done  34 out of  45 | elapsed: 18.6min remaining:  6.0min\n"
     ]
    },
    {
     "name": "stdout",
     "output_type": "stream",
     "text": [
      "[CV]  estimator__max_depth=5, estimator__n_estimators=100, score=-0.0375258782712015, total=18.9min\n",
      "[CV]  estimator__max_depth=5, estimator__n_estimators=100, score=-5.7643134014261825, total=18.9min\n",
      "[CV]  estimator__max_depth=6, estimator__n_estimators=100, score=-0.039207306146320064, total=21.6min\n",
      "[CV]  estimator__max_depth=6, estimator__n_estimators=100, score=-0.037443109522322396, total=22.1min\n",
      "[CV]  estimator__max_depth=5, estimator__n_estimators=120, score=-0.039265483518570815, total=22.1min\n"
     ]
    },
    {
     "name": "stderr",
     "output_type": "stream",
     "text": [
      "[Parallel(n_jobs=-1)]: Done  39 out of  45 | elapsed: 22.2min remaining:  3.4min\n"
     ]
    },
    {
     "name": "stdout",
     "output_type": "stream",
     "text": [
      "[CV]  estimator__max_depth=6, estimator__n_estimators=100, score=-5.7648640367317325, total=22.2min\n",
      "[CV]  estimator__max_depth=5, estimator__n_estimators=120, score=-0.03753285902642277, total=22.6min\n",
      "[CV]  estimator__max_depth=5, estimator__n_estimators=120, score=-5.764046291354114, total=22.6min\n",
      "[CV]  estimator__max_depth=6, estimator__n_estimators=120, score=-0.03910388906908784, total=25.7min\n",
      "[CV]  estimator__max_depth=6, estimator__n_estimators=120, score=-0.037422809299528806, total=26.2min\n",
      "[CV]  estimator__max_depth=6, estimator__n_estimators=120, score=-5.764443288198643, total=26.3min\n"
     ]
    },
    {
     "name": "stderr",
     "output_type": "stream",
     "text": [
      "[Parallel(n_jobs=-1)]: Done  45 out of  45 | elapsed: 26.3min finished\n"
     ]
    },
    {
     "name": "stdout",
     "output_type": "stream",
     "text": [
      "  Best training score: 0.35308704371886895\n",
      "  Best testing score:  0.6942061430820712\n",
      "Best Grid Search model: {'estimator__max_depth': 4, 'estimator__n_estimators': 120}\n",
      "mean_squared_error: 0.6942061430820712\n"
     ]
    },
    {
     "data": {
      "image/png": "[encoded data removed]",
      "text/plain": [
       "<Figure size 720x576 with 1 Axes>"
      ]
     },
     "metadata": {},
     "output_type": "display_data"
    },
    {
     "name": "stdout",
     "output_type": "stream",
     "text": [
      "CPU times: user 26min 23s, sys: 10.5 s, total: 26min 34s\n",
      "Wall time: 53min 32s\n"
     ]
    }
   ],
   "source": [
    "%%time\n",
    "\n",
    "X_train, X_test, y_train, y_test = ready_data(2015, 2017, train_blockid_dict,\n",
    "                                              X_test_start_year, X_test_end_year, test_blockid_dict,\n",
    "                                              HOUR_OF_DAY)\n",
    "\n",
    "print(X_train.shape, y_train.shape, X_test.shape, y_test.shape)\n",
    "\n",
    "model = MultiOutputRegressor(RandomForestRegressor(max_depth=5, n_estimators=100))\n",
    "if use_counts == True:\n",
    "    y_test_hod, y_pred_hod, rpd_hod = get_predictions(X_train, y_train, X_test, y_test, \n",
    "                                                      'hour of day for each month', \n",
    "                                                      f'crime count {SEVERITY_OPERATOR} {SEVERITY_SCALING_FACTOR}', \n",
    "                                                      model, do_gridsearch=do_gridsearch)\n",
    "else:\n",
    "    y_test_hod, y_pred_hod, rpd_hod = get_predictions(X_train, y_train, X_test, y_test, \n",
    "                                                      'hour of day for each month', \n",
    "                                                      f'risk {SEVERITY_OPERATOR} {SEVERITY_SCALING_FACTOR}', \n",
    "                                                      model, do_gridsearch=do_gridsearch)"
   ]
  },
  {
   "cell_type": "markdown",
   "metadata": {},
   "source": [
    "## Weigh and combine predictions into one array"
   ]
  },
  {
   "cell_type": "code",
   "execution_count": 15,
   "metadata": {},
   "outputs": [
    {
     "name": "stdout",
     "output_type": "stream",
     "text": [
      "Number of nans after replacement: 0\n"
     ]
    },
    {
     "name": "stderr",
     "output_type": "stream",
     "text": [
      "/home/ec2-user/anaconda3/envs/tensorflow_p36/lib/python3.6/site-packages/ipykernel/__main__.py:76: RuntimeWarning: invalid value encountered in double_scalars\n",
      "/home/ec2-user/anaconda3/envs/tensorflow_p36/lib/python3.6/site-packages/ipykernel/__main__.py:79: RuntimeWarning: divide by zero encountered in double_scalars\n"
     ]
    }
   ],
   "source": [
    "NUM_BLOCKIDS       = 801\n",
    "NUM_MONTHS_IN_YEAR = 12\n",
    "NUM_DAYS_IN_WEEK   = 7\n",
    "NUM_HOURS_IN_DAY   = 24\n",
    "\n",
    "risks = np.zeros((NUM_BLOCKIDS, NUM_MONTHS_IN_YEAR, NUM_DAYS_IN_WEEK * NUM_HOURS_IN_DAY))\n",
    "\n",
    "# Each of the relative percent difference arrays can contain NaN's.\n",
    "# This is because if both y_pred and y_true were zeros, their\n",
    "# addition is also zero, and we cannot divide by this zero.\n",
    "# Here we replace NaN's to get around that issue.\n",
    "# Since we want to have the highest weight to those values that\n",
    "# have the same y_pred and y_true, we will give the largest value\n",
    "# from our array to these NaNs.\n",
    "\n",
    "def replace_nans(a):\n",
    "    b = a.copy()\n",
    "    for row in range(a.shape[0]):\n",
    "        # max_of_row = np.max(row)\n",
    "        for col in range(a.shape[1]):\n",
    "            if np.isnan(a[row][col]):\n",
    "                # b[row][col] = max_of_row\n",
    "                b[row][col] = 1.0\n",
    "    return b\n",
    "\n",
    "rpd_dow = replace_nans(rpd_dow)\n",
    "rpd_dom = replace_nans(rpd_dom)\n",
    "rpd_hod = replace_nans(rpd_hod)\n",
    "\n",
    "print('Number of nans after replacement:', np.isnan(rpd_dow).sum())\n",
    "\n",
    "# Returns number of days in a month\n",
    "def days_in_month(year, month):\n",
    "    p = pd.Period(f'{year}-{month}-1')\n",
    "    return p.days_in_month\n",
    "\n",
    "# Day of week returns 0-based day value\n",
    "def day_of_week(dt):\n",
    "    return dt.weekday()\n",
    "\n",
    "end_year = X_test_end_year\n",
    "\n",
    "for blockid in range(NUM_BLOCKIDS):\n",
    "    for month in range(1, NUM_MONTHS_IN_YEAR + 1):\n",
    "        \n",
    "        count = np.zeros(NUM_DAYS_IN_WEEK * NUM_HOURS_IN_DAY)\n",
    "        for day in range(1, days_in_month(end_year, month) + 1):\n",
    "            for hour in range(24):\n",
    "                dow  = day_of_week(datetime(end_year, month, day))\n",
    "\n",
    "                # calculate how good y_pred - y_true is (say for hod) = abs((y_pred_hourly - y_true_hourly) / (y_pred + y_true))\n",
    "                # \n",
    "                # calculate how good y_pred - y_true is (say for hod) = abs((y_pred - y_true) / (y_pred + y_true))\n",
    "                #                                                      1       8         8           8        8   = 0\n",
    "                #                                                      0.33   20        4           20       4   = 0.67\n",
    "                #                                                      0.04   200       4           200      4   = 0.96\n",
    "                #                                                      \n",
    "                # calculate relative differences between hod, dow, dom\n",
    "                #                                                      (pred1 * 1 + pred2 * 0.33)/(1 + 0.33)\n",
    "                #                                                       0.03*pred1 + 0.24*pred2\n",
    "                #                                                         (8*1      + 9*0.33)/1.33  = 8.24\n",
    "                # dow risk = 10    actual = 9   weight = 1  = abs(10 - 9) / (10 + 9) = 0.05\n",
    "                # dom risk = 8     actual = 8   weight = 2  = abs(8 - 8) / (8 + 8)   = 0\n",
    "                #                                                 % diff same => same weights\n",
    "                #                                                 %\n",
    "                #   (10 * 1 + 8 * 2) / (1 + 2) = 8.6667\n",
    "                weight_dow = rpd_dow[blockid, (month - 1)*dow]        # risk / #hours => hourly risk\n",
    "                weight_dom = rpd_dom[blockid, (month - 1)*(day - 1)]  # risk / #hours => hourly risk\n",
    "                weight_hod = rpd_hod[blockid, (month - 1)*hour]   # (blockid, month, hour)          0, 1, 2, 3 .., 23\n",
    "                                                                  #    801      12    24     Day  0\n",
    "                weight_sum = weight_dow + weight_dom + weight_hod #                          Day  1\n",
    "                                                                  #                                 2, 1.5, 0.2, 0.01\n",
    "                                                                  #                                 1, 3.5, \n",
    "                risks[blockid, month-1, dow * hour] += \\\n",
    "                    (y_pred_dow[blockid, (month - 1)*dow] * weight_dow +\n",
    "                     y_pred_dom[blockid, (month - 1)*(day - 1)] * weight_dom +\n",
    "                     y_pred_hod[blockid, (month - 1)*hour] * weight_hod) / weight_sum\n",
    "                risks[blockid, month-1, dow * hour] += (y_pred_dow[blockid, (month - 1)*dow] +\n",
    "                                                        y_pred_dom[blockid, (month - 1)*(day - 1)] +\n",
    "                                                        y_pred_hod[blockid, (month - 1)*hour]) / weight_sum\n",
    "                \n",
    "                count[dow * hour] += 1\n",
    "        risks[blockid, month-1, dow * hour] /= count[dow * hour]"
   ]
  },
  {
   "cell_type": "code",
   "execution_count": null,
   "metadata": {},
   "outputs": [],
   "source": [
    "def show(a):\n",
    "    a = pd.Series(risks.flatten())\n",
    "    print('Number of NaNs:', a.isnull().sum(), 'out of:', len(a))\n",
    "    a.hist(bins=np.arange(0.0, 3.5, 0.05));"
   ]
  },
  {
   "cell_type": "code",
   "execution_count": 18,
   "metadata": {},
   "outputs": [
    {
     "name": "stdout",
     "output_type": "stream",
     "text": [
      "Number of NaNs: 107135 out of: 1614816\n"
     ]
    },
    {
     "data": {
      "text/plain": [
       "0.000000    105628\n",
       "0.190585       338\n",
       "0.285878       269\n",
       "0.220751       252\n",
       "0.282087       233\n",
       "0.393856       223\n",
       "0.170940       207\n",
       "0.157134       203\n",
       "0.403551       200\n",
       "0.240848       195\n",
       "0.188058       195\n",
       "0.122145       193\n",
       "0.241546       192\n",
       "0.292526       190\n",
       "0.693481       183\n",
       "0.264760       181\n",
       "0.346500       179\n",
       "0.097097       179\n",
       "0.176741       177\n",
       "0.417188       174\n",
       "0.195618       174\n",
       "0.311818       173\n",
       "0.165590       172\n",
       "0.256115       168\n",
       "0.152242       167\n",
       "0.152207       167\n",
       "0.124170       167\n",
       "0.205508       166\n",
       "0.153116       166\n",
       "0.724638       165\n",
       "             ...  \n",
       "0.358115         1\n",
       "0.669882         1\n",
       "0.426394         1\n",
       "0.523903         1\n",
       "0.350324         1\n",
       "0.366435         1\n",
       "0.521037         1\n",
       "0.357750         1\n",
       "4.711425         1\n",
       "0.510308         1\n",
       "0.264026         1\n",
       "1.023018         1\n",
       "1.078749         1\n",
       "0.493644         1\n",
       "0.209479         1\n",
       "0.388878         1\n",
       "1.491901         1\n",
       "0.401897         1\n",
       "0.904159         1\n",
       "0.362122         1\n",
       "2.270663         1\n",
       "0.476644         1\n",
       "0.545554         1\n",
       "0.275103         1\n",
       "0.838574         1\n",
       "0.375587         1\n",
       "0.398327         1\n",
       "0.369754         1\n",
       "0.274066         1\n",
       "0.799361         1\n",
       "Length: 2796, dtype: int64"
      ]
     },
     "execution_count": 18,
     "metadata": {},
     "output_type": "execute_result"
    },
    {
     "data": {
      "image/png": "[encoded data removed]",
      "text/plain": [
       "<Figure size 432x288 with 1 Axes>"
      ]
     },
     "metadata": {},
     "output_type": "display_data"
    }
   ],
   "source": [
    "show(y_test)\n",
    "pd.Series(y_test.flatten()).value_counts()"
   ]
  },
  {
   "cell_type": "code",
   "execution_count": 20,
   "metadata": {},
   "outputs": [
    {
     "data": {
      "text/plain": [
       "0.000000      5.546558e-01\n",
       "2.414012      2.387773e-05\n",
       "7.402021      2.387773e-05\n",
       "1.069766      2.387773e-05\n",
       "2.967170      2.387773e-05\n",
       "1.965733      2.387773e-05\n",
       "1.039674      2.387773e-05\n",
       "1.765399      2.387773e-05\n",
       "1.258300      2.387773e-05\n",
       "1.272468      2.387773e-05\n",
       "1.301715      2.387773e-05\n",
       "3.363579      2.387773e-05\n",
       "4.815867      2.387773e-05\n",
       "1.214666      2.387773e-05\n",
       "5.517639      2.387773e-05\n",
       "3.408690      2.387773e-05\n",
       "1.342817      2.387773e-05\n",
       "1.545660      2.387773e-05\n",
       "1.348947      2.387773e-05\n",
       "3.344710      2.387773e-05\n",
       "2.024351      2.387773e-05\n",
       "1.212075      2.387773e-05\n",
       "1.423801      2.387773e-05\n",
       "2.067635      2.387773e-05\n",
       "2.897928      2.387773e-05\n",
       "1.291356      2.387773e-05\n",
       "2.779643      2.387773e-05\n",
       "2.242923      2.387773e-05\n",
       "1.939480      2.387773e-05\n",
       "1.882636      2.387773e-05\n",
       "                  ...     \n",
       "13.685128     6.632703e-07\n",
       "5.290839      6.632703e-07\n",
       "8.163511      6.632703e-07\n",
       "2.582285      6.632703e-07\n",
       "10.661727     6.632703e-07\n",
       "1.861542      6.632703e-07\n",
       "2.326903      6.632703e-07\n",
       "3.390018      6.632703e-07\n",
       "1.326912      6.632703e-07\n",
       "2.657924      6.632703e-07\n",
       "3.181695      6.632703e-07\n",
       "4.684111      6.632703e-07\n",
       "2.467638      6.632703e-07\n",
       "3.486750      6.632703e-07\n",
       "2.005300      6.632703e-07\n",
       "4.601490      6.632703e-07\n",
       "2.137088      6.632703e-07\n",
       "6.513445      6.632703e-07\n",
       "1.520143      6.632703e-07\n",
       "338.473490    6.632703e-07\n",
       "1.704578      6.632703e-07\n",
       "9.834168      6.632703e-07\n",
       "3.634912      6.632703e-07\n",
       "5.002821      6.632703e-07\n",
       "5.708183      6.632703e-07\n",
       "3.007089      6.632703e-07\n",
       "2.150576      6.632703e-07\n",
       "3.221392      6.632703e-07\n",
       "1.911070      6.632703e-07\n",
       "2.164097      6.632703e-07\n",
       "Length: 622595, dtype: float64"
      ]
     },
     "execution_count": 20,
     "metadata": {},
     "output_type": "execute_result"
    }
   ],
   "source": [
    "a = pd.Series(risks.flatten())\n",
    "a.value_counts(normalize=True)"
   ]
  },
  {
   "cell_type": "code",
   "execution_count": 21,
   "metadata": {},
   "outputs": [
    {
     "data": {
      "text/plain": [
       "<matplotlib.axes._subplots.AxesSubplot at 0x7fe72905bb38>"
      ]
     },
     "execution_count": 21,
     "metadata": {},
     "output_type": "execute_result"
    },
    {
     "data": {
      "image/png": "[encoded data removed]",
      "text/plain": [
       "<Figure size 432x288 with 1 Axes>"
      ]
     },
     "metadata": {},
     "output_type": "display_data"
    }
   ],
   "source": [
    "a = pd.Series(risks.flatten()).apply(lambda x: np.power(x, 0.1))\n",
    "a.hist()  # (bins=np.arange(0.0, 3.5, 0.05));"
   ]
  },
  {
   "cell_type": "markdown",
   "metadata": {},
   "source": [
    "## Store predictions in DB"
   ]
  },
  {
   "cell_type": "code",
   "execution_count": 22,
   "metadata": {},
   "outputs": [],
   "source": [
    "from decouple import config\n",
    "\n",
    "pred_blockid_dict = test_blockid_dict\n",
    "def store_predictions_in_db(y_pred):\n",
    "    \n",
    "    DB_URI_WRITE  = config('DB_URI_WRITE')\n",
    "\n",
    "    # Put predictions into pandas DataFrame with corresponding block id\n",
    "    predictions = pd.DataFrame([[x] for x in pred_blockid_dict.keys()], columns=[\"id\"])\n",
    "\n",
    "    predictions.loc[:, \"prediction\"] = predictions[\"id\"].apply(lambda x: y_pred[pred_blockid_dict[x],:,:].astype(np.float64).tobytes().hex())\n",
    "    predictions.loc[:, \"month\"] = 0\n",
    "    predictions.loc[:, \"year\"] = 2018\n",
    "    predictions.to_csv(\"predictions.csv\", index=False)\n",
    "\n",
    "    # Query SQL\n",
    "    query_commit_predictions = \"\"\"\n",
    "    CREATE TEMPORARY TABLE temp_predictions (\n",
    "        id SERIAL PRIMARY KEY,\n",
    "        prediction TEXT,\n",
    "        month INTEGER,\n",
    "        year INTEGER\n",
    "    );\n",
    "\n",
    "    COPY temp_predictions (id, prediction, month, year) FROM STDIN DELIMITER ',' CSV HEADER;\n",
    "\n",
    "    UPDATE block\n",
    "    SET \n",
    "        prediction = DECODE(temp_predictions.prediction, 'hex'),\n",
    "        month = temp_predictions.month,\n",
    "        year = temp_predictions.year \n",
    "    FROM temp_predictions\n",
    "    WHERE block.id = temp_predictions.id;\n",
    "\n",
    "    DROP TABLE temp_predictions;\n",
    "    \"\"\"\n",
    "\n",
    "    # Open saved predictions and send to database using above query\n",
    "    with open(\"predictions.csv\", \"r\") as f:\n",
    "        print(\"SENDING TO DB\")\n",
    "        RAW_CONN = create_engine(DB_URI_WRITE).raw_connection()\n",
    "        cursor = RAW_CONN.cursor()\n",
    "        cursor.copy_expert(query_commit_predictions, f)\n",
    "        RAW_CONN.commit()\n",
    "        RAW_CONN.close()\n",
    "\n",
    "    for r in SESSION.execute(\"SELECT ENCODE(prediction::BYTEA, 'hex'), id FROM block WHERE prediction IS NOT NULL LIMIT 5;\").fetchall():\n",
    "        print(np.frombuffer(bytes.fromhex(r[0]), dtype=np.float64).reshape((12,7,24)))\n",
    "        print(y_pred[pred_blockid_dict[int(r[1])], :].reshape((12,7,24)))"
   ]
  },
  {
   "cell_type": "code",
   "execution_count": 23,
   "metadata": {},
   "outputs": [
    {
     "name": "stdout",
     "output_type": "stream",
     "text": [
      "SENDING TO DB\n",
      "[[[0.04012322 0.00137408 0.00274817 ... 0.00247335 0.00274817 0.00137408]\n",
      "  [0.00467188 0.00109927 0.00137408 ... 0.00219853 0.00027482 0.        ]\n",
      "  [0.0032978  0.         0.00109927 ... 0.00109927 0.00109927 0.        ]\n",
      "  ...\n",
      "  [0.00109927 0.         0.         ... 0.         0.         0.        ]\n",
      "  [0.00109927 0.         0.         ... 0.         0.         0.        ]\n",
      "  [0.         0.         0.         ... 0.         0.         0.        ]]\n",
      "\n",
      " [[0.03552453 0.00178447 0.00334869 ... 0.00208178 0.00226557 0.00179396]\n",
      "  [0.00468935 0.00283605 0.00115288 ... 0.00242937 0.00039715 0.        ]\n",
      "  [0.00305823 0.         0.00129086 ... 0.0013409  0.00156686 0.        ]\n",
      "  ...\n",
      "  [0.00097002 0.         0.         ... 0.         0.         0.        ]\n",
      "  [0.00095137 0.         0.         ... 0.         0.         0.        ]\n",
      "  [0.         0.         0.         ... 0.         0.         0.        ]]\n",
      "\n",
      " [[0.03748875 0.00139774 0.00336788 ... 0.00289941 0.00269714 0.00144587]\n",
      "  [0.00614521 0.00109213 0.00194622 ... 0.00300226 0.00212008 0.        ]\n",
      "  [0.00461427 0.         0.00116564 ... 0.00204061 0.00092528 0.        ]\n",
      "  ...\n",
      "  [0.0015251  0.         0.         ... 0.         0.         0.        ]\n",
      "  [0.         0.         0.         ... 0.         0.         0.        ]\n",
      "  [0.         0.         0.         ... 0.         0.         0.        ]]\n",
      "\n",
      " ...\n",
      "\n",
      " [[0.04757231 0.00128033 0.00347915 ... 0.00242422 0.00304825 0.00186917]\n",
      "  [0.00564243 0.00116655 0.00143764 ... 0.00222043 0.00053525 0.        ]\n",
      "  [0.00454391 0.         0.00137946 ... 0.00163171 0.00130181 0.        ]\n",
      "  ...\n",
      "  [0.00126959 0.         0.         ... 0.         0.         0.        ]\n",
      "  [0.00123174 0.         0.         ... 0.         0.         0.        ]\n",
      "  [0.         0.         0.         ... 0.         0.         0.        ]]\n",
      "\n",
      " [[0.04137698 0.00099154 0.00198406 ... 0.00242059 0.00193688 0.00107814]\n",
      "  [0.00527638 0.0012479  0.00090158 ... 0.00283858 0.00099717 0.        ]\n",
      "  [0.00392359 0.         0.00095887 ... 0.00134842 0.00101413 0.        ]\n",
      "  ...\n",
      "  [0.00116038 0.         0.         ... 0.         0.         0.        ]\n",
      "  [0.00098527 0.         0.         ... 0.         0.         0.        ]\n",
      "  [0.         0.         0.         ... 0.         0.         0.        ]]\n",
      "\n",
      " [[0.00029211 0.00109814 0.00195183 ... 0.00197003 0.00248113 0.00113624]\n",
      "  [0.00467744 0.00180576 0.00084528 ... 0.00235827 0.00086592 0.        ]\n",
      "  [0.00327063 0.         0.00125238 ... 0.00114507 0.00130635 0.        ]\n",
      "  ...\n",
      "  [0.00114732 0.         0.         ... 0.         0.         0.        ]\n",
      "  [0.00119563 0.         0.         ... 0.         0.         0.        ]\n",
      "  [0.         0.         0.         ... 0.         0.         0.        ]]]\n",
      "[[[0.04012322 0.00137408 0.00274817 ... 0.00247335 0.00274817 0.00137408]\n",
      "  [0.00467188 0.00109927 0.00137408 ... 0.00219853 0.00027482 0.        ]\n",
      "  [0.0032978  0.         0.00109927 ... 0.00109927 0.00109927 0.        ]\n",
      "  ...\n",
      "  [0.00109927 0.         0.         ... 0.         0.         0.        ]\n",
      "  [0.00109927 0.         0.         ... 0.         0.         0.        ]\n",
      "  [0.         0.         0.         ... 0.         0.         0.        ]]\n",
      "\n",
      " [[0.03552453 0.00178447 0.00334869 ... 0.00208178 0.00226557 0.00179396]\n",
      "  [0.00468935 0.00283605 0.00115288 ... 0.00242937 0.00039715 0.        ]\n",
      "  [0.00305823 0.         0.00129086 ... 0.0013409  0.00156686 0.        ]\n",
      "  ...\n",
      "  [0.00097002 0.         0.         ... 0.         0.         0.        ]\n",
      "  [0.00095137 0.         0.         ... 0.         0.         0.        ]\n",
      "  [0.         0.         0.         ... 0.         0.         0.        ]]\n",
      "\n",
      " [[0.03748875 0.00139774 0.00336788 ... 0.00289941 0.00269714 0.00144587]\n",
      "  [0.00614521 0.00109213 0.00194622 ... 0.00300226 0.00212008 0.        ]\n",
      "  [0.00461427 0.         0.00116564 ... 0.00204061 0.00092528 0.        ]\n",
      "  ...\n",
      "  [0.0015251  0.         0.         ... 0.         0.         0.        ]\n",
      "  [0.         0.         0.         ... 0.         0.         0.        ]\n",
      "  [0.         0.         0.         ... 0.         0.         0.        ]]\n",
      "\n",
      " ...\n",
      "\n",
      " [[0.04757231 0.00128033 0.00347915 ... 0.00242422 0.00304825 0.00186917]\n",
      "  [0.00564243 0.00116655 0.00143764 ... 0.00222043 0.00053525 0.        ]\n",
      "  [0.00454391 0.         0.00137946 ... 0.00163171 0.00130181 0.        ]\n",
      "  ...\n",
      "  [0.00126959 0.         0.         ... 0.         0.         0.        ]\n",
      "  [0.00123174 0.         0.         ... 0.         0.         0.        ]\n",
      "  [0.         0.         0.         ... 0.         0.         0.        ]]\n",
      "\n",
      " [[0.04137698 0.00099154 0.00198406 ... 0.00242059 0.00193688 0.00107814]\n",
      "  [0.00527638 0.0012479  0.00090158 ... 0.00283858 0.00099717 0.        ]\n",
      "  [0.00392359 0.         0.00095887 ... 0.00134842 0.00101413 0.        ]\n",
      "  ...\n",
      "  [0.00116038 0.         0.         ... 0.         0.         0.        ]\n",
      "  [0.00098527 0.         0.         ... 0.         0.         0.        ]\n",
      "  [0.         0.         0.         ... 0.         0.         0.        ]]\n",
      "\n",
      " [[0.00029211 0.00109814 0.00195183 ... 0.00197003 0.00248113 0.00113624]\n",
      "  [0.00467744 0.00180576 0.00084528 ... 0.00235827 0.00086592 0.        ]\n",
      "  [0.00327063 0.         0.00125238 ... 0.00114507 0.00130635 0.        ]\n",
      "  ...\n",
      "  [0.00114732 0.         0.         ... 0.         0.         0.        ]\n",
      "  [0.00119563 0.         0.         ... 0.         0.         0.        ]\n",
      "  [0.         0.         0.         ... 0.         0.         0.        ]]]\n",
      "[[[0.05691363 0.0019491  0.00389819 ... 0.00350837 0.00389819 0.0019491 ]\n",
      "  [0.00662693 0.00155928 0.0019491  ... 0.00311855 0.00038982 0.        ]\n",
      "  [0.00467783 0.         0.00155928 ... 0.00155928 0.00155928 0.        ]\n",
      "  ...\n",
      "  [0.00155928 0.         0.         ... 0.         0.         0.        ]\n",
      "  [0.00155928 0.         0.         ... 0.         0.         0.        ]\n",
      "  [0.         0.         0.         ... 0.         0.         0.        ]]\n",
      "\n",
      " [[0.04921464 0.0014799  0.0033227  ... 0.00276845 0.00297719 0.00139632]\n",
      "  [0.00530963 0.00188196 0.00153444 ... 0.00288922 0.0003551  0.        ]\n",
      "  [0.00399516 0.         0.00146243 ... 0.0013813  0.00153279 0.        ]\n",
      "  ...\n",
      "  [0.00133517 0.         0.         ... 0.         0.         0.        ]\n",
      "  [0.00127149 0.         0.         ... 0.         0.         0.        ]\n",
      "  [0.         0.         0.         ... 0.         0.         0.        ]]\n",
      "\n",
      " [[0.04660394 0.00174    0.00299793 ... 0.00314655 0.00270362 0.00176597]\n",
      "  [0.00612662 0.00163839 0.00130939 ... 0.00312296 0.00161282 0.        ]\n",
      "  [0.00497203 0.         0.00159726 ... 0.00205053 0.0020603  0.        ]\n",
      "  ...\n",
      "  [0.00154271 0.         0.         ... 0.         0.         0.        ]\n",
      "  [0.00155296 0.         0.         ... 0.         0.         0.        ]\n",
      "  [0.         0.         0.         ... 0.         0.         0.        ]]\n",
      "\n",
      " ...\n",
      "\n",
      " [[0.05727803 0.00177708 0.00362867 ... 0.00338165 0.00316857 0.00187934]\n",
      "  [0.00638676 0.00140552 0.0019778  ... 0.00284816 0.00038123 0.        ]\n",
      "  [0.00417515 0.         0.00144352 ... 0.00140438 0.00117029 0.        ]\n",
      "  ...\n",
      "  [0.00140735 0.         0.         ... 0.         0.         0.        ]\n",
      "  [0.00149862 0.         0.         ... 0.         0.         0.        ]\n",
      "  [0.         0.         0.         ... 0.         0.         0.        ]]\n",
      "\n",
      " [[0.04453735 0.00135314 0.00258275 ... 0.00315491 0.00261701 0.00142212]\n",
      "  [0.00629115 0.00129483 0.00128603 ... 0.00312644 0.00133768 0.        ]\n",
      "  [0.0049137  0.         0.00145071 ... 0.00181058 0.00152674 0.        ]\n",
      "  ...\n",
      "  [0.00145815 0.         0.         ... 0.         0.         0.        ]\n",
      "  [0.00150691 0.         0.         ... 0.         0.         0.        ]\n",
      "  [0.         0.         0.         ... 0.         0.         0.        ]]\n",
      "\n",
      " [[0.00037951 0.00155601 0.0030115  ... 0.0032256  0.00331892 0.00153083]\n",
      "  [0.00613366 0.00171316 0.00142751 ... 0.00305224 0.00146375 0.        ]\n",
      "  [0.0047568  0.         0.00178135 ... 0.00148176 0.00172186 0.        ]\n",
      "  ...\n",
      "  [0.00181328 0.         0.         ... 0.         0.         0.        ]\n",
      "  [0.00176491 0.         0.         ... 0.         0.         0.        ]\n",
      "  [0.         0.         0.         ... 0.         0.         0.        ]]]\n",
      "[[[0.05691363 0.0019491  0.00389819 ... 0.00350837 0.00389819 0.0019491 ]\n",
      "  [0.00662693 0.00155928 0.0019491  ... 0.00311855 0.00038982 0.        ]\n",
      "  [0.00467783 0.         0.00155928 ... 0.00155928 0.00155928 0.        ]\n",
      "  ...\n",
      "  [0.00155928 0.         0.         ... 0.         0.         0.        ]\n",
      "  [0.00155928 0.         0.         ... 0.         0.         0.        ]\n",
      "  [0.         0.         0.         ... 0.         0.         0.        ]]\n",
      "\n",
      " [[0.04921464 0.0014799  0.0033227  ... 0.00276845 0.00297719 0.00139632]\n",
      "  [0.00530963 0.00188196 0.00153444 ... 0.00288922 0.0003551  0.        ]\n",
      "  [0.00399516 0.         0.00146243 ... 0.0013813  0.00153279 0.        ]\n",
      "  ...\n",
      "  [0.00133517 0.         0.         ... 0.         0.         0.        ]\n",
      "  [0.00127149 0.         0.         ... 0.         0.         0.        ]\n",
      "  [0.         0.         0.         ... 0.         0.         0.        ]]\n",
      "\n",
      " [[0.04660394 0.00174    0.00299793 ... 0.00314655 0.00270362 0.00176597]\n",
      "  [0.00612662 0.00163839 0.00130939 ... 0.00312296 0.00161282 0.        ]\n",
      "  [0.00497203 0.         0.00159726 ... 0.00205053 0.0020603  0.        ]\n",
      "  ...\n",
      "  [0.00154271 0.         0.         ... 0.         0.         0.        ]\n",
      "  [0.00155296 0.         0.         ... 0.         0.         0.        ]\n",
      "  [0.         0.         0.         ... 0.         0.         0.        ]]\n",
      "\n",
      " ...\n",
      "\n",
      " [[0.05727803 0.00177708 0.00362867 ... 0.00338165 0.00316857 0.00187934]\n",
      "  [0.00638676 0.00140552 0.0019778  ... 0.00284816 0.00038123 0.        ]\n",
      "  [0.00417515 0.         0.00144352 ... 0.00140438 0.00117029 0.        ]\n",
      "  ...\n",
      "  [0.00140735 0.         0.         ... 0.         0.         0.        ]\n",
      "  [0.00149862 0.         0.         ... 0.         0.         0.        ]\n",
      "  [0.         0.         0.         ... 0.         0.         0.        ]]\n",
      "\n",
      " [[0.04453735 0.00135314 0.00258275 ... 0.00315491 0.00261701 0.00142212]\n",
      "  [0.00629115 0.00129483 0.00128603 ... 0.00312644 0.00133768 0.        ]\n",
      "  [0.0049137  0.         0.00145071 ... 0.00181058 0.00152674 0.        ]\n",
      "  ...\n",
      "  [0.00145815 0.         0.         ... 0.         0.         0.        ]\n",
      "  [0.00150691 0.         0.         ... 0.         0.         0.        ]\n",
      "  [0.         0.         0.         ... 0.         0.         0.        ]]\n",
      "\n",
      " [[0.00037951 0.00155601 0.0030115  ... 0.0032256  0.00331892 0.00153083]\n",
      "  [0.00613366 0.00171316 0.00142751 ... 0.00305224 0.00146375 0.        ]\n",
      "  [0.0047568  0.         0.00178135 ... 0.00148176 0.00172186 0.        ]\n",
      "  ...\n",
      "  [0.00181328 0.         0.         ... 0.         0.         0.        ]\n",
      "  [0.00176491 0.         0.         ... 0.         0.         0.        ]\n",
      "  [0.         0.         0.         ... 0.         0.         0.        ]]]\n",
      "[[[0.19030247 0.00651721 0.01303442 ... 0.01173097 0.01303442 0.00651721]\n",
      "  [0.02215851 0.00521377 0.00651721 ... 0.01042753 0.00130344 0.        ]\n",
      "  [0.0156413  0.         0.00521377 ... 0.00521377 0.00521377 0.        ]\n",
      "  ...\n",
      "  [0.00521377 0.         0.         ... 0.         0.         0.        ]\n",
      "  [0.00521377 0.         0.         ... 0.         0.         0.        ]\n",
      "  [0.         0.         0.         ... 0.         0.         0.        ]]\n",
      "\n",
      " [[0.         0.00407983 0.         ... 0.         0.         0.00454953]\n",
      "  [0.         0.         0.         ... 0.         0.         0.        ]\n",
      "  [0.         0.         0.         ... 0.         0.         0.        ]\n",
      "  ...\n",
      "  [0.00534032 0.         0.         ... 0.         0.         0.        ]\n",
      "  [0.00533943 0.         0.         ... 0.         0.         0.        ]\n",
      "  [0.         0.         0.         ... 0.         0.         0.        ]]\n",
      "\n",
      " [[0.         0.         0.00756219 ... 0.         0.00957215 0.00437568]\n",
      "  [0.02020017 0.00463054 0.00391024 ... 0.0098448  0.00278085 0.        ]\n",
      "  [0.01496767 0.         0.00484887 ... 0.0041073  0.0041786  0.        ]\n",
      "  ...\n",
      "  [0.00468334 0.         0.         ... 0.         0.         0.        ]\n",
      "  [0.00327498 0.         0.         ... 0.         0.         0.        ]\n",
      "  [0.         0.         0.         ... 0.         0.         0.        ]]\n",
      "\n",
      " ...\n",
      "\n",
      " [[0.16086022 0.00629107 0.00915666 ... 0.00813793 0.00967809 0.00581287]\n",
      "  [0.01534938 0.0040236  0.00336698 ... 0.00708545 0.00098437 0.        ]\n",
      "  [0.00909537 0.         0.00422564 ... 0.00455111 0.00271507 0.        ]\n",
      "  ...\n",
      "  [0.00208444 0.         0.         ... 0.         0.         0.        ]\n",
      "  [0.00329864 0.         0.         ... 0.         0.         0.        ]\n",
      "  [0.         0.         0.         ... 0.         0.         0.        ]]\n",
      "\n",
      " [[0.         0.00392718 0.         ... 0.00776002 0.00734885 0.00276779]\n",
      "  [0.         0.         0.         ... 0.         0.00369893 0.        ]\n",
      "  [0.01547423 0.         0.         ... 0.00348825 0.         0.        ]\n",
      "  ...\n",
      "  [0.00418159 0.         0.         ... 0.         0.         0.        ]\n",
      "  [0.00380604 0.         0.         ... 0.         0.         0.        ]\n",
      "  [0.         0.         0.         ... 0.         0.         0.        ]]\n",
      "\n",
      " [[0.         0.00386033 0.00842121 ... 0.00636007 0.00820232 0.00400063]\n",
      "  [0.         0.00530354 0.00468182 ... 0.00923003 0.00481654 0.        ]\n",
      "  [0.         0.         0.00386173 ... 0.00407563 0.00570031 0.        ]\n",
      "  ...\n",
      "  [0.00568855 0.         0.         ... 0.         0.         0.        ]\n",
      "  [0.00536206 0.         0.         ... 0.         0.         0.        ]\n",
      "  [0.         0.         0.         ... 0.         0.         0.        ]]]\n",
      "[[[0.19030247 0.00651721 0.01303442 ... 0.01173097 0.01303442 0.00651721]\n",
      "  [0.02215851 0.00521377 0.00651721 ... 0.01042753 0.00130344 0.        ]\n",
      "  [0.0156413  0.         0.00521377 ... 0.00521377 0.00521377 0.        ]\n",
      "  ...\n",
      "  [0.00521377 0.         0.         ... 0.         0.         0.        ]\n",
      "  [0.00521377 0.         0.         ... 0.         0.         0.        ]\n",
      "  [0.         0.         0.         ... 0.         0.         0.        ]]\n",
      "\n",
      " [[0.         0.00407983 0.         ... 0.         0.         0.00454953]\n",
      "  [0.         0.         0.         ... 0.         0.         0.        ]\n",
      "  [0.         0.         0.         ... 0.         0.         0.        ]\n",
      "  ...\n",
      "  [0.00534032 0.         0.         ... 0.         0.         0.        ]\n",
      "  [0.00533943 0.         0.         ... 0.         0.         0.        ]\n",
      "  [0.         0.         0.         ... 0.         0.         0.        ]]\n",
      "\n",
      " [[0.         0.         0.00756219 ... 0.         0.00957215 0.00437568]\n",
      "  [0.02020017 0.00463054 0.00391024 ... 0.0098448  0.00278085 0.        ]\n",
      "  [0.01496767 0.         0.00484887 ... 0.0041073  0.0041786  0.        ]\n",
      "  ...\n",
      "  [0.00468334 0.         0.         ... 0.         0.         0.        ]\n",
      "  [0.00327498 0.         0.         ... 0.         0.         0.        ]\n",
      "  [0.         0.         0.         ... 0.         0.         0.        ]]\n",
      "\n",
      " ...\n",
      "\n",
      " [[0.16086022 0.00629107 0.00915666 ... 0.00813793 0.00967809 0.00581287]\n",
      "  [0.01534938 0.0040236  0.00336698 ... 0.00708545 0.00098437 0.        ]\n",
      "  [0.00909537 0.         0.00422564 ... 0.00455111 0.00271507 0.        ]\n",
      "  ...\n",
      "  [0.00208444 0.         0.         ... 0.         0.         0.        ]\n",
      "  [0.00329864 0.         0.         ... 0.         0.         0.        ]\n",
      "  [0.         0.         0.         ... 0.         0.         0.        ]]\n",
      "\n",
      " [[0.         0.00392718 0.         ... 0.00776002 0.00734885 0.00276779]\n",
      "  [0.         0.         0.         ... 0.         0.00369893 0.        ]\n",
      "  [0.01547423 0.         0.         ... 0.00348825 0.         0.        ]\n",
      "  ...\n",
      "  [0.00418159 0.         0.         ... 0.         0.         0.        ]\n",
      "  [0.00380604 0.         0.         ... 0.         0.         0.        ]\n",
      "  [0.         0.         0.         ... 0.         0.         0.        ]]\n",
      "\n",
      " [[0.         0.00386033 0.00842121 ... 0.00636007 0.00820232 0.00400063]\n",
      "  [0.         0.00530354 0.00468182 ... 0.00923003 0.00481654 0.        ]\n",
      "  [0.         0.         0.00386173 ... 0.00407563 0.00570031 0.        ]\n",
      "  ...\n",
      "  [0.00568855 0.         0.         ... 0.         0.         0.        ]\n",
      "  [0.00536206 0.         0.         ... 0.         0.         0.        ]\n",
      "  [0.         0.         0.         ... 0.         0.         0.        ]]]\n",
      "[[[0.1045951  0.00358202 0.00716405 ... 0.00644764 0.00716405 0.00358202]\n",
      "  [0.01217888 0.00286562 0.00358202 ... 0.00573124 0.0007164  0.        ]\n",
      "  [0.00859686 0.         0.00286562 ... 0.00286562 0.00286562 0.        ]\n",
      "  ...\n",
      "  [0.00286562 0.         0.         ... 0.         0.         0.        ]\n",
      "  [0.00286562 0.         0.         ... 0.         0.         0.        ]\n",
      "  [0.         0.         0.         ... 0.         0.         0.        ]]\n",
      "\n",
      " [[0.         0.00252007 0.00488869 ... 0.         0.0039639  0.00155816]\n",
      "  [0.         0.00150819 0.00258757 ... 0.         0.00037502 0.        ]\n",
      "  [0.         0.         0.00162487 ... 0.00215528 0.00262352 0.        ]\n",
      "  ...\n",
      "  [0.00227121 0.         0.         ... 0.         0.         0.        ]\n",
      "  [0.00247562 0.         0.         ... 0.         0.         0.        ]\n",
      "  [0.         0.         0.         ... 0.         0.         0.        ]]\n",
      "\n",
      " [[0.         0.00210186 0.00401999 ... 0.         0.00333159 0.00225475]\n",
      "  [0.00970272 0.00166751 0.00188255 ... 0.         0.00211728 0.        ]\n",
      "  [0.00747028 0.         0.00163997 ... 0.         0.00220048 0.        ]\n",
      "  ...\n",
      "  [0.0015534  0.         0.         ... 0.         0.         0.        ]\n",
      "  [0.00240621 0.         0.         ... 0.         0.         0.        ]\n",
      "  [0.         0.         0.         ... 0.         0.         0.        ]]\n",
      "\n",
      " ...\n",
      "\n",
      " [[0.07856762 0.00162102 0.00427972 ... 0.0038753  0.00455215 0.00274614]\n",
      "  [0.00698454 0.00262637 0.00250512 ... 0.00479296 0.00051999 0.        ]\n",
      "  [0.00481699 0.         0.00266549 ... 0.00225912 0.00167152 0.        ]\n",
      "  ...\n",
      "  [0.0014905  0.         0.         ... 0.         0.         0.        ]\n",
      "  [0.00146599 0.         0.         ... 0.         0.         0.        ]\n",
      "  [0.         0.         0.         ... 0.         0.         0.        ]]\n",
      "\n",
      " [[0.05956944 0.00127303 0.00247047 ... 0.00463795 0.00319745 0.00177829]\n",
      "  [0.00939062 0.0018489  0.0011542  ... 0.00502872 0.00169234 0.        ]\n",
      "  [0.00604136 0.         0.00186457 ... 0.00343055 0.00209627 0.        ]\n",
      "  ...\n",
      "  [0.00150029 0.         0.         ... 0.         0.         0.        ]\n",
      "  [0.00135889 0.         0.         ... 0.         0.         0.        ]\n",
      "  [0.         0.         0.         ... 0.         0.         0.        ]]\n",
      "\n",
      " [[0.         0.00191083 0.         ... 0.         0.         0.        ]\n",
      "  [0.         0.00282945 0.00144432 ... 0.         0.00251338 0.        ]\n",
      "  [0.00617031 0.         0.00301325 ... 0.         0.00310044 0.        ]\n",
      "  ...\n",
      "  [0.00146406 0.         0.         ... 0.         0.         0.        ]\n",
      "  [0.00244785 0.         0.         ... 0.         0.         0.        ]\n",
      "  [0.         0.         0.         ... 0.         0.         0.        ]]]\n",
      "[[[0.1045951  0.00358202 0.00716405 ... 0.00644764 0.00716405 0.00358202]\n",
      "  [0.01217888 0.00286562 0.00358202 ... 0.00573124 0.0007164  0.        ]\n",
      "  [0.00859686 0.         0.00286562 ... 0.00286562 0.00286562 0.        ]\n",
      "  ...\n",
      "  [0.00286562 0.         0.         ... 0.         0.         0.        ]\n",
      "  [0.00286562 0.         0.         ... 0.         0.         0.        ]\n",
      "  [0.         0.         0.         ... 0.         0.         0.        ]]\n",
      "\n",
      " [[0.         0.00252007 0.00488869 ... 0.         0.0039639  0.00155816]\n",
      "  [0.         0.00150819 0.00258757 ... 0.         0.00037502 0.        ]\n",
      "  [0.         0.         0.00162487 ... 0.00215528 0.00262352 0.        ]\n",
      "  ...\n",
      "  [0.00227121 0.         0.         ... 0.         0.         0.        ]\n",
      "  [0.00247562 0.         0.         ... 0.         0.         0.        ]\n",
      "  [0.         0.         0.         ... 0.         0.         0.        ]]\n",
      "\n",
      " [[0.         0.00210186 0.00401999 ... 0.         0.00333159 0.00225475]\n",
      "  [0.00970272 0.00166751 0.00188255 ... 0.         0.00211728 0.        ]\n",
      "  [0.00747028 0.         0.00163997 ... 0.         0.00220048 0.        ]\n",
      "  ...\n",
      "  [0.0015534  0.         0.         ... 0.         0.         0.        ]\n",
      "  [0.00240621 0.         0.         ... 0.         0.         0.        ]\n",
      "  [0.         0.         0.         ... 0.         0.         0.        ]]\n",
      "\n",
      " ...\n",
      "\n",
      " [[0.07856762 0.00162102 0.00427972 ... 0.0038753  0.00455215 0.00274614]\n",
      "  [0.00698454 0.00262637 0.00250512 ... 0.00479296 0.00051999 0.        ]\n",
      "  [0.00481699 0.         0.00266549 ... 0.00225912 0.00167152 0.        ]\n",
      "  ...\n",
      "  [0.0014905  0.         0.         ... 0.         0.         0.        ]\n",
      "  [0.00146599 0.         0.         ... 0.         0.         0.        ]\n",
      "  [0.         0.         0.         ... 0.         0.         0.        ]]\n",
      "\n",
      " [[0.05956944 0.00127303 0.00247047 ... 0.00463795 0.00319745 0.00177829]\n",
      "  [0.00939062 0.0018489  0.0011542  ... 0.00502872 0.00169234 0.        ]\n",
      "  [0.00604136 0.         0.00186457 ... 0.00343055 0.00209627 0.        ]\n",
      "  ...\n",
      "  [0.00150029 0.         0.         ... 0.         0.         0.        ]\n",
      "  [0.00135889 0.         0.         ... 0.         0.         0.        ]\n",
      "  [0.         0.         0.         ... 0.         0.         0.        ]]\n",
      "\n",
      " [[0.         0.00191083 0.         ... 0.         0.         0.        ]\n",
      "  [0.         0.00282945 0.00144432 ... 0.         0.00251338 0.        ]\n",
      "  [0.00617031 0.         0.00301325 ... 0.         0.00310044 0.        ]\n",
      "  ...\n",
      "  [0.00146406 0.         0.         ... 0.         0.         0.        ]\n",
      "  [0.00244785 0.         0.         ... 0.         0.         0.        ]\n",
      "  [0.         0.         0.         ... 0.         0.         0.        ]]]\n",
      "[[[0.14275383 0.00488883 0.00977766 ... 0.00879989 0.00977766 0.00488883]\n",
      "  [0.01662202 0.00391106 0.00488883 ... 0.00782213 0.00097777 0.        ]\n",
      "  [0.01173319 0.         0.00391106 ... 0.00391106 0.00391106 0.        ]\n",
      "  ...\n",
      "  [0.00391106 0.         0.         ... 0.         0.         0.        ]\n",
      "  [0.00391106 0.         0.         ... 0.         0.         0.        ]\n",
      "  [0.         0.         0.         ... 0.         0.         0.        ]]\n",
      "\n",
      " [[0.         0.0030312  0.00627252 ... 0.00749534 0.00653093 0.00302016]\n",
      "  [0.01246241 0.00244414 0.00227845 ... 0.00510216 0.0008244  0.        ]\n",
      "  [0.00748378 0.         0.00202177 ... 0.00443281 0.00205992 0.        ]\n",
      "  ...\n",
      "  [0.00193584 0.         0.         ... 0.         0.         0.        ]\n",
      "  [0.00198633 0.         0.         ... 0.         0.         0.        ]\n",
      "  [0.         0.         0.         ... 0.         0.         0.        ]]\n",
      "\n",
      " [[0.         0.00311142 0.00591754 ... 0.00576045 0.00532789 0.0019415 ]\n",
      "  [0.01224955 0.00234119 0.00298777 ... 0.00538989 0.00189099 0.        ]\n",
      "  [0.00896167 0.         0.00221879 ... 0.00270983 0.00188889 0.        ]\n",
      "  ...\n",
      "  [0.00186803 0.         0.         ... 0.         0.         0.        ]\n",
      "  [0.00383952 0.         0.         ... 0.         0.         0.        ]\n",
      "  [0.         0.         0.         ... 0.         0.         0.        ]]\n",
      "\n",
      " ...\n",
      "\n",
      " [[0.         0.00318636 0.00682295 ... 0.00519183 0.0051349  0.00238543]\n",
      "  [0.01163214 0.00262456 0.00440006 ... 0.00551149 0.00055715 0.        ]\n",
      "  [0.00779137 0.         0.00272227 ... 0.00244473 0.00396199 0.        ]\n",
      "  ...\n",
      "  [0.00214236 0.         0.         ... 0.         0.         0.        ]\n",
      "  [0.00249431 0.         0.         ... 0.         0.         0.        ]\n",
      "  [0.         0.         0.         ... 0.         0.         0.        ]]\n",
      "\n",
      " [[0.         0.00201994 0.00403118 ... 0.00763387 0.00543657 0.00197427]\n",
      "  [0.01277145 0.0027379  0.0029983  ... 0.00762802 0.0020346  0.        ]\n",
      "  [0.00826478 0.         0.00370233 ... 0.00329138 0.00278852 0.        ]\n",
      "  ...\n",
      "  [0.00225294 0.         0.         ... 0.         0.         0.        ]\n",
      "  [0.0040053  0.         0.         ... 0.         0.         0.        ]\n",
      "  [0.         0.         0.         ... 0.         0.         0.        ]]\n",
      "\n",
      " [[0.         0.00316504 0.00614147 ... 0.0045739  0.00439853 0.00320999]\n",
      "  [0.01136595 0.00239925 0.00298146 ... 0.00581359 0.00293939 0.        ]\n",
      "  [0.01192845 0.         0.00439626 ... 0.00267056 0.00285531 0.        ]\n",
      "  ...\n",
      "  [0.00507483 0.         0.         ... 0.         0.         0.        ]\n",
      "  [0.00459662 0.         0.         ... 0.         0.         0.        ]\n",
      "  [0.         0.         0.         ... 0.         0.         0.        ]]]\n",
      "[[[0.14275383 0.00488883 0.00977766 ... 0.00879989 0.00977766 0.00488883]\n",
      "  [0.01662202 0.00391106 0.00488883 ... 0.00782213 0.00097777 0.        ]\n",
      "  [0.01173319 0.         0.00391106 ... 0.00391106 0.00391106 0.        ]\n",
      "  ...\n",
      "  [0.00391106 0.         0.         ... 0.         0.         0.        ]\n",
      "  [0.00391106 0.         0.         ... 0.         0.         0.        ]\n",
      "  [0.         0.         0.         ... 0.         0.         0.        ]]\n",
      "\n",
      " [[0.         0.0030312  0.00627252 ... 0.00749534 0.00653093 0.00302016]\n",
      "  [0.01246241 0.00244414 0.00227845 ... 0.00510216 0.0008244  0.        ]\n",
      "  [0.00748378 0.         0.00202177 ... 0.00443281 0.00205992 0.        ]\n",
      "  ...\n",
      "  [0.00193584 0.         0.         ... 0.         0.         0.        ]\n",
      "  [0.00198633 0.         0.         ... 0.         0.         0.        ]\n",
      "  [0.         0.         0.         ... 0.         0.         0.        ]]\n",
      "\n",
      " [[0.         0.00311142 0.00591754 ... 0.00576045 0.00532789 0.0019415 ]\n",
      "  [0.01224955 0.00234119 0.00298777 ... 0.00538989 0.00189099 0.        ]\n",
      "  [0.00896167 0.         0.00221879 ... 0.00270983 0.00188889 0.        ]\n",
      "  ...\n",
      "  [0.00186803 0.         0.         ... 0.         0.         0.        ]\n",
      "  [0.00383952 0.         0.         ... 0.         0.         0.        ]\n",
      "  [0.         0.         0.         ... 0.         0.         0.        ]]\n",
      "\n",
      " ...\n",
      "\n",
      " [[0.         0.00318636 0.00682295 ... 0.00519183 0.0051349  0.00238543]\n",
      "  [0.01163214 0.00262456 0.00440006 ... 0.00551149 0.00055715 0.        ]\n",
      "  [0.00779137 0.         0.00272227 ... 0.00244473 0.00396199 0.        ]\n",
      "  ...\n",
      "  [0.00214236 0.         0.         ... 0.         0.         0.        ]\n",
      "  [0.00249431 0.         0.         ... 0.         0.         0.        ]\n",
      "  [0.         0.         0.         ... 0.         0.         0.        ]]\n",
      "\n",
      " [[0.         0.00201994 0.00403118 ... 0.00763387 0.00543657 0.00197427]\n",
      "  [0.01277145 0.0027379  0.0029983  ... 0.00762802 0.0020346  0.        ]\n",
      "  [0.00826478 0.         0.00370233 ... 0.00329138 0.00278852 0.        ]\n",
      "  ...\n",
      "  [0.00225294 0.         0.         ... 0.         0.         0.        ]\n",
      "  [0.0040053  0.         0.         ... 0.         0.         0.        ]\n",
      "  [0.         0.         0.         ... 0.         0.         0.        ]]\n",
      "\n",
      " [[0.         0.00316504 0.00614147 ... 0.0045739  0.00439853 0.00320999]\n",
      "  [0.01136595 0.00239925 0.00298146 ... 0.00581359 0.00293939 0.        ]\n",
      "  [0.01192845 0.         0.00439626 ... 0.00267056 0.00285531 0.        ]\n",
      "  ...\n",
      "  [0.00507483 0.         0.         ... 0.         0.         0.        ]\n",
      "  [0.00459662 0.         0.         ... 0.         0.         0.        ]\n",
      "  [0.         0.         0.         ... 0.         0.         0.        ]]]\n"
     ]
    }
   ],
   "source": [
    "risks_descaled = descale_data(risks)\n",
    "\n",
    "risks_descaled = np.nan_to_num(risks_descaled)\n",
    "with session_scope() as SESSION:\n",
    "    store_predictions_in_db(risks_descaled)"
   ]
  },
  {
   "cell_type": "code",
   "execution_count": 24,
   "metadata": {},
   "outputs": [
    {
     "data": {
      "text/plain": [
       "(801, 12, 168)"
      ]
     },
     "execution_count": 24,
     "metadata": {},
     "output_type": "execute_result"
    }
   ],
   "source": [
    "risks.shape"
   ]
  },
  {
   "cell_type": "code",
   "execution_count": null,
   "metadata": {},
   "outputs": [],
   "source": [
    "y = risks_descaled[0][0]  # 0th block, January, 168 features (dow * hour).\n",
    "                          # The largest value is when the dow=0, hour=0\n",
    "fig = plt.figure(figsize=(10, 8))\n",
    "plt.plot(np.arange(len(y.flatten())),\n",
    "             y.flatten(), color='blue');\n",
    "plt.show()"
   ]
  },
  {
   "cell_type": "code",
   "execution_count": null,
   "metadata": {},
   "outputs": [],
   "source": []
  },
  {
   "cell_type": "code",
   "execution_count": null,
   "metadata": {},
   "outputs": [],
   "source": [
    "y = rpd_dow[82].flatten()\n",
    "fig = plt.figure(figsize=(10, 8))\n",
    "plt.plot(np.arange(len(y.flatten())),\n",
    "             y.flatten(), color='blue');\n",
    "plt.xticks(np.arange(0,84,7))\n",
    "plt.grid(True)\n",
    "plt.show()"
   ]
  },
  {
   "cell_type": "code",
   "execution_count": null,
   "metadata": {},
   "outputs": [],
   "source": [
    "y = y_test[82].flatten()\n",
    "fig = plt.figure(figsize=(10, 8))\n",
    "plt.plot(np.arange(len(y.flatten())),\n",
    "             y.flatten(), color='blue');\n",
    "plt.xticks(np.arange(0,84,7))\n",
    "plt.grid(True)\n",
    "plt.show()"
   ]
  },
  {
   "cell_type": "code",
   "execution_count": null,
   "metadata": {},
   "outputs": [],
   "source": [
    "y = y_test[0].flatten()\n",
    "fig = plt.figure(figsize=(10, 8))\n",
    "plt.plot(np.arange(len(y.flatten())),\n",
    "             y.flatten(), color='blue');\n",
    "plt.xticks(np.arange(0,84,7))\n",
    "plt.grid(True)\n",
    "plt.show()"
   ]
  },
  {
   "cell_type": "code",
   "execution_count": null,
   "metadata": {},
   "outputs": [],
   "source": [
    "y = y_pred_dom[0].flatten()\n",
    "df_y = pd.DataFrame(y)\n",
    "df_y['ma'] = df_y.rolling(window=30).mean()\n",
    "\n",
    "fig = plt.figure(figsize=(10, 8))\n",
    "plt.plot(np.arange(len(y.flatten())),\n",
    "             y.flatten(), color='blue');\n",
    "plt.plot(np.arange(df_y['ma'].shape[0]),\n",
    "             df_y['ma'], color='red');\n",
    "plt.xticks(np.arange(0,372, 30))\n",
    "plt.grid(True)\n",
    "plt.show()"
   ]
  },
  {
   "cell_type": "code",
   "execution_count": null,
   "metadata": {},
   "outputs": [],
   "source": [
    "y = y_pred_dom[101].flatten()\n",
    "df_y = pd.DataFrame(y)\n",
    "df_y['ma'] = df_y.rolling(window=30).mean()\n",
    "\n",
    "fig = plt.figure(figsize=(10, 8))\n",
    "plt.plot(np.arange(len(y.flatten())),\n",
    "             y.flatten(), color='blue');\n",
    "plt.plot(np.arange(df_y['ma'].shape[0]),\n",
    "             df_y['ma'], color='red');\n",
    "plt.xticks(np.arange(0,372, 30))\n",
    "plt.grid(True)\n",
    "plt.show()"
   ]
  },
  {
   "cell_type": "code",
   "execution_count": null,
   "metadata": {},
   "outputs": [],
   "source": [
    "y = rpd_dom[0].flatten()\n",
    "df_y = pd.DataFrame(y)\n",
    "df_y['ma'] = df_y.rolling(window=30).mean()\n",
    "\n",
    "fig = plt.figure(figsize=(10, 8))\n",
    "plt.plot(np.arange(len(y.flatten())),\n",
    "             y.flatten(), color='blue');\n",
    "plt.plot(np.arange(df_y['ma'].shape[0]),\n",
    "             df_y['ma'], color='red');\n",
    "plt.xticks(np.arange(0,372, 30))\n",
    "plt.grid(True)\n",
    "plt.show()"
   ]
  },
  {
   "cell_type": "code",
   "execution_count": null,
   "metadata": {},
   "outputs": [],
   "source": [
    "y = y_pred_hod[0].flatten()\n",
    "fig = plt.figure(figsize=(10, 8))\n",
    "plt.plot(np.arange(len(y.flatten())),\n",
    "             y.flatten(), color='blue');\n",
    "plt.xticks(np.arange(0,288,24))\n",
    "plt.grid(True)\n",
    "plt.show()"
   ]
  },
  {
   "cell_type": "code",
   "execution_count": null,
   "metadata": {},
   "outputs": [],
   "source": [
    "y = rpd_hod[0].flatten()\n",
    "fig = plt.figure(figsize=(10, 8))\n",
    "plt.plot(np.arange(len(y.flatten())),\n",
    "             y.flatten(), color='blue');\n",
    "plt.xticks(np.arange(0,288,24))\n",
    "plt.grid(True)\n",
    "plt.show()"
   ]
  },
  {
   "cell_type": "code",
   "execution_count": null,
   "metadata": {},
   "outputs": [],
   "source": [
    "pd.Series(rpd_dow.flatten()).hist(bins=np.arange(0, 5, 0.5))"
   ]
  },
  {
   "cell_type": "code",
   "execution_count": null,
   "metadata": {},
   "outputs": [],
   "source": [
    "pd.Series(rpd_dom.flatten()).hist(bins=np.arange(0, 5, 0.5))"
   ]
  },
  {
   "cell_type": "code",
   "execution_count": null,
   "metadata": {},
   "outputs": [],
   "source": []
  }
 ],
 "metadata": {
  "kernelspec": {
   "display_name": "conda_tensorflow_p36",
   "language": "python",
   "name": "conda_tensorflow_p36"
  },
  "language_info": {
   "codemirror_mode": {
    "name": "ipython",
    "version": 3
   },
   "file_extension": ".py",
   "mimetype": "text/x-python",
   "name": "python",
   "nbconvert_exporter": "python",
   "pygments_lexer": "ipython3",
   "version": "3.6.5"
  }
 },
 "nbformat": 4,
 "nbformat_minor": 2
}
