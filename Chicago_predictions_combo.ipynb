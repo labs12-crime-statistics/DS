{
 "cells": [
  {
   "cell_type": "code",
   "execution_count": 1,
   "metadata": {},
   "outputs": [
    {
     "name": "stdout",
     "output_type": "stream",
     "text": [
      "Requirement already up-to-date: pip in /anaconda3/lib/python3.7/site-packages (19.1.1)\n",
      "Requirement already satisfied: python-decouple in /anaconda3/lib/python3.7/site-packages (3.1)\n",
      "Requirement already satisfied: geoalchemy2 in /anaconda3/lib/python3.7/site-packages (0.6.2)\n",
      "Requirement already satisfied: SQLAlchemy>=0.8 in /anaconda3/lib/python3.7/site-packages (from geoalchemy2) (1.2.15)\n",
      "Requirement already satisfied: shapely in /anaconda3/lib/python3.7/site-packages (1.6.4.post2)\n",
      "Requirement already satisfied: scipy in /anaconda3/lib/python3.7/site-packages (1.2.1)\n",
      "Requirement already satisfied: numpy>=1.8.2 in /anaconda3/lib/python3.7/site-packages (from scipy) (1.16.0)\n",
      "Collecting hyperas\n",
      "  Downloading https://files.pythonhosted.org/packages/04/34/87ad6ffb42df9c1fa9c4c906f65813d42ad70d68c66af4ffff048c228cd4/hyperas-0.4.1-py3-none-any.whl\n",
      "Requirement already satisfied: jupyter in /anaconda3/lib/python3.7/site-packages (from hyperas) (1.0.0)\n",
      "Collecting hyperopt (from hyperas)\n",
      "\u001b[?25l  Downloading https://files.pythonhosted.org/packages/63/12/704382c3081df3ae3f9d96fe6afb62efa2fa9749be20c301cd2797fb0b52/hyperopt-0.1.2-py3-none-any.whl (115kB)\n",
      "\u001b[K     |████████████████████████████████| 122kB 7.9MB/s eta 0:00:01\n",
      "\u001b[?25hRequirement already satisfied: nbformat in /anaconda3/lib/python3.7/site-packages (from hyperas) (4.4.0)\n",
      "Requirement already satisfied: keras in /anaconda3/lib/python3.7/site-packages (from hyperas) (2.2.4)\n",
      "Requirement already satisfied: entrypoints in /anaconda3/lib/python3.7/site-packages (from hyperas) (0.3)\n",
      "Requirement already satisfied: nbconvert in /anaconda3/lib/python3.7/site-packages (from hyperas) (5.4.0)\n",
      "Requirement already satisfied: jupyter-console in /anaconda3/lib/python3.7/site-packages (from jupyter->hyperas) (6.0.0)\n",
      "Requirement already satisfied: ipywidgets in /anaconda3/lib/python3.7/site-packages (from jupyter->hyperas) (7.4.2)\n",
      "Requirement already satisfied: ipykernel in /anaconda3/lib/python3.7/site-packages (from jupyter->hyperas) (5.1.0)\n",
      "Requirement already satisfied: notebook in /anaconda3/lib/python3.7/site-packages (from jupyter->hyperas) (5.7.4)\n",
      "Requirement already satisfied: qtconsole in /anaconda3/lib/python3.7/site-packages (from jupyter->hyperas) (4.4.3)\n",
      "Requirement already satisfied: pymongo in /anaconda3/lib/python3.7/site-packages (from hyperopt->hyperas) (3.7.2)\n",
      "Requirement already satisfied: tqdm in /anaconda3/lib/python3.7/site-packages (from hyperopt->hyperas) (4.31.1)\n",
      "Requirement already satisfied: scipy in /anaconda3/lib/python3.7/site-packages (from hyperopt->hyperas) (1.2.1)\n",
      "Requirement already satisfied: numpy in /anaconda3/lib/python3.7/site-packages (from hyperopt->hyperas) (1.16.0)\n",
      "Requirement already satisfied: networkx in /anaconda3/lib/python3.7/site-packages (from hyperopt->hyperas) (2.2)\n",
      "Requirement already satisfied: future in /anaconda3/lib/python3.7/site-packages (from hyperopt->hyperas) (0.17.1)\n",
      "Requirement already satisfied: six in /anaconda3/lib/python3.7/site-packages (from hyperopt->hyperas) (1.12.0)\n",
      "Requirement already satisfied: ipython-genutils in /anaconda3/lib/python3.7/site-packages (from nbformat->hyperas) (0.2.0)\n",
      "Requirement already satisfied: traitlets>=4.1 in /anaconda3/lib/python3.7/site-packages (from nbformat->hyperas) (4.3.2)\n",
      "Requirement already satisfied: jupyter-core in /anaconda3/lib/python3.7/site-packages (from nbformat->hyperas) (4.4.0)\n",
      "Requirement already satisfied: jsonschema!=2.5.0,>=2.4 in /anaconda3/lib/python3.7/site-packages (from nbformat->hyperas) (2.6.0)\n",
      "Requirement already satisfied: pyyaml in /anaconda3/lib/python3.7/site-packages (from keras->hyperas) (3.13)\n",
      "Requirement already satisfied: keras-applications>=1.0.6 in /anaconda3/lib/python3.7/site-packages (from keras->hyperas) (1.0.7)\n",
      "Requirement already satisfied: h5py in /anaconda3/lib/python3.7/site-packages (from keras->hyperas) (2.8.0)\n",
      "Requirement already satisfied: keras-preprocessing>=1.0.5 in /anaconda3/lib/python3.7/site-packages (from keras->hyperas) (1.0.9)\n",
      "Requirement already satisfied: mistune>=0.8.1 in /anaconda3/lib/python3.7/site-packages (from nbconvert->hyperas) (0.8.4)\n",
      "Requirement already satisfied: jinja2 in /anaconda3/lib/python3.7/site-packages (from nbconvert->hyperas) (2.10)\n",
      "Requirement already satisfied: pygments in /anaconda3/lib/python3.7/site-packages (from nbconvert->hyperas) (2.3.1)\n",
      "Requirement already satisfied: bleach in /anaconda3/lib/python3.7/site-packages (from nbconvert->hyperas) (3.1.0)\n",
      "Requirement already satisfied: pandocfilters>=1.4.1 in /anaconda3/lib/python3.7/site-packages (from nbconvert->hyperas) (1.4.2)\n",
      "Requirement already satisfied: testpath in /anaconda3/lib/python3.7/site-packages (from nbconvert->hyperas) (0.4.2)\n",
      "Requirement already satisfied: defusedxml in /anaconda3/lib/python3.7/site-packages (from nbconvert->hyperas) (0.5.0)\n",
      "Requirement already satisfied: jupyter_client in /anaconda3/lib/python3.7/site-packages (from jupyter-console->jupyter->hyperas) (5.2.4)\n",
      "Requirement already satisfied: ipython in /anaconda3/lib/python3.7/site-packages (from jupyter-console->jupyter->hyperas) (7.2.0)\n",
      "Requirement already satisfied: prompt_toolkit<2.1.0,>=2.0.0 in /anaconda3/lib/python3.7/site-packages (from jupyter-console->jupyter->hyperas) (2.0.7)\n",
      "Requirement already satisfied: widgetsnbextension~=3.4.0 in /anaconda3/lib/python3.7/site-packages (from ipywidgets->jupyter->hyperas) (3.4.2)\n",
      "Requirement already satisfied: tornado>=4.2 in /anaconda3/lib/python3.7/site-packages (from ipykernel->jupyter->hyperas) (5.1.1)\n",
      "Requirement already satisfied: pyzmq>=17 in /anaconda3/lib/python3.7/site-packages (from notebook->jupyter->hyperas) (17.1.2)\n",
      "Requirement already satisfied: prometheus-client in /anaconda3/lib/python3.7/site-packages (from notebook->jupyter->hyperas) (0.5.0)\n",
      "Requirement already satisfied: terminado>=0.8.1 in /anaconda3/lib/python3.7/site-packages (from notebook->jupyter->hyperas) (0.8.1)\n",
      "Requirement already satisfied: Send2Trash in /anaconda3/lib/python3.7/site-packages (from notebook->jupyter->hyperas) (1.5.0)\n",
      "Requirement already satisfied: decorator>=4.3.0 in /anaconda3/lib/python3.7/site-packages (from networkx->hyperopt->hyperas) (4.3.0)\n",
      "Requirement already satisfied: MarkupSafe>=0.23 in /anaconda3/lib/python3.7/site-packages (from jinja2->nbconvert->hyperas) (1.1.0)\n",
      "Requirement already satisfied: webencodings in /anaconda3/lib/python3.7/site-packages (from bleach->nbconvert->hyperas) (0.5.1)\n",
      "Requirement already satisfied: python-dateutil>=2.1 in /anaconda3/lib/python3.7/site-packages (from jupyter_client->jupyter-console->jupyter->hyperas) (2.8.0)\n",
      "Requirement already satisfied: setuptools>=18.5 in /anaconda3/lib/python3.7/site-packages (from ipython->jupyter-console->jupyter->hyperas) (40.8.0)\n",
      "Requirement already satisfied: jedi>=0.10 in /anaconda3/lib/python3.7/site-packages (from ipython->jupyter-console->jupyter->hyperas) (0.13.2)\n",
      "Requirement already satisfied: backcall in /anaconda3/lib/python3.7/site-packages (from ipython->jupyter-console->jupyter->hyperas) (0.1.0)\n",
      "Requirement already satisfied: pickleshare in /anaconda3/lib/python3.7/site-packages (from ipython->jupyter-console->jupyter->hyperas) (0.7.5)\n",
      "Requirement already satisfied: pexpect; sys_platform != \"win32\" in /anaconda3/lib/python3.7/site-packages (from ipython->jupyter-console->jupyter->hyperas) (4.6.0)\n",
      "Requirement already satisfied: appnope; sys_platform == \"darwin\" in /anaconda3/lib/python3.7/site-packages (from ipython->jupyter-console->jupyter->hyperas) (0.1.0)\n",
      "Requirement already satisfied: wcwidth in /anaconda3/lib/python3.7/site-packages (from prompt_toolkit<2.1.0,>=2.0.0->jupyter-console->jupyter->hyperas) (0.1.7)\n",
      "Requirement already satisfied: parso>=0.3.0 in /anaconda3/lib/python3.7/site-packages (from jedi>=0.10->ipython->jupyter-console->jupyter->hyperas) (0.3.1)\n",
      "Requirement already satisfied: ptyprocess>=0.5 in /anaconda3/lib/python3.7/site-packages (from pexpect; sys_platform != \"win32\"->ipython->jupyter-console->jupyter->hyperas) (0.6.0)\n",
      "Installing collected packages: hyperopt, hyperas\n",
      "Successfully installed hyperas-0.4.1 hyperopt-0.1.2\n"
     ]
    }
   ],
   "source": [
    "!pip install --upgrade pip\n",
    "!pip install python-decouple\n",
    "!pip install geoalchemy2\n",
    "!pip install shapely\n",
    "!pip install scipy\n",
    "!pip install hyperas"
   ]
  },
  {
   "cell_type": "code",
   "execution_count": 2,
   "metadata": {},
   "outputs": [
    {
     "name": "stderr",
     "output_type": "stream",
     "text": [
      "Using TensorFlow backend.\n"
     ]
    }
   ],
   "source": [
    "from sqlalchemy import create_engine, func, text\n",
    "from sqlalchemy.orm import sessionmaker\n",
    "from decouple import config\n",
    "from shapely import wkb, wkt\n",
    "from shapely.geometry import Point\n",
    "from geoalchemy2.shape import to_shape \n",
    "\n",
    "import pandas as pd\n",
    "import numpy as np\n",
    "import json\n",
    "from datetime import datetime, timedelta\n",
    "import re\n",
    "from matplotlib import pyplot as plt\n",
    "import random\n",
    "\n",
    "from sklearn.preprocessing import RobustScaler\n",
    "from keras.models import Sequential\n",
    "from keras.layers import LSTM, Dense\n",
    "from sklearn.model_selection import GridSearchCV\n",
    "\n",
    "from hyperas.distributions import uniform\n",
    "\n",
    "\n",
    "\n",
    "# ----------- TODO: Issues with importing imbalance-learn library\n",
    "# from imblearn.over_sampling import RandomOverSampler\n",
    "# from imblearn.under_sampling import NearMiss\n",
    "# from imblearn.under_sampling import (RandomUnderSampler,\n",
    "#                                      ClusterCentroids,\n",
    "#                                      TomekLinks,\n",
    "#                                      NeighbourhoodCleaningRule,\n",
    "#                                      NearMiss)"
   ]
  },
  {
   "cell_type": "code",
   "execution_count": 3,
   "metadata": {},
   "outputs": [],
   "source": [
    "\"\"\"Contains models for DB.\"\"\"\n",
    "\n",
    "from sqlalchemy.ext.declarative import declarative_base\n",
    "from sqlalchemy import Column, BigInteger, Integer, String, DateTime, ForeignKey, Float\n",
    "from sqlalchemy.orm import relationship\n",
    "from geoalchemy2 import Geometry\n",
    "\n",
    "\n",
    "BASE = declarative_base()\n",
    "\n",
    "\n",
    "class City(BASE):\n",
    "    \"\"\"City model for DB. Has information of cities.\"\"\"\n",
    "    __tablename__ = 'city'\n",
    "    id            = Column(BigInteger, primary_key=True)\n",
    "    city          = Column(String, unique=False, nullable=False)\n",
    "    state         = Column(String, unique=False, nullable=True)\n",
    "    country       = Column(String, unique=False, nullable=False)\n",
    "    location      = Column(Geometry(geometry_type='POINT'), nullable=False)\n",
    "    blocks        = relationship(\"Blocks\", back_populates=\"city\")\n",
    "    zipcodes      = relationship(\"ZipcodeGeom\", back_populates=\"city\")\n",
    "    incidents     = relationship(\"Incident\", back_populates=\"city\")\n",
    "\n",
    "\n",
    "class Blocks(BASE):\n",
    "    \"\"\"Block model for DB. Has information of city blocks for a related city\n",
    "        id.\"\"\"\n",
    "    __tablename__ = 'block'\n",
    "    id            = Column(BigInteger, primary_key=True)\n",
    "    cityid        = Column(BigInteger, ForeignKey('city.id'), nullable=False)\n",
    "    shape         = Column(Geometry(geometry_type='MULTIPOLYGON'), nullable=False)\n",
    "    population    = Column(Integer, nullable=False)\n",
    "    city          = relationship(\"City\", back_populates=\"blocks\")\n",
    "    incidents     = relationship(\"Incident\", back_populates=\"block\")\n",
    "\n",
    "class ZipcodeGeom(BASE):\n",
    "    \"\"\"Zipcode geometry model for DB. Has information of zipcodes and related\n",
    "        city id.\"\"\"\n",
    "    __tablename__ = 'zipcodegeom'\n",
    "    id            = Column(BigInteger, primary_key=True)\n",
    "    cityid        = Column(BigInteger, ForeignKey('city.id'), nullable=False)\n",
    "    zipcode       = Column(String, nullable=False, unique=True)\n",
    "    shape         = Column(Geometry(geometry_type='MULTIPOLYGON'), nullable=False)\n",
    "    city          = relationship(\"City\", back_populates=\"zipcodes\")\n",
    "\n",
    "class Incident(BASE):\n",
    "    \"\"\"Incident model for DB. Has information of a specific crime, including\n",
    "        where it took place, when it took place, and the type of crime that\n",
    "        occurred.\"\"\"\n",
    "    __tablename__ = 'incident'\n",
    "    id            = Column(BigInteger, primary_key=True)\n",
    "    crimetypeid   = Column(BigInteger, ForeignKey('crimetype.id'), nullable=False)\n",
    "    locdescid     = Column(BigInteger, ForeignKey('locdesctype.id'), nullable=False)\n",
    "    cityid        = Column(BigInteger, ForeignKey('city.id'), nullable=False)\n",
    "    blockid       = Column(BigInteger, ForeignKey('block.id'), nullable=False)\n",
    "    location      = Column(Geometry(geometry_type='POINT'), nullable=False)\n",
    "    datetime      = Column(DateTime, nullable=False)\n",
    "    hour          = Column(Integer, nullable=False)\n",
    "    dow           = Column(Integer, nullable=False)\n",
    "    month         = Column(Integer, nullable=False)\n",
    "    year          = Column(Integer, nullable=False)\n",
    "    city          = relationship(\"City\", back_populates=\"incidents\")\n",
    "    block         = relationship(\"Blocks\", back_populates=\"incidents\")\n",
    "    crimetype     = relationship(\"CrimeType\", back_populates=\"incidents\")\n",
    "    locationdesc  = relationship(\"LocationDescriptionType\", back_populates=\"incidents\")\n",
    "\n",
    "class CrimeType(BASE):\n",
    "    \"\"\"CrimeType model for DB. Has information of the types of crime, including\n",
    "        a general description and the numerical severity of the crime.\"\"\"\n",
    "    __tablename__ = 'crimetype'\n",
    "    id            = Column(BigInteger, primary_key=True)\n",
    "    category      = Column(String, unique=True, nullable=False)\n",
    "    severity      = Column(Integer, nullable=False)\n",
    "    incidents     = relationship(\"Incident\", back_populates=\"crimetype\")\n",
    "\n",
    "\n",
    "class LocationDescriptionType(BASE):\n",
    "    \"\"\"Location description model for DB. Has information on the type of\n",
    "        location that the crime took place.\"\"\"\n",
    "    __tablename__ = 'locdesctype'\n",
    "    id            = Column(BigInteger, primary_key=True)\n",
    "    key1          = Column(String, nullable=False)\n",
    "    key2          = Column(String, nullable=False)\n",
    "    key3          = Column(String, nullable=False)\n",
    "    incidents     = relationship(\"Incident\", back_populates=\"locationdesc\")"
   ]
  },
  {
   "cell_type": "code",
   "execution_count": 169,
   "metadata": {},
   "outputs": [],
   "source": [
    "use_counts = True  # Use crime counts instead of severity ratings\n",
    "SEVERITY_SCALING_FACTOR = 1000000.\n",
    "SEVERITY_OPERATOR = '/'\n",
    "\n",
    "def scale_data(X):\n",
    "    if use_counts == True:\n",
    "        X /= 1000000.0  # This we will use with the count(severity) SQL query\n",
    "    else:\n",
    "        X *= 1000.0   # This gave us good results earlier with the severity/avg(population) SQL query\n",
    "    return X\n",
    "\n",
    "def descale_data(X):\n",
    "    if use_counts == True:\n",
    "        X *= 1000000.0  # This we will use with the count(severity) SQL query\n",
    "    else:\n",
    "        X /= 1000.0   # This gave us good results earlier with the severity/avg(population) SQL query\n",
    "    return X\n",
    "\n",
    "class GetData(object):\n",
    "    def go(self, SESSION, start_year, end_year):\n",
    "        #         SQL_QUERY = \\\n",
    "        #             f'''\n",
    "        #                 WITH\n",
    "        #                     max_severity AS (\n",
    "        #                         SELECT MAX(severity) AS severity\n",
    "        #                         FROM (\n",
    "        #                             SELECT SUM(crimetype.severity)/AVG(block.population) AS severity\n",
    "        #                             FROM incident\n",
    "        #                             INNER JOIN block ON incident.blockid = block.id INNER JOIN crimetype ON incident.crimetypeid = crimetype.id AND block.population > 0\n",
    "        #                             GROUP BY\n",
    "        #                                 incident.blockid,\n",
    "        #                                 incident.year,\n",
    "        #                                 incident.month,\n",
    "        #                                 incident.dow\n",
    "        #                         ) AS categories\n",
    "        #                     ),\n",
    "        #                     block_incidents AS (\n",
    "        #                         SELECT\n",
    "        #                             incident.blockid,\n",
    "        #                             incident.datetime,\n",
    "        #                             incident.year,\n",
    "        #                             incident.month,\n",
    "        #                             incident.dow,\n",
    "        #                             SUM(crimetype.severity)/AVG(block.population) AS severity\n",
    "        #                         FROM incident\n",
    "        #                         INNER JOIN block ON incident.blockid = block.id\n",
    "        #                         INNER JOIN crimetype ON incident.crimetypeid = crimetype.id\n",
    "        #                             AND block.population > 0\n",
    "        #                             AND incident.cityid = 1\n",
    "        #                             AND incident.year >= {start_year}\n",
    "        #                             AND incident.year <= {end_year}\n",
    "        #                         GROUP BY\n",
    "        #                             incident.blockid,\n",
    "        #                             incident.datetime,\n",
    "        #                             incident.year,\n",
    "        #                             incident.month,\n",
    "        #                             incident.dow\n",
    "        #                     )\n",
    "        #                 SELECT\n",
    "        #                     block_incidents.blockid,\n",
    "        #                     block_incidents.datetime,\n",
    "        #                     block_incidents.year,\n",
    "        #                     block_incidents.month,\n",
    "        #                     block_incidents.dow,\n",
    "        #                     block_incidents.severity/max_severity.severity AS severity\n",
    "        #                 FROM block_incidents, max_severity        \n",
    "        #             '''\n",
    "        SQL_QUERY_WITH_COUNTS = \\\n",
    "            f'''\n",
    "                SELECT\n",
    "                    incident.blockid,\n",
    "                    incident.datetime,\n",
    "                    incident.year,\n",
    "                    incident.month,\n",
    "                    incident.dow,\n",
    "                    incident.hour,\n",
    "                    COUNT(crimetype.severity) AS severity\n",
    "                FROM incident\n",
    "                INNER JOIN block ON incident.blockid = block.id\n",
    "                INNER JOIN crimetype ON incident.crimetypeid = crimetype.id\n",
    "                    AND block.population > 0\n",
    "                    AND incident.cityid = 1\n",
    "                    AND incident.year >= {start_year}\n",
    "                    AND incident.year <= {end_year}\n",
    "                GROUP BY\n",
    "                    incident.blockid,\n",
    "                    incident.datetime,\n",
    "                    incident.year,\n",
    "                    incident.month,\n",
    "                    incident.dow,\n",
    "                    incident.hour\n",
    "            '''\n",
    "        return SESSION.execute(text(SQL_QUERY_WITH_COUNTS)).fetchall()"
   ]
  },
  {
   "cell_type": "code",
   "execution_count": 170,
   "metadata": {},
   "outputs": [],
   "source": [
    "DAY_OF_WEEK  = 0\n",
    "DAY_OF_MONTH = 1\n",
    "HOUR_OF_DAY  = 2\n",
    "\n",
    "def fill_data(X, y, r, start_year, end_year, blockid_dict, data_type):\n",
    "    \n",
    "    def day_of_month(x):\n",
    "        return x.day - 1\n",
    "\n",
    "    def hour_of_day(x):\n",
    "        return x.hour\n",
    "    \n",
    "    if r[2] == end_year:\n",
    "        if data_type == DAY_OF_WEEK:\n",
    "            #                     block id       0-based month\n",
    "            #                vvvvvvvvvvvvvvvvv   vvvvvv\n",
    "            y[blockid_dict[r[0]], r[3]-1, r[4]] = float(r[5])\n",
    "            #                                            ^^^^        ^^^^\n",
    "            #                                            dow         risk\n",
    "        elif data_type == DAY_OF_MONTH:\n",
    "            #                     block id       0-based month\n",
    "            #                vvvvvvvvvvvvvvvvv   vvvvvv\n",
    "            y[blockid_dict[r[0]], r[3]-1, day_of_month(r[1])] = float(r[5])\n",
    "            #                                            ^^^^^^^^^^^^^^^^^^        ^^^^\n",
    "            #                                                  dom                 risk\n",
    "        elif data_type == HOUR_OF_DAY:\n",
    "            #                     block id       0-based month\n",
    "            #                vvvvvvvvvvvvvvvvv   vvvvvv\n",
    "            y[blockid_dict[r[0]], r[3]-1, hour_of_day(r[1])] = float(r[5])\n",
    "            #                                             ^^^^^^^^^^^^^^^         ^^^^\n",
    "            #                                               hour of day           risk\n",
    "        else:\n",
    "            raise ValueError('Unsupported data type:', data_type)\n",
    "    else:\n",
    "        if data_type == DAY_OF_WEEK:\n",
    "            X[blockid_dict[r[0]], 12*(r[2]-start_year-1)+r[3]-1, r[4]] = float(r[5])\n",
    "        elif data_type == DAY_OF_MONTH:\n",
    "            X[blockid_dict[r[0]], 12*(r[2]-start_year-1)+r[3]-1, day_of_month(r[1])] = float(r[5])\n",
    "        elif data_type == HOUR_OF_DAY:\n",
    "            X[blockid_dict[r[0]], 12*(r[2]-start_year-1)+r[3]-1, hour_of_day(r[1])] = float(r[5])\n",
    "        else:\n",
    "            raise ValueError('Unsupported data type:', data_type)"
   ]
  },
  {
   "cell_type": "code",
   "execution_count": 171,
   "metadata": {},
   "outputs": [],
   "source": [
    "def process_data(data, start_year, end_year, blockid_dict, data_type):\n",
    "\n",
    "    if data_type == DAY_OF_WEEK:\n",
    "        X = np.zeros((len(blockid_dict), 24, 7))\n",
    "        y = np.zeros((len(blockid_dict), 12, 7))\n",
    "    elif data_type == DAY_OF_MONTH:\n",
    "        X = np.zeros((len(blockid_dict), 24, 31))\n",
    "        y = np.zeros((len(blockid_dict), 12, 31))\n",
    "    elif data_type == HOUR_OF_DAY:\n",
    "        X = np.zeros((len(blockid_dict), 24, 24))\n",
    "        y = np.zeros((len(blockid_dict), 12, 24))\n",
    "    \n",
    "    # records is the list of rows we get from the query with this order:\n",
    "    #   blockid, year, month, dow, hour, risk\n",
    "    #   month is from 1 - 12\n",
    "\n",
    "    for r in data:\n",
    "        if r[0] in blockid_dict:\n",
    "            fill_data(X, y, r, start_year, end_year, blockid_dict, data_type)\n",
    "\n",
    "    X = scale_data(X)\n",
    "    y = scale_data(y)\n",
    "\n",
    "    #     for i in range(24):\n",
    "    #         X[:, i, -1] = (start_year*12+i) / (2000 * 12)\n",
    "        \n",
    "    return X, y"
   ]
  },
  {
   "cell_type": "code",
   "execution_count": 172,
   "metadata": {},
   "outputs": [],
   "source": [
    "from contextlib import contextmanager\n",
    "\n",
    "@contextmanager\n",
    "def session_scope():\n",
    "    \"\"\"Provide a transactional scope around a series of operations.\"\"\"\n",
    "\n",
    "    DB_URI  = config('DB_URI')\n",
    "    ENGINE  = create_engine(DB_URI)\n",
    "    Session = sessionmaker(bind=ENGINE)\n",
    "    SESSION = Session()\n",
    "    \n",
    "    try:\n",
    "        yield SESSION\n",
    "        SESSION.commit()\n",
    "    except:\n",
    "        SESSION.rollback()\n",
    "        raise\n",
    "    finally:\n",
    "        SESSION.close()\n",
    "\n",
    "\n",
    "def ready_data(training_start_year, training_end_year, train_blockid_dict,\n",
    "               testing_start_year, testing_end_year, test_blockid_dict,\n",
    "               data_type):\n",
    "    with session_scope() as session:\n",
    "        training_data = GetData().go(session,\n",
    "                                     training_start_year,\n",
    "                                     training_end_year)\n",
    "        testing_data = GetData().go(session,\n",
    "                                     testing_start_year,\n",
    "                                     testing_end_year)\n",
    "        \n",
    "        X_train, y_train = process_data(training_data,\n",
    "                                        training_start_year, \n",
    "                                        training_end_year,\n",
    "                                        train_blockid_dict,\n",
    "                                        data_type)\n",
    "        X_test, y_test = process_data(testing_data,\n",
    "                                      testing_start_year, \n",
    "                                      testing_end_year,\n",
    "                                      test_blockid_dict,\n",
    "                                      data_type)\n",
    "\n",
    "    return X_train, X_test, y_train, y_test"
   ]
  },
  {
   "cell_type": "markdown",
   "metadata": {},
   "source": [
    "## Day of week analysis for each month of each block id"
   ]
  },
  {
   "cell_type": "code",
   "execution_count": 173,
   "metadata": {},
   "outputs": [],
   "source": [
    "# start month = 3, end_month = 2 (months are 0-indexed)\n",
    "#   X: 4/2017 -> 3/2019 actual date\n",
    "#   y: 4/2019 -> 3/2020 actual date\n",
    "#\n",
    "X_test_start_month = 0\n",
    "X_test_end_month   = 0\n",
    "X_test_start_year  = 2016\n",
    "X_test_end_year    = 2018\n",
    "\n",
    "TRAIN_NUM_BLOCKIDS = TEST_NUM_BLOCKIDS = 801\n",
    "\n",
    "TRAIN_BLOCKIDS = random.sample(list(range(1,802)), k=TRAIN_NUM_BLOCKIDS)   \n",
    "train_blockid_dict = {}\n",
    "for ind, blockid in enumerate(TRAIN_BLOCKIDS ):\n",
    "    train_blockid_dict[blockid] = ind\n",
    "        \n",
    "TEST_BLOCKIDS = random.sample(list(range(1,802)), k=TEST_NUM_BLOCKIDS)    \n",
    "test_blockid_dict = {}\n",
    "for ind, blockid in enumerate(TEST_BLOCKIDS ):\n",
    "    test_blockid_dict[blockid] = ind"
   ]
  },
  {
   "cell_type": "code",
   "execution_count": 181,
   "metadata": {},
   "outputs": [],
   "source": [
    "def plot_output(y, y_pred, dataset_type, x_label, y_label):\n",
    "\n",
    "    fig = plt.figure(figsize=(10, 8))\n",
    "    plt.plot(np.arange(len(y.flatten())),\n",
    "                 y.flatten(), color='blue');\n",
    "    plt.plot(np.arange(len(y_pred.flatten())),\n",
    "                 y_pred.flatten(), color='red');\n",
    "    plt.xlabel(x_label, fontsize=16)\n",
    "    plt.ylabel(y_label, fontsize=18)\n",
    "    plt.title(dataset_type + ' dataset', fontsize=18)\n",
    "    if use_counts == True:\n",
    "        plt.legend(labels=['count', 'predicted count per million'], prop={'size': 20})\n",
    "    else:\n",
    "        plt.legend(labels=['risk', 'predicted risk'], prop={'size': 20})\n",
    "    plt.show()"
   ]
  },
  {
   "cell_type": "code",
   "execution_count": 175,
   "metadata": {},
   "outputs": [],
   "source": [
    "from sklearn.ensemble import RandomForestRegressor\n",
    "from sklearn.multioutput import MultiOutputRegressor\n",
    "from sklearn.metrics import mean_squared_error\n",
    "\n",
    "random.seed(101)\n",
    "\n",
    "def get_predictions(X_train, y_train, X_test, y_test, \n",
    "                    x_label, y_label, model, gridsearch=False):\n",
    "    \n",
    "    def print_data_info(data, data_name):\n",
    "        flat = data.flatten()\n",
    "        print('Number of data points:', len(flat))\n",
    "        print('Number of non-zero elements:', len(flat[flat > 0.0]))\n",
    "        print('Percentage of non-zero elements:', len(flat[flat > 0.0])/len(flat))\n",
    "\n",
    "        if use_counts == True:\n",
    "            pd.Series(flat).hist();\n",
    "        else:\n",
    "            pd.Series(flat).hist(bins=[0.25, 0.5, 1.0, 1.5, 2.5, 5.0, 10, 15, 20]);\n",
    "        plt.title(f'Histogram of {data_name}')\n",
    "        plt.show()\n",
    "    \n",
    "    print_data_info(y_test, 'y_test')\n",
    "    print('Correlation between y_train and y_test:\\n', \n",
    "          np.corrcoef(y_train.flatten(), y_test.flatten()))\n",
    "          \n",
    "    X_train = X_train.reshape((TRAIN_NUM_BLOCKIDS, X_train.shape[1] * X_train.shape[2]))\n",
    "    y_train = y_train.reshape((TRAIN_NUM_BLOCKIDS, y_train.shape[1] * y_train.shape[2]))\n",
    "    X_test = X_test.reshape((TEST_NUM_BLOCKIDS, X_test.shape[1] * X_test.shape[2]))\n",
    "    y_test = y_test.reshape((TEST_NUM_BLOCKIDS, y_test.shape[1] * y_test.shape[2]))\n",
    "\n",
    "    print('y_test shape after reshaping:', y_test.shape)\n",
    "    \n",
    "    if gridsearch == True:\n",
    "        # For regressors:\n",
    "        param_grid = {  # param_grid values not working - have to debug --- TODO ---\n",
    "            'estimator__n_estimators':  [80, 100, 120],\n",
    "            'estimator__max_depth': [2, 3, 4, 5, 6],\n",
    "        }\n",
    "\n",
    "        # For classifiers:\n",
    "        # param_grid = {\n",
    "        #     'estimator__n_estimators':  [80, 100, 120],\n",
    "        #     'estimator__max_depth': [2, 3, 4, 5, 6, 7, 8],\n",
    "        # }\n",
    "\n",
    "        gridsearch = GridSearchCV(model,\n",
    "                                  param_grid=param_grid, \n",
    "                                  scoring='neg_mean_squared_error', \n",
    "                                  cv=3, n_jobs=-1,\n",
    "                                  return_train_score=True, verbose=10)\n",
    "        model = gridsearch\n",
    "        best_model_params = model.cv_results_['params'][gridsearch.best_index_]\n",
    "        print('Best Grid Search model:', best_model_params)\n",
    "\n",
    "    model.fit(X_train, y_train)\n",
    "\n",
    "    best_training_score = model.score(X_train, y_train)\n",
    "    best_testing_score  = model.score(X_test, y_test)\n",
    "\n",
    "    print(f'  Best training score:', -best_training_score)\n",
    "    print(f'  Best testing score: ', -best_testing_score)\n",
    "\n",
    "    y_pred = model.predict(X_test)\n",
    "    print('mean_squared_error:', mean_squared_error(y_test, y_pred))\n",
    "          \n",
    "    plot_output(y_test, y_pred, 'Testing', x_label, y_label)\n",
    "\n",
    "    def relative_percent_difference(y_true, y_pred):\n",
    "        return 1 - np.absolute((y_true - y_pred) / (np.absolute(y_true) + np.absolute(y_pred)))\n",
    "    \n",
    "    return y_test, y_pred, relative_percent_difference(y_test, y_pred)"
   ]
  },
  {
   "cell_type": "markdown",
   "metadata": {},
   "source": [
    "## Day of week analysis for each month of each block id"
   ]
  },
  {
   "cell_type": "code",
   "execution_count": 182,
   "metadata": {},
   "outputs": [
    {
     "name": "stdout",
     "output_type": "stream",
     "text": [
      "(801, 24, 7) (801, 12, 7) (801, 24, 7) (801, 12, 7)\n",
      "Number of data points: 67284\n",
      "Number of non-zero elements: 56678\n",
      "Percentage of non-zero elements: 0.8423696569763985\n"
     ]
    },
    {
     "data": {
      "image/png": "[encoded data removed]",
      "text/plain": [
       "<Figure size 432x288 with 1 Axes>"
      ]
     },
     "metadata": {
      "needs_background": "light"
     },
     "output_type": "display_data"
    },
    {
     "name": "stdout",
     "output_type": "stream",
     "text": [
      "Correlation between y_train and y_test:\n",
      " [[1.         0.00271013]\n",
      " [0.00271013 1.        ]]\n",
      "y_test shape after reshaping: (801, 84)\n"
     ]
    },
    {
     "ename": "AttributeError",
     "evalue": "'GridSearchCV' object has no attribute 'cv_results_'",
     "output_type": "error",
     "traceback": [
      "\u001b[0;31m---------------------------------------------------------------------------\u001b[0m",
      "\u001b[0;31mAttributeError\u001b[0m                            Traceback (most recent call last)",
      "\u001b[0;32m<timed exec>\u001b[0m in \u001b[0;36m<module>\u001b[0;34m\u001b[0m\n",
      "\u001b[0;32m<ipython-input-175-272abfd53608>\u001b[0m in \u001b[0;36mget_predictions\u001b[0;34m(X_train, y_train, X_test, y_test, x_label, y_label, model, gridsearch)\u001b[0m\n\u001b[1;32m     51\u001b[0m                                   return_train_score=True, verbose=10)\n\u001b[1;32m     52\u001b[0m         \u001b[0mmodel\u001b[0m \u001b[0;34m=\u001b[0m \u001b[0mgridsearch\u001b[0m\u001b[0;34m\u001b[0m\u001b[0;34m\u001b[0m\u001b[0m\n\u001b[0;32m---> 53\u001b[0;31m         \u001b[0mbest_model_params\u001b[0m \u001b[0;34m=\u001b[0m \u001b[0mmodel\u001b[0m\u001b[0;34m.\u001b[0m\u001b[0mcv_results_\u001b[0m\u001b[0;34m[\u001b[0m\u001b[0;34m'params'\u001b[0m\u001b[0;34m]\u001b[0m\u001b[0;34m[\u001b[0m\u001b[0mgridsearch\u001b[0m\u001b[0;34m.\u001b[0m\u001b[0mbest_index_\u001b[0m\u001b[0;34m]\u001b[0m\u001b[0;34m\u001b[0m\u001b[0;34m\u001b[0m\u001b[0m\n\u001b[0m\u001b[1;32m     54\u001b[0m         \u001b[0mprint\u001b[0m\u001b[0;34m(\u001b[0m\u001b[0;34m'Best Grid Search model:'\u001b[0m\u001b[0;34m,\u001b[0m \u001b[0mbest_model_params\u001b[0m\u001b[0;34m)\u001b[0m\u001b[0;34m\u001b[0m\u001b[0;34m\u001b[0m\u001b[0m\n\u001b[1;32m     55\u001b[0m \u001b[0;34m\u001b[0m\u001b[0m\n",
      "\u001b[0;31mAttributeError\u001b[0m: 'GridSearchCV' object has no attribute 'cv_results_'"
     ]
    }
   ],
   "source": [
    "%%time\n",
    "\n",
    "X_train, X_test, y_train, y_test = ready_data(2015, 2017, train_blockid_dict,\n",
    "                                              X_test_start_year, X_test_end_year, test_blockid_dict,\n",
    "                                              DAY_OF_WEEK)\n",
    "\n",
    "print(X_train.shape, y_train.shape, X_test.shape, y_test.shape)\n",
    "model = MultiOutputRegressor(RandomForestRegressor(max_depth=3, n_estimators=80))\n",
    "if use_counts == True:\n",
    "    y_test_dow, y_pred_dow, rpd_dow = get_predictions(X_train, y_train, X_test, y_test, \n",
    "                                                      'day of week for each month', \n",
    "                                                      f'crime count {SEVERITY_OPERATOR} {SEVERITY_SCALING_FACTOR}', \n",
    "                                                      model, gridsearch=True)\n",
    "else:\n",
    "    y_test_dow, y_pred_dow, rpd_dow = get_predictions(X_train, y_train, X_test, y_test, \n",
    "                                                      'day of week for each month', \n",
    "                                                      f'risk {SEVERITY_OPERATOR} {SEVERITY_SCALING_FACTOR}', model)"
   ]
  },
  {
   "cell_type": "code",
   "execution_count": 187,
   "metadata": {},
   "outputs": [
    {
     "data": {
      "text/plain": [
       "'0.20.3'"
      ]
     },
     "execution_count": 187,
     "metadata": {},
     "output_type": "execute_result"
    }
   ],
   "source": [
    "import sklearn\n",
    "sklearn.__version__"
   ]
  },
  {
   "cell_type": "code",
   "execution_count": 155,
   "metadata": {},
   "outputs": [
    {
     "data": {
      "image/png": "[encoded data removed]",
      "text/plain": [
       "<Figure size 720x576 with 1 Axes>"
      ]
     },
     "metadata": {
      "needs_background": "light"
     },
     "output_type": "display_data"
    }
   ],
   "source": [
    "plot_output(y_test.flatten()[:100], y_pred_dow.flatten()[:100], 'Test', 'day of week for each month', 'crime count per million')"
   ]
  },
  {
   "cell_type": "markdown",
   "metadata": {},
   "source": [
    "## Day of month analysis for each month of each block id"
   ]
  },
  {
   "cell_type": "code",
   "execution_count": 178,
   "metadata": {},
   "outputs": [
    {
     "name": "stdout",
     "output_type": "stream",
     "text": [
      "(801, 24, 31) (801, 12, 31) (801, 24, 31) (801, 12, 31)\n",
      "Number of data points: 297972\n",
      "Number of non-zero elements: 139058\n",
      "Percentage of non-zero elements: 0.46668143315479305\n"
     ]
    },
    {
     "data": {
      "image/png": "[encoded data removed]",
      "text/plain": [
       "<Figure size 432x288 with 1 Axes>"
      ]
     },
     "metadata": {
      "needs_background": "light"
     },
     "output_type": "display_data"
    },
    {
     "name": "stdout",
     "output_type": "stream",
     "text": [
      "Correlation between y_train and y_test:\n",
      " [[1.         0.01864767]\n",
      " [0.01864767 1.        ]]\n",
      "y_test shape after reshaping: (801, 372)\n",
      "  Best training score: -0.01880791878824609\n",
      "  Best testing score:  -0.013435386096997997\n",
      "mean_squared_error: 7.394684754501012e-11\n"
     ]
    },
    {
     "data": {
      "image/png": "[encoded data removed]",
      "text/plain": [
       "<Figure size 720x576 with 1 Axes>"
      ]
     },
     "metadata": {
      "needs_background": "light"
     },
     "output_type": "display_data"
    },
    {
     "name": "stdout",
     "output_type": "stream",
     "text": [
      "CPU times: user 36.6 s, sys: 1.29 s, total: 37.9 s\n",
      "Wall time: 1min 18s\n"
     ]
    },
    {
     "name": "stderr",
     "output_type": "stream",
     "text": [
      "/anaconda3/lib/python3.7/site-packages/ipykernel_launcher.py:70: RuntimeWarning: invalid value encountered in true_divide\n"
     ]
    }
   ],
   "source": [
    "%%time\n",
    "\n",
    "X_train, X_test, y_train, y_test = ready_data(2015, 2017, train_blockid_dict,\n",
    "                                              X_test_start_year, X_test_end_year, test_blockid_dict,\n",
    "                                              DAY_OF_MONTH)\n",
    "\n",
    "print(X_train.shape, y_train.shape, X_test.shape, y_test.shape)\n",
    "\n",
    "model = MultiOutputRegressor(RandomForestRegressor(max_depth=5, n_estimators=120))\n",
    "if use_counts == True:\n",
    "    y_test_dow, y_pred_dow, rpd_dow = get_predictions(X_train, y_train, X_test, y_test, \n",
    "                                                      'day of month for each month', \n",
    "                                                      f'crime count {SEVERITY_OPERATOR} {SEVERITY_SCALING_FACTOR}', \n",
    "                                                      model, gridsearch=True)\n",
    "else:\n",
    "    y_test_dow, y_pred_dow, rpd_dow = get_predictions(X_train, y_train, X_test, y_test, \n",
    "                                                      'day of month for each month', \n",
    "                                                      f'risk {SEVERITY_OPERATOR} {SEVERITY_SCALING_FACTOR}', model)"
   ]
  },
  {
   "cell_type": "markdown",
   "metadata": {},
   "source": [
    "## Hour of day analysis for each month of each block id"
   ]
  },
  {
   "cell_type": "code",
   "execution_count": 179,
   "metadata": {},
   "outputs": [
    {
     "name": "stdout",
     "output_type": "stream",
     "text": [
      "(801, 24, 24) (801, 12, 24) (801, 24, 24) (801, 12, 24)\n",
      "Number of data points: 230688\n",
      "Number of non-zero elements: 119260\n",
      "Percentage of non-zero elements: 0.5169753086419753\n"
     ]
    },
    {
     "data": {
      "image/png": "[encoded data removed]",
      "text/plain": [
       "<Figure size 432x288 with 1 Axes>"
      ]
     },
     "metadata": {
      "needs_background": "light"
     },
     "output_type": "display_data"
    },
    {
     "name": "stdout",
     "output_type": "stream",
     "text": [
      "Correlation between y_train and y_test:\n",
      " [[1.         0.34550926]\n",
      " [0.34550926 1.        ]]\n",
      "y_test shape after reshaping: (801, 288)\n",
      "  Best training score: -0.04165465503100301\n",
      "  Best testing score:  -0.038881264737280256\n",
      "mean_squared_error: 4.225969734002215e-11\n"
     ]
    },
    {
     "data": {
      "image/png": "[encoded data removed]",
      "text/plain": [
       "<Figure size 720x576 with 1 Axes>"
      ]
     },
     "metadata": {
      "needs_background": "light"
     },
     "output_type": "display_data"
    },
    {
     "name": "stdout",
     "output_type": "stream",
     "text": [
      "CPU times: user 28.7 s, sys: 1.41 s, total: 30.1 s\n",
      "Wall time: 1min 9s\n"
     ]
    },
    {
     "name": "stderr",
     "output_type": "stream",
     "text": [
      "/anaconda3/lib/python3.7/site-packages/ipykernel_launcher.py:70: RuntimeWarning: invalid value encountered in true_divide\n"
     ]
    }
   ],
   "source": [
    "%%time\n",
    "\n",
    "X_train, X_test, y_train, y_test = ready_data(2015, 2017, train_blockid_dict,\n",
    "                                              X_test_start_year, X_test_end_year, test_blockid_dict,\n",
    "                                              HOUR_OF_DAY)\n",
    "\n",
    "print(X_train.shape, y_train.shape, X_test.shape, y_test.shape)\n",
    "\n",
    "model = MultiOutputRegressor(RandomForestRegressor(max_depth=5, n_estimators=100))\n",
    "if use_counts == True:\n",
    "    y_test_dow, y_pred_dow, rpd_dow = get_predictions(X_train, y_train, X_test, y_test, \n",
    "                                                      'hour of day for each month', \n",
    "                                                      f'crime count {SEVERITY_OPERATOR} {SEVERITY_SCALING_FACTOR}', \n",
    "                                                      model, gridsearch=True)\n",
    "else:\n",
    "    y_test_dow, y_pred_dow, rpd_dow = get_predictions(X_train, y_train, X_test, y_test, \n",
    "                                                      'hour of day for each month', \n",
    "                                                      f'risk {SEVERITY_OPERATOR} {SEVERITY_SCALING_FACTOR}', model)"
   ]
  },
  {
   "cell_type": "markdown",
   "metadata": {},
   "source": [
    "## Weigh and combine predictions into one array"
   ]
  },
  {
   "cell_type": "code",
   "execution_count": 180,
   "metadata": {},
   "outputs": [
    {
     "name": "stderr",
     "output_type": "stream",
     "text": [
      "/anaconda3/lib/python3.7/site-packages/ipykernel_launcher.py:10: RuntimeWarning: divide by zero encountered in true_divide\n",
      "  # Remove the CWD from sys.path while we load stuff.\n"
     ]
    },
    {
     "name": "stdout",
     "output_type": "stream",
     "text": [
      "Number of nans after replacement: 0\n"
     ]
    },
    {
     "name": "stderr",
     "output_type": "stream",
     "text": [
      "/anaconda3/lib/python3.7/site-packages/ipykernel_launcher.py:83: RuntimeWarning: invalid value encountered in double_scalars\n"
     ]
    }
   ],
   "source": [
    "NUM_BLOCKIDS       = 801\n",
    "NUM_MONTHS_IN_YEAR = 12\n",
    "NUM_DAYS_IN_WEEK   = 7\n",
    "NUM_HOURS_IN_DAY   = 24\n",
    "\n",
    "risks = np.zeros((NUM_BLOCKIDS, NUM_MONTHS_IN_YEAR, NUM_DAYS_IN_WEEK * NUM_HOURS_IN_DAY))\n",
    "\n",
    "# This is necessary, since we want low values of relative percent difference\n",
    "# to be weighed higher\n",
    "rpd_dow = 1/rpd_dow\n",
    "rpd_dom = 1/rpd_dom\n",
    "rpd_hod = 1/rpd_hod\n",
    "\n",
    "# Each of the relative percent difference arrays can contain NaN's.\n",
    "# This is because if both y_pred and y_true were zeros, their\n",
    "# addition is also zero, and we cannot divide by this zero.\n",
    "# Here we replace NaN's to get around that issue.\n",
    "# Since we want to have the highest weight to those values that\n",
    "# have the same y_pred and y_true, we will give the largest value\n",
    "# from our array to these NaNs.\n",
    "\n",
    "def replace_nans(a):\n",
    "    b = a.copy()\n",
    "    for row in range(a.shape[0]):\n",
    "        # max_of_row = np.max(row)\n",
    "        for col in range(a.shape[1]):\n",
    "            if np.isnan(a[row][col]):\n",
    "                # b[row][col] = max_of_row\n",
    "                b[row][col] = 1.0\n",
    "    return b\n",
    "\n",
    "rpd_dow = replace_nans(rpd_dow)\n",
    "rpd_dom = replace_nans(rpd_dom)\n",
    "rpd_hod = replace_nans(rpd_hod)\n",
    "\n",
    "print('Number of nans after replacement:', np.isnan(rpd_dow).sum())\n",
    "\n",
    "# Returns number of days in a month\n",
    "def days_in_month(year, month):\n",
    "    p = pd.Period(f'{year}-{month}-1')\n",
    "    return p.days_in_month\n",
    "\n",
    "# Day of week returns 0-based day value\n",
    "def day_of_week(dt):\n",
    "    return dt.weekday()\n",
    "\n",
    "end_year = X_test_end_year\n",
    "\n",
    "for blockid in range(NUM_BLOCKIDS):\n",
    "    for month in range(1, NUM_MONTHS_IN_YEAR + 1):\n",
    "        \n",
    "        count = np.zeros(NUM_DAYS_IN_WEEK * NUM_HOURS_IN_DAY)\n",
    "        for day in range(1, days_in_month(end_year, month) + 1):\n",
    "            for hour in range(24):\n",
    "                dow  = day_of_week(datetime(end_year, month, day))\n",
    "\n",
    "                # calculate how good y_pred - y_true is (say for hod) = abs((y_pred_hourly - y_true_hourly) / (y_pred + y_true))\n",
    "                # \n",
    "                # calculate how good y_pred - y_true is (say for hod) = abs((y_pred - y_true) / (y_pred + y_true))\n",
    "                #                                                      1       8         8           8        8   = 0\n",
    "                #                                                      0.33   20        4           20       4   = 0.67\n",
    "                #                                                      0.04   200       4           200      4   = 0.96\n",
    "                #                                                      \n",
    "                # calculate relative differences between hod, dow, dom\n",
    "                #                                                      (pred1 * 1 + pred2 * 0.33)/(1 + 0.33)\n",
    "                #                                                       0.03*pred1 + 0.24*pred2\n",
    "                #                                                         (8*1      + 9*0.33)/1.33  = 8.24\n",
    "                # dow risk = 10    actual = 9   weight = 1  = abs(10 - 9) / (10 + 9) = 0.05\n",
    "                # dom risk = 8     actual = 8   weight = 2  = abs(8 - 8) / (8 + 8)   = 0\n",
    "                #                                                 % diff same => same weights\n",
    "                #                                                 %\n",
    "                #   (10 * 1 + 8 * 2) / (1 + 2) = 8.6667\n",
    "                weight_dow = rpd_dow[blockid, (month - 1)*dow]        # risk / #hours => hourly risk\n",
    "                weight_dom = rpd_dom[blockid, (month - 1)*(day - 1)]  # risk / #hours => hourly risk\n",
    "                weight_hod = rpd_hod[blockid, (month - 1)*hour]   # (blockid, month, hour)          0, 1, 2, 3 .., 23\n",
    "                                                                  #    801      12    24     Day  0\n",
    "                weight_sum = weight_dow + weight_dom + weight_hod #                          Day  1\n",
    "                                                                  #                                 2, 1.5, 0.2, 0.01\n",
    "                                                                  #                                 1, 3.5, \n",
    "                risks[blockid, month-1, dow * hour] += \\\n",
    "                    (y_pred_dow[blockid, (month - 1)*dow] * weight_dow +\n",
    "                     y_pred_dom[blockid, (month - 1)*(day - 1)] * weight_dom +\n",
    "                     y_pred_hod[blockid, (month - 1)*hour] * weight_hod) / weight_sum\n",
    "                risks[blockid, month-1, dow * hour] += (y_pred_dow[blockid, (month - 1)*dow] +\n",
    "                                                        y_pred_dom[blockid, (month - 1)*(day - 1)] +\n",
    "                                                        y_pred_hod[blockid, (month - 1)*hour]) / weight_sum\n",
    "                \n",
    "                count[dow * hour] += 1\n",
    "        risks[blockid, month-1, dow * hour] /= count[dow * hour]"
   ]
  },
  {
   "cell_type": "code",
   "execution_count": 159,
   "metadata": {},
   "outputs": [
    {
     "data": {
      "image/png": "[encoded data removed]",
      "text/plain": [
       "<Figure size 432x288 with 1 Axes>"
      ]
     },
     "metadata": {
      "needs_background": "light"
     },
     "output_type": "display_data"
    }
   ],
   "source": [
    "a = pd.Series(risks.flatten())\n",
    "a.hist(bins=np.arange(0.0, 3.5, 0.05));"
   ]
  },
  {
   "cell_type": "code",
   "execution_count": 160,
   "metadata": {},
   "outputs": [
    {
     "data": {
      "text/plain": [
       "0.000000    0.919141\n",
       "0.000049    0.000277\n",
       "0.000047    0.000198\n",
       "0.000048    0.000158\n",
       "0.000052    0.000158\n",
       "0.000046    0.000158\n",
       "0.000048    0.000158\n",
       "0.000047    0.000158\n",
       "0.000046    0.000158\n",
       "0.000048    0.000119\n",
       "0.000041    0.000119\n",
       "0.000049    0.000119\n",
       "0.000053    0.000119\n",
       "0.000052    0.000119\n",
       "0.000046    0.000119\n",
       "0.000048    0.000119\n",
       "0.000050    0.000119\n",
       "0.000053    0.000119\n",
       "0.000048    0.000119\n",
       "0.000049    0.000119\n",
       "0.000048    0.000119\n",
       "0.000047    0.000119\n",
       "0.000050    0.000119\n",
       "0.000049    0.000079\n",
       "0.000046    0.000079\n",
       "0.000047    0.000079\n",
       "0.000049    0.000079\n",
       "0.000053    0.000079\n",
       "0.000050    0.000079\n",
       "0.000046    0.000079\n",
       "              ...   \n",
       "0.000056    0.000001\n",
       "0.000081    0.000001\n",
       "0.000072    0.000001\n",
       "0.000047    0.000001\n",
       "0.000121    0.000001\n",
       "0.000230    0.000001\n",
       "0.000090    0.000001\n",
       "0.000052    0.000001\n",
       "0.000046    0.000001\n",
       "0.000068    0.000001\n",
       "0.000069    0.000001\n",
       "0.000087    0.000001\n",
       "0.000064    0.000001\n",
       "0.000071    0.000001\n",
       "0.000083    0.000001\n",
       "0.000074    0.000001\n",
       "0.000073    0.000001\n",
       "0.000046    0.000001\n",
       "0.000068    0.000001\n",
       "0.000057    0.000001\n",
       "0.000070    0.000001\n",
       "0.000075    0.000001\n",
       "0.000075    0.000001\n",
       "0.000093    0.000001\n",
       "0.000068    0.000001\n",
       "0.000065    0.000001\n",
       "0.000119    0.000001\n",
       "0.000073    0.000001\n",
       "0.000136    0.000001\n",
       "0.000059    0.000001\n",
       "Length: 47818, dtype: float64"
      ]
     },
     "execution_count": 160,
     "metadata": {},
     "output_type": "execute_result"
    }
   ],
   "source": [
    "a.value_counts(normalize=True)"
   ]
  },
  {
   "cell_type": "code",
   "execution_count": 161,
   "metadata": {},
   "outputs": [
    {
     "data": {
      "text/plain": [
       "<matplotlib.axes._subplots.AxesSubplot at 0x1404d2278>"
      ]
     },
     "execution_count": 161,
     "metadata": {},
     "output_type": "execute_result"
    },
    {
     "data": {
      "image/png": "[encoded data removed]",
      "text/plain": [
       "<Figure size 432x288 with 1 Axes>"
      ]
     },
     "metadata": {
      "needs_background": "light"
     },
     "output_type": "display_data"
    }
   ],
   "source": [
    "a = pd.Series(risks.flatten()).apply(lambda x: np.power(x, 0.1))\n",
    "a.hist()  # (bins=np.arange(0.0, 3.5, 0.05));"
   ]
  },
  {
   "cell_type": "code",
   "execution_count": 162,
   "metadata": {},
   "outputs": [],
   "source": [
    "per_block = risks.reshape((NUM_BLOCKIDS, NUM_MONTHS_IN_YEAR * NUM_DAYS_IN_WEEK * NUM_HOURS_IN_DAY))"
   ]
  },
  {
   "cell_type": "markdown",
   "metadata": {},
   "source": [
    "## Store predictions in DB"
   ]
  },
  {
   "cell_type": "code",
   "execution_count": 163,
   "metadata": {},
   "outputs": [],
   "source": [
    "from decouple import config\n",
    "\n",
    "pred_blockid_dict = test_blockid_dict\n",
    "def store_predictions_in_db(y_pred):\n",
    "    \n",
    "    DB_URI_WRITE  = config('DB_URI_WRITE')\n",
    "\n",
    "    # Put predictions into pandas DataFrame with corresponding block id\n",
    "    predictions = pd.DataFrame([[x] for x in pred_blockid_dict.keys()], columns=[\"id\"])\n",
    "\n",
    "    predictions.loc[:, \"prediction\"] = predictions[\"id\"].apply(lambda x: y_pred[pred_blockid_dict[x],:,:].astype(np.float64).tobytes().hex())\n",
    "    predictions.loc[:, \"month\"] = 0\n",
    "    predictions.loc[:, \"year\"] = 2018\n",
    "    predictions.to_csv(\"predictions.csv\", index=False)\n",
    "\n",
    "    # Query SQL\n",
    "    query_commit_predictions = \"\"\"\n",
    "    CREATE TEMPORARY TABLE temp_predictions (\n",
    "        id SERIAL PRIMARY KEY,\n",
    "        prediction TEXT,\n",
    "        month INTEGER,\n",
    "        year INTEGER\n",
    "    );\n",
    "\n",
    "    COPY temp_predictions (id, prediction, month, year) FROM STDIN DELIMITER ',' CSV HEADER;\n",
    "\n",
    "    UPDATE block\n",
    "    SET \n",
    "        prediction = DECODE(temp_predictions.prediction, 'hex'),\n",
    "        month = temp_predictions.month,\n",
    "        year = temp_predictions.year \n",
    "    FROM temp_predictions\n",
    "    WHERE block.id = temp_predictions.id;\n",
    "\n",
    "    DROP TABLE temp_predictions;\n",
    "    \"\"\"\n",
    "\n",
    "    # Open saved predictions and send to database using above query\n",
    "    with open(\"predictions.csv\", \"r\") as f:\n",
    "        print(\"SENDING TO DB\")\n",
    "        RAW_CONN = create_engine(DB_URI_WRITE).raw_connection()\n",
    "        cursor = RAW_CONN.cursor()\n",
    "        cursor.copy_expert(query_commit_predictions, f)\n",
    "        RAW_CONN.commit()\n",
    "        RAW_CONN.close()\n",
    "\n",
    "    for r in SESSION.execute(\"SELECT ENCODE(prediction::BYTEA, 'hex'), id FROM block WHERE prediction IS NOT NULL LIMIT 5;\").fetchall():\n",
    "        print(np.frombuffer(bytes.fromhex(r[0]), dtype=np.float64).reshape((12,7,24)))\n",
    "        print(y_pred[pred_blockid_dict[int(r[1])], :].reshape((12,7,24)))"
   ]
  },
  {
   "cell_type": "code",
   "execution_count": 167,
   "metadata": {},
   "outputs": [
    {
     "ename": "UndefinedValueError",
     "evalue": "DB_URI_WRITE not found. Declare it as envvar or define a default value.",
     "output_type": "error",
     "traceback": [
      "\u001b[0;31m---------------------------------------------------------------------------\u001b[0m",
      "\u001b[0;31mUndefinedValueError\u001b[0m                       Traceback (most recent call last)",
      "\u001b[0;32m<ipython-input-167-82274cdfff74>\u001b[0m in \u001b[0;36m<module>\u001b[0;34m\u001b[0m\n\u001b[1;32m      2\u001b[0m \u001b[0mrisks\u001b[0m \u001b[0;34m=\u001b[0m \u001b[0mnp\u001b[0m\u001b[0;34m.\u001b[0m\u001b[0mnan_to_num\u001b[0m\u001b[0;34m(\u001b[0m\u001b[0mrisks\u001b[0m\u001b[0;34m)\u001b[0m\u001b[0;34m\u001b[0m\u001b[0;34m\u001b[0m\u001b[0m\n\u001b[1;32m      3\u001b[0m \u001b[0;32mwith\u001b[0m \u001b[0msession_scope\u001b[0m\u001b[0;34m(\u001b[0m\u001b[0;34m)\u001b[0m \u001b[0;32mas\u001b[0m \u001b[0mSESSION\u001b[0m\u001b[0;34m:\u001b[0m\u001b[0;34m\u001b[0m\u001b[0;34m\u001b[0m\u001b[0m\n\u001b[0;32m----> 4\u001b[0;31m     \u001b[0mstore_predictions_in_db\u001b[0m\u001b[0;34m(\u001b[0m\u001b[0mrisks\u001b[0m\u001b[0;34m)\u001b[0m\u001b[0;34m\u001b[0m\u001b[0;34m\u001b[0m\u001b[0m\n\u001b[0m",
      "\u001b[0;32m<ipython-input-163-9db361e3c4f7>\u001b[0m in \u001b[0;36mstore_predictions_in_db\u001b[0;34m(y_pred)\u001b[0m\n\u001b[1;32m      4\u001b[0m \u001b[0;32mdef\u001b[0m \u001b[0mstore_predictions_in_db\u001b[0m\u001b[0;34m(\u001b[0m\u001b[0my_pred\u001b[0m\u001b[0;34m)\u001b[0m\u001b[0;34m:\u001b[0m\u001b[0;34m\u001b[0m\u001b[0;34m\u001b[0m\u001b[0m\n\u001b[1;32m      5\u001b[0m \u001b[0;34m\u001b[0m\u001b[0m\n\u001b[0;32m----> 6\u001b[0;31m     \u001b[0mDB_URI_WRITE\u001b[0m  \u001b[0;34m=\u001b[0m \u001b[0mconfig\u001b[0m\u001b[0;34m(\u001b[0m\u001b[0;34m'DB_URI_WRITE'\u001b[0m\u001b[0;34m)\u001b[0m\u001b[0;34m\u001b[0m\u001b[0;34m\u001b[0m\u001b[0m\n\u001b[0m\u001b[1;32m      7\u001b[0m \u001b[0;34m\u001b[0m\u001b[0m\n\u001b[1;32m      8\u001b[0m     \u001b[0;31m# Put predictions into pandas DataFrame with corresponding block id\u001b[0m\u001b[0;34m\u001b[0m\u001b[0;34m\u001b[0m\u001b[0;34m\u001b[0m\u001b[0m\n",
      "\u001b[0;32m/anaconda3/lib/python3.7/site-packages/decouple.py\u001b[0m in \u001b[0;36m__call__\u001b[0;34m(self, *args, **kwargs)\u001b[0m\n\u001b[1;32m    195\u001b[0m             \u001b[0mself\u001b[0m\u001b[0;34m.\u001b[0m\u001b[0m_load\u001b[0m\u001b[0;34m(\u001b[0m\u001b[0mself\u001b[0m\u001b[0;34m.\u001b[0m\u001b[0msearch_path\u001b[0m \u001b[0;32mor\u001b[0m \u001b[0mself\u001b[0m\u001b[0;34m.\u001b[0m\u001b[0m_caller_path\u001b[0m\u001b[0;34m(\u001b[0m\u001b[0;34m)\u001b[0m\u001b[0;34m)\u001b[0m\u001b[0;34m\u001b[0m\u001b[0;34m\u001b[0m\u001b[0m\n\u001b[1;32m    196\u001b[0m \u001b[0;34m\u001b[0m\u001b[0m\n\u001b[0;32m--> 197\u001b[0;31m         \u001b[0;32mreturn\u001b[0m \u001b[0mself\u001b[0m\u001b[0;34m.\u001b[0m\u001b[0mconfig\u001b[0m\u001b[0;34m(\u001b[0m\u001b[0;34m*\u001b[0m\u001b[0margs\u001b[0m\u001b[0;34m,\u001b[0m \u001b[0;34m**\u001b[0m\u001b[0mkwargs\u001b[0m\u001b[0;34m)\u001b[0m\u001b[0;34m\u001b[0m\u001b[0;34m\u001b[0m\u001b[0m\n\u001b[0m\u001b[1;32m    198\u001b[0m \u001b[0;34m\u001b[0m\u001b[0m\n\u001b[1;32m    199\u001b[0m \u001b[0;34m\u001b[0m\u001b[0m\n",
      "\u001b[0;32m/anaconda3/lib/python3.7/site-packages/decouple.py\u001b[0m in \u001b[0;36m__call__\u001b[0;34m(self, *args, **kwargs)\u001b[0m\n\u001b[1;32m     83\u001b[0m         \u001b[0mConvenient\u001b[0m \u001b[0mshortcut\u001b[0m \u001b[0mto\u001b[0m \u001b[0mget\u001b[0m\u001b[0;34m.\u001b[0m\u001b[0;34m\u001b[0m\u001b[0;34m\u001b[0m\u001b[0m\n\u001b[1;32m     84\u001b[0m         \"\"\"\n\u001b[0;32m---> 85\u001b[0;31m         \u001b[0;32mreturn\u001b[0m \u001b[0mself\u001b[0m\u001b[0;34m.\u001b[0m\u001b[0mget\u001b[0m\u001b[0;34m(\u001b[0m\u001b[0;34m*\u001b[0m\u001b[0margs\u001b[0m\u001b[0;34m,\u001b[0m \u001b[0;34m**\u001b[0m\u001b[0mkwargs\u001b[0m\u001b[0;34m)\u001b[0m\u001b[0;34m\u001b[0m\u001b[0;34m\u001b[0m\u001b[0m\n\u001b[0m\u001b[1;32m     86\u001b[0m \u001b[0;34m\u001b[0m\u001b[0m\n\u001b[1;32m     87\u001b[0m \u001b[0;34m\u001b[0m\u001b[0m\n",
      "\u001b[0;32m/anaconda3/lib/python3.7/site-packages/decouple.py\u001b[0m in \u001b[0;36mget\u001b[0;34m(self, option, default, cast)\u001b[0m\n\u001b[1;32m     68\u001b[0m         \u001b[0;32melse\u001b[0m\u001b[0;34m:\u001b[0m\u001b[0;34m\u001b[0m\u001b[0;34m\u001b[0m\u001b[0m\n\u001b[1;32m     69\u001b[0m             \u001b[0;32mif\u001b[0m \u001b[0misinstance\u001b[0m\u001b[0;34m(\u001b[0m\u001b[0mdefault\u001b[0m\u001b[0;34m,\u001b[0m \u001b[0mUndefined\u001b[0m\u001b[0;34m)\u001b[0m\u001b[0;34m:\u001b[0m\u001b[0;34m\u001b[0m\u001b[0;34m\u001b[0m\u001b[0m\n\u001b[0;32m---> 70\u001b[0;31m                 \u001b[0;32mraise\u001b[0m \u001b[0mUndefinedValueError\u001b[0m\u001b[0;34m(\u001b[0m\u001b[0;34m'{} not found. Declare it as envvar or define a default value.'\u001b[0m\u001b[0;34m.\u001b[0m\u001b[0mformat\u001b[0m\u001b[0;34m(\u001b[0m\u001b[0moption\u001b[0m\u001b[0;34m)\u001b[0m\u001b[0;34m)\u001b[0m\u001b[0;34m\u001b[0m\u001b[0;34m\u001b[0m\u001b[0m\n\u001b[0m\u001b[1;32m     71\u001b[0m \u001b[0;34m\u001b[0m\u001b[0m\n\u001b[1;32m     72\u001b[0m             \u001b[0mvalue\u001b[0m \u001b[0;34m=\u001b[0m \u001b[0mdefault\u001b[0m\u001b[0;34m\u001b[0m\u001b[0;34m\u001b[0m\u001b[0m\n",
      "\u001b[0;31mUndefinedValueError\u001b[0m: DB_URI_WRITE not found. Declare it as envvar or define a default value."
     ]
    }
   ],
   "source": [
    "risks = descale_data(risks)\n",
    "\n",
    "risks = np.nan_to_num(risks)\n",
    "with session_scope() as SESSION:\n",
    "    store_predictions_in_db(risks)"
   ]
  },
  {
   "cell_type": "code",
   "execution_count": null,
   "metadata": {},
   "outputs": [],
   "source": [
    "y = risks[82]\n",
    "fig = plt.figure(figsize=(10, 8))\n",
    "plt.plot(np.arange(len(y.flatten())),\n",
    "             y.flatten(), color='blue');\n",
    "plt.show()"
   ]
  },
  {
   "cell_type": "code",
   "execution_count": null,
   "metadata": {},
   "outputs": [],
   "source": []
  },
  {
   "cell_type": "code",
   "execution_count": null,
   "metadata": {},
   "outputs": [],
   "source": [
    "y = rpd_dow[82].flatten()\n",
    "fig = plt.figure(figsize=(10, 8))\n",
    "plt.plot(np.arange(len(y.flatten())),\n",
    "             y.flatten(), color='blue');\n",
    "plt.xticks(np.arange(0,84,7))\n",
    "plt.grid(True)\n",
    "plt.show()"
   ]
  },
  {
   "cell_type": "code",
   "execution_count": null,
   "metadata": {},
   "outputs": [],
   "source": [
    "y = y_test[82].flatten()\n",
    "fig = plt.figure(figsize=(10, 8))\n",
    "plt.plot(np.arange(len(y.flatten())),\n",
    "             y.flatten(), color='blue');\n",
    "plt.xticks(np.arange(0,84,7))\n",
    "plt.grid(True)\n",
    "plt.show()"
   ]
  },
  {
   "cell_type": "code",
   "execution_count": null,
   "metadata": {},
   "outputs": [],
   "source": [
    "y = y_test[0].flatten()\n",
    "fig = plt.figure(figsize=(10, 8))\n",
    "plt.plot(np.arange(len(y.flatten())),\n",
    "             y.flatten(), color='blue');\n",
    "plt.xticks(np.arange(0,84,7))\n",
    "plt.grid(True)\n",
    "plt.show()"
   ]
  },
  {
   "cell_type": "code",
   "execution_count": null,
   "metadata": {},
   "outputs": [],
   "source": [
    "y = y_pred_dom[0].flatten()\n",
    "df_y = pd.DataFrame(y)\n",
    "df_y['ma'] = df_y.rolling(window=30).mean()\n",
    "\n",
    "fig = plt.figure(figsize=(10, 8))\n",
    "plt.plot(np.arange(len(y.flatten())),\n",
    "             y.flatten(), color='blue');\n",
    "plt.plot(np.arange(df_y['ma'].shape[0]),\n",
    "             df_y['ma'], color='red');\n",
    "plt.xticks(np.arange(0,372, 30))\n",
    "plt.grid(True)\n",
    "plt.show()"
   ]
  },
  {
   "cell_type": "code",
   "execution_count": null,
   "metadata": {},
   "outputs": [],
   "source": [
    "y = y_pred_dom[101].flatten()\n",
    "df_y = pd.DataFrame(y)\n",
    "df_y['ma'] = df_y.rolling(window=30).mean()\n",
    "\n",
    "fig = plt.figure(figsize=(10, 8))\n",
    "plt.plot(np.arange(len(y.flatten())),\n",
    "             y.flatten(), color='blue');\n",
    "plt.plot(np.arange(df_y['ma'].shape[0]),\n",
    "             df_y['ma'], color='red');\n",
    "plt.xticks(np.arange(0,372, 30))\n",
    "plt.grid(True)\n",
    "plt.show()"
   ]
  },
  {
   "cell_type": "code",
   "execution_count": null,
   "metadata": {},
   "outputs": [],
   "source": [
    "y = rpd_dom[0].flatten()\n",
    "df_y = pd.DataFrame(y)\n",
    "df_y['ma'] = df_y.rolling(window=30).mean()\n",
    "\n",
    "fig = plt.figure(figsize=(10, 8))\n",
    "plt.plot(np.arange(len(y.flatten())),\n",
    "             y.flatten(), color='blue');\n",
    "plt.plot(np.arange(df_y['ma'].shape[0]),\n",
    "             df_y['ma'], color='red');\n",
    "plt.xticks(np.arange(0,372, 30))\n",
    "plt.grid(True)\n",
    "plt.show()"
   ]
  },
  {
   "cell_type": "code",
   "execution_count": null,
   "metadata": {},
   "outputs": [],
   "source": [
    "y = y_pred_hod[0].flatten()\n",
    "fig = plt.figure(figsize=(10, 8))\n",
    "plt.plot(np.arange(len(y.flatten())),\n",
    "             y.flatten(), color='blue');\n",
    "plt.xticks(np.arange(0,288,24))\n",
    "plt.grid(True)\n",
    "plt.show()"
   ]
  },
  {
   "cell_type": "code",
   "execution_count": null,
   "metadata": {},
   "outputs": [],
   "source": [
    "y = rpd_hod[0].flatten()\n",
    "fig = plt.figure(figsize=(10, 8))\n",
    "plt.plot(np.arange(len(y.flatten())),\n",
    "             y.flatten(), color='blue');\n",
    "plt.xticks(np.arange(0,288,24))\n",
    "plt.grid(True)\n",
    "plt.show()"
   ]
  },
  {
   "cell_type": "code",
   "execution_count": null,
   "metadata": {},
   "outputs": [],
   "source": [
    "pd.Series(rpd_dow.flatten()).hist(bins=np.arange(0, 5, 0.5))"
   ]
  },
  {
   "cell_type": "code",
   "execution_count": null,
   "metadata": {},
   "outputs": [],
   "source": [
    "pd.Series(rpd_dom.flatten()).hist(bins=np.arange(0, 5, 0.5))"
   ]
  },
  {
   "cell_type": "code",
   "execution_count": null,
   "metadata": {},
   "outputs": [],
   "source": []
  }
 ],
 "metadata": {
  "kernelspec": {
   "display_name": "Python 3",
   "language": "python",
   "name": "python3"
  },
  "language_info": {
   "codemirror_mode": {
    "name": "ipython",
    "version": 3
   },
   "file_extension": ".py",
   "mimetype": "text/x-python",
   "name": "python",
   "nbconvert_exporter": "python",
   "pygments_lexer": "ipython3",
   "version": "3.7.1"
  }
 },
 "nbformat": 4,
 "nbformat_minor": 2
}
