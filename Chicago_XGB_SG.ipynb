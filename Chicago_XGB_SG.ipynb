{
 "cells": [
  {
   "cell_type": "code",
   "execution_count": 1,
   "metadata": {},
   "outputs": [
    {
     "name": "stdout",
     "output_type": "stream",
     "text": [
      "Requirement already up-to-date: pip in /home/ec2-user/anaconda3/envs/tensorflow_p36/lib/python3.6/site-packages (19.1.1)\n",
      "Requirement already satisfied: python-decouple in /home/ec2-user/anaconda3/envs/tensorflow_p36/lib/python3.6/site-packages (3.1)\n",
      "Requirement already satisfied: geoalchemy2 in /home/ec2-user/anaconda3/envs/tensorflow_p36/lib/python3.6/site-packages (0.6.2)\n",
      "Requirement already satisfied: SQLAlchemy>=0.8 in /home/ec2-user/anaconda3/envs/tensorflow_p36/lib/python3.6/site-packages (from geoalchemy2) (1.2.11)\n",
      "Requirement already satisfied: shapely in /home/ec2-user/anaconda3/envs/tensorflow_p36/lib/python3.6/site-packages (1.6.4.post2)\n",
      "Requirement already satisfied: scipy in /home/ec2-user/anaconda3/envs/tensorflow_p36/lib/python3.6/site-packages (1.1.0)\n",
      "Requirement already satisfied: tpot in /home/ec2-user/anaconda3/envs/tensorflow_p36/lib/python3.6/site-packages (0.10.1)\n",
      "Requirement already satisfied: tqdm>=4.26.0 in /home/ec2-user/anaconda3/envs/tensorflow_p36/lib/python3.6/site-packages (from tpot) (4.31.1)\n",
      "Requirement already satisfied: update-checker>=0.16 in /home/ec2-user/anaconda3/envs/tensorflow_p36/lib/python3.6/site-packages (from tpot) (0.16)\n",
      "Requirement already satisfied: stopit>=1.1.1 in /home/ec2-user/anaconda3/envs/tensorflow_p36/lib/python3.6/site-packages (from tpot) (1.1.2)\n",
      "Requirement already satisfied: scikit-learn>=0.18.1 in /home/ec2-user/anaconda3/envs/tensorflow_p36/lib/python3.6/site-packages (from tpot) (0.19.1)\n",
      "Requirement already satisfied: pandas>=0.20.2 in /home/ec2-user/anaconda3/envs/tensorflow_p36/lib/python3.6/site-packages (from tpot) (0.22.0)\n",
      "Requirement already satisfied: numpy>=1.12.1 in /home/ec2-user/anaconda3/envs/tensorflow_p36/lib/python3.6/site-packages (from tpot) (1.15.4)\n",
      "Requirement already satisfied: deap>=1.0 in /home/ec2-user/anaconda3/envs/tensorflow_p36/lib/python3.6/site-packages (from tpot) (1.2.2)\n",
      "Requirement already satisfied: scipy>=0.19.0 in /home/ec2-user/anaconda3/envs/tensorflow_p36/lib/python3.6/site-packages (from tpot) (1.1.0)\n",
      "Requirement already satisfied: requests>=2.3.0 in /home/ec2-user/anaconda3/envs/tensorflow_p36/lib/python3.6/site-packages (from update-checker>=0.16->tpot) (2.20.1)\n",
      "Requirement already satisfied: python-dateutil>=2 in /home/ec2-user/anaconda3/envs/tensorflow_p36/lib/python3.6/site-packages (from pandas>=0.20.2->tpot) (2.7.3)\n",
      "Requirement already satisfied: pytz>=2011k in /home/ec2-user/anaconda3/envs/tensorflow_p36/lib/python3.6/site-packages (from pandas>=0.20.2->tpot) (2018.4)\n",
      "Requirement already satisfied: urllib3<1.25,>=1.21.1 in /home/ec2-user/anaconda3/envs/tensorflow_p36/lib/python3.6/site-packages (from requests>=2.3.0->update-checker>=0.16->tpot) (1.23)\n",
      "Requirement already satisfied: idna<2.8,>=2.5 in /home/ec2-user/anaconda3/envs/tensorflow_p36/lib/python3.6/site-packages (from requests>=2.3.0->update-checker>=0.16->tpot) (2.6)\n",
      "Requirement already satisfied: chardet<3.1.0,>=3.0.2 in /home/ec2-user/anaconda3/envs/tensorflow_p36/lib/python3.6/site-packages (from requests>=2.3.0->update-checker>=0.16->tpot) (3.0.4)\n",
      "Requirement already satisfied: certifi>=2017.4.17 in /home/ec2-user/anaconda3/envs/tensorflow_p36/lib/python3.6/site-packages (from requests>=2.3.0->update-checker>=0.16->tpot) (2019.3.9)\n",
      "Requirement already satisfied: six>=1.5 in /home/ec2-user/anaconda3/envs/tensorflow_p36/lib/python3.6/site-packages (from python-dateutil>=2->pandas>=0.20.2->tpot) (1.11.0)\n",
      "^C\n",
      "Traceback (most recent call last):\n",
      "  File \"/home/ec2-user/anaconda3/envs/tensorflow_p36/bin/pip\", line 11, in <module>\n",
      "    sys.exit(main())\n",
      "  File \"/home/ec2-user/anaconda3/envs/tensorflow_p36/lib/python3.6/site-packages/pip/_internal/__init__.py\", line 78, in main\n",
      "    return command.main(cmd_args)\n",
      "  File \"/home/ec2-user/anaconda3/envs/tensorflow_p36/lib/python3.6/site-packages/pip/_internal/cli/base_command.py\", line 230, in main\n",
      "    pip_version_check(session, options)\n",
      "  File \"/home/ec2-user/anaconda3/envs/tensorflow_p36/lib/python3.6/site-packages/pip/_internal/utils/outdated.py\", line 102, in pip_version_check\n",
      "    installed_version = get_installed_version(\"pip\")\n",
      "  File \"/home/ec2-user/anaconda3/envs/tensorflow_p36/lib/python3.6/site-packages/pip/_internal/utils/misc.py\", line 889, in get_installed_version\n",
      "    working_set = pkg_resources.WorkingSet()\n",
      "  File \"/home/ec2-user/anaconda3/envs/tensorflow_p36/lib/python3.6/site-packages/pip/_vendor/pkg_resources/__init__.py\", line 567, in __init__\n",
      "    self.add_entry(entry)\n",
      "  File \"/home/ec2-user/anaconda3/envs/tensorflow_p36/lib/python3.6/site-packages/pip/_vendor/pkg_resources/__init__.py\", line 623, in add_entry\n",
      "    for dist in find_distributions(entry, True):\n",
      "  File \"/home/ec2-user/anaconda3/envs/tensorflow_p36/lib/python3.6/site-packages/pip/_vendor/pkg_resources/__init__.py\", line 2056, in find_on_path\n",
      "    for dist in factory(fullpath):\n",
      "  File \"/home/ec2-user/anaconda3/envs/tensorflow_p36/lib/python3.6/site-packages/pip/_vendor/pkg_resources/__init__.py\", line 2126, in distributions_from_metadata\n",
      "    root, entry, metadata, precedence=DEVELOP_DIST,\n",
      "  File \"/home/ec2-user/anaconda3/envs/tensorflow_p36/lib/python3.6/site-packages/pip/_vendor/pkg_resources/__init__.py\", line 2583, in from_location\n",
      "    py_version=py_version, platform=platform, **kw\n",
      "  File \"/home/ec2-user/anaconda3/envs/tensorflow_p36/lib/python3.6/site-packages/pip/_vendor/pkg_resources/__init__.py\", line 2985, in _reload_version\n",
      "    md_version = self._get_version()\n",
      "  File \"/home/ec2-user/anaconda3/envs/tensorflow_p36/lib/python3.6/site-packages/pip/_vendor/pkg_resources/__init__.py\", line 2763, in _get_version\n",
      "    version = _version_from_file(lines)\n",
      "  File \"/home/ec2-user/anaconda3/envs/tensorflow_p36/lib/python3.6/site-packages/pip/_vendor/pkg_resources/__init__.py\", line 2547, in _version_from_file\n",
      "    line = next(iter(version_lines), '')\n",
      "  File \"/home/ec2-user/anaconda3/envs/tensorflow_p36/lib/python3.6/site-packages/pip/_vendor/pkg_resources/__init__.py\", line 2758, in _get_metadata\n",
      "    for line in self.get_metadata_lines(name):\n",
      "  File \"/home/ec2-user/anaconda3/envs/tensorflow_p36/lib/python3.6/site-packages/pip/_vendor/pkg_resources/__init__.py\", line 1423, in get_metadata_lines\n",
      "    return yield_lines(self.get_metadata(name))\n",
      "  File \"/home/ec2-user/anaconda3/envs/tensorflow_p36/lib/python3.6/site-packages/pip/_vendor/pkg_resources/__init__.py\", line 1419, in get_metadata\n",
      "    value = self._get(self._fn(self.egg_info, name))\n",
      "  File \"/home/ec2-user/anaconda3/envs/tensorflow_p36/lib/python3.6/site-packages/pip/_vendor/pkg_resources/__init__.py\", line 1607, in _get\n",
      "    with open(path, 'rb') as stream:\n",
      "KeyboardInterrupt\n",
      "Requirement already satisfied: xgboost in /home/ec2-user/anaconda3/envs/tensorflow_p36/lib/python3.6/site-packages (0.82)\n",
      "Requirement already satisfied: numpy in /home/ec2-user/anaconda3/envs/tensorflow_p36/lib/python3.6/site-packages (from xgboost) (1.15.4)\n",
      "Requirement already satisfied: scipy in /home/ec2-user/anaconda3/envs/tensorflow_p36/lib/python3.6/site-packages (from xgboost) (1.1.0)\n"
     ]
    }
   ],
   "source": [
    "!pip install --upgrade pip\n",
    "!pip install python-decouple\n",
    "!pip install geoalchemy2\n",
    "!pip install shapely\n",
    "!pip install scipy\n",
    "!pip install tpot\n",
    "!pip3 install xgboost"
   ]
  },
  {
   "cell_type": "code",
   "execution_count": 2,
   "metadata": {},
   "outputs": [
    {
     "name": "stderr",
     "output_type": "stream",
     "text": [
      "Using TensorFlow backend.\n"
     ]
    }
   ],
   "source": [
    "from sqlalchemy import create_engine, func, text\n",
    "from sqlalchemy.orm import sessionmaker\n",
    "from decouple import config\n",
    "from shapely import wkb, wkt\n",
    "from shapely.geometry import Point\n",
    "from geoalchemy2.shape import to_shape \n",
    "\n",
    "import pandas as pd\n",
    "import numpy as np\n",
    "import random\n",
    "import json\n",
    "from datetime import datetime, timedelta\n",
    "import re\n",
    "from matplotlib import pyplot as plt\n",
    "\n",
    "from sklearn.preprocessing import RobustScaler\n",
    "from keras.models import Sequential\n",
    "from keras.layers import LSTM, Dense\n",
    "from sklearn.model_selection import GridSearchCV\n",
    "from xgboost import XGBRegressor\n",
    "from sklearn.metrics import mean_squared_error\n",
    "\n",
    "from IPython.core.debugger import set_trace"
   ]
  },
  {
   "cell_type": "code",
   "execution_count": 3,
   "metadata": {},
   "outputs": [],
   "source": [
    "\"\"\"Contains models for DB.\"\"\"\n",
    "\n",
    "from sqlalchemy.ext.declarative import declarative_base\n",
    "from sqlalchemy import Column, BigInteger, Integer, String, DateTime, ForeignKey, Float\n",
    "from sqlalchemy.orm import relationship\n",
    "from geoalchemy2 import Geometry\n",
    "\n",
    "\n",
    "BASE = declarative_base()\n",
    "\n",
    "\n",
    "class City(BASE):\n",
    "    \"\"\"City model for DB. Has information of cities.\"\"\"\n",
    "    __tablename__ = 'city'\n",
    "    id            = Column(BigInteger, primary_key=True)\n",
    "    city          = Column(String, unique=False, nullable=False)\n",
    "    state         = Column(String, unique=False, nullable=True)\n",
    "    country       = Column(String, unique=False, nullable=False)\n",
    "    location      = Column(Geometry(geometry_type='POINT'), nullable=False)\n",
    "    blocks        = relationship(\"Blocks\", back_populates=\"city\")\n",
    "    zipcodes      = relationship(\"ZipcodeGeom\", back_populates=\"city\")\n",
    "    incidents     = relationship(\"Incident\", back_populates=\"city\")\n",
    "\n",
    "\n",
    "class Blocks(BASE):\n",
    "    \"\"\"Block model for DB. Has information of city blocks for a related city\n",
    "        id.\"\"\"\n",
    "    __tablename__ = 'block'\n",
    "    id            = Column(BigInteger, primary_key=True)\n",
    "    cityid        = Column(BigInteger, ForeignKey('city.id'), nullable=False)\n",
    "    shape         = Column(Geometry(geometry_type='MULTIPOLYGON'), nullable=False)\n",
    "    population    = Column(Integer, nullable=False)\n",
    "    city          = relationship(\"City\", back_populates=\"blocks\")\n",
    "    incidents     = relationship(\"Incident\", back_populates=\"block\")\n",
    "\n",
    "class ZipcodeGeom(BASE):\n",
    "    \"\"\"Zipcode geometry model for DB. Has information of zipcodes and related\n",
    "        city id.\"\"\"\n",
    "    __tablename__ = 'zipcodegeom'\n",
    "    id            = Column(BigInteger, primary_key=True)\n",
    "    cityid        = Column(BigInteger, ForeignKey('city.id'), nullable=False)\n",
    "    zipcode       = Column(String, nullable=False, unique=True)\n",
    "    shape         = Column(Geometry(geometry_type='MULTIPOLYGON'), nullable=False)\n",
    "    city          = relationship(\"City\", back_populates=\"zipcodes\")\n",
    "\n",
    "class Incident(BASE):\n",
    "    \"\"\"Incident model for DB. Has information of a specific crime, including\n",
    "        where it took place, when it took place, and the type of crime that\n",
    "        occurred.\"\"\"\n",
    "    __tablename__ = 'incident'\n",
    "    id            = Column(BigInteger, primary_key=True)\n",
    "    crimetypeid   = Column(BigInteger, ForeignKey('crimetype.id'), nullable=False)\n",
    "    locdescid     = Column(BigInteger, ForeignKey('locdesctype.id'), nullable=False)\n",
    "    cityid        = Column(BigInteger, ForeignKey('city.id'), nullable=False)\n",
    "    blockid       = Column(BigInteger, ForeignKey('block.id'), nullable=False)\n",
    "    location      = Column(Geometry(geometry_type='POINT'), nullable=False)\n",
    "    datetime      = Column(DateTime, nullable=False)\n",
    "    hour          = Column(Integer, nullable=False)\n",
    "    dow           = Column(Integer, nullable=False)\n",
    "    month         = Column(Integer, nullable=False)\n",
    "    year          = Column(Integer, nullable=False)\n",
    "    city          = relationship(\"City\", back_populates=\"incidents\")\n",
    "    block         = relationship(\"Blocks\", back_populates=\"incidents\")\n",
    "    crimetype     = relationship(\"CrimeType\", back_populates=\"incidents\")\n",
    "    locationdesc  = relationship(\"LocationDescriptionType\", back_populates=\"incidents\")\n",
    "\n",
    "class CrimeType(BASE):\n",
    "    \"\"\"CrimeType model for DB. Has information of the types of crime, including\n",
    "        a general description and the numerical severity of the crime.\"\"\"\n",
    "    __tablename__ = 'crimetype'\n",
    "    id            = Column(BigInteger, primary_key=True)\n",
    "    category      = Column(String, unique=True, nullable=False)\n",
    "    severity      = Column(Integer, nullable=False)\n",
    "    incidents     = relationship(\"Incident\", back_populates=\"crimetype\")\n",
    "\n",
    "\n",
    "class LocationDescriptionType(BASE):\n",
    "    \"\"\"Location description model for DB. Has information on the type of\n",
    "        location that the crime took place.\"\"\"\n",
    "    __tablename__ = 'locdesctype'\n",
    "    id            = Column(BigInteger, primary_key=True)\n",
    "    key1          = Column(String, nullable=False)\n",
    "    key2          = Column(String, nullable=False)\n",
    "    key3          = Column(String, nullable=False)\n",
    "    incidents     = relationship(\"Incident\", back_populates=\"locationdesc\")"
   ]
  },
  {
   "cell_type": "code",
   "execution_count": 4,
   "metadata": {},
   "outputs": [],
   "source": [
    "class GetData(object):\n",
    "    def go(self, SESSION, start_year, end_year):\n",
    "        SQL_QUERY = \\\n",
    "            f'''\n",
    "                SELECT\n",
    "                    incident.blockid,\n",
    "                    incident.year,\n",
    "                    incident.month,\n",
    "                    incident.dow,\n",
    "                    incident.hour,\n",
    "                    SUM(crimetype.severity)/AVG(block.population) AS severity\n",
    "                FROM incident\n",
    "                INNER JOIN block ON incident.blockid = block.id\n",
    "                INNER JOIN crimetype ON incident.crimetypeid = crimetype.id\n",
    "                    AND block.population > 0\n",
    "                    AND incident.cityid = 1\n",
    "                    AND incident.year >= {start_year}\n",
    "                    AND incident.year <= {end_year}\n",
    "                GROUP BY\n",
    "                    incident.blockid,\n",
    "                    incident.year,\n",
    "                    incident.month,\n",
    "                    incident.dow,\n",
    "                    incident.hour\n",
    "            '''\n",
    "        return SESSION.execute(text(SQL_QUERY)).fetchall()"
   ]
  },
  {
   "cell_type": "code",
   "execution_count": 21,
   "metadata": {},
   "outputs": [],
   "source": [
    "def process_data(data, start_year, end_year, map_risk):\n",
    "\n",
    "    # records is the list of rows we get from the query with this order:\n",
    "    #   blockid, year, month, dow, hour, risk\n",
    "    #   month is from 1 - 12\n",
    "    #   `POINT(<lat> <lng>)`\n",
    "    \n",
    "    NUM_BLOCKIDS = 801\n",
    "    START_MONTH = START_MONTH_LAST_YEAR = 1\n",
    "    \n",
    "    if (end_year - start_year + 1) != 3:\n",
    "        raise ValueError('3 years must be passed in')\n",
    "\n",
    "    years_data_X = years_data_y = 2\n",
    "    X = np.zeros((NUM_BLOCKIDS, years_data_X*12*7*24 + 1))\n",
    "    y = np.zeros((NUM_BLOCKIDS, years_data_y*12*7*24 + 1))\n",
    "\n",
    "    #     for r in data:\n",
    "    #         if r[1] == start_year:\n",
    "    #             X[r[0]-1, (((12*r[1]+r[2]-1)-(start_year*12+START_MONTH-1))*7+r[3])*24+r[4]] = float(r[5])\n",
    "    #         elif r[1] == end_year:\n",
    "    #             y[r[0]-1, (((12*r[1]+r[2]-1)-(end_year*12+START_MONTH_LAST_YEAR-1))*7+r[3])*24+r[4]] = float(r[5])\n",
    "    #         else:  # common years to X and y\n",
    "    #             if r[1] == start_year+1:\n",
    "    #                 X[r[0]-1, (((12*r[1]+r[2]-1)-(start_year*12+START_MONTH-1))*7+r[3])*24+r[4]] = float(r[5])\n",
    "    #             else:\n",
    "    #                 y[r[0]-1, (((12*r[1]+r[2]-1)-(end_year*12+START_MONTH_LAST_YEAR-1))*7+r[3])*24+r[4]] = float(r[5])\n",
    "\n",
    "    for r in data:\n",
    "        if r[1] == start_year:\n",
    "            if r[1] == end_year:\n",
    "                y[r[0]-1, (((12*r[1]+r[2]-1)-(end_year*12+START_MONTH_LAST_YEAR-1))*7+r[3])*24+r[4]] = \\\n",
    "                    map_risk(float(r[5]))\n",
    "            else:\n",
    "                X[r[0]-1, (((12*r[1]+r[2]-1)-(start_year*12+START_MONTH-1))*7+r[3])*24+r[4]] = \\\n",
    "                    map_risk(float(r[5]))\n",
    "\n",
    "    X[:, -1] = start_year*12+START_MONTH-1\n",
    "\n",
    "    df_X = pd.DataFrame()\n",
    "    df_X\n",
    "\n",
    "    return [x1 for xs in X for x1 in xs], [y1 for ys in y for y1 in ys]\n"
   ]
  },
  {
   "cell_type": "code",
   "execution_count": 6,
   "metadata": {},
   "outputs": [],
   "source": [
    "from contextlib import contextmanager\n",
    "\n",
    "@contextmanager\n",
    "def session_scope():\n",
    "    \"\"\"Provide a transactional scope around a series of operations.\"\"\"\n",
    "\n",
    "    DB_URI  = config('DB_URI')\n",
    "    ENGINE  = create_engine(DB_URI)\n",
    "    Session = sessionmaker(bind=ENGINE)\n",
    "    SESSION = Session()\n",
    "    \n",
    "    try:\n",
    "        yield SESSION\n",
    "        SESSION.commit()\n",
    "    except:\n",
    "        SESSION.rollback()\n",
    "        raise\n",
    "    finally:\n",
    "        SESSION.close()\n",
    "\n",
    "\n",
    "def ready_data(training_start_year, training_end_year,\n",
    "               testing_start_year, testing_end_year,\n",
    "               map_risk):\n",
    "    with session_scope() as session:\n",
    "        training_data = GetData().go(session,\n",
    "                                     training_start_year,\n",
    "                                     training_end_year)\n",
    "        testing_data = GetData().go(session,\n",
    "                                     testing_start_year,\n",
    "                                     testing_end_year)\n",
    "        \n",
    "        X_train, y_train = process_data(training_data,\n",
    "                                        training_start_year, \n",
    "                                        training_end_year,\n",
    "                                        map_risk)\n",
    "        X_test, y_test = process_data(testing_data,\n",
    "                                      testing_start_year, \n",
    "                                      testing_end_year,\n",
    "                                      map_risk)\n",
    "\n",
    "    return X_train, X_test, y_train, y_test"
   ]
  },
  {
   "cell_type": "code",
   "execution_count": 7,
   "metadata": {},
   "outputs": [],
   "source": [
    "def map_risk_1(risk):\n",
    "    return np.power(risk * 1e5, 2)\n",
    "\n",
    "def map_risk_0(risk):\n",
    "    return risk\n",
    "\n",
    "def map_risk_2(risk):\n",
    "    return np.power(risk * 1e5, 3)\n",
    "\n",
    "def map_risk_3(risk):\n",
    "    return np.power(risk * 1e5, 4)\n",
    "\n",
    "map_risk = [map_risk_1, map_risk_2, map_risk_3]  # , map_risk_1, map_risk_2, map_risk_3]"
   ]
  },
  {
   "cell_type": "code",
   "execution_count": 8,
   "metadata": {},
   "outputs": [
    {
     "name": "stderr",
     "output_type": "stream",
     "text": [
      "/home/ec2-user/anaconda3/envs/tensorflow_p36/lib/python3.6/site-packages/psycopg2/__init__.py:144: UserWarning: The psycopg2 wheel package will be renamed from release 2.8; in order to keep installing from binary please use \"pip install psycopg2-binary\" instead. For details see: <http://initd.org/psycopg/docs/install.html#binary-install-from-pypi>.\n",
      "  \"\"\")\n"
     ]
    },
    {
     "name": "stdout",
     "output_type": "stream",
     "text": [
      "3230433 3230433 3230433 3230433\n",
      "CPU times: user 4.3 s, sys: 652 ms, total: 4.95 s\n",
      "Wall time: 24.7 s\n"
     ]
    }
   ],
   "source": [
    "%%time\n",
    "X_train, X_test, y_train, y_test = ready_data(2015, 2017, 2016, 2018, map_risk_0)\n",
    "print(len(X_train), len(y_train), len(X_test), len(y_test))"
   ]
  },
  {
   "cell_type": "code",
   "execution_count": 9,
   "metadata": {},
   "outputs": [],
   "source": [
    "X_train_saved, y_train_saved, X_test_saved, y_test_saved = X_train, y_train, X_test, y_test"
   ]
  },
  {
   "cell_type": "code",
   "execution_count": 10,
   "metadata": {},
   "outputs": [],
   "source": [
    "X_train = pd.DataFrame(data={'index': range(len(X_train)),\n",
    "                             'risk_past': X_train})\n",
    "y_train = pd.DataFrame(data={'risk_future': y_train})\n",
    "X_test = pd.DataFrame(data={'index': range(len(X_test)), \n",
    "                            'risk_past': X_test})\n",
    "y_test = pd.DataFrame(data={'risk_future': y_test})"
   ]
  },
  {
   "cell_type": "code",
   "execution_count": 11,
   "metadata": {},
   "outputs": [],
   "source": [
    "def remove_outliers_from_risk(df):\n",
    "    \n",
    "    if 'risk_past' in df.columns:\n",
    "        risk = 'risk_past'\n",
    "    else:\n",
    "        risk = 'risk_future'\n",
    "        \n",
    "    std = np.std(df[risk])\n",
    "    df[risk] = np.where(df[risk] < 20*std, \n",
    "                         df[risk], \n",
    "                         [0.]*len(df[risk]))\n",
    "\n",
    "    return df"
   ]
  },
  {
   "cell_type": "code",
   "execution_count": 12,
   "metadata": {},
   "outputs": [],
   "source": [
    "X_train, y_train, X_test, y_test = \\\n",
    "    remove_outliers_from_risk(X_train), \\\n",
    "    remove_outliers_from_risk(y_train), \\\n",
    "    remove_outliers_from_risk(X_test), \\\n",
    "    remove_outliers_from_risk(y_test)"
   ]
  },
  {
   "cell_type": "code",
   "execution_count": 13,
   "metadata": {},
   "outputs": [
    {
     "data": {
      "text/plain": [
       "0    0.000000\n",
       "1    0.000605\n",
       "2    0.000000\n",
       "3    0.000000\n",
       "4    0.000605\n",
       "5    0.000000\n",
       "6    0.000000\n",
       "7    0.000000\n",
       "8    0.000000\n",
       "9    0.000000\n",
       "Name: risk_future, dtype: float64"
      ]
     },
     "execution_count": 13,
     "metadata": {},
     "output_type": "execute_result"
    }
   ],
   "source": [
    "y_test['risk_future'][:10]"
   ]
  },
  {
   "cell_type": "code",
   "execution_count": 14,
   "metadata": {},
   "outputs": [],
   "source": [
    "# X_train = pd.DataFrame(data={'idx': range(len(X_train)),\n",
    "#                              'risk_past': X_train})\n",
    "# y_train = pd.DataFrame(data={'idx': range(len(y_train)),\n",
    "#                              'risk_future': y_train})\n",
    "# X_test = pd.DataFrame(data={'idx': range(len(X_test)),\n",
    "#                              'risk_past': X_test})\n",
    "# y_test = pd.DataFrame(data={'idx': range(len(y_test)),\n",
    "#                              'risk_future': y_test})"
   ]
  },
  {
   "cell_type": "code",
   "execution_count": 15,
   "metadata": {},
   "outputs": [
    {
     "name": "stdout",
     "output_type": "stream",
     "text": [
      "Fitting 3 folds for each of 64 candidates, totalling 192 fits\n",
      "[CV] learning_rate=0.01, max_depth=2, n_estimators=80 ................\n",
      "[CV] learning_rate=0.01, max_depth=2, n_estimators=80 ................\n",
      "[CV] learning_rate=0.01, max_depth=2, n_estimators=80 ................\n",
      "[CV] learning_rate=0.01, max_depth=2, n_estimators=100 ...............\n",
      "[CV] learning_rate=0.01, max_depth=2, n_estimators=100 ...............\n",
      "[CV] learning_rate=0.01, max_depth=2, n_estimators=100 ...............\n",
      "[CV] learning_rate=0.01, max_depth=2, n_estimators=120 ...............\n",
      "[CV] learning_rate=0.01, max_depth=2, n_estimators=120 ...............\n",
      "[CV] learning_rate=0.01, max_depth=2, n_estimators=120 ...............\n",
      "[CV] learning_rate=0.01, max_depth=2, n_estimators=1000 ..............\n",
      "[CV] learning_rate=0.01, max_depth=2, n_estimators=1000 ..............\n",
      "[CV] learning_rate=0.01, max_depth=2, n_estimators=1000 ..............\n",
      "[CV] learning_rate=0.01, max_depth=3, n_estimators=80 ................\n",
      "[CV] learning_rate=0.01, max_depth=3, n_estimators=80 ................\n",
      "[CV] learning_rate=0.01, max_depth=3, n_estimators=80 ................\n",
      "[CV] learning_rate=0.01, max_depth=3, n_estimators=100 ...............\n",
      "[CV] learning_rate=0.01, max_depth=3, n_estimators=100 ...............\n",
      "[CV] learning_rate=0.01, max_depth=3, n_estimators=100 ...............\n",
      "[CV] learning_rate=0.01, max_depth=3, n_estimators=120 ...............\n",
      "[CV] learning_rate=0.01, max_depth=3, n_estimators=120 ...............\n",
      "[CV] learning_rate=0.01, max_depth=3, n_estimators=120 ...............\n",
      "[CV] learning_rate=0.01, max_depth=3, n_estimators=1000 ..............\n",
      "[CV] learning_rate=0.01, max_depth=3, n_estimators=1000 ..............\n",
      "[CV] learning_rate=0.01, max_depth=3, n_estimators=1000 ..............\n",
      "[CV] learning_rate=0.01, max_depth=4, n_estimators=80 ................\n",
      "[CV] learning_rate=0.01, max_depth=4, n_estimators=80 ................\n",
      "[CV] learning_rate=0.01, max_depth=4, n_estimators=80 ................\n",
      "[CV] learning_rate=0.01, max_depth=4, n_estimators=100 ...............\n",
      "[CV] learning_rate=0.01, max_depth=4, n_estimators=100 ...............\n",
      "[CV] learning_rate=0.01, max_depth=4, n_estimators=100 ...............\n",
      "[CV] learning_rate=0.01, max_depth=4, n_estimators=120 ...............\n",
      "[CV] learning_rate=0.01, max_depth=4, n_estimators=120 ...............\n",
      "[CV]  learning_rate=0.01, max_depth=2, n_estimators=80, score=-0.05005516507816299, total=  31.0s\n",
      "[CV] learning_rate=0.01, max_depth=4, n_estimators=120 ...............\n",
      "[CV]  learning_rate=0.01, max_depth=2, n_estimators=80, score=-0.050057831900106604, total=  31.3s\n",
      "[CV] learning_rate=0.01, max_depth=4, n_estimators=1000 ..............\n",
      "[CV]  learning_rate=0.01, max_depth=2, n_estimators=80, score=-0.05006063955370004, total=  31.7s\n",
      "[CV] learning_rate=0.01, max_depth=4, n_estimators=1000 ..............\n",
      "[CV]  learning_rate=0.01, max_depth=3, n_estimators=80, score=-0.050057831900106604, total=  33.6s\n",
      "[CV]  learning_rate=0.01, max_depth=3, n_estimators=80, score=-0.05005516507816299, total=  33.8s\n",
      "[CV] learning_rate=0.01, max_depth=4, n_estimators=1000 ..............\n",
      "[CV] learning_rate=0.01, max_depth=5, n_estimators=80 ................\n",
      "[CV]  learning_rate=0.01, max_depth=3, n_estimators=80, score=-0.05006063955370004, total=  34.6s\n",
      "[CV] learning_rate=0.01, max_depth=5, n_estimators=80 ................\n",
      "[CV]  learning_rate=0.01, max_depth=4, n_estimators=80, score=-0.05005516507816299, total=  33.8s\n",
      "[CV] learning_rate=0.01, max_depth=5, n_estimators=80 ................\n",
      "[CV]  learning_rate=0.01, max_depth=4, n_estimators=80, score=-0.050057831900106604, total=  34.3s\n",
      "[CV]  learning_rate=0.01, max_depth=4, n_estimators=80, score=-0.05006063955370004, total=  34.0s\n",
      "[CV] learning_rate=0.01, max_depth=5, n_estimators=100 ...............\n",
      "[CV] learning_rate=0.01, max_depth=5, n_estimators=100 ...............\n"
     ]
    },
    {
     "name": "stderr",
     "output_type": "stream",
     "text": [
      "[Parallel(n_jobs=-1)]: Done   8 tasks      | elapsed:   40.7s\n"
     ]
    },
    {
     "name": "stdout",
     "output_type": "stream",
     "text": [
      "[CV]  learning_rate=0.01, max_depth=2, n_estimators=100, score=-0.03348729083728533, total=  39.0s\n",
      "[CV] learning_rate=0.01, max_depth=5, n_estimators=100 ...............\n",
      "[CV]  learning_rate=0.01, max_depth=2, n_estimators=100, score=-0.03348504609811763, total=  39.4s\n",
      "[CV] learning_rate=0.01, max_depth=5, n_estimators=120 ...............\n",
      "[CV]  learning_rate=0.01, max_depth=2, n_estimators=100, score=-0.03348967228885651, total=  39.4s\n",
      "[CV] learning_rate=0.01, max_depth=5, n_estimators=120 ...............\n",
      "[CV]  learning_rate=0.01, max_depth=3, n_estimators=100, score=-0.03348729083728533, total=  41.2s\n",
      "[CV]  learning_rate=0.01, max_depth=3, n_estimators=100, score=-0.03348967228885651, total=  41.1s\n",
      "[CV] learning_rate=0.01, max_depth=5, n_estimators=120 ...............\n",
      "[CV] learning_rate=0.01, max_depth=5, n_estimators=1000 ..............\n",
      "[CV]  learning_rate=0.01, max_depth=3, n_estimators=100, score=-0.03348504609811763, total=  41.8s\n",
      "[CV] learning_rate=0.01, max_depth=5, n_estimators=1000 ..............\n",
      "[CV]  learning_rate=0.01, max_depth=4, n_estimators=100, score=-0.03348729083728533, total=  42.1s\n",
      "[CV] learning_rate=0.01, max_depth=5, n_estimators=1000 ..............\n",
      "[CV]  learning_rate=0.01, max_depth=4, n_estimators=100, score=-0.03348967228885651, total=  41.9s\n",
      "[CV] learning_rate=0.05, max_depth=2, n_estimators=80 ................\n",
      "[CV]  learning_rate=0.01, max_depth=4, n_estimators=100, score=-0.03348504609811763, total=  43.2s\n",
      "[CV] learning_rate=0.05, max_depth=2, n_estimators=80 ................\n",
      "[CV]  learning_rate=0.01, max_depth=2, n_estimators=120, score=-0.022404082489574734, total=  47.6s\n",
      "[CV] learning_rate=0.05, max_depth=2, n_estimators=80 ................\n",
      "[CV]  learning_rate=0.01, max_depth=2, n_estimators=120, score=-0.022400195764830887, total=  48.3s\n",
      "[CV] learning_rate=0.05, max_depth=2, n_estimators=100 ...............\n",
      "[CV]  learning_rate=0.01, max_depth=2, n_estimators=120, score=-0.022402074441556605, total=  48.2s\n",
      "[CV] learning_rate=0.05, max_depth=2, n_estimators=100 ...............\n"
     ]
    },
    {
     "name": "stderr",
     "output_type": "stream",
     "text": [
      "[Parallel(n_jobs=-1)]: Done  21 tasks      | elapsed:   51.5s\n"
     ]
    },
    {
     "name": "stdout",
     "output_type": "stream",
     "text": [
      "[CV]  learning_rate=0.01, max_depth=3, n_estimators=120, score=-0.022400195764830887, total=  49.8s\n",
      "[CV] learning_rate=0.05, max_depth=2, n_estimators=100 ...............\n",
      "[CV]  learning_rate=0.01, max_depth=3, n_estimators=120, score=-0.022402074441556605, total=  49.9s\n",
      "[CV] learning_rate=0.05, max_depth=2, n_estimators=120 ...............\n",
      "[CV]  learning_rate=0.01, max_depth=3, n_estimators=120, score=-0.022404082489574734, total=  50.3s\n",
      "[CV] learning_rate=0.05, max_depth=2, n_estimators=120 ...............\n",
      "[CV]  learning_rate=0.01, max_depth=4, n_estimators=120, score=-0.022400195764830887, total=  50.1s\n",
      "[CV] learning_rate=0.05, max_depth=2, n_estimators=120 ...............\n",
      "[CV]  learning_rate=0.01, max_depth=4, n_estimators=120, score=-0.022402074441556605, total=  50.0s\n",
      "[CV] learning_rate=0.05, max_depth=2, n_estimators=1000 ..............\n",
      "[CV]  learning_rate=0.01, max_depth=5, n_estimators=80, score=-0.05005516507816299, total=  33.4s\n",
      "[CV] learning_rate=0.05, max_depth=2, n_estimators=1000 ..............\n",
      "[CV]  learning_rate=0.01, max_depth=5, n_estimators=80, score=-0.050057831900106604, total=  33.7s\n",
      "[CV] learning_rate=0.05, max_depth=2, n_estimators=1000 ..............\n",
      "[CV]  learning_rate=0.01, max_depth=5, n_estimators=80, score=-0.05006063955370004, total=  33.6s\n",
      "[CV] learning_rate=0.05, max_depth=3, n_estimators=80 ................\n",
      "[CV]  learning_rate=0.01, max_depth=4, n_estimators=120, score=-0.022404082489574734, total=  49.1s\n",
      "[CV] learning_rate=0.05, max_depth=3, n_estimators=80 ................\n",
      "[CV]  learning_rate=0.01, max_depth=5, n_estimators=100, score=-0.03348729083728533, total=  41.6s\n",
      "[CV] learning_rate=0.05, max_depth=3, n_estimators=80 ................\n",
      "[CV]  learning_rate=0.01, max_depth=5, n_estimators=100, score=-0.03348504609811763, total=  42.0s\n",
      "[CV] learning_rate=0.05, max_depth=3, n_estimators=100 ...............\n",
      "[CV]  learning_rate=0.01, max_depth=5, n_estimators=100, score=-0.03348967228885651, total=  41.5s\n",
      "[CV] learning_rate=0.05, max_depth=3, n_estimators=100 ...............\n",
      "[CV]  learning_rate=0.05, max_depth=2, n_estimators=80, score=-6.81536074045285e-05, total=  36.2s\n",
      "[CV] learning_rate=0.05, max_depth=3, n_estimators=100 ...............\n"
     ]
    },
    {
     "name": "stderr",
     "output_type": "stream",
     "text": [
      "[Parallel(n_jobs=-1)]: Done  34 tasks      | elapsed:  1.5min\n"
     ]
    },
    {
     "name": "stdout",
     "output_type": "stream",
     "text": [
      "[CV]  learning_rate=0.05, max_depth=2, n_estimators=80, score=-6.825074767666824e-05, total=  37.8s\n",
      "[CV] learning_rate=0.05, max_depth=3, n_estimators=120 ...............\n",
      "[CV]  learning_rate=0.05, max_depth=2, n_estimators=80, score=-6.835681637239187e-05, total=  37.2s\n",
      "[CV] learning_rate=0.05, max_depth=3, n_estimators=120 ...............\n",
      "[CV]  learning_rate=0.01, max_depth=5, n_estimators=120, score=-0.022402074441556605, total=  48.9s\n",
      "[CV] learning_rate=0.05, max_depth=3, n_estimators=120 ...............\n",
      "[CV]  learning_rate=0.01, max_depth=5, n_estimators=120, score=-0.022400195764830887, total=  49.4s\n",
      "[CV] learning_rate=0.05, max_depth=3, n_estimators=1000 ..............\n",
      "[CV]  learning_rate=0.01, max_depth=5, n_estimators=120, score=-0.022404082489574734, total=  49.0s\n",
      "[CV] learning_rate=0.05, max_depth=3, n_estimators=1000 ..............\n",
      "[CV]  learning_rate=0.05, max_depth=2, n_estimators=100, score=-8.776711109852052e-06, total=  49.1s\n",
      "[CV] learning_rate=0.05, max_depth=3, n_estimators=1000 ..............\n",
      "[CV]  learning_rate=0.05, max_depth=2, n_estimators=100, score=-8.84507484066362e-06, total=  50.1s\n",
      "[CV] learning_rate=0.05, max_depth=4, n_estimators=80 ................\n",
      "[CV]  learning_rate=0.05, max_depth=2, n_estimators=100, score=-8.875339653883173e-06, total=  50.1s\n",
      "[CV] learning_rate=0.05, max_depth=4, n_estimators=80 ................\n",
      "[CV]  learning_rate=0.05, max_depth=3, n_estimators=80, score=-6.81536074045285e-05, total=  36.1s\n",
      "[CV] learning_rate=0.05, max_depth=4, n_estimators=80 ................\n",
      "[CV]  learning_rate=0.05, max_depth=2, n_estimators=120, score=-1.1829415557904065e-06, total= 1.0min\n",
      "[CV] learning_rate=0.05, max_depth=4, n_estimators=100 ...............\n",
      "[CV]  learning_rate=0.05, max_depth=3, n_estimators=80, score=-6.825049406724058e-05, total=  38.4s\n",
      "[CV] learning_rate=0.05, max_depth=4, n_estimators=100 ...............\n",
      "[CV]  learning_rate=0.05, max_depth=2, n_estimators=120, score=-1.2110388553486936e-06, total= 1.1min\n",
      "[CV] learning_rate=0.05, max_depth=4, n_estimators=100 ...............\n",
      "[CV]  learning_rate=0.05, max_depth=3, n_estimators=80, score=-6.835583227780907e-05, total=  38.2s\n",
      "[CV] learning_rate=0.05, max_depth=4, n_estimators=120 ...............\n",
      "[CV]  learning_rate=0.05, max_depth=2, n_estimators=120, score=-1.2152734907091332e-06, total= 1.1min\n",
      "[CV] learning_rate=0.05, max_depth=4, n_estimators=120 ...............\n",
      "[CV]  learning_rate=0.05, max_depth=3, n_estimators=100, score=-8.764031561821552e-06, total=  51.2s\n",
      "[CV] learning_rate=0.05, max_depth=4, n_estimators=120 ...............\n"
     ]
    },
    {
     "name": "stderr",
     "output_type": "stream",
     "text": [
      "[Parallel(n_jobs=-1)]: Done  49 tasks      | elapsed:  2.3min\n"
     ]
    },
    {
     "name": "stdout",
     "output_type": "stream",
     "text": [
      "[CV]  learning_rate=0.05, max_depth=4, n_estimators=80, score=-6.81536074045285e-05, total=  35.9s\n",
      "[CV] learning_rate=0.05, max_depth=4, n_estimators=1000 ..............\n",
      "[CV]  learning_rate=0.05, max_depth=3, n_estimators=100, score=-8.857338956278445e-06, total=  54.5s\n",
      "[CV] learning_rate=0.05, max_depth=4, n_estimators=1000 ..............\n",
      "[CV]  learning_rate=0.05, max_depth=3, n_estimators=100, score=-8.875973524724878e-06, total=  53.9s\n",
      "[CV] learning_rate=0.05, max_depth=4, n_estimators=1000 ..............\n",
      "[CV]  learning_rate=0.05, max_depth=4, n_estimators=80, score=-6.825037958007751e-05, total=  39.0s\n",
      "[CV] learning_rate=0.05, max_depth=5, n_estimators=80 ................\n",
      "[CV]  learning_rate=0.05, max_depth=4, n_estimators=80, score=-6.835464395407984e-05, total=  39.0s\n",
      "[CV] learning_rate=0.05, max_depth=5, n_estimators=80 ................\n",
      "[CV]  learning_rate=0.05, max_depth=3, n_estimators=120, score=-1.1759269785718517e-06, total= 1.1min\n",
      "[CV] learning_rate=0.05, max_depth=5, n_estimators=80 ................\n",
      "[CV]  learning_rate=0.05, max_depth=3, n_estimators=120, score=-1.21546711333925e-06, total= 1.2min\n",
      "[CV] learning_rate=0.05, max_depth=5, n_estimators=100 ...............\n",
      "[CV]  learning_rate=0.05, max_depth=3, n_estimators=120, score=-1.2120201130978423e-06, total= 1.2min\n",
      "[CV] learning_rate=0.05, max_depth=5, n_estimators=100 ...............\n",
      "[CV]  learning_rate=0.05, max_depth=4, n_estimators=100, score=-8.77479722447137e-06, total=  53.6s\n",
      "[CV] learning_rate=0.05, max_depth=5, n_estimators=100 ...............\n",
      "[CV]  learning_rate=0.05, max_depth=4, n_estimators=100, score=-8.860855728006363e-06, total=  57.9s\n",
      "[CV] learning_rate=0.05, max_depth=5, n_estimators=120 ...............\n",
      "[CV]  learning_rate=0.05, max_depth=4, n_estimators=100, score=-8.877809406175894e-06, total=  58.2s\n",
      "[CV] learning_rate=0.05, max_depth=5, n_estimators=120 ...............\n",
      "[CV]  learning_rate=0.05, max_depth=5, n_estimators=80, score=-6.81536074045285e-05, total=  36.6s\n",
      "[CV] learning_rate=0.05, max_depth=5, n_estimators=120 ...............\n",
      "[CV]  learning_rate=0.05, max_depth=5, n_estimators=80, score=-6.825002414792416e-05, total=  39.2s\n",
      "[CV] learning_rate=0.05, max_depth=5, n_estimators=1000 ..............\n",
      "[CV]  learning_rate=0.05, max_depth=5, n_estimators=80, score=-6.835526777442545e-05, total=  38.7s\n",
      "[CV] learning_rate=0.05, max_depth=5, n_estimators=1000 ..............\n",
      "[CV]  learning_rate=0.05, max_depth=4, n_estimators=120, score=-1.174027181740403e-06, total= 1.2min\n",
      "[CV] learning_rate=0.05, max_depth=5, n_estimators=1000 ..............\n"
     ]
    },
    {
     "name": "stderr",
     "output_type": "stream",
     "text": [
      "[Parallel(n_jobs=-1)]: Done  64 tasks      | elapsed:  3.4min\n"
     ]
    },
    {
     "name": "stdout",
     "output_type": "stream",
     "text": [
      "[CV]  learning_rate=0.05, max_depth=4, n_estimators=120, score=-1.2179941207534981e-06, total= 1.3min\n",
      "[CV] learning_rate=0.1, max_depth=2, n_estimators=80 .................\n",
      "[CV]  learning_rate=0.05, max_depth=4, n_estimators=120, score=-1.2078048540726247e-06, total= 1.3min\n",
      "[CV] learning_rate=0.1, max_depth=2, n_estimators=80 .................\n",
      "[CV]  learning_rate=0.05, max_depth=5, n_estimators=100, score=-8.762831118158875e-06, total=  55.9s\n",
      "[CV] learning_rate=0.1, max_depth=2, n_estimators=80 .................\n",
      "[CV]  learning_rate=0.05, max_depth=5, n_estimators=100, score=-8.861815771311286e-06, total= 1.0min\n",
      "[CV] learning_rate=0.1, max_depth=2, n_estimators=100 ................\n",
      "[CV]  learning_rate=0.05, max_depth=5, n_estimators=100, score=-8.874870045777613e-06, total= 1.0min\n",
      "[CV] learning_rate=0.1, max_depth=2, n_estimators=100 ................\n",
      "[CV]  learning_rate=0.1, max_depth=2, n_estimators=80, score=-1.0175311136066776e-07, total=  44.3s\n",
      "[CV] learning_rate=0.1, max_depth=2, n_estimators=100 ................\n",
      "[CV]  learning_rate=0.05, max_depth=5, n_estimators=120, score=-1.1729709555828654e-06, total= 1.3min\n",
      "[CV] learning_rate=0.1, max_depth=2, n_estimators=120 ................\n",
      "[CV]  learning_rate=0.1, max_depth=2, n_estimators=80, score=-9.57712169402742e-08, total=  46.4s\n",
      "[CV] learning_rate=0.1, max_depth=2, n_estimators=120 ................\n",
      "[CV]  learning_rate=0.1, max_depth=2, n_estimators=80, score=-8.390965355611141e-08, total=  46.3s\n",
      "[CV] learning_rate=0.1, max_depth=2, n_estimators=120 ................\n",
      "[CV]  learning_rate=0.05, max_depth=5, n_estimators=120, score=-1.2175905234531828e-06, total= 1.4min\n",
      "[CV] learning_rate=0.1, max_depth=2, n_estimators=1000 ...............\n",
      "[CV]  learning_rate=0.05, max_depth=5, n_estimators=120, score=-1.2044714050163833e-06, total= 1.4min\n",
      "[CV] learning_rate=0.1, max_depth=2, n_estimators=1000 ...............\n",
      "[CV]  learning_rate=0.1, max_depth=2, n_estimators=100, score=-9.384839506182645e-08, total=  57.1s\n",
      "[CV] learning_rate=0.1, max_depth=2, n_estimators=1000 ...............\n",
      "[CV]  learning_rate=0.1, max_depth=2, n_estimators=100, score=-8.374931808854685e-08, total=  59.3s\n",
      "[CV] learning_rate=0.1, max_depth=3, n_estimators=80 .................\n",
      "[CV]  learning_rate=0.1, max_depth=2, n_estimators=100, score=-7.131936978747752e-08, total=  58.1s\n",
      "[CV] learning_rate=0.1, max_depth=3, n_estimators=80 .................\n",
      "[CV]  learning_rate=0.1, max_depth=2, n_estimators=120, score=-9.415601231220908e-08, total= 1.2min\n",
      "[CV] learning_rate=0.1, max_depth=3, n_estimators=80 .................\n",
      "[CV]  learning_rate=0.1, max_depth=2, n_estimators=120, score=-8.353596441560919e-08, total= 1.2min\n",
      "[CV] learning_rate=0.1, max_depth=3, n_estimators=100 ................\n",
      "[CV]  learning_rate=0.1, max_depth=2, n_estimators=120, score=-7.14342460691437e-08, total= 1.2min\n",
      "[CV] learning_rate=0.1, max_depth=3, n_estimators=100 ................\n"
     ]
    },
    {
     "name": "stderr",
     "output_type": "stream",
     "text": [
      "[Parallel(n_jobs=-1)]: Done  81 tasks      | elapsed:  5.8min\n"
     ]
    },
    {
     "name": "stdout",
     "output_type": "stream",
     "text": [
      "[CV]  learning_rate=0.1, max_depth=3, n_estimators=80, score=-1.0087024514676941e-07, total=  51.5s\n",
      "[CV] learning_rate=0.1, max_depth=3, n_estimators=100 ................\n",
      "[CV]  learning_rate=0.1, max_depth=3, n_estimators=80, score=-9.645482588955812e-08, total=  52.7s\n",
      "[CV] learning_rate=0.1, max_depth=3, n_estimators=120 ................\n",
      "[CV]  learning_rate=0.1, max_depth=3, n_estimators=80, score=-8.212091243499406e-08, total=  53.8s\n",
      "[CV] learning_rate=0.1, max_depth=3, n_estimators=120 ................\n",
      "[CV]  learning_rate=0.1, max_depth=3, n_estimators=100, score=-9.379453903544716e-08, total= 1.1min\n",
      "[CV] learning_rate=0.1, max_depth=3, n_estimators=120 ................\n",
      "[CV]  learning_rate=0.1, max_depth=3, n_estimators=100, score=-8.386984393637554e-08, total= 1.1min\n",
      "[CV] learning_rate=0.1, max_depth=3, n_estimators=1000 ...............\n",
      "[CV]  learning_rate=0.1, max_depth=3, n_estimators=100, score=-7.133211931125859e-08, total= 1.2min\n",
      "[CV] learning_rate=0.1, max_depth=3, n_estimators=1000 ...............\n",
      "[CV]  learning_rate=0.1, max_depth=3, n_estimators=120, score=-9.42004743581573e-08, total= 1.4min\n",
      "[CV] learning_rate=0.1, max_depth=3, n_estimators=1000 ...............\n",
      "[CV]  learning_rate=0.1, max_depth=3, n_estimators=120, score=-8.357955978497268e-08, total= 1.5min\n",
      "[CV] learning_rate=0.1, max_depth=4, n_estimators=80 .................\n",
      "[CV]  learning_rate=0.1, max_depth=3, n_estimators=120, score=-7.17305963974687e-08, total= 1.4min\n",
      "[CV] learning_rate=0.1, max_depth=4, n_estimators=80 .................\n",
      "[CV]  learning_rate=0.1, max_depth=4, n_estimators=80, score=-1.0159938174529255e-07, total=  57.6s\n",
      "[CV] learning_rate=0.1, max_depth=4, n_estimators=80 .................\n",
      "[CV]  learning_rate=0.1, max_depth=4, n_estimators=80, score=-9.645767536205677e-08, total= 1.1min\n",
      "[CV] learning_rate=0.1, max_depth=4, n_estimators=100 ................\n",
      "[CV]  learning_rate=0.01, max_depth=2, n_estimators=1000, score=-9.377851948089156e-08, total= 9.3min\n",
      "[CV] learning_rate=0.1, max_depth=4, n_estimators=100 ................\n",
      "[CV]  learning_rate=0.05, max_depth=2, n_estimators=1000, score=-9.429376802733211e-08, total= 8.5min\n",
      "[CV] learning_rate=0.1, max_depth=4, n_estimators=100 ................\n",
      "[CV]  learning_rate=0.1, max_depth=4, n_estimators=80, score=-8.070939037974342e-08, total=  59.4s\n",
      "[CV] learning_rate=0.1, max_depth=4, n_estimators=120 ................\n",
      "[CV]  learning_rate=0.01, max_depth=2, n_estimators=1000, score=-7.148749107530857e-08, total= 9.5min\n",
      "[CV] learning_rate=0.1, max_depth=4, n_estimators=120 ................\n",
      "[CV]  learning_rate=0.01, max_depth=2, n_estimators=1000, score=-8.405951014511216e-08, total= 9.5min\n",
      "[CV] learning_rate=0.1, max_depth=4, n_estimators=120 ................\n",
      "[CV]  learning_rate=0.05, max_depth=2, n_estimators=1000, score=-7.23965917108248e-08, total= 8.9min\n",
      "[CV] learning_rate=0.1, max_depth=4, n_estimators=1000 ...............\n"
     ]
    },
    {
     "name": "stderr",
     "output_type": "stream",
     "text": [
      "[Parallel(n_jobs=-1)]: Done  98 tasks      | elapsed: 11.0min\n"
     ]
    },
    {
     "name": "stdout",
     "output_type": "stream",
     "text": [
      "[CV]  learning_rate=0.1, max_depth=4, n_estimators=100, score=-9.390004672794697e-08, total= 1.3min\n",
      "[CV] learning_rate=0.1, max_depth=4, n_estimators=1000 ...............\n",
      "[CV]  learning_rate=0.05, max_depth=2, n_estimators=1000, score=-8.353506938486341e-08, total= 9.1min\n",
      "[CV] learning_rate=0.1, max_depth=4, n_estimators=1000 ...............\n",
      "[CV]  learning_rate=0.05, max_depth=3, n_estimators=1000, score=-9.425883690617529e-08, total= 8.9min\n",
      "[CV] learning_rate=0.1, max_depth=5, n_estimators=80 .................\n",
      "[CV]  learning_rate=0.1, max_depth=4, n_estimators=100, score=-8.385707291048903e-08, total= 1.4min\n",
      "[CV] learning_rate=0.1, max_depth=5, n_estimators=80 .................\n",
      "[CV]  learning_rate=0.1, max_depth=4, n_estimators=100, score=-7.136234880838198e-08, total= 1.3min\n",
      "[CV] learning_rate=0.1, max_depth=5, n_estimators=80 .................\n",
      "[CV]  learning_rate=0.05, max_depth=3, n_estimators=1000, score=-7.238013893154373e-08, total= 9.3min\n",
      "[CV] learning_rate=0.1, max_depth=5, n_estimators=100 ................\n",
      "[CV]  learning_rate=0.05, max_depth=3, n_estimators=1000, score=-8.356091407364586e-08, total= 9.4min\n",
      "[CV] learning_rate=0.1, max_depth=5, n_estimators=100 ................\n",
      "[CV]  learning_rate=0.05, max_depth=4, n_estimators=1000, score=-9.423232575812143e-08, total= 9.0min\n",
      "[CV] learning_rate=0.1, max_depth=5, n_estimators=100 ................\n",
      "[CV]  learning_rate=0.1, max_depth=4, n_estimators=120, score=-8.357643450439844e-08, total= 1.7min\n",
      "[CV] learning_rate=0.1, max_depth=5, n_estimators=120 ................\n",
      "[CV]  learning_rate=0.1, max_depth=4, n_estimators=120, score=-9.419341847496072e-08, total= 1.8min\n",
      "[CV] learning_rate=0.1, max_depth=5, n_estimators=120 ................\n",
      "[CV]  learning_rate=0.01, max_depth=3, n_estimators=1000, score=-9.373913548134252e-08, total=11.0min\n",
      "[CV] learning_rate=0.1, max_depth=5, n_estimators=120 ................\n",
      "[CV]  learning_rate=0.1, max_depth=4, n_estimators=120, score=-7.18117043718497e-08, total= 1.7min\n",
      "[CV] learning_rate=0.1, max_depth=5, n_estimators=1000 ...............\n",
      "[CV]  learning_rate=0.1, max_depth=5, n_estimators=80, score=-1.0138288645417715e-07, total= 1.1min\n",
      "[CV] learning_rate=0.1, max_depth=5, n_estimators=1000 ...............\n",
      "[CV]  learning_rate=0.01, max_depth=3, n_estimators=1000, score=-7.131147584754155e-08, total=11.4min\n",
      "[CV] learning_rate=0.1, max_depth=5, n_estimators=1000 ...............\n",
      "[CV]  learning_rate=0.05, max_depth=4, n_estimators=1000, score=-7.243164827382721e-08, total= 9.4min\n",
      "[CV] learning_rate=0.5, max_depth=2, n_estimators=80 .................\n",
      "[CV]  learning_rate=0.1, max_depth=5, n_estimators=80, score=-9.57148725640051e-08, total= 1.1min\n",
      "[CV] learning_rate=0.5, max_depth=2, n_estimators=80 .................\n",
      "[CV]  learning_rate=0.01, max_depth=3, n_estimators=1000, score=-8.419709639069215e-08, total=11.6min\n",
      "[CV] learning_rate=0.5, max_depth=2, n_estimators=80 .................\n",
      "[CV]  learning_rate=0.05, max_depth=4, n_estimators=1000, score=-8.355758651359472e-08, total= 9.6min\n",
      "[CV] learning_rate=0.5, max_depth=2, n_estimators=100 ................\n",
      "[CV]  learning_rate=0.1, max_depth=2, n_estimators=1000, score=-9.428279878739412e-08, total= 7.8min\n",
      "[CV] learning_rate=0.5, max_depth=2, n_estimators=100 ................\n",
      "[CV]  learning_rate=0.1, max_depth=5, n_estimators=80, score=-7.904687567341114e-08, total= 1.2min\n",
      "[CV] learning_rate=0.5, max_depth=2, n_estimators=100 ................\n"
     ]
    },
    {
     "name": "stderr",
     "output_type": "stream",
     "text": [
      "[Parallel(n_jobs=-1)]: Done 117 tasks      | elapsed: 13.0min\n"
     ]
    },
    {
     "name": "stdout",
     "output_type": "stream",
     "text": [
      "[CV]  learning_rate=0.05, max_depth=5, n_estimators=1000, score=-9.425851790039247e-08, total= 9.1min\n",
      "[CV] learning_rate=0.5, max_depth=2, n_estimators=120 ................\n",
      "[CV]  learning_rate=0.1, max_depth=2, n_estimators=1000, score=-8.355459023753413e-08, total= 8.0min\n",
      "[CV] learning_rate=0.5, max_depth=2, n_estimators=120 ................\n",
      "[CV]  learning_rate=0.1, max_depth=5, n_estimators=100, score=-9.38479453204427e-08, total= 1.4min\n",
      "[CV] learning_rate=0.5, max_depth=2, n_estimators=120 ................\n",
      "[CV]  learning_rate=0.1, max_depth=2, n_estimators=1000, score=-7.242063203941857e-08, total= 8.0min\n",
      "[CV] learning_rate=0.5, max_depth=2, n_estimators=1000 ...............\n",
      "[CV]  learning_rate=0.5, max_depth=2, n_estimators=80, score=-9.409670727513485e-08, total=  46.3s\n",
      "[CV] learning_rate=0.5, max_depth=2, n_estimators=1000 ...............\n",
      "[CV]  learning_rate=0.05, max_depth=5, n_estimators=1000, score=-8.357029091958849e-08, total= 9.4min\n",
      "[CV] learning_rate=0.5, max_depth=2, n_estimators=1000 ...............\n",
      "[CV]  learning_rate=0.1, max_depth=5, n_estimators=100, score=-8.375849971494165e-08, total= 1.6min\n",
      "[CV] learning_rate=0.5, max_depth=3, n_estimators=80 .................\n",
      "[CV]  learning_rate=0.1, max_depth=5, n_estimators=100, score=-7.159563175441517e-08, total= 1.5min\n",
      "[CV] learning_rate=0.5, max_depth=3, n_estimators=80 .................\n",
      "[CV]  learning_rate=0.5, max_depth=2, n_estimators=80, score=-8.354730256876117e-08, total=  52.6s\n",
      "[CV] learning_rate=0.5, max_depth=3, n_estimators=80 .................\n",
      "[CV]  learning_rate=0.5, max_depth=2, n_estimators=80, score=-7.275165147973185e-08, total=  52.6s\n",
      "[CV] learning_rate=0.5, max_depth=3, n_estimators=100 ................\n",
      "[CV]  learning_rate=0.05, max_depth=5, n_estimators=1000, score=-7.238732961878997e-08, total= 9.6min\n",
      "[CV] learning_rate=0.5, max_depth=3, n_estimators=100 ................\n",
      "[CV]  learning_rate=0.5, max_depth=2, n_estimators=100, score=-9.409670727513485e-08, total=  53.2s\n",
      "[CV] learning_rate=0.5, max_depth=3, n_estimators=100 ................\n",
      "[CV]  learning_rate=0.5, max_depth=2, n_estimators=100, score=-7.275165147973185e-08, total= 1.0min\n",
      "[CV] learning_rate=0.5, max_depth=3, n_estimators=120 ................\n",
      "[CV]  learning_rate=0.5, max_depth=2, n_estimators=100, score=-8.354730256876117e-08, total= 1.1min\n",
      "[CV] learning_rate=0.5, max_depth=3, n_estimators=120 ................\n",
      "[CV]  learning_rate=0.1, max_depth=5, n_estimators=120, score=-9.420021674879295e-08, total= 1.9min\n",
      "[CV] learning_rate=0.5, max_depth=3, n_estimators=120 ................\n",
      "[CV]  learning_rate=0.1, max_depth=5, n_estimators=120, score=-8.354495534086195e-08, total= 2.0min\n",
      "[CV] learning_rate=0.5, max_depth=3, n_estimators=1000 ...............\n",
      "[CV]  learning_rate=0.5, max_depth=2, n_estimators=120, score=-9.409670727513485e-08, total= 1.2min\n",
      "[CV] learning_rate=0.5, max_depth=3, n_estimators=1000 ...............\n",
      "[CV]  learning_rate=0.5, max_depth=2, n_estimators=120, score=-8.354730256876117e-08, total= 1.2min\n",
      "[CV] learning_rate=0.5, max_depth=3, n_estimators=1000 ...............\n",
      "[CV]  learning_rate=0.1, max_depth=5, n_estimators=120, score=-7.226310010750538e-08, total= 2.1min\n",
      "[CV] learning_rate=0.5, max_depth=4, n_estimators=80 .................\n",
      "[CV]  learning_rate=0.5, max_depth=2, n_estimators=120, score=-7.275165147973185e-08, total= 1.1min\n",
      "[CV] learning_rate=0.5, max_depth=4, n_estimators=80 .................\n",
      "[CV]  learning_rate=0.5, max_depth=3, n_estimators=80, score=-9.431112360705012e-08, total=  56.3s\n",
      "[CV] learning_rate=0.5, max_depth=4, n_estimators=80 .................\n",
      "[CV]  learning_rate=0.5, max_depth=3, n_estimators=80, score=-8.360225351472939e-08, total=  54.2s\n",
      "[CV] learning_rate=0.5, max_depth=4, n_estimators=100 ................\n",
      "[CV]  learning_rate=0.5, max_depth=3, n_estimators=80, score=-7.302624438246881e-08, total=  58.3s\n",
      "[CV] learning_rate=0.5, max_depth=4, n_estimators=100 ................\n",
      "[CV]  learning_rate=0.5, max_depth=3, n_estimators=100, score=-9.431112360705012e-08, total=  56.9s\n",
      "[CV] learning_rate=0.5, max_depth=4, n_estimators=100 ................\n",
      "[CV]  learning_rate=0.5, max_depth=3, n_estimators=100, score=-8.360225351472939e-08, total= 1.1min\n",
      "[CV] learning_rate=0.5, max_depth=4, n_estimators=120 ................\n",
      "[CV]  learning_rate=0.5, max_depth=3, n_estimators=100, score=-7.302624438246881e-08, total= 1.1min\n",
      "[CV] learning_rate=0.5, max_depth=4, n_estimators=120 ................\n",
      "[CV]  learning_rate=0.01, max_depth=4, n_estimators=1000, score=-9.377730742735081e-08, total=13.0min\n",
      "[CV] learning_rate=0.5, max_depth=4, n_estimators=120 ................\n",
      "[CV]  learning_rate=0.5, max_depth=3, n_estimators=120, score=-9.431112360705012e-08, total= 1.1min\n",
      "[CV] learning_rate=0.5, max_depth=4, n_estimators=1000 ...............\n",
      "[CV]  learning_rate=0.5, max_depth=3, n_estimators=120, score=-8.360225351472939e-08, total= 1.2min\n",
      "[CV] learning_rate=0.5, max_depth=4, n_estimators=1000 ...............\n",
      "[CV]  learning_rate=0.01, max_depth=4, n_estimators=1000, score=-7.130936960406075e-08, total=13.2min\n",
      "[CV] learning_rate=0.5, max_depth=4, n_estimators=1000 ...............\n",
      "[CV]  learning_rate=0.1, max_depth=3, n_estimators=1000, score=-9.43289352996456e-08, total= 7.9min\n",
      "[CV] learning_rate=0.5, max_depth=5, n_estimators=80 .................\n"
     ]
    },
    {
     "name": "stderr",
     "output_type": "stream",
     "text": [
      "[Parallel(n_jobs=-1)]: Done 149 out of 192 | elapsed: 15.5min remaining:  4.5min\n"
     ]
    },
    {
     "name": "stdout",
     "output_type": "stream",
     "text": [
      "[CV]  learning_rate=0.5, max_depth=3, n_estimators=120, score=-7.302624438246881e-08, total= 1.2min\n",
      "[CV] learning_rate=0.5, max_depth=5, n_estimators=80 .................\n",
      "[CV]  learning_rate=0.5, max_depth=4, n_estimators=80, score=-9.426405233661086e-08, total=  59.3s\n",
      "[CV] learning_rate=0.5, max_depth=5, n_estimators=80 .................\n",
      "[CV]  learning_rate=0.5, max_depth=4, n_estimators=80, score=-8.35944364599999e-08, total= 1.0min\n",
      "[CV] learning_rate=0.5, max_depth=5, n_estimators=100 ................\n",
      "[CV]  learning_rate=0.5, max_depth=4, n_estimators=100, score=-9.426405233661086e-08, total=  58.4s\n",
      "[CV] learning_rate=0.5, max_depth=5, n_estimators=100 ................\n",
      "[CV]  learning_rate=0.5, max_depth=4, n_estimators=80, score=-7.296419834586098e-08, total= 1.1min\n",
      "[CV] learning_rate=0.5, max_depth=5, n_estimators=100 ................\n",
      "[CV]  learning_rate=0.5, max_depth=4, n_estimators=100, score=-8.35944364599999e-08, total= 1.1min\n",
      "[CV] learning_rate=0.5, max_depth=5, n_estimators=120 ................\n",
      "[CV]  learning_rate=0.01, max_depth=4, n_estimators=1000, score=-8.420712237147149e-08, total=13.8min\n",
      "[CV] learning_rate=0.5, max_depth=5, n_estimators=120 ................\n",
      "[CV]  learning_rate=0.1, max_depth=3, n_estimators=1000, score=-8.359872082207386e-08, total= 8.3min\n",
      "[CV] learning_rate=0.5, max_depth=5, n_estimators=120 ................\n",
      "[CV]  learning_rate=0.5, max_depth=4, n_estimators=100, score=-7.296419834586098e-08, total= 1.3min\n",
      "[CV] learning_rate=0.5, max_depth=5, n_estimators=1000 ...............\n",
      "[CV]  learning_rate=0.5, max_depth=4, n_estimators=120, score=-8.35944364599999e-08, total= 1.2min\n",
      "[CV] learning_rate=0.5, max_depth=5, n_estimators=1000 ...............\n",
      "[CV]  learning_rate=0.1, max_depth=3, n_estimators=1000, score=-7.236176732599738e-08, total= 8.1min\n",
      "[CV] learning_rate=0.5, max_depth=5, n_estimators=1000 ...............\n",
      "[CV]  learning_rate=0.5, max_depth=4, n_estimators=120, score=-9.426405233661086e-08, total= 1.3min\n",
      "[CV]  learning_rate=0.5, max_depth=5, n_estimators=80, score=-9.410089017203376e-08, total=  51.4s\n",
      "[CV]  learning_rate=0.5, max_depth=4, n_estimators=120, score=-7.296419834586098e-08, total= 1.2min\n",
      "[CV]  learning_rate=0.5, max_depth=5, n_estimators=80, score=-8.36732842738212e-08, total=  58.8s\n",
      "[CV]  learning_rate=0.5, max_depth=5, n_estimators=100, score=-9.410089017203376e-08, total=  53.2s\n",
      "[CV]  learning_rate=0.5, max_depth=5, n_estimators=80, score=-7.30361689937912e-08, total=  57.9s\n",
      "[CV]  learning_rate=0.5, max_depth=5, n_estimators=100, score=-8.36732842738212e-08, total= 1.0min\n",
      "[CV]  learning_rate=0.5, max_depth=5, n_estimators=120, score=-9.410089017203376e-08, total=  53.0s\n",
      "[CV]  learning_rate=0.5, max_depth=5, n_estimators=100, score=-7.30361689937912e-08, total= 1.0min\n"
     ]
    },
    {
     "name": "stderr",
     "output_type": "stream",
     "text": [
      "[Parallel(n_jobs=-1)]: Done 169 out of 192 | elapsed: 16.9min remaining:  2.3min\n"
     ]
    },
    {
     "name": "stdout",
     "output_type": "stream",
     "text": [
      "[CV]  learning_rate=0.5, max_depth=5, n_estimators=120, score=-7.30361689937912e-08, total=  53.6s\n",
      "[CV]  learning_rate=0.01, max_depth=5, n_estimators=1000, score=-9.387099463045849e-08, total=14.6min\n",
      "[CV]  learning_rate=0.5, max_depth=5, n_estimators=120, score=-8.36732842738212e-08, total= 1.4min\n",
      "[CV]  learning_rate=0.01, max_depth=5, n_estimators=1000, score=-7.134132378859451e-08, total=15.2min\n",
      "[CV]  learning_rate=0.01, max_depth=5, n_estimators=1000, score=-8.409591125440332e-08, total=15.3min\n",
      "[CV]  learning_rate=0.1, max_depth=4, n_estimators=1000, score=-8.354611174230761e-08, total= 7.3min\n",
      "[CV]  learning_rate=0.1, max_depth=4, n_estimators=1000, score=-9.429909301533422e-08, total= 7.6min\n",
      "[CV]  learning_rate=0.5, max_depth=2, n_estimators=1000, score=-8.354730256876117e-08, total= 5.7min\n",
      "[CV]  learning_rate=0.1, max_depth=5, n_estimators=1000, score=-9.427868960752258e-08, total= 6.7min\n",
      "[CV]  learning_rate=0.1, max_depth=5, n_estimators=1000, score=-8.353401479776885e-08, total= 6.7min\n",
      "[CV]  learning_rate=0.1, max_depth=4, n_estimators=1000, score=-7.238415364890659e-08, total= 8.1min\n",
      "[CV]  learning_rate=0.5, max_depth=2, n_estimators=1000, score=-7.275165147973185e-08, total= 5.9min\n",
      "[CV]  learning_rate=0.5, max_depth=2, n_estimators=1000, score=-9.409670727513485e-08, total= 6.3min\n",
      "[CV]  learning_rate=0.5, max_depth=3, n_estimators=1000, score=-8.360225351472939e-08, total= 5.4min\n",
      "[CV]  learning_rate=0.5, max_depth=3, n_estimators=1000, score=-7.302624438246881e-08, total= 5.4min\n",
      "[CV]  learning_rate=0.1, max_depth=5, n_estimators=1000, score=-7.240926141854068e-08, total= 7.4min\n",
      "[CV]  learning_rate=0.5, max_depth=3, n_estimators=1000, score=-9.431112360705012e-08, total= 6.0min\n",
      "[CV]  learning_rate=0.5, max_depth=4, n_estimators=1000, score=-7.296419834586098e-08, total= 4.9min\n",
      "[CV]  learning_rate=0.5, max_depth=4, n_estimators=1000, score=-9.426405233661086e-08, total= 5.3min\n",
      "[CV]  learning_rate=0.5, max_depth=4, n_estimators=1000, score=-8.35944364599999e-08, total= 5.1min\n"
     ]
    },
    {
     "name": "stderr",
     "output_type": "stream",
     "text": [
      "[Parallel(n_jobs=-1)]: Done 189 out of 192 | elapsed: 20.7min remaining:   19.8s\n"
     ]
    },
    {
     "name": "stdout",
     "output_type": "stream",
     "text": [
      "[CV]  learning_rate=0.5, max_depth=5, n_estimators=1000, score=-7.30361689937912e-08, total= 4.6min\n",
      "[CV]  learning_rate=0.5, max_depth=5, n_estimators=1000, score=-9.410089017203376e-08, total= 4.9min\n",
      "[CV]  learning_rate=0.5, max_depth=5, n_estimators=1000, score=-8.36732842738212e-08, total= 5.0min\n"
     ]
    },
    {
     "name": "stderr",
     "output_type": "stream",
     "text": [
      "[Parallel(n_jobs=-1)]: Done 192 out of 192 | elapsed: 21.6min finished\n"
     ]
    },
    {
     "data": {
      "text/plain": [
       "GridSearchCV(cv=3, error_score='raise',\n",
       "       estimator=XGBRegressor(base_score=0.5, booster='gbtree', colsample_bylevel=1,\n",
       "       colsample_bytree=1, gamma=0, importance_type='gain',\n",
       "       learning_rate=0.1, max_delta_step=0, max_depth=3,\n",
       "       min_child_weight=1, missing=None, n_estimators=100, n_jobs=1,\n",
       "       nthread=None, objective='reg:linear', random_state=0, reg_alpha=0,\n",
       "       reg_lambda=1, scale_pos_weight=1, seed=None, silent=True,\n",
       "       subsample=1),\n",
       "       fit_params=None, iid=True, n_jobs=-1,\n",
       "       param_grid={'learning_rate': [0.01, 0.05, 0.1, 0.5], 'n_estimators': [80, 100, 120, 1000], 'max_depth': [2, 3, 4, 5]},\n",
       "       pre_dispatch='2*n_jobs', refit=True, return_train_score=True,\n",
       "       scoring='neg_mean_squared_error', verbose=10)"
      ]
     },
     "execution_count": 15,
     "metadata": {},
     "output_type": "execute_result"
    }
   ],
   "source": [
    "param_grid = {\n",
    "    'learning_rate': [0.01, 0.05, 0.1, 0.5],\n",
    "    'n_estimators':  [80, 100, 120, 1000],\n",
    "    'max_depth': [2, 3, 4, 5],\n",
    "}\n",
    "\n",
    "gridsearch = GridSearchCV(XGBRegressor(),\n",
    "                          param_grid=param_grid, \n",
    "                          scoring='neg_mean_squared_error', \n",
    "                          cv=3, n_jobs=-1,\n",
    "                          return_train_score=True, verbose=10)\n",
    "\n",
    "gridsearch.fit(X_train, y_train)"
   ]
  },
  {
   "cell_type": "code",
   "execution_count": 16,
   "metadata": {},
   "outputs": [
    {
     "name": "stdout",
     "output_type": "stream",
     "text": [
      "  Best training score from grid search: 8.245223929419378e-08\n",
      "  Best testing score from grid search:  8.08056339703619e-08\n",
      "Best Grid Search model:\n"
     ]
    },
    {
     "data": {
      "text/plain": [
       "{'learning_rate': 0.1, 'max_depth': 2, 'n_estimators': 100}"
      ]
     },
     "execution_count": 16,
     "metadata": {},
     "output_type": "execute_result"
    }
   ],
   "source": [
    "print('  Best training score from grid search:', -gridsearch.score(X_train, y_train))\n",
    "print('  Best testing score from grid search: ', -gridsearch.score(X_test, y_test))\n",
    "print('Best Grid Search model:')\n",
    "gridsearch.cv_results_['params'][gridsearch.best_index_]"
   ]
  },
  {
   "cell_type": "code",
   "execution_count": 17,
   "metadata": {},
   "outputs": [
    {
     "name": "stdout",
     "output_type": "stream",
     "text": [
      "MSE: 8.08056339703619e-08\n"
     ]
    }
   ],
   "source": [
    "y_pred = gridsearch.predict(X_test)\n",
    "print('MSE:', mean_squared_error(y_test, y_pred))"
   ]
  },
  {
   "cell_type": "code",
   "execution_count": 18,
   "metadata": {},
   "outputs": [],
   "source": [
    "def plot_output(y, y_pred, dataset_type):\n",
    "\n",
    "    fig = plt.figure(figsize=(10, 8))\n",
    "    plt.scatter(np.arange(len(y.flatten())),\n",
    "                 y.flatten(), color='blue');\n",
    "    plt.scatter(np.arange(len(y_pred.flatten())),\n",
    "                 y_pred.flatten(), color='red',\n",
    "                s=1);\n",
    "    plt.xlabel('Sample number', fontsize=16)\n",
    "    plt.ylabel('Risk', fontsize=18)\n",
    "    plt.title(dataset_type + ' dataset', fontsize=18)\n",
    "    plt.legend(labels=['risk', 'predicted risk'], prop={'size': 20})\n",
    "    plt.show()"
   ]
  },
  {
   "cell_type": "code",
   "execution_count": 19,
   "metadata": {},
   "outputs": [
    {
     "data": {
      "text/plain": [
       "3230433"
      ]
     },
     "execution_count": 19,
     "metadata": {},
     "output_type": "execute_result"
    }
   ],
   "source": [
    "len(y_pred)"
   ]
  },
  {
   "cell_type": "code",
   "execution_count": 20,
   "metadata": {},
   "outputs": [
    {
     "ename": "AttributeError",
     "evalue": "module 'matplotlib.pyplot' has no attribute 'x'",
     "output_type": "error",
     "traceback": [
      "\u001b[0;31m---------------------------------------------------------------------------\u001b[0m",
      "\u001b[0;31mAttributeError\u001b[0m                            Traceback (most recent call last)",
      "\u001b[0;32m<ipython-input-20-d699db54ecca>\u001b[0m in \u001b[0;36m<module>\u001b[0;34m()\u001b[0m\n\u001b[0;32m----> 1\u001b[0;31m \u001b[0mplot_output\u001b[0m\u001b[0;34m(\u001b[0m\u001b[0my_test\u001b[0m\u001b[0;34m.\u001b[0m\u001b[0mvalues\u001b[0m\u001b[0;34m,\u001b[0m \u001b[0my_pred\u001b[0m\u001b[0;34m,\u001b[0m \u001b[0;34m'testing'\u001b[0m\u001b[0;34m)\u001b[0m\u001b[0;34m\u001b[0m\u001b[0m\n\u001b[0m",
      "\u001b[0;32m<ipython-input-18-28ec61d87434>\u001b[0m in \u001b[0;36mplot_output\u001b[0;34m(y, y_pred, dataset_type)\u001b[0m\n\u001b[1;32m      9\u001b[0m     \u001b[0mplt\u001b[0m\u001b[0;34m.\u001b[0m\u001b[0mxlabel\u001b[0m\u001b[0;34m(\u001b[0m\u001b[0;34m'Sample number'\u001b[0m\u001b[0;34m,\u001b[0m \u001b[0mfontsize\u001b[0m\u001b[0;34m=\u001b[0m\u001b[0;36m16\u001b[0m\u001b[0;34m)\u001b[0m\u001b[0;34m\u001b[0m\u001b[0m\n\u001b[1;32m     10\u001b[0m     \u001b[0mplt\u001b[0m\u001b[0;34m.\u001b[0m\u001b[0mylabel\u001b[0m\u001b[0;34m(\u001b[0m\u001b[0;34m'Risk'\u001b[0m\u001b[0;34m,\u001b[0m \u001b[0mfontsize\u001b[0m\u001b[0;34m=\u001b[0m\u001b[0;36m18\u001b[0m\u001b[0;34m)\u001b[0m\u001b[0;34m\u001b[0m\u001b[0m\n\u001b[0;32m---> 11\u001b[0;31m     \u001b[0mplt\u001b[0m\u001b[0;34m.\u001b[0m\u001b[0mx\u001b[0m\u001b[0;34m\u001b[0m\u001b[0m\n\u001b[0m\u001b[1;32m     12\u001b[0m     \u001b[0mplt\u001b[0m\u001b[0;34m.\u001b[0m\u001b[0mtitle\u001b[0m\u001b[0;34m(\u001b[0m\u001b[0mdataset_type\u001b[0m \u001b[0;34m+\u001b[0m \u001b[0;34m' dataset'\u001b[0m\u001b[0;34m,\u001b[0m \u001b[0mfontsize\u001b[0m\u001b[0;34m=\u001b[0m\u001b[0;36m18\u001b[0m\u001b[0;34m)\u001b[0m\u001b[0;34m\u001b[0m\u001b[0m\n\u001b[1;32m     13\u001b[0m     \u001b[0mplt\u001b[0m\u001b[0;34m.\u001b[0m\u001b[0mlegend\u001b[0m\u001b[0;34m(\u001b[0m\u001b[0mlabels\u001b[0m\u001b[0;34m=\u001b[0m\u001b[0;34m[\u001b[0m\u001b[0;34m'risk'\u001b[0m\u001b[0;34m,\u001b[0m \u001b[0;34m'predicted risk'\u001b[0m\u001b[0;34m]\u001b[0m\u001b[0;34m,\u001b[0m \u001b[0mprop\u001b[0m\u001b[0;34m=\u001b[0m\u001b[0;34m{\u001b[0m\u001b[0;34m'size'\u001b[0m\u001b[0;34m:\u001b[0m \u001b[0;36m20\u001b[0m\u001b[0;34m}\u001b[0m\u001b[0;34m)\u001b[0m\u001b[0;34m\u001b[0m\u001b[0m\n",
      "\u001b[0;31mAttributeError\u001b[0m: module 'matplotlib.pyplot' has no attribute 'x'"
     ]
    },
    {
     "data": {
      "image/png": "[encoded data removed]",
      "text/plain": [
       "<Figure size 720x576 with 1 Axes>"
      ]
     },
     "metadata": {},
     "output_type": "display_data"
    }
   ],
   "source": [
    "plot_output(y_test.values, y_pred, 'testing')"
   ]
  },
  {
   "cell_type": "code",
   "execution_count": null,
   "metadata": {},
   "outputs": [],
   "source": [
    "y_test.value_counts()"
   ]
  },
  {
   "cell_type": "markdown",
   "metadata": {},
   "source": [
    "## TPOT"
   ]
  },
  {
   "cell_type": "code",
   "execution_count": null,
   "metadata": {},
   "outputs": [],
   "source": [
    "from tpot import TPOTRegressor"
   ]
  },
  {
   "cell_type": "code",
   "execution_count": null,
   "metadata": {},
   "outputs": [],
   "source": [
    "# %%time\n",
    "\n",
    "# tpot = TPOTRegressor(generations=10, population_size=10, verbosity=2)\n",
    "# tpot.fit(X_train, y_train)\n",
    "# print(tpot.score(X_test, y_test))"
   ]
  },
  {
   "cell_type": "code",
   "execution_count": null,
   "metadata": {},
   "outputs": [],
   "source": [
    "y_val_predict = tpot.predict(X_val)\n",
    "mean_squared_error(y_val, y_val_predict)"
   ]
  },
  {
   "cell_type": "markdown",
   "metadata": {},
   "source": [
    "## Update database with model predictions"
   ]
  },
  {
   "cell_type": "code",
   "execution_count": null,
   "metadata": {},
   "outputs": [],
   "source": [
    "# # MODEL PREDICTION HERE\n",
    "\n",
    "# # Put predictions into pandas DataFrame with corresponding block id\n",
    "# predictions = pd.DataFrame([[x] for x in list(block_ids)], columns=[\"id\"])\n",
    "\n",
    "# block_ids = {}\n",
    "# for i in range(X.shape[0]):\n",
    "#     block_ids[X.loc[i, 'blockid']] = i\n",
    "\n",
    "# predictions.loc[:, \"prediction\"] = predictions[\"id\"].apply(lambda x: y_pred[block_ids[x],:].tobytes().hex())\n",
    "# predictions.loc[:, \"month\"] = PREDICTION_START_MONTH\n",
    "# predictions.loc[:, \"year\"] = PREDICTION_START_YEAR\n",
    "\n",
    "# predictions.to_csv(\"predictions.csv\", index=False)\n",
    "\n",
    "# query_commit_predictions = '''\n",
    "# CREATE TEMPORARY TABLE temp_predictions (\n",
    "#     id SERIAL PRIMARY KEY,\n",
    "#     prediction TEXT,\n",
    "#     month INTEGER,\n",
    "#     year INTEGER\n",
    "# );\n",
    "\n",
    "# COPY temp_predictions (id, prediction) FROM STDIN DELIMITER ',' CSV HEADER;\n",
    "\n",
    "# UPDATE block\n",
    "# SET \n",
    "#     prediction = temp_predictions.prediction::BYTEA,\n",
    "#     month = temp_predictions.month,\n",
    "#     year = temp_predictions.year \n",
    "# FROM temp_predictions\n",
    "# WHERE block.id = temp_predictions.id;\n",
    "\n",
    "# DROP TABLE temp_predictions;\n",
    "# '''\n",
    "\n",
    "# # Open saved predictions and send to database using above query\n",
    "# with open(\"predictions.csv\", \"r\") as f:\n",
    "#     RAW_CONN = create_engine(DB_URI).raw_connection()\n",
    "#     cursor = RAW_CONN.cursor()\n",
    "#     cursor.copy_expert(query_commit_predictions, f)\n",
    "#     RAW_CONN.commit()\n",
    "#     RAW_CONN.close()\n",
    "    \n",
    "# for r in SESSION.execute(\"SELECT prediction FROM block LIMIT 5;\").fetchall():\n",
    "#     print(r[0])"
   ]
  },
  {
   "cell_type": "code",
   "execution_count": null,
   "metadata": {},
   "outputs": [],
   "source": []
  },
  {
   "cell_type": "code",
   "execution_count": null,
   "metadata": {},
   "outputs": [],
   "source": []
  }
 ],
 "metadata": {
  "kernelspec": {
   "display_name": "conda_tensorflow_p36",
   "language": "python",
   "name": "conda_tensorflow_p36"
  },
  "language_info": {
   "codemirror_mode": {
    "name": "ipython",
    "version": 3
   },
   "file_extension": ".py",
   "mimetype": "text/x-python",
   "name": "python",
   "nbconvert_exporter": "python",
   "pygments_lexer": "ipython3",
   "version": "3.6.5"
  }
 },
 "nbformat": 4,
 "nbformat_minor": 2
}
