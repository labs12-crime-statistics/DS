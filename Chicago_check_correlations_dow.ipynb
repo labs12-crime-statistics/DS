{
 "cells": [
  {
   "cell_type": "code",
   "execution_count": 1,
   "metadata": {},
   "outputs": [
    {
     "name": "stdout",
     "output_type": "stream",
     "text": [
      "Requirement already up-to-date: pip in /home/ec2-user/anaconda3/envs/tensorflow_p36/lib/python3.6/site-packages (19.1.1)\n",
      "Requirement already satisfied: python-decouple in /home/ec2-user/anaconda3/envs/tensorflow_p36/lib/python3.6/site-packages (3.1)\n",
      "Requirement already satisfied: geoalchemy2 in /home/ec2-user/anaconda3/envs/tensorflow_p36/lib/python3.6/site-packages (0.6.2)\n",
      "Requirement already satisfied: SQLAlchemy>=0.8 in /home/ec2-user/anaconda3/envs/tensorflow_p36/lib/python3.6/site-packages (from geoalchemy2) (1.2.11)\n",
      "Requirement already satisfied: shapely in /home/ec2-user/anaconda3/envs/tensorflow_p36/lib/python3.6/site-packages (1.6.4.post2)\n",
      "Requirement already satisfied: scipy in /home/ec2-user/anaconda3/envs/tensorflow_p36/lib/python3.6/site-packages (1.1.0)\n",
      "Requirement already satisfied: hyperas in /home/ec2-user/anaconda3/envs/tensorflow_p36/lib/python3.6/site-packages (0.4.1)\n",
      "Requirement already satisfied: jupyter in /home/ec2-user/anaconda3/envs/tensorflow_p36/lib/python3.6/site-packages (from hyperas) (1.0.0)\n",
      "Requirement already satisfied: entrypoints in /home/ec2-user/anaconda3/envs/tensorflow_p36/lib/python3.6/site-packages (from hyperas) (0.2.3)\n",
      "Requirement already satisfied: nbformat in /home/ec2-user/anaconda3/envs/tensorflow_p36/lib/python3.6/site-packages (from hyperas) (4.4.0)\n",
      "Requirement already satisfied: nbconvert in /home/ec2-user/anaconda3/envs/tensorflow_p36/lib/python3.6/site-packages (from hyperas) (5.4.1)\n",
      "Requirement already satisfied: hyperopt in /home/ec2-user/anaconda3/envs/tensorflow_p36/lib/python3.6/site-packages (from hyperas) (0.1.2)\n",
      "Requirement already satisfied: keras in /home/ec2-user/anaconda3/envs/tensorflow_p36/lib/python3.6/site-packages (from hyperas) (2.2.4)\n",
      "Requirement already satisfied: notebook in /home/ec2-user/anaconda3/envs/tensorflow_p36/lib/python3.6/site-packages (from jupyter->hyperas) (5.5.0)\n",
      "Requirement already satisfied: qtconsole in /home/ec2-user/anaconda3/envs/tensorflow_p36/lib/python3.6/site-packages (from jupyter->hyperas) (4.3.1)\n",
      "Requirement already satisfied: jupyter-console in /home/ec2-user/anaconda3/envs/tensorflow_p36/lib/python3.6/site-packages (from jupyter->hyperas) (5.2.0)\n",
      "Requirement already satisfied: ipykernel in /home/ec2-user/anaconda3/envs/tensorflow_p36/lib/python3.6/site-packages (from jupyter->hyperas) (4.8.2)\n",
      "Requirement already satisfied: ipywidgets in /home/ec2-user/anaconda3/envs/tensorflow_p36/lib/python3.6/site-packages (from jupyter->hyperas) (7.4.0)\n",
      "Requirement already satisfied: ipython_genutils in /home/ec2-user/anaconda3/envs/tensorflow_p36/lib/python3.6/site-packages (from nbformat->hyperas) (0.2.0)\n",
      "Requirement already satisfied: traitlets>=4.1 in /home/ec2-user/anaconda3/envs/tensorflow_p36/lib/python3.6/site-packages (from nbformat->hyperas) (4.3.2)\n",
      "Requirement already satisfied: jsonschema!=2.5.0,>=2.4 in /home/ec2-user/anaconda3/envs/tensorflow_p36/lib/python3.6/site-packages (from nbformat->hyperas) (2.6.0)\n",
      "Requirement already satisfied: jupyter_core in /home/ec2-user/anaconda3/envs/tensorflow_p36/lib/python3.6/site-packages (from nbformat->hyperas) (4.4.0)\n",
      "Requirement already satisfied: mistune>=0.8.1 in /home/ec2-user/anaconda3/envs/tensorflow_p36/lib/python3.6/site-packages (from nbconvert->hyperas) (0.8.3)\n",
      "Requirement already satisfied: jinja2 in /home/ec2-user/anaconda3/envs/tensorflow_p36/lib/python3.6/site-packages (from nbconvert->hyperas) (2.10)\n",
      "Requirement already satisfied: pygments in /home/ec2-user/anaconda3/envs/tensorflow_p36/lib/python3.6/site-packages (from nbconvert->hyperas) (2.2.0)\n",
      "Requirement already satisfied: bleach in /home/ec2-user/anaconda3/envs/tensorflow_p36/lib/python3.6/site-packages (from nbconvert->hyperas) (2.1.3)\n",
      "Requirement already satisfied: pandocfilters>=1.4.1 in /home/ec2-user/anaconda3/envs/tensorflow_p36/lib/python3.6/site-packages (from nbconvert->hyperas) (1.4.2)\n",
      "Requirement already satisfied: testpath in /home/ec2-user/anaconda3/envs/tensorflow_p36/lib/python3.6/site-packages (from nbconvert->hyperas) (0.3.1)\n",
      "Requirement already satisfied: defusedxml in /home/ec2-user/anaconda3/envs/tensorflow_p36/lib/python3.6/site-packages (from nbconvert->hyperas) (0.5.0)\n",
      "Requirement already satisfied: networkx in /home/ec2-user/anaconda3/envs/tensorflow_p36/lib/python3.6/site-packages (from hyperopt->hyperas) (2.1)\n",
      "Requirement already satisfied: tqdm in /home/ec2-user/anaconda3/envs/tensorflow_p36/lib/python3.6/site-packages (from hyperopt->hyperas) (4.32.1)\n",
      "Requirement already satisfied: numpy in /home/ec2-user/anaconda3/envs/tensorflow_p36/lib/python3.6/site-packages (from hyperopt->hyperas) (1.15.4)\n",
      "Requirement already satisfied: future in /home/ec2-user/anaconda3/envs/tensorflow_p36/lib/python3.6/site-packages (from hyperopt->hyperas) (0.17.1)\n",
      "Requirement already satisfied: pymongo in /home/ec2-user/anaconda3/envs/tensorflow_p36/lib/python3.6/site-packages (from hyperopt->hyperas) (3.8.0)\n",
      "Requirement already satisfied: six in /home/ec2-user/anaconda3/envs/tensorflow_p36/lib/python3.6/site-packages (from hyperopt->hyperas) (1.11.0)\n",
      "Requirement already satisfied: scipy in /home/ec2-user/anaconda3/envs/tensorflow_p36/lib/python3.6/site-packages (from hyperopt->hyperas) (1.1.0)\n",
      "Requirement already satisfied: h5py in /home/ec2-user/anaconda3/envs/tensorflow_p36/lib/python3.6/site-packages (from keras->hyperas) (2.8.0)\n",
      "Requirement already satisfied: keras-preprocessing>=1.0.5 in /home/ec2-user/anaconda3/envs/tensorflow_p36/lib/python3.6/site-packages (from keras->hyperas) (1.0.9)\n",
      "Requirement already satisfied: pyyaml in /home/ec2-user/anaconda3/envs/tensorflow_p36/lib/python3.6/site-packages (from keras->hyperas) (3.12)\n",
      "Requirement already satisfied: keras-applications>=1.0.6 in /home/ec2-user/anaconda3/envs/tensorflow_p36/lib/python3.6/site-packages (from keras->hyperas) (1.0.7)\n",
      "Requirement already satisfied: tornado>=4 in /home/ec2-user/anaconda3/envs/tensorflow_p36/lib/python3.6/site-packages (from notebook->jupyter->hyperas) (5.0.2)\n",
      "Requirement already satisfied: jupyter-client>=5.2.0 in /home/ec2-user/anaconda3/envs/tensorflow_p36/lib/python3.6/site-packages (from notebook->jupyter->hyperas) (5.2.3)\n",
      "Requirement already satisfied: pyzmq>=17 in /home/ec2-user/anaconda3/envs/tensorflow_p36/lib/python3.6/site-packages (from notebook->jupyter->hyperas) (17.0.0)\n",
      "Requirement already satisfied: terminado>=0.8.1 in /home/ec2-user/anaconda3/envs/tensorflow_p36/lib/python3.6/site-packages (from notebook->jupyter->hyperas) (0.8.1)\n",
      "Requirement already satisfied: Send2Trash in /home/ec2-user/anaconda3/envs/tensorflow_p36/lib/python3.6/site-packages (from notebook->jupyter->hyperas) (1.5.0)\n",
      "Requirement already satisfied: ipython in /home/ec2-user/anaconda3/envs/tensorflow_p36/lib/python3.6/site-packages (from jupyter-console->jupyter->hyperas) (6.4.0)\n",
      "Requirement already satisfied: prompt_toolkit<2.0.0,>=1.0.0 in /home/ec2-user/anaconda3/envs/tensorflow_p36/lib/python3.6/site-packages (from jupyter-console->jupyter->hyperas) (1.0.15)\n",
      "Requirement already satisfied: widgetsnbextension~=3.4.0 in /home/ec2-user/anaconda3/envs/tensorflow_p36/lib/python3.6/site-packages (from ipywidgets->jupyter->hyperas) (3.4.2)\n",
      "Requirement already satisfied: decorator in /home/ec2-user/anaconda3/envs/tensorflow_p36/lib/python3.6/site-packages (from traitlets>=4.1->nbformat->hyperas) (4.3.0)\n",
      "Requirement already satisfied: MarkupSafe>=0.23 in /home/ec2-user/anaconda3/envs/tensorflow_p36/lib/python3.6/site-packages (from jinja2->nbconvert->hyperas) (1.0)\n",
      "Requirement already satisfied: html5lib!=1.0b1,!=1.0b2,!=1.0b3,!=1.0b4,!=1.0b5,!=1.0b6,!=1.0b7,!=1.0b8,>=0.99999999pre in /home/ec2-user/anaconda3/envs/tensorflow_p36/lib/python3.6/site-packages (from bleach->nbconvert->hyperas) (1.0.1)\n",
      "Requirement already satisfied: python-dateutil>=2.1 in /home/ec2-user/anaconda3/envs/tensorflow_p36/lib/python3.6/site-packages (from jupyter-client>=5.2.0->notebook->jupyter->hyperas) (2.7.3)\n",
      "Requirement already satisfied: setuptools>=18.5 in /home/ec2-user/anaconda3/envs/tensorflow_p36/lib/python3.6/site-packages (from ipython->jupyter-console->jupyter->hyperas) (39.1.0)\n",
      "Requirement already satisfied: simplegeneric>0.8 in /home/ec2-user/anaconda3/envs/tensorflow_p36/lib/python3.6/site-packages (from ipython->jupyter-console->jupyter->hyperas) (0.8.1)\n",
      "Requirement already satisfied: pexpect; sys_platform != \"win32\" in /home/ec2-user/anaconda3/envs/tensorflow_p36/lib/python3.6/site-packages (from ipython->jupyter-console->jupyter->hyperas) (4.5.0)\n",
      "Requirement already satisfied: backcall in /home/ec2-user/anaconda3/envs/tensorflow_p36/lib/python3.6/site-packages (from ipython->jupyter-console->jupyter->hyperas) (0.1.0)\n",
      "Requirement already satisfied: jedi>=0.10 in /home/ec2-user/anaconda3/envs/tensorflow_p36/lib/python3.6/site-packages (from ipython->jupyter-console->jupyter->hyperas) (0.12.0)\n",
      "Requirement already satisfied: pickleshare in /home/ec2-user/anaconda3/envs/tensorflow_p36/lib/python3.6/site-packages (from ipython->jupyter-console->jupyter->hyperas) (0.7.4)\n"
     ]
    },
    {
     "name": "stdout",
     "output_type": "stream",
     "text": [
      "Requirement already satisfied: wcwidth in /home/ec2-user/anaconda3/envs/tensorflow_p36/lib/python3.6/site-packages (from prompt_toolkit<2.0.0,>=1.0.0->jupyter-console->jupyter->hyperas) (0.1.7)\r\n",
      "Requirement already satisfied: webencodings in /home/ec2-user/anaconda3/envs/tensorflow_p36/lib/python3.6/site-packages (from html5lib!=1.0b1,!=1.0b2,!=1.0b3,!=1.0b4,!=1.0b5,!=1.0b6,!=1.0b7,!=1.0b8,>=0.99999999pre->bleach->nbconvert->hyperas) (0.5.1)\r\n",
      "Requirement already satisfied: ptyprocess>=0.5 in /home/ec2-user/anaconda3/envs/tensorflow_p36/lib/python3.6/site-packages (from pexpect; sys_platform != \"win32\"->ipython->jupyter-console->jupyter->hyperas) (0.5.2)\r\n",
      "Requirement already satisfied: parso>=0.2.0 in /home/ec2-user/anaconda3/envs/tensorflow_p36/lib/python3.6/site-packages (from jedi>=0.10->ipython->jupyter-console->jupyter->hyperas) (0.2.0)\r\n"
     ]
    }
   ],
   "source": [
    "!pip install --upgrade pip\n",
    "!pip install python-decouple\n",
    "!pip install geoalchemy2\n",
    "!pip install shapely\n",
    "!pip install scipy\n",
    "!pip install hyperas"
   ]
  },
  {
   "cell_type": "code",
   "execution_count": 2,
   "metadata": {},
   "outputs": [
    {
     "name": "stderr",
     "output_type": "stream",
     "text": [
      "Using TensorFlow backend.\n"
     ]
    }
   ],
   "source": [
    "from sqlalchemy import create_engine, func, text\n",
    "from sqlalchemy.orm import sessionmaker\n",
    "from decouple import config\n",
    "from shapely import wkb, wkt\n",
    "from shapely.geometry import Point\n",
    "from geoalchemy2.shape import to_shape \n",
    "\n",
    "import pandas as pd\n",
    "import numpy as np\n",
    "import json\n",
    "from datetime import datetime, timedelta\n",
    "import re\n",
    "from matplotlib import pyplot as plt\n",
    "import random\n",
    "\n",
    "from sklearn.preprocessing import RobustScaler\n",
    "from keras.models import Sequential\n",
    "from keras.layers import LSTM, Dense\n",
    "from sklearn.model_selection import GridSearchCV\n",
    "\n",
    "from hyperas.distributions import uniform\n",
    "\n",
    "\n",
    "\n",
    "# ----------- TODO: Issues with importing imbalance-learn library\n",
    "# from imblearn.over_sampling import RandomOverSampler\n",
    "# from imblearn.under_sampling import NearMiss\n",
    "# from imblearn.under_sampling import (RandomUnderSampler,\n",
    "#                                      ClusterCentroids,\n",
    "#                                      TomekLinks,\n",
    "#                                      NeighbourhoodCleaningRule,\n",
    "#                                      NearMiss)"
   ]
  },
  {
   "cell_type": "code",
   "execution_count": 3,
   "metadata": {},
   "outputs": [],
   "source": [
    "\"\"\"Contains models for DB.\"\"\"\n",
    "\n",
    "from sqlalchemy.ext.declarative import declarative_base\n",
    "from sqlalchemy import Column, BigInteger, Integer, String, DateTime, ForeignKey, Float\n",
    "from sqlalchemy.orm import relationship\n",
    "from geoalchemy2 import Geometry\n",
    "\n",
    "\n",
    "BASE = declarative_base()\n",
    "\n",
    "\n",
    "class City(BASE):\n",
    "    \"\"\"City model for DB. Has information of cities.\"\"\"\n",
    "    __tablename__ = 'city'\n",
    "    id            = Column(BigInteger, primary_key=True)\n",
    "    city          = Column(String, unique=False, nullable=False)\n",
    "    state         = Column(String, unique=False, nullable=True)\n",
    "    country       = Column(String, unique=False, nullable=False)\n",
    "    location      = Column(Geometry(geometry_type='POINT'), nullable=False)\n",
    "    blocks        = relationship(\"Blocks\", back_populates=\"city\")\n",
    "    zipcodes      = relationship(\"ZipcodeGeom\", back_populates=\"city\")\n",
    "    incidents     = relationship(\"Incident\", back_populates=\"city\")\n",
    "\n",
    "\n",
    "class Blocks(BASE):\n",
    "    \"\"\"Block model for DB. Has information of city blocks for a related city\n",
    "        id.\"\"\"\n",
    "    __tablename__ = 'block'\n",
    "    id            = Column(BigInteger, primary_key=True)\n",
    "    cityid        = Column(BigInteger, ForeignKey('city.id'), nullable=False)\n",
    "    shape         = Column(Geometry(geometry_type='MULTIPOLYGON'), nullable=False)\n",
    "    population    = Column(Integer, nullable=False)\n",
    "    city          = relationship(\"City\", back_populates=\"blocks\")\n",
    "    incidents     = relationship(\"Incident\", back_populates=\"block\")\n",
    "\n",
    "class ZipcodeGeom(BASE):\n",
    "    \"\"\"Zipcode geometry model for DB. Has information of zipcodes and related\n",
    "        city id.\"\"\"\n",
    "    __tablename__ = 'zipcodegeom'\n",
    "    id            = Column(BigInteger, primary_key=True)\n",
    "    cityid        = Column(BigInteger, ForeignKey('city.id'), nullable=False)\n",
    "    zipcode       = Column(String, nullable=False, unique=True)\n",
    "    shape         = Column(Geometry(geometry_type='MULTIPOLYGON'), nullable=False)\n",
    "    city          = relationship(\"City\", back_populates=\"zipcodes\")\n",
    "\n",
    "class Incident(BASE):\n",
    "    \"\"\"Incident model for DB. Has information of a specific crime, including\n",
    "        where it took place, when it took place, and the type of crime that\n",
    "        occurred.\"\"\"\n",
    "    __tablename__ = 'incident'\n",
    "    id            = Column(BigInteger, primary_key=True)\n",
    "    crimetypeid   = Column(BigInteger, ForeignKey('crimetype.id'), nullable=False)\n",
    "    locdescid     = Column(BigInteger, ForeignKey('locdesctype.id'), nullable=False)\n",
    "    cityid        = Column(BigInteger, ForeignKey('city.id'), nullable=False)\n",
    "    blockid       = Column(BigInteger, ForeignKey('block.id'), nullable=False)\n",
    "    location      = Column(Geometry(geometry_type='POINT'), nullable=False)\n",
    "    datetime      = Column(DateTime, nullable=False)\n",
    "    hour          = Column(Integer, nullable=False)\n",
    "    dow           = Column(Integer, nullable=False)\n",
    "    month         = Column(Integer, nullable=False)\n",
    "    year          = Column(Integer, nullable=False)\n",
    "    city          = relationship(\"City\", back_populates=\"incidents\")\n",
    "    block         = relationship(\"Blocks\", back_populates=\"incidents\")\n",
    "    crimetype     = relationship(\"CrimeType\", back_populates=\"incidents\")\n",
    "    locationdesc  = relationship(\"LocationDescriptionType\", back_populates=\"incidents\")\n",
    "\n",
    "class CrimeType(BASE):\n",
    "    \"\"\"CrimeType model for DB. Has information of the types of crime, including\n",
    "        a general description and the numerical severity of the crime.\"\"\"\n",
    "    __tablename__ = 'crimetype'\n",
    "    id            = Column(BigInteger, primary_key=True)\n",
    "    category      = Column(String, unique=True, nullable=False)\n",
    "    severity      = Column(Integer, nullable=False)\n",
    "    incidents     = relationship(\"Incident\", back_populates=\"crimetype\")\n",
    "\n",
    "\n",
    "class LocationDescriptionType(BASE):\n",
    "    \"\"\"Location description model for DB. Has information on the type of\n",
    "        location that the crime took place.\"\"\"\n",
    "    __tablename__ = 'locdesctype'\n",
    "    id            = Column(BigInteger, primary_key=True)\n",
    "    key1          = Column(String, nullable=False)\n",
    "    key2          = Column(String, nullable=False)\n",
    "    key3          = Column(String, nullable=False)\n",
    "    incidents     = relationship(\"Incident\", back_populates=\"locationdesc\")"
   ]
  },
  {
   "cell_type": "code",
   "execution_count": 4,
   "metadata": {},
   "outputs": [],
   "source": [
    "class GetData(object):\n",
    "    def go(self, SESSION, start_year, end_year):\n",
    "        SQL_QUERY = \\\n",
    "            f'''\n",
    "                WITH\n",
    "                    max_severity AS (\n",
    "                        SELECT MAX(severity) AS severity\n",
    "                        FROM (\n",
    "                            SELECT SUM(crimetype.severity)/AVG(block.population) AS severity\n",
    "                            FROM incident\n",
    "                            INNER JOIN block ON incident.blockid = block.id INNER JOIN crimetype ON incident.crimetypeid = crimetype.id AND block.population > 0\n",
    "                            GROUP BY\n",
    "                                incident.blockid,\n",
    "                                incident.year,\n",
    "                                incident.month,\n",
    "                                incident.dow\n",
    "                        ) AS categories\n",
    "                    ),\n",
    "                    block_incidents AS (\n",
    "                        SELECT\n",
    "                            incident.blockid,\n",
    "                            incident.year,\n",
    "                            incident.month,\n",
    "                            incident.dow,\n",
    "                            SUM(crimetype.severity)/AVG(block.population) AS severity\n",
    "                        FROM incident\n",
    "                        INNER JOIN block ON incident.blockid = block.id\n",
    "                        INNER JOIN crimetype ON incident.crimetypeid = crimetype.id\n",
    "                            AND block.population > 0\n",
    "                            AND incident.cityid = 1\n",
    "                            AND incident.year >= {start_year}\n",
    "                            AND incident.year <= {end_year}\n",
    "                        GROUP BY\n",
    "                            incident.blockid,\n",
    "                            incident.year,\n",
    "                            incident.month,\n",
    "                            incident.dow\n",
    "                    )\n",
    "                SELECT\n",
    "                    block_incidents.blockid,\n",
    "                    block_incidents.year,\n",
    "                    block_incidents.month,\n",
    "                    block_incidents.dow,\n",
    "                    block_incidents.severity/max_severity.severity AS severity\n",
    "                FROM block_incidents, max_severity        \n",
    "            '''\n",
    "        return SESSION.execute(text(SQL_QUERY)).fetchall()"
   ]
  },
  {
   "cell_type": "code",
   "execution_count": 5,
   "metadata": {},
   "outputs": [],
   "source": [
    "def process_data(data, start_year, end_year, blockid_dict):\n",
    "\n",
    "    X = np.zeros((len(blockid_dict), 24, 7))\n",
    "    y = np.zeros((len(blockid_dict), 12, 7))\n",
    "    \n",
    "    # records is the list of rows we get from the query with this order:\n",
    "    #   blockid, year, month, dow, hour, risk\n",
    "    #   month is from 1 - 12\n",
    "\n",
    "    for r in data:\n",
    "        if r[0] in blockid_dict:\n",
    "            if r[1] == end_year:\n",
    "                # index into array  0-based month\n",
    "                # vvvvvvvvvvvvvvvv    vvvvvv\n",
    "                y[blockid_dict[r[0]], r[2]-1, r[3]] = float(r[4])\n",
    "                #                             ^^^^^^^^^^^^^   ^^^^\n",
    "                #                             hours since     risk\n",
    "                #                             beginning of\n",
    "                #                             week\n",
    "            else:\n",
    "                # month, year = get_month_year(datetime)\n",
    "                # index into array    year 0.....1   month   \n",
    "                # vvvvvvvvvvvvvvvv    vvvvvvvvvvvvv  vvvvvv\n",
    "                X[blockid_dict[r[0]], 12*(r[1]-start_year)+r[2]-1, r[3]] = float(r[4])\n",
    "                #                                                  ^^^^^^^^^^^^^   ^^^^\n",
    "                #                                                  hours since     risk\n",
    "                #                                                  beginning of\n",
    "                #                                                  week\n",
    "\n",
    "\n",
    "    X = X * 1000\n",
    "    y = y * 1000\n",
    "\n",
    "    #     for i in range(24):\n",
    "    #         X[:, i, -1] = (start_year*12+i) / (2000 * 12)\n",
    "        \n",
    "    return X, y"
   ]
  },
  {
   "cell_type": "code",
   "execution_count": 6,
   "metadata": {},
   "outputs": [],
   "source": [
    "from contextlib import contextmanager\n",
    "\n",
    "@contextmanager\n",
    "def session_scope():\n",
    "    \"\"\"Provide a transactional scope around a series of operations.\"\"\"\n",
    "\n",
    "    DB_URI  = config('DB_URI')\n",
    "    ENGINE  = create_engine(DB_URI)\n",
    "    Session = sessionmaker(bind=ENGINE)\n",
    "    SESSION = Session()\n",
    "    \n",
    "    try:\n",
    "        yield SESSION\n",
    "        SESSION.commit()\n",
    "    except:\n",
    "        SESSION.rollback()\n",
    "        raise\n",
    "    finally:\n",
    "        SESSION.close()\n",
    "\n",
    "\n",
    "def ready_data(training_start_year, training_end_year, train_blockid_dict,\n",
    "               testing_start_year, testing_end_year, test_blockid_dict):\n",
    "    with session_scope() as session:\n",
    "        training_data = GetData().go(session,\n",
    "                                     training_start_year,\n",
    "                                     training_end_year)\n",
    "        testing_data = GetData().go(session,\n",
    "                                     testing_start_year,\n",
    "                                     testing_end_year)\n",
    "        \n",
    "        X_train, y_train = process_data(training_data,\n",
    "                                        training_start_year, \n",
    "                                        training_end_year,\n",
    "                                        train_blockid_dict)\n",
    "        X_test, y_test = process_data(testing_data,\n",
    "                                      testing_start_year, \n",
    "                                      testing_end_year,\n",
    "                                      test_blockid_dict)\n",
    "\n",
    "    return X_train, X_test, y_train, y_test"
   ]
  },
  {
   "cell_type": "code",
   "execution_count": 9,
   "metadata": {},
   "outputs": [
    {
     "name": "stderr",
     "output_type": "stream",
     "text": [
      "/home/ec2-user/anaconda3/envs/tensorflow_p36/lib/python3.6/site-packages/psycopg2/__init__.py:144: UserWarning: The psycopg2 wheel package will be renamed from release 2.8; in order to keep installing from binary please use \"pip install psycopg2-binary\" instead. For details see: <http://initd.org/psycopg/docs/install.html#binary-install-from-pypi>.\n",
      "  \"\"\")\n"
     ]
    },
    {
     "name": "stdout",
     "output_type": "stream",
     "text": [
      "(800, 24, 7) (800, 12, 7) (800, 24, 7) (800, 12, 7)\n",
      "CPU times: user 1.74 s, sys: 59 ms, total: 1.8 s\n",
      "Wall time: 24.4 s\n"
     ]
    }
   ],
   "source": [
    "%%time\n",
    "\n",
    "# start month = 3, end_month = 2 (months are 0-indexed)\n",
    "#   X: 4/2017 -> 3/2019 actual date\n",
    "#   y: 4/2019 -> 3/2020 actual date\n",
    "#\n",
    "X_test_start_month = 0\n",
    "X_test_end_month   = 0\n",
    "X_test_start_year  = 2016\n",
    "X_test_end_year    = 2018\n",
    "\n",
    "TRAIN_NUM_BLOCKIDS = TEST_NUM_BLOCKIDS = 800\n",
    "\n",
    "TRAIN_BLOCKIDS = random.sample(list(range(1,802)), k=TRAIN_NUM_BLOCKIDS)   \n",
    "train_blockid_dict = {}\n",
    "for ind, blockid in enumerate(TRAIN_BLOCKIDS ):\n",
    "    train_blockid_dict[blockid] = ind\n",
    "        \n",
    "TEST_BLOCKIDS = random.sample(list(range(1,802)), k=TEST_NUM_BLOCKIDS)    \n",
    "test_blockid_dict = {}\n",
    "for ind, blockid in enumerate(TEST_BLOCKIDS ):\n",
    "    test_blockid_dict[blockid] = ind\n",
    "\n",
    "X_train, X_test, y_train, y_test = ready_data(2015, 2017, train_blockid_dict,\n",
    "                                              X_test_start_year, X_test_end_year, test_blockid_dict)\n",
    "\n",
    "print(X_train.shape, y_train.shape, X_test.shape, y_test.shape)"
   ]
  },
  {
   "cell_type": "code",
   "execution_count": 10,
   "metadata": {},
   "outputs": [
    {
     "data": {
      "text/plain": [
       "117609"
      ]
     },
     "execution_count": 10,
     "metadata": {},
     "output_type": "execute_result"
    }
   ],
   "source": [
    "x_flat = X_test.flatten()\n",
    "len(x_flat[x_flat > 0.0])"
   ]
  },
  {
   "cell_type": "code",
   "execution_count": 11,
   "metadata": {},
   "outputs": [
    {
     "data": {
      "text/plain": [
       "0.8750669642857143"
      ]
     },
     "execution_count": 11,
     "metadata": {},
     "output_type": "execute_result"
    }
   ],
   "source": [
    "len(x_flat[x_flat > 0.0])/len(x_flat)"
   ]
  },
  {
   "cell_type": "code",
   "execution_count": 12,
   "metadata": {},
   "outputs": [
    {
     "data": {
      "text/plain": [
       "<matplotlib.axes._subplots.AxesSubplot at 0x7f47ec374048>"
      ]
     },
     "execution_count": 12,
     "metadata": {},
     "output_type": "execute_result"
    },
    {
     "data": {
      "image/png": "[encoded data removed]",
      "text/plain": [
       "<Figure size 432x288 with 1 Axes>"
      ]
     },
     "metadata": {},
     "output_type": "display_data"
    }
   ],
   "source": [
    "pd.Series(x_flat).hist()"
   ]
  },
  {
   "cell_type": "code",
   "execution_count": 13,
   "metadata": {},
   "outputs": [
    {
     "data": {
      "text/plain": [
       "0.000000    16791\n",
       "0.341880      115\n",
       "0.535906      111\n",
       "0.647249       99\n",
       "0.472144       90\n",
       "0.693001       82\n",
       "0.464253       81\n",
       "0.390549       79\n",
       "1.618123       75\n",
       "0.366300       74\n",
       "0.267953       72\n",
       "1.078749       72\n",
       "0.857633       72\n",
       "0.137826       70\n",
       "0.944287       68\n",
       "0.599520       66\n",
       "0.289352       66\n",
       "0.439754       64\n",
       "0.582751       64\n",
       "1.294498       63\n",
       "0.291121       63\n",
       "1.307190       62\n",
       "0.393082       62\n",
       "0.761035       62\n",
       "0.416146       61\n",
       "0.693481       61\n",
       "0.571755       61\n",
       "0.401929       60\n",
       "0.268168       60\n",
       "0.803859       60\n",
       "            ...  \n",
       "3.807418        1\n",
       "2.367119        1\n",
       "0.183251        1\n",
       "3.533677        1\n",
       "1.359690        1\n",
       "1.777101        1\n",
       "3.336068        1\n",
       "4.423381        1\n",
       "4.398021        1\n",
       "3.592814        1\n",
       "2.336722        1\n",
       "1.517660        1\n",
       "1.457372        1\n",
       "1.789709        1\n",
       "4.617414        1\n",
       "3.405370        1\n",
       "0.691460        1\n",
       "3.233891        1\n",
       "1.698420        1\n",
       "1.544799        1\n",
       "2.287378        1\n",
       "1.085019        1\n",
       "1.022181        1\n",
       "1.447411        1\n",
       "0.537792        1\n",
       "4.226449        1\n",
       "2.035739        1\n",
       "2.959674        1\n",
       "1.126489        1\n",
       "2.269044        1\n",
       "Length: 13737, dtype: int64"
      ]
     },
     "execution_count": 13,
     "metadata": {},
     "output_type": "execute_result"
    }
   ],
   "source": [
    "pd.Series(x_flat).value_counts()"
   ]
  },
  {
   "cell_type": "code",
   "execution_count": 14,
   "metadata": {},
   "outputs": [
    {
     "data": {
      "text/plain": [
       "array([[ 1.        , -0.00529552],\n",
       "       [-0.00529552,  1.        ]])"
      ]
     },
     "execution_count": 14,
     "metadata": {},
     "output_type": "execute_result"
    }
   ],
   "source": [
    "np.corrcoef(y_train.flatten(), y_test.flatten())"
   ]
  },
  {
   "cell_type": "code",
   "execution_count": 24,
   "metadata": {},
   "outputs": [],
   "source": [
    "from keras.models import Sequential\n",
    "from keras.layers import LSTM, Dense, Reshape, Dropout, LeakyReLU, Bidirectional\n",
    "from keras.optimizers import Adam, SGD, RMSprop, Adagrad, Adadelta, Adamax, Nadam\n",
    "import keras.backend as K\n",
    "from keras.wrappers.scikit_learn import KerasRegressor\n",
    "from numpy.random import seed\n",
    "from tensorflow import set_random_seed\n",
    "\n",
    "seed(101)\n",
    "set_random_seed(42)\n",
    "\n",
    "best_model = None\n",
    "best_mse   = None\n",
    "\n",
    "def perc_error(y_true, y_pred):\n",
    "    return 100.0 * K.mean((y_true - y_pred) / y_true)\n",
    "\n",
    "def create_model(learn_rate=0.01, \n",
    "                 momentum=0,\n",
    "                 opt_name='Adam',\n",
    "                 init_mode='uniform',\n",
    "                 activation='leakyrelu'\n",
    "                ):\n",
    "    \n",
    "    if activation == 'leakyrelu':\n",
    "        activation = LeakyReLU()\n",
    "    \n",
    "    # expected input data shape: (batch_size, timesteps, data_dim)\n",
    "    model = Sequential()\n",
    "    model.add(\n",
    "        LSTM(168,\n",
    "             input_shape=(24, 7),\n",
    "             activation=LeakyReLU(),\n",
    "             recurrent_activation=LeakyReLU(),\n",
    "             dropout=0.2))\n",
    "    model.add(Dropout(0.2))\n",
    "    model.add(LeakyReLU(7))\n",
    "    model.add(Dropout(0.5))\n",
    "    model.add(Dense(12 * 7, activation='relu'))\n",
    "    model.add(Reshape((12, 7)))\n",
    "    \n",
    "    optimizer = { \n",
    "        'SGD':      SGD(lr=learn_rate, momentum=momentum),\n",
    "        'RMSprop':  RMSprop(lr=learn_rate),\n",
    "        'Adagrad':  Adagrad(lr=learn_rate),\n",
    "        'Adadelta': Adadelta(lr=learn_rate),\n",
    "        'Adam':     Adam(lr=learn_rate),\n",
    "        'Adamax':   Adamax(lr=learn_rate),\n",
    "        'Nadam':    Nadam(lr=learn_rate),\n",
    "    }\n",
    "\n",
    "    def sqrt_loss(y_pred, y_true):\n",
    "        return K.sqrt(K.mean(K.square(y_pred - y_true)))\n",
    "    \n",
    "    model.compile(loss='mean_absolute_error', metrics=[sqrt_loss], optimizer=optimizer[opt_name])\n",
    "\n",
    "    return model\n",
    "\n",
    "def my_gridsearch(X_train, y_train, X_test, y_test):\n",
    "    \n",
    "    # GridSearchCV's fit method requires X which is 2D, y which is 1D.\n",
    "    # This is a problem for us since our X and y are 3D.\n",
    "    # Instead of GridSearchCV, we will create our own loop to\n",
    "    # search through the grid.\n",
    "    \n",
    "    global best_model, best_mse\n",
    "    \n",
    "    # \n",
    "    #     for epochs in range(5, 6, 5):\n",
    "    #         for lr in [0.00001, 0.0001, 0.001, 0.01, 0.1]:\n",
    "    #             for opt_name in ['SGD', 'RMSprop', 'Adagrad', 'Adadelta', 'Adam', 'Adamax', 'Nadam']:\n",
    "    #                 for init_mode in ['uniform', 'lecun_uniform', 'normal', 'zero',\n",
    "    #                                   'glorot_normal', 'glorot_uniform', 'he_normal',\n",
    "    #                                   'he_uniform']:\n",
    "    #                     for activation in ['relu']:\n",
    "    batch_size = 64\n",
    "    for epochs in range(10, 11, 5):\n",
    "        for lr in [1e-3]:\n",
    "            for opt_name in ['Adam']:\n",
    "                for init_mode in ['uniform', 'lecun_uniform', 'zero']:\n",
    "                    for activation in ['relu', 'leakyrelu']:\n",
    "\n",
    "                        print('>'*80)\n",
    "                        print('epochs:', epochs, '   lr:', lr, \\\n",
    "                              '   opt:', opt_name, \\\n",
    "                              '   init:', init_mode, \\\n",
    "                              '   act:', 'relu')\n",
    "                        print('>'*80)\n",
    "\n",
    "                        model = create_model(learn_rate=lr, \n",
    "                                             opt_name=opt_name,\n",
    "                                             init_mode=init_mode,\n",
    "                                             activation=activation)\n",
    "\n",
    "                        history = model.fit(X_train, y_train,\n",
    "                                            batch_size=batch_size, \n",
    "                                            epochs=epochs,\n",
    "                                            validation_data=(X_test, y_test))\n",
    "\n",
    "                        mse = model.evaluate(X_test, y_test,\n",
    "                                             batch_size=batch_size)\n",
    "                        if (best_mse is None) or \\\n",
    "                            (mse < best_mse):\n",
    "                            best_mse = mse\n",
    "                            best_model = model\n",
    "                            print('best_model:', best_model)\n",
    "                        \n",
    "                        print('<'*80)\n",
    "                        print('epochs:', epochs, \\\n",
    "                              '   lr:', lr, \\\n",
    "                              '   opt:', opt_name, \\\n",
    "                              '   init:', init_mode, \\\n",
    "                              '   act:', 'relu', \\\n",
    "                              ' Test MSE:', mse \\\n",
    "                        )\n",
    "                        print('<'*80)"
   ]
  },
  {
   "cell_type": "code",
   "execution_count": 26,
   "metadata": {},
   "outputs": [],
   "source": [
    "if model is not None:\n",
    "    model.reset_states()"
   ]
  },
  {
   "cell_type": "code",
   "execution_count": 27,
   "metadata": {},
   "outputs": [],
   "source": [
    "# my_gridsearch(X_train, y_train, X_test, y_test)"
   ]
  },
  {
   "cell_type": "code",
   "execution_count": 28,
   "metadata": {
    "scrolled": true
   },
   "outputs": [
    {
     "name": "stderr",
     "output_type": "stream",
     "text": [
      "/home/ec2-user/anaconda3/envs/tensorflow_p36/lib/python3.6/site-packages/keras/activations.py:211: UserWarning: Do not pass a layer instance (such as LeakyReLU) as the activation argument of another layer. Instead, advanced activation layers should be used just like any other layer in a model.\n",
      "  identifier=identifier.__class__.__name__))\n"
     ]
    }
   ],
   "source": [
    "model = create_model(learn_rate=0.001)\n",
    "# model.summary()"
   ]
  },
  {
   "cell_type": "code",
   "execution_count": 29,
   "metadata": {},
   "outputs": [
    {
     "name": "stdout",
     "output_type": "stream",
     "text": [
      "Train on 800 samples, validate on 800 samples\n",
      "Epoch 1/10\n",
      "800/800 [==============================] - 3s 4ms/step - loss: 37897759622.0008 - sqrt_loss: 528720121038.8615 - val_loss: 0.9362 - val_sqrt_loss: 1.8880\n",
      "Epoch 2/10\n",
      "800/800 [==============================] - 1s 1ms/step - loss: 0.9466 - sqrt_loss: 2.1737 - val_loss: 0.9362 - val_sqrt_loss: 1.8880\n",
      "Epoch 3/10\n",
      "800/800 [==============================] - 1s 1ms/step - loss: 0.9466 - sqrt_loss: 2.1619 - val_loss: 0.9362 - val_sqrt_loss: 1.8880\n",
      "Epoch 4/10\n",
      "800/800 [==============================] - 1s 1ms/step - loss: 0.9466 - sqrt_loss: 2.1768 - val_loss: 0.9362 - val_sqrt_loss: 1.8880\n",
      "Epoch 5/10\n",
      "800/800 [==============================] - 1s 1ms/step - loss: 0.9466 - sqrt_loss: 1.9756 - val_loss: 0.9362 - val_sqrt_loss: 1.8880\n",
      "Epoch 6/10\n",
      "800/800 [==============================] - 1s 1ms/step - loss: 0.9466 - sqrt_loss: 2.0446 - val_loss: 0.9362 - val_sqrt_loss: 1.8880\n",
      "Epoch 7/10\n",
      "800/800 [==============================] - 1s 1ms/step - loss: 0.9466 - sqrt_loss: 2.1523 - val_loss: 0.9362 - val_sqrt_loss: 1.8880\n",
      "Epoch 8/10\n",
      "800/800 [==============================] - 1s 996us/step - loss: 0.9466 - sqrt_loss: 2.1478 - val_loss: 0.9362 - val_sqrt_loss: 1.8880\n",
      "Epoch 9/10\n",
      "800/800 [==============================] - 1s 1000us/step - loss: 0.9466 - sqrt_loss: 2.1590 - val_loss: 0.9362 - val_sqrt_loss: 1.8880\n",
      "Epoch 10/10\n",
      "800/800 [==============================] - 1s 1ms/step - loss: 0.9466 - sqrt_loss: 2.1801 - val_loss: 0.9362 - val_sqrt_loss: 1.8880\n"
     ]
    },
    {
     "data": {
      "text/plain": [
       "<keras.callbacks.History at 0x7f479c03aa58>"
      ]
     },
     "execution_count": 29,
     "metadata": {},
     "output_type": "execute_result"
    }
   ],
   "source": [
    "model.fit(X_train, y_train, batch_size=64, epochs=10, validation_data=(X_test, y_test))"
   ]
  },
  {
   "cell_type": "code",
   "execution_count": 30,
   "metadata": {},
   "outputs": [],
   "source": [
    "def plot_output(y, y_pred, dataset_type):\n",
    "\n",
    "    fig = plt.figure(figsize=(10, 8))\n",
    "    plt.plot(np.arange(len(y.flatten())),\n",
    "                 y.flatten(), color='blue');\n",
    "    plt.plot(np.arange(len(y_pred.flatten())),\n",
    "                 y_pred.flatten(), color='red');\n",
    "    plt.xlabel('Hour since beginning of data', fontsize=16)\n",
    "    plt.ylabel('Risk', fontsize=18)\n",
    "    plt.title(dataset_type + ' dataset', fontsize=18)\n",
    "    plt.legend(labels=['risk', 'predicted risk'], prop={'size': 20})\n",
    "    plt.show()"
   ]
  },
  {
   "cell_type": "code",
   "execution_count": 31,
   "metadata": {},
   "outputs": [
    {
     "data": {
      "image/png": "[encoded data removed]",
      "text/plain": [
       "<Figure size 720x576 with 1 Axes>"
      ]
     },
     "metadata": {},
     "output_type": "display_data"
    },
    {
     "data": {
      "image/png": "[encoded data removed]",
      "text/plain": [
       "<Figure size 720x576 with 1 Axes>"
      ]
     },
     "metadata": {},
     "output_type": "display_data"
    }
   ],
   "source": [
    "y_train_pred = model.predict(X_train).flatten()\n",
    "y_test_pred = model.predict(X_test).flatten()\n",
    "\n",
    "plot_output(y_train, y_train_pred, 'Training')\n",
    "plot_output(y_test, y_test_pred, 'Testing')"
   ]
  },
  {
   "cell_type": "code",
   "execution_count": 32,
   "metadata": {},
   "outputs": [
    {
     "data": {
      "text/plain": [
       "<matplotlib.axes._subplots.AxesSubplot at 0x7f4787156a90>"
      ]
     },
     "execution_count": 32,
     "metadata": {},
     "output_type": "execute_result"
    },
    {
     "data": {
      "image/png": "[encoded data removed]",
      "text/plain": [
       "<Figure size 432x288 with 1 Axes>"
      ]
     },
     "metadata": {},
     "output_type": "display_data"
    }
   ],
   "source": [
    "pd.Series(y_test_pred).hist(bins=[0.00001, 0.00005, 0.0001, 0.0005, 0.001, 0.005])"
   ]
  },
  {
   "cell_type": "code",
   "execution_count": 33,
   "metadata": {},
   "outputs": [
    {
     "data": {
      "text/plain": [
       "0.000000     0.130804\n",
       "0.535906     0.000833\n",
       "0.647249     0.000774\n",
       "0.693001     0.000685\n",
       "0.341880     0.000625\n",
       "0.366300     0.000610\n",
       "0.761035     0.000595\n",
       "1.429388     0.000565\n",
       "1.078749     0.000565\n",
       "0.599520     0.000565\n",
       "0.401929     0.000551\n",
       "0.512821     0.000536\n",
       "0.472144     0.000536\n",
       "0.464253     0.000536\n",
       "0.440335     0.000506\n",
       "0.462321     0.000506\n",
       "0.393082     0.000491\n",
       "0.291121     0.000491\n",
       "1.071811     0.000491\n",
       "0.227687     0.000491\n",
       "0.153116     0.000476\n",
       "0.390549     0.000476\n",
       "0.244200     0.000476\n",
       "0.708215     0.000476\n",
       "0.571755     0.000476\n",
       "0.388500     0.000461\n",
       "0.944287     0.000461\n",
       "0.267953     0.000461\n",
       "0.854701     0.000446\n",
       "0.369959     0.000446\n",
       "               ...   \n",
       "1.452885     0.000015\n",
       "5.640158     0.000015\n",
       "1.390498     0.000015\n",
       "6.622517     0.000015\n",
       "1.777101     0.000015\n",
       "0.843272     0.000015\n",
       "1.167202     0.000015\n",
       "0.564175     0.000015\n",
       "1.022181     0.000015\n",
       "1.015991     0.000015\n",
       "4.250152     0.000015\n",
       "2.232766     0.000015\n",
       "2.059025     0.000015\n",
       "1.497092     0.000015\n",
       "1.084418     0.000015\n",
       "0.465983     0.000015\n",
       "2.398698     0.000015\n",
       "1.216023     0.000015\n",
       "0.989292     0.000015\n",
       "3.386551     0.000015\n",
       "2.490497     0.000015\n",
       "1.643140     0.000015\n",
       "12.183908    0.000015\n",
       "1.125780     0.000015\n",
       "2.441714     0.000015\n",
       "3.711436     0.000015\n",
       "0.802334     0.000015\n",
       "3.544033     0.000015\n",
       "0.067737     0.000015\n",
       "3.559732     0.000015\n",
       "Length: 11933, dtype: float64"
      ]
     },
     "execution_count": 33,
     "metadata": {},
     "output_type": "execute_result"
    }
   ],
   "source": [
    "pd.Series(y_test.flatten()).value_counts(normalize=True)"
   ]
  },
  {
   "cell_type": "code",
   "execution_count": 34,
   "metadata": {},
   "outputs": [
    {
     "data": {
      "text/plain": [
       "0.0    1.0\n",
       "dtype: float64"
      ]
     },
     "execution_count": 34,
     "metadata": {},
     "output_type": "execute_result"
    }
   ],
   "source": [
    "pd.Series(y_test_pred.flatten()).value_counts(normalize=True)"
   ]
  },
  {
   "cell_type": "code",
   "execution_count": null,
   "metadata": {},
   "outputs": [],
   "source": []
  }
 ],
 "metadata": {
  "kernelspec": {
   "display_name": "conda_tensorflow_p36",
   "language": "python",
   "name": "conda_tensorflow_p36"
  },
  "language_info": {
   "codemirror_mode": {
    "name": "ipython",
    "version": 3
   },
   "file_extension": ".py",
   "mimetype": "text/x-python",
   "name": "python",
   "nbconvert_exporter": "python",
   "pygments_lexer": "ipython3",
   "version": "3.6.5"
  }
 },
 "nbformat": 4,
 "nbformat_minor": 2
}
